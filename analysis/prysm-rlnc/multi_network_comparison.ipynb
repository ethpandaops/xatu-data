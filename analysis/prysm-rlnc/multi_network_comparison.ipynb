{
 "cells": [
  {
   "cell_type": "markdown",
   "metadata": {},
   "source": [
    "# Prysm RLNC Multi-Network Block Arrivals Analysis\n",
    "\n",
    "This notebook analyzes the impact of Random Linear Network Coding (RLNC) implementation by Prysm on beacon block propagation times. We compare block arrival times and block sizes across three networks: devnet-5, devnet-6, and devnet-7."
   ]
  },
  {
   "cell_type": "code",
   "execution_count": 1,
   "metadata": {},
   "outputs": [
    {
     "name": "stderr",
     "output_type": "stream",
     "text": [
      "/Users/samcm/.pyenv/versions/anaconda3-2022.05/envs/ldm/lib/python3.10/site-packages/scipy/__init__.py:155: UserWarning: A NumPy version >=1.18.5 and <1.25.0 is required for this version of SciPy (detected version 1.26.4\n",
      "  warnings.warn(f\"A NumPy version >={np_minversion} and <{np_maxversion}\"\n"
     ]
    }
   ],
   "source": [
    "# Import necessary packages\n",
    "import sys\n",
    "import os\n",
    "import pandas as pd\n",
    "import numpy as np\n",
    "import matplotlib.pyplot as plt\n",
    "import plotly.express as px\n",
    "import plotly.graph_objects as go\n",
    "from plotly.subplots import make_subplots\n",
    "import seaborn as sns\n",
    "from sqlalchemy import create_engine, text\n",
    "from datetime import datetime, timedelta\n",
    "\n",
    "# Add scripts directory to path\n",
    "sys.path.append('./scripts')\n",
    "\n",
    "# Import custom modules\n",
    "from bootstrap import load_env, create_db_url, add_branding, process_config\n",
    "from clickhouse import ClickhouseClient\n",
    "from transforms_multi import process_block_data, process_block_size_data, calculate_arrival_metrics, compare_networks_multi\n",
    "\n",
    "# Set plot style\n",
    "plt.style.use('seaborn-v0_8-whitegrid')\n",
    "sns.set_context(\"notebook\", font_scale=1.2)"
   ]
  },
  {
   "cell_type": "code",
   "execution_count": 2,
   "metadata": {},
   "outputs": [],
   "source": [
    "# Configuration\n",
    "config = {\n",
    "    \"networks\": {\n",
    "        \"devnet-6\": {\n",
    "            \"network\": \"nft-devnet-6\",\n",
    "            \"label\": \"baseline\",\n",
    "            \"start_at_slot\": 300,\n",
    "            \"finish_at_slot\": 600\n",
    "        },\n",
    "        \"devnet-5\": {\n",
    "            \"network\": \"nft-devnet-5\",\n",
    "            \"label\": \"rlnc\",\n",
    "            \"start_at_slot\": 300,\n",
    "            \"finish_at_slot\": 600\n",
    "        },\n",
    "        # \"devnet-7\": {\n",
    "        #     \"network\": \"nft-devnet-7\",\n",
    "        #     \"label\": \"experiment\",\n",
    "        #     \"start_at_slot\": 300,\n",
    "        #     \"finish_at_slot\": 600\n",
    "        # }\n",
    "    }\n",
    "}\n",
    "\n",
    "# Validate and process the config\n",
    "config = process_config(config)\n",
    "\n",
    "# Load environment variables\n",
    "credentials = load_env()\n",
    "db_url = create_db_url(credentials)\n",
    "\n",
    "# Initialize Clickhouse client\n",
    "clickhouse = ClickhouseClient(db_url)"
   ]
  },
  {
   "cell_type": "markdown",
   "metadata": {},
   "source": [
    "## Data Collection\n",
    "\n",
    "Let's collect block arrival data from all three networks."
   ]
  },
  {
   "cell_type": "code",
   "execution_count": 3,
   "metadata": {},
   "outputs": [
    {
     "name": "stdout",
     "output_type": "stream",
     "text": [
      "Fetching data for nft-devnet-6 (devnet-6)...\n",
      "Fetching data for nft-devnet-5 (devnet-5)...\n"
     ]
    }
   ],
   "source": [
    "# Dictionaries to store data for each network\n",
    "block_data = {}\n",
    "block_size_data = {}\n",
    "\n",
    "# Fetch data for each network\n",
    "for network_key, network_config in config['networks'].items():\n",
    "    print(f\"Fetching data for {network_config['network']} ({network_key})...\")\n",
    "    \n",
    "    block_data[network_key] = clickhouse.fetch_block_arrival_times(\n",
    "        network_config['network'], \n",
    "        network_config['start_at_slot'], \n",
    "        network_config['finish_at_slot']\n",
    "    )\n",
    "    \n",
    "    block_size_data[network_key] = clickhouse.fetch_block_size_data(\n",
    "        network_config['network'], \n",
    "        network_config['start_at_slot'], \n",
    "        network_config['finish_at_slot']\n",
    "    )"
   ]
  },
  {
   "cell_type": "markdown",
   "metadata": {},
   "source": [
    "## Data Processing\n",
    "\n",
    "Now let's process the data to calculate metrics for all networks."
   ]
  },
  {
   "cell_type": "code",
   "execution_count": 4,
   "metadata": {},
   "outputs": [
    {
     "name": "stdout",
     "output_type": "stream",
     "text": [
      "Dataset summary:\n",
      "baseline (nft-devnet-6): 301 slots, 145 unique clients\n",
      "rlnc (nft-devnet-5): 301 slots, 146 unique clients\n",
      "\n",
      "Pairwise comparisons of arrival times:\n",
      "\n",
      "baseline vs rlnc:\n",
      "min: 2478.4ms → 2816.6ms (-338.2ms difference, -13.6% increase)\n",
      "p50: 2975.0ms → 3226.0ms (-251.0ms difference, -8.4% increase)\n",
      "p95: 3488.4ms → 3687.4ms (-198.9ms difference, -5.7% increase)\n"
     ]
    }
   ],
   "source": [
    "# Process data for each network\n",
    "combined_data = {}\n",
    "block_size_processed = {}\n",
    "metrics = {}\n",
    "\n",
    "for network_key in config['networks'].keys():\n",
    "    # Process block data\n",
    "    combined_data[network_key] = process_block_data(block_data[network_key])\n",
    "    \n",
    "    # Process block size data\n",
    "    block_size_processed[network_key] = process_block_size_data(block_size_data[network_key])\n",
    "    \n",
    "    # Calculate metrics\n",
    "    metrics[network_key] = calculate_arrival_metrics(\n",
    "        combined_data[network_key],\n",
    "        block_size_processed[network_key]\n",
    "    )\n",
    "    \n",
    "    # Add network label for visualization\n",
    "    metrics[network_key]['network'] = network_key\n",
    "\n",
    "# Combine for easier comparison\n",
    "all_metrics = pd.concat(metrics.values(), ignore_index=True)\n",
    "\n",
    "# Show summary statistics\n",
    "print(\"Dataset summary:\")\n",
    "for network_key, network_config in config['networks'].items():\n",
    "    print(f\"{network_config['label']} ({network_config['network']}): {len(metrics[network_key])} slots, {combined_data[network_key]['meta_client_name'].nunique()} unique clients\")\n",
    "\n",
    "# Compare the networks\n",
    "comparison = compare_networks_multi(metrics)\n",
    "\n",
    "# Display pairwise comparisons for key metrics\n",
    "print(\"\\nPairwise comparisons of arrival times:\")\n",
    "for pair_key in [key for key in comparison.keys() if '_vs_' in key]:\n",
    "    network1, network2 = pair_key.split('_vs_')\n",
    "    print(f\"\\n{config['networks'][network1]['label']} vs {config['networks'][network2]['label']}:\")\n",
    "    \n",
    "    for metric in ['min_arrival_time', 'p50_arrival_time', 'p95_arrival_time']:\n",
    "        val1 = comparison[pair_key][metric][network1]\n",
    "        val2 = comparison[pair_key][metric][network2]\n",
    "        diff = comparison[pair_key][metric]['difference']\n",
    "        pct = comparison[pair_key][metric]['improvement_percent']\n",
    "        \n",
    "        print(f\"{metric.replace('_arrival_time', '')}: {val1:.1f}ms → {val2:.1f}ms ({diff:.1f}ms difference, {pct:.1f}% {('improvement' if pct > 0 else 'increase')})\")"
   ]
  },
  {
   "cell_type": "markdown",
   "metadata": {},
   "source": [
    "## Visualization: Block Arrival Time Comparison Across Networks\n",
    "\n",
    "Let's create visualizations to compare all three networks."
   ]
  },
  {
   "cell_type": "code",
   "execution_count": null,
   "metadata": {},
   "outputs": [],
   "source": [
    "def create_multi_network_boxplot(metrics_df, metric='p50_arrival_time', title=None, subtitle=None):\n",
    "    \"\"\"\n",
    "    Create a box plot comparing networks for a specified metric.\n",
    "    \n",
    "    Args:\n",
    "        metrics_df (DataFrame): Combined metrics from all networks\n",
    "        metric (str): The metric to plot\n",
    "        title (str, optional): Title for the plot\n",
    "        subtitle (str, optional): Subtitle for the plot\n",
    "        \n",
    "    Returns:\n",
    "        matplotlib.figure.Figure: The figure with the plot\n",
    "    \"\"\"\n",
    "    networks = metrics_df['network'].unique()\n",
    "    network_count = len(networks)\n",
    "    \n",
    "    # Create separate figure for the main plot\n",
    "    fig, ax = plt.subplots(figsize=(12, 8))\n",
    "    \n",
    "    # Create labels mapping\n",
    "    labels = {network: config[\"networks\"][network][\"label\"] for network in networks}\n",
    "    \n",
    "    # Create box plot with hue parameter for color differentiation\n",
    "    sns.boxplot(\n",
    "        x='network', \n",
    "        y=metric,\n",
    "        hue='network', \n",
    "        data=metrics_df,\n",
    "        palette={'devnet-5': 'lightgreen', 'devnet-6': 'skyblue', 'devnet-7': 'coral'},\n",
    "        ax=ax,\n",
    "        legend=False\n",
    "    )\n",
    "    \n",
    "    # Add individual data points\n",
    "    sns.stripplot(\n",
    "        x='network', \n",
    "        y=metric, \n",
    "        data=metrics_df,\n",
    "        color='gray',\n",
    "        alpha=0.4,\n",
    "        jitter=True,\n",
    "        ax=ax\n",
    "    )\n",
    "    \n",
    "    # Set axis labels and title\n",
    "    ax.set_xlabel('Network', fontsize=14)\n",
    "    ax.set_ylabel(f'{metric.replace(\"_arrival_time\", \"\")} Block Arrival Time (ms)', fontsize=14)\n",
    "    \n",
    "    if title:\n",
    "        ax.set_title(title, fontsize=16, pad=20)\n",
    "    \n",
    "    # Add grid for readability\n",
    "    ax.grid(True, axis='y', alpha=0.3)\n",
    "    \n",
    "    # Get the current x-tick positions\n",
    "    x_positions = ax.get_xticks()\n",
    "    \n",
    "    # Properly set x-ticks and labels\n",
    "    if len(x_positions) == len(networks):\n",
    "        new_labels = [f'{labels[network]}\\n({config[\"networks\"][network][\"network\"]})' for network in networks]\n",
    "        ax.set_xticks(x_positions)\n",
    "        ax.set_xticklabels(new_labels)\n",
    "    \n",
    "    # Add average lines for each network\n",
    "    for i, network in enumerate(networks):\n",
    "        network_data = metrics_df[metrics_df['network'] == network][metric]\n",
    "        if not network_data.empty:\n",
    "            network_avg = network_data.mean()\n",
    "            # Add horizontal line at the average with appropriate span\n",
    "            span_start = i - 0.3\n",
    "            span_end = i + 0.3\n",
    "            line_colors = {'devnet-5': 'green', 'devnet-6': 'blue', 'devnet-7': 'red'}\n",
    "            \n",
    "            ax.axhline(network_avg, color=line_colors[network], linestyle='--', alpha=0.5, \n",
    "                      xmin=span_start/network_count, xmax=span_end/network_count)\n",
    "            \n",
    "            # Add text with the average value\n",
    "            ax.text(i, network_avg, f'Mean: {network_avg:.1f}ms', \n",
    "                   ha='center', va='bottom', color=line_colors[network], fontweight='bold')\n",
    "    \n",
    "    # Add branding if title and subtitle are provided in a separate way\n",
    "    if title and subtitle:\n",
    "        branding_fig = add_branding(plt.figure(figsize=(12, 1.5)), title, subtitle)\n",
    "        plt.close(branding_fig)  # Close it to prevent display\n",
    "        \n",
    "        # Create a composite image (without using tight_layout with rect)\n",
    "        plt.tight_layout()  # Layout the main plot properly\n",
    "    else:\n",
    "        plt.tight_layout()  # Just use tight_layout for the main plot\n",
    "    \n",
    "    return fig\n",
    "\n",
    "# Create box plots for different metrics\n",
    "metrics_to_plot = ['min_arrival_time', 'p05_arrival_time', 'p50_arrival_time', 'p95_arrival_time']\n",
    "for metric in metrics_to_plot:\n",
    "    title = f\"{metric.replace('_arrival_time', '').title()} Block Arrival Time Comparison\"\n",
    "    subtitle = \"Random Linear Network Coding (RLNC) Impact Across Networks\"\n",
    "    \n",
    "    fig = create_multi_network_boxplot(all_metrics, metric, title, subtitle)\n",
    "    plt.show()"
   ]
  },
  {
   "cell_type": "markdown",
   "metadata": {},
   "source": [
    "## Block Size Analysis\n",
    "\n",
    "Let's analyze how block size affects arrival times across all three networks."
   ]
  },
  {
   "cell_type": "code",
   "execution_count": 6,
   "metadata": {},
   "outputs": [
    {
     "data": {
      "application/vnd.plotly.v1+json": {
       "config": {
        "plotlyServerURL": "https://plot.ly"
       },
       "data": [
        {
         "error_y": {
          "array": [
           null,
           32.951577376703845,
           41.981088179153836,
           32.19748830451582,
           43.31391506312064,
           40.05015354720049,
           102.28039435672626,
           71.33013732671898
          ],
          "type": "data",
          "visible": true
         },
         "hovertemplate": "Block Size: %{x}<br>Arrival Time: %{y:.1f}ms<br>Sample Size: %{text}",
         "marker": {
          "color": "blue"
         },
         "name": "baseline (nft-devnet-6)",
         "text": [
          1,
          31,
          35,
          34,
          43,
          44,
          44,
          69
         ],
         "type": "bar",
         "x": [
          "529-1081KB",
          "1081-1633KB",
          "1633-2185KB",
          "2185-2737KB",
          "2737-3289KB",
          "3289-3841KB",
          "3841-4394KB",
          "4394-4946KB"
         ],
         "y": [
          2157,
          2239.1612903225805,
          2309,
          2385.5588235294117,
          2426,
          2505.590909090909,
          2600.5,
          2659.521739130435
         ]
        },
        {
         "error_y": {
          "array": [
           null,
           41.74449142225312,
           65.05797602064209,
           86.69800653497092,
           167.4351059541647,
           138.30357109553523,
           208.13281302366252,
           201.6126740303554,
           196.3052212945739
          ],
          "type": "data",
          "visible": true
         },
         "hovertemplate": "Block Size: %{x}<br>Arrival Time: %{y:.1f}ms<br>Sample Size: %{text}",
         "marker": {
          "color": "green"
         },
         "name": "rlnc (nft-devnet-5)",
         "text": [
          1,
          13,
          41,
          68,
          17,
          10,
          8,
          14,
          127
         ],
         "type": "bar",
         "x": [
          "0-529KB",
          "529-1081KB",
          "1081-1633KB",
          "1633-2185KB",
          "2185-2737KB",
          "2737-3289KB",
          "3289-3841KB",
          "3841-4394KB",
          "4394-4946KB"
         ],
         "y": [
          2316,
          2386.5384615384614,
          2416.9024390243903,
          2511.5882352941176,
          2684.470588235294,
          2839.9,
          3001.125,
          3127.1428571428573,
          3117.8818897637793
         ]
        }
       ],
       "layout": {
        "barmode": "group",
        "height": 600,
        "legend": {
         "bgcolor": "rgba(255,255,255,0.8)",
         "x": 0.01,
         "y": 0.99
        },
        "plot_bgcolor": "white",
        "template": {
         "data": {
          "bar": [
           {
            "error_x": {
             "color": "#2a3f5f"
            },
            "error_y": {
             "color": "#2a3f5f"
            },
            "marker": {
             "line": {
              "color": "#E5ECF6",
              "width": 0.5
             },
             "pattern": {
              "fillmode": "overlay",
              "size": 10,
              "solidity": 0.2
             }
            },
            "type": "bar"
           }
          ],
          "barpolar": [
           {
            "marker": {
             "line": {
              "color": "#E5ECF6",
              "width": 0.5
             },
             "pattern": {
              "fillmode": "overlay",
              "size": 10,
              "solidity": 0.2
             }
            },
            "type": "barpolar"
           }
          ],
          "carpet": [
           {
            "aaxis": {
             "endlinecolor": "#2a3f5f",
             "gridcolor": "white",
             "linecolor": "white",
             "minorgridcolor": "white",
             "startlinecolor": "#2a3f5f"
            },
            "baxis": {
             "endlinecolor": "#2a3f5f",
             "gridcolor": "white",
             "linecolor": "white",
             "minorgridcolor": "white",
             "startlinecolor": "#2a3f5f"
            },
            "type": "carpet"
           }
          ],
          "choropleth": [
           {
            "colorbar": {
             "outlinewidth": 0,
             "ticks": ""
            },
            "type": "choropleth"
           }
          ],
          "contour": [
           {
            "colorbar": {
             "outlinewidth": 0,
             "ticks": ""
            },
            "colorscale": [
             [
              0,
              "#0d0887"
             ],
             [
              0.1111111111111111,
              "#46039f"
             ],
             [
              0.2222222222222222,
              "#7201a8"
             ],
             [
              0.3333333333333333,
              "#9c179e"
             ],
             [
              0.4444444444444444,
              "#bd3786"
             ],
             [
              0.5555555555555556,
              "#d8576b"
             ],
             [
              0.6666666666666666,
              "#ed7953"
             ],
             [
              0.7777777777777778,
              "#fb9f3a"
             ],
             [
              0.8888888888888888,
              "#fdca26"
             ],
             [
              1,
              "#f0f921"
             ]
            ],
            "type": "contour"
           }
          ],
          "contourcarpet": [
           {
            "colorbar": {
             "outlinewidth": 0,
             "ticks": ""
            },
            "type": "contourcarpet"
           }
          ],
          "heatmap": [
           {
            "colorbar": {
             "outlinewidth": 0,
             "ticks": ""
            },
            "colorscale": [
             [
              0,
              "#0d0887"
             ],
             [
              0.1111111111111111,
              "#46039f"
             ],
             [
              0.2222222222222222,
              "#7201a8"
             ],
             [
              0.3333333333333333,
              "#9c179e"
             ],
             [
              0.4444444444444444,
              "#bd3786"
             ],
             [
              0.5555555555555556,
              "#d8576b"
             ],
             [
              0.6666666666666666,
              "#ed7953"
             ],
             [
              0.7777777777777778,
              "#fb9f3a"
             ],
             [
              0.8888888888888888,
              "#fdca26"
             ],
             [
              1,
              "#f0f921"
             ]
            ],
            "type": "heatmap"
           }
          ],
          "heatmapgl": [
           {
            "colorbar": {
             "outlinewidth": 0,
             "ticks": ""
            },
            "colorscale": [
             [
              0,
              "#0d0887"
             ],
             [
              0.1111111111111111,
              "#46039f"
             ],
             [
              0.2222222222222222,
              "#7201a8"
             ],
             [
              0.3333333333333333,
              "#9c179e"
             ],
             [
              0.4444444444444444,
              "#bd3786"
             ],
             [
              0.5555555555555556,
              "#d8576b"
             ],
             [
              0.6666666666666666,
              "#ed7953"
             ],
             [
              0.7777777777777778,
              "#fb9f3a"
             ],
             [
              0.8888888888888888,
              "#fdca26"
             ],
             [
              1,
              "#f0f921"
             ]
            ],
            "type": "heatmapgl"
           }
          ],
          "histogram": [
           {
            "marker": {
             "pattern": {
              "fillmode": "overlay",
              "size": 10,
              "solidity": 0.2
             }
            },
            "type": "histogram"
           }
          ],
          "histogram2d": [
           {
            "colorbar": {
             "outlinewidth": 0,
             "ticks": ""
            },
            "colorscale": [
             [
              0,
              "#0d0887"
             ],
             [
              0.1111111111111111,
              "#46039f"
             ],
             [
              0.2222222222222222,
              "#7201a8"
             ],
             [
              0.3333333333333333,
              "#9c179e"
             ],
             [
              0.4444444444444444,
              "#bd3786"
             ],
             [
              0.5555555555555556,
              "#d8576b"
             ],
             [
              0.6666666666666666,
              "#ed7953"
             ],
             [
              0.7777777777777778,
              "#fb9f3a"
             ],
             [
              0.8888888888888888,
              "#fdca26"
             ],
             [
              1,
              "#f0f921"
             ]
            ],
            "type": "histogram2d"
           }
          ],
          "histogram2dcontour": [
           {
            "colorbar": {
             "outlinewidth": 0,
             "ticks": ""
            },
            "colorscale": [
             [
              0,
              "#0d0887"
             ],
             [
              0.1111111111111111,
              "#46039f"
             ],
             [
              0.2222222222222222,
              "#7201a8"
             ],
             [
              0.3333333333333333,
              "#9c179e"
             ],
             [
              0.4444444444444444,
              "#bd3786"
             ],
             [
              0.5555555555555556,
              "#d8576b"
             ],
             [
              0.6666666666666666,
              "#ed7953"
             ],
             [
              0.7777777777777778,
              "#fb9f3a"
             ],
             [
              0.8888888888888888,
              "#fdca26"
             ],
             [
              1,
              "#f0f921"
             ]
            ],
            "type": "histogram2dcontour"
           }
          ],
          "mesh3d": [
           {
            "colorbar": {
             "outlinewidth": 0,
             "ticks": ""
            },
            "type": "mesh3d"
           }
          ],
          "parcoords": [
           {
            "line": {
             "colorbar": {
              "outlinewidth": 0,
              "ticks": ""
             }
            },
            "type": "parcoords"
           }
          ],
          "pie": [
           {
            "automargin": true,
            "type": "pie"
           }
          ],
          "scatter": [
           {
            "fillpattern": {
             "fillmode": "overlay",
             "size": 10,
             "solidity": 0.2
            },
            "type": "scatter"
           }
          ],
          "scatter3d": [
           {
            "line": {
             "colorbar": {
              "outlinewidth": 0,
              "ticks": ""
             }
            },
            "marker": {
             "colorbar": {
              "outlinewidth": 0,
              "ticks": ""
             }
            },
            "type": "scatter3d"
           }
          ],
          "scattercarpet": [
           {
            "marker": {
             "colorbar": {
              "outlinewidth": 0,
              "ticks": ""
             }
            },
            "type": "scattercarpet"
           }
          ],
          "scattergeo": [
           {
            "marker": {
             "colorbar": {
              "outlinewidth": 0,
              "ticks": ""
             }
            },
            "type": "scattergeo"
           }
          ],
          "scattergl": [
           {
            "marker": {
             "colorbar": {
              "outlinewidth": 0,
              "ticks": ""
             }
            },
            "type": "scattergl"
           }
          ],
          "scattermapbox": [
           {
            "marker": {
             "colorbar": {
              "outlinewidth": 0,
              "ticks": ""
             }
            },
            "type": "scattermapbox"
           }
          ],
          "scatterpolar": [
           {
            "marker": {
             "colorbar": {
              "outlinewidth": 0,
              "ticks": ""
             }
            },
            "type": "scatterpolar"
           }
          ],
          "scatterpolargl": [
           {
            "marker": {
             "colorbar": {
              "outlinewidth": 0,
              "ticks": ""
             }
            },
            "type": "scatterpolargl"
           }
          ],
          "scatterternary": [
           {
            "marker": {
             "colorbar": {
              "outlinewidth": 0,
              "ticks": ""
             }
            },
            "type": "scatterternary"
           }
          ],
          "surface": [
           {
            "colorbar": {
             "outlinewidth": 0,
             "ticks": ""
            },
            "colorscale": [
             [
              0,
              "#0d0887"
             ],
             [
              0.1111111111111111,
              "#46039f"
             ],
             [
              0.2222222222222222,
              "#7201a8"
             ],
             [
              0.3333333333333333,
              "#9c179e"
             ],
             [
              0.4444444444444444,
              "#bd3786"
             ],
             [
              0.5555555555555556,
              "#d8576b"
             ],
             [
              0.6666666666666666,
              "#ed7953"
             ],
             [
              0.7777777777777778,
              "#fb9f3a"
             ],
             [
              0.8888888888888888,
              "#fdca26"
             ],
             [
              1,
              "#f0f921"
             ]
            ],
            "type": "surface"
           }
          ],
          "table": [
           {
            "cells": {
             "fill": {
              "color": "#EBF0F8"
             },
             "line": {
              "color": "white"
             }
            },
            "header": {
             "fill": {
              "color": "#C8D4E3"
             },
             "line": {
              "color": "white"
             }
            },
            "type": "table"
           }
          ]
         },
         "layout": {
          "annotationdefaults": {
           "arrowcolor": "#2a3f5f",
           "arrowhead": 0,
           "arrowwidth": 1
          },
          "autotypenumbers": "strict",
          "coloraxis": {
           "colorbar": {
            "outlinewidth": 0,
            "ticks": ""
           }
          },
          "colorscale": {
           "diverging": [
            [
             0,
             "#8e0152"
            ],
            [
             0.1,
             "#c51b7d"
            ],
            [
             0.2,
             "#de77ae"
            ],
            [
             0.3,
             "#f1b6da"
            ],
            [
             0.4,
             "#fde0ef"
            ],
            [
             0.5,
             "#f7f7f7"
            ],
            [
             0.6,
             "#e6f5d0"
            ],
            [
             0.7,
             "#b8e186"
            ],
            [
             0.8,
             "#7fbc41"
            ],
            [
             0.9,
             "#4d9221"
            ],
            [
             1,
             "#276419"
            ]
           ],
           "sequential": [
            [
             0,
             "#0d0887"
            ],
            [
             0.1111111111111111,
             "#46039f"
            ],
            [
             0.2222222222222222,
             "#7201a8"
            ],
            [
             0.3333333333333333,
             "#9c179e"
            ],
            [
             0.4444444444444444,
             "#bd3786"
            ],
            [
             0.5555555555555556,
             "#d8576b"
            ],
            [
             0.6666666666666666,
             "#ed7953"
            ],
            [
             0.7777777777777778,
             "#fb9f3a"
            ],
            [
             0.8888888888888888,
             "#fdca26"
            ],
            [
             1,
             "#f0f921"
            ]
           ],
           "sequentialminus": [
            [
             0,
             "#0d0887"
            ],
            [
             0.1111111111111111,
             "#46039f"
            ],
            [
             0.2222222222222222,
             "#7201a8"
            ],
            [
             0.3333333333333333,
             "#9c179e"
            ],
            [
             0.4444444444444444,
             "#bd3786"
            ],
            [
             0.5555555555555556,
             "#d8576b"
            ],
            [
             0.6666666666666666,
             "#ed7953"
            ],
            [
             0.7777777777777778,
             "#fb9f3a"
            ],
            [
             0.8888888888888888,
             "#fdca26"
            ],
            [
             1,
             "#f0f921"
            ]
           ]
          },
          "colorway": [
           "#636efa",
           "#EF553B",
           "#00cc96",
           "#ab63fa",
           "#FFA15A",
           "#19d3f3",
           "#FF6692",
           "#B6E880",
           "#FF97FF",
           "#FECB52"
          ],
          "font": {
           "color": "#2a3f5f"
          },
          "geo": {
           "bgcolor": "white",
           "lakecolor": "white",
           "landcolor": "#E5ECF6",
           "showlakes": true,
           "showland": true,
           "subunitcolor": "white"
          },
          "hoverlabel": {
           "align": "left"
          },
          "hovermode": "closest",
          "mapbox": {
           "style": "light"
          },
          "paper_bgcolor": "white",
          "plot_bgcolor": "#E5ECF6",
          "polar": {
           "angularaxis": {
            "gridcolor": "white",
            "linecolor": "white",
            "ticks": ""
           },
           "bgcolor": "#E5ECF6",
           "radialaxis": {
            "gridcolor": "white",
            "linecolor": "white",
            "ticks": ""
           }
          },
          "scene": {
           "xaxis": {
            "backgroundcolor": "#E5ECF6",
            "gridcolor": "white",
            "gridwidth": 2,
            "linecolor": "white",
            "showbackground": true,
            "ticks": "",
            "zerolinecolor": "white"
           },
           "yaxis": {
            "backgroundcolor": "#E5ECF6",
            "gridcolor": "white",
            "gridwidth": 2,
            "linecolor": "white",
            "showbackground": true,
            "ticks": "",
            "zerolinecolor": "white"
           },
           "zaxis": {
            "backgroundcolor": "#E5ECF6",
            "gridcolor": "white",
            "gridwidth": 2,
            "linecolor": "white",
            "showbackground": true,
            "ticks": "",
            "zerolinecolor": "white"
           }
          },
          "shapedefaults": {
           "line": {
            "color": "#2a3f5f"
           }
          },
          "ternary": {
           "aaxis": {
            "gridcolor": "white",
            "linecolor": "white",
            "ticks": ""
           },
           "baxis": {
            "gridcolor": "white",
            "linecolor": "white",
            "ticks": ""
           },
           "bgcolor": "#E5ECF6",
           "caxis": {
            "gridcolor": "white",
            "linecolor": "white",
            "ticks": ""
           }
          },
          "title": {
           "x": 0.05
          },
          "xaxis": {
           "automargin": true,
           "gridcolor": "white",
           "linecolor": "white",
           "ticks": "",
           "title": {
            "standoff": 15
           },
           "zerolinecolor": "white",
           "zerolinewidth": 2
          },
          "yaxis": {
           "automargin": true,
           "gridcolor": "white",
           "linecolor": "white",
           "ticks": "",
           "title": {
            "standoff": 15
           },
           "zerolinecolor": "white",
           "zerolinewidth": 2
          }
         }
        },
        "title": {
         "text": "Effect of Block Size on Min Arrival Time Across Networks"
        },
        "width": 1000,
        "xaxis": {
         "anchor": "y",
         "domain": [
          0,
          1
         ],
         "title": {
          "text": "Block Size"
         }
        },
        "yaxis": {
         "anchor": "x",
         "domain": [
          0,
          1
         ],
         "title": {
          "text": "Arrival Time (ms)"
         }
        }
       }
      }
     },
     "metadata": {},
     "output_type": "display_data"
    },
    {
     "data": {
      "application/vnd.plotly.v1+json": {
       "config": {
        "plotlyServerURL": "https://plot.ly"
       },
       "data": [
        {
         "error_y": {
          "array": [
           null,
           125.62206504355217,
           196.9249398445334,
           140.19822991755012,
           188.65294179364807,
           188.8177905649429,
           223.28036301340867,
           224.56176798051288
          ],
          "type": "data",
          "visible": true
         },
         "hovertemplate": "Block Size: %{x}<br>Arrival Time: %{y:.1f}ms<br>Sample Size: %{text}",
         "marker": {
          "color": "blue"
         },
         "name": "baseline (nft-devnet-6)",
         "text": [
          1,
          31,
          35,
          34,
          43,
          44,
          44,
          69
         ],
         "type": "bar",
         "x": [
          "529-1081KB",
          "1081-1633KB",
          "1633-2185KB",
          "2185-2737KB",
          "2737-3289KB",
          "3289-3841KB",
          "3841-4394KB",
          "4394-4946KB"
         ],
         "y": [
          2404,
          2557.3548387096776,
          2774.7428571428572,
          2808.176470588235,
          2902.860465116279,
          2997.431818181818,
          3177.1363636363635,
          3256.463768115942
         ]
        },
        {
         "error_y": {
          "array": [
           null,
           40.76330992323166,
           46.14206257878362,
           101.77878535302314,
           140.76149258272898,
           227.65300715489494,
           260.9570897265898,
           297.3131235021309,
           242.29513184314223
          ],
          "type": "data",
          "visible": true
         },
         "hovertemplate": "Block Size: %{x}<br>Arrival Time: %{y:.1f}ms<br>Sample Size: %{text}",
         "marker": {
          "color": "green"
         },
         "name": "rlnc (nft-devnet-5)",
         "text": [
          1,
          13,
          41,
          68,
          17,
          10,
          8,
          14,
          127
         ],
         "type": "bar",
         "x": [
          "0-529KB",
          "529-1081KB",
          "1081-1633KB",
          "1633-2185KB",
          "2185-2737KB",
          "2737-3289KB",
          "3289-3841KB",
          "3841-4394KB",
          "4394-4946KB"
         ],
         "y": [
          2439,
          2565.6923076923076,
          2636.560975609756,
          2755.2720588235293,
          3109.3823529411766,
          3250.15,
          3476.4375,
          3645.1428571428573,
          3682.783464566929
         ]
        }
       ],
       "layout": {
        "barmode": "group",
        "height": 600,
        "legend": {
         "bgcolor": "rgba(255,255,255,0.8)",
         "x": 0.01,
         "y": 0.99
        },
        "plot_bgcolor": "white",
        "template": {
         "data": {
          "bar": [
           {
            "error_x": {
             "color": "#2a3f5f"
            },
            "error_y": {
             "color": "#2a3f5f"
            },
            "marker": {
             "line": {
              "color": "#E5ECF6",
              "width": 0.5
             },
             "pattern": {
              "fillmode": "overlay",
              "size": 10,
              "solidity": 0.2
             }
            },
            "type": "bar"
           }
          ],
          "barpolar": [
           {
            "marker": {
             "line": {
              "color": "#E5ECF6",
              "width": 0.5
             },
             "pattern": {
              "fillmode": "overlay",
              "size": 10,
              "solidity": 0.2
             }
            },
            "type": "barpolar"
           }
          ],
          "carpet": [
           {
            "aaxis": {
             "endlinecolor": "#2a3f5f",
             "gridcolor": "white",
             "linecolor": "white",
             "minorgridcolor": "white",
             "startlinecolor": "#2a3f5f"
            },
            "baxis": {
             "endlinecolor": "#2a3f5f",
             "gridcolor": "white",
             "linecolor": "white",
             "minorgridcolor": "white",
             "startlinecolor": "#2a3f5f"
            },
            "type": "carpet"
           }
          ],
          "choropleth": [
           {
            "colorbar": {
             "outlinewidth": 0,
             "ticks": ""
            },
            "type": "choropleth"
           }
          ],
          "contour": [
           {
            "colorbar": {
             "outlinewidth": 0,
             "ticks": ""
            },
            "colorscale": [
             [
              0,
              "#0d0887"
             ],
             [
              0.1111111111111111,
              "#46039f"
             ],
             [
              0.2222222222222222,
              "#7201a8"
             ],
             [
              0.3333333333333333,
              "#9c179e"
             ],
             [
              0.4444444444444444,
              "#bd3786"
             ],
             [
              0.5555555555555556,
              "#d8576b"
             ],
             [
              0.6666666666666666,
              "#ed7953"
             ],
             [
              0.7777777777777778,
              "#fb9f3a"
             ],
             [
              0.8888888888888888,
              "#fdca26"
             ],
             [
              1,
              "#f0f921"
             ]
            ],
            "type": "contour"
           }
          ],
          "contourcarpet": [
           {
            "colorbar": {
             "outlinewidth": 0,
             "ticks": ""
            },
            "type": "contourcarpet"
           }
          ],
          "heatmap": [
           {
            "colorbar": {
             "outlinewidth": 0,
             "ticks": ""
            },
            "colorscale": [
             [
              0,
              "#0d0887"
             ],
             [
              0.1111111111111111,
              "#46039f"
             ],
             [
              0.2222222222222222,
              "#7201a8"
             ],
             [
              0.3333333333333333,
              "#9c179e"
             ],
             [
              0.4444444444444444,
              "#bd3786"
             ],
             [
              0.5555555555555556,
              "#d8576b"
             ],
             [
              0.6666666666666666,
              "#ed7953"
             ],
             [
              0.7777777777777778,
              "#fb9f3a"
             ],
             [
              0.8888888888888888,
              "#fdca26"
             ],
             [
              1,
              "#f0f921"
             ]
            ],
            "type": "heatmap"
           }
          ],
          "heatmapgl": [
           {
            "colorbar": {
             "outlinewidth": 0,
             "ticks": ""
            },
            "colorscale": [
             [
              0,
              "#0d0887"
             ],
             [
              0.1111111111111111,
              "#46039f"
             ],
             [
              0.2222222222222222,
              "#7201a8"
             ],
             [
              0.3333333333333333,
              "#9c179e"
             ],
             [
              0.4444444444444444,
              "#bd3786"
             ],
             [
              0.5555555555555556,
              "#d8576b"
             ],
             [
              0.6666666666666666,
              "#ed7953"
             ],
             [
              0.7777777777777778,
              "#fb9f3a"
             ],
             [
              0.8888888888888888,
              "#fdca26"
             ],
             [
              1,
              "#f0f921"
             ]
            ],
            "type": "heatmapgl"
           }
          ],
          "histogram": [
           {
            "marker": {
             "pattern": {
              "fillmode": "overlay",
              "size": 10,
              "solidity": 0.2
             }
            },
            "type": "histogram"
           }
          ],
          "histogram2d": [
           {
            "colorbar": {
             "outlinewidth": 0,
             "ticks": ""
            },
            "colorscale": [
             [
              0,
              "#0d0887"
             ],
             [
              0.1111111111111111,
              "#46039f"
             ],
             [
              0.2222222222222222,
              "#7201a8"
             ],
             [
              0.3333333333333333,
              "#9c179e"
             ],
             [
              0.4444444444444444,
              "#bd3786"
             ],
             [
              0.5555555555555556,
              "#d8576b"
             ],
             [
              0.6666666666666666,
              "#ed7953"
             ],
             [
              0.7777777777777778,
              "#fb9f3a"
             ],
             [
              0.8888888888888888,
              "#fdca26"
             ],
             [
              1,
              "#f0f921"
             ]
            ],
            "type": "histogram2d"
           }
          ],
          "histogram2dcontour": [
           {
            "colorbar": {
             "outlinewidth": 0,
             "ticks": ""
            },
            "colorscale": [
             [
              0,
              "#0d0887"
             ],
             [
              0.1111111111111111,
              "#46039f"
             ],
             [
              0.2222222222222222,
              "#7201a8"
             ],
             [
              0.3333333333333333,
              "#9c179e"
             ],
             [
              0.4444444444444444,
              "#bd3786"
             ],
             [
              0.5555555555555556,
              "#d8576b"
             ],
             [
              0.6666666666666666,
              "#ed7953"
             ],
             [
              0.7777777777777778,
              "#fb9f3a"
             ],
             [
              0.8888888888888888,
              "#fdca26"
             ],
             [
              1,
              "#f0f921"
             ]
            ],
            "type": "histogram2dcontour"
           }
          ],
          "mesh3d": [
           {
            "colorbar": {
             "outlinewidth": 0,
             "ticks": ""
            },
            "type": "mesh3d"
           }
          ],
          "parcoords": [
           {
            "line": {
             "colorbar": {
              "outlinewidth": 0,
              "ticks": ""
             }
            },
            "type": "parcoords"
           }
          ],
          "pie": [
           {
            "automargin": true,
            "type": "pie"
           }
          ],
          "scatter": [
           {
            "fillpattern": {
             "fillmode": "overlay",
             "size": 10,
             "solidity": 0.2
            },
            "type": "scatter"
           }
          ],
          "scatter3d": [
           {
            "line": {
             "colorbar": {
              "outlinewidth": 0,
              "ticks": ""
             }
            },
            "marker": {
             "colorbar": {
              "outlinewidth": 0,
              "ticks": ""
             }
            },
            "type": "scatter3d"
           }
          ],
          "scattercarpet": [
           {
            "marker": {
             "colorbar": {
              "outlinewidth": 0,
              "ticks": ""
             }
            },
            "type": "scattercarpet"
           }
          ],
          "scattergeo": [
           {
            "marker": {
             "colorbar": {
              "outlinewidth": 0,
              "ticks": ""
             }
            },
            "type": "scattergeo"
           }
          ],
          "scattergl": [
           {
            "marker": {
             "colorbar": {
              "outlinewidth": 0,
              "ticks": ""
             }
            },
            "type": "scattergl"
           }
          ],
          "scattermapbox": [
           {
            "marker": {
             "colorbar": {
              "outlinewidth": 0,
              "ticks": ""
             }
            },
            "type": "scattermapbox"
           }
          ],
          "scatterpolar": [
           {
            "marker": {
             "colorbar": {
              "outlinewidth": 0,
              "ticks": ""
             }
            },
            "type": "scatterpolar"
           }
          ],
          "scatterpolargl": [
           {
            "marker": {
             "colorbar": {
              "outlinewidth": 0,
              "ticks": ""
             }
            },
            "type": "scatterpolargl"
           }
          ],
          "scatterternary": [
           {
            "marker": {
             "colorbar": {
              "outlinewidth": 0,
              "ticks": ""
             }
            },
            "type": "scatterternary"
           }
          ],
          "surface": [
           {
            "colorbar": {
             "outlinewidth": 0,
             "ticks": ""
            },
            "colorscale": [
             [
              0,
              "#0d0887"
             ],
             [
              0.1111111111111111,
              "#46039f"
             ],
             [
              0.2222222222222222,
              "#7201a8"
             ],
             [
              0.3333333333333333,
              "#9c179e"
             ],
             [
              0.4444444444444444,
              "#bd3786"
             ],
             [
              0.5555555555555556,
              "#d8576b"
             ],
             [
              0.6666666666666666,
              "#ed7953"
             ],
             [
              0.7777777777777778,
              "#fb9f3a"
             ],
             [
              0.8888888888888888,
              "#fdca26"
             ],
             [
              1,
              "#f0f921"
             ]
            ],
            "type": "surface"
           }
          ],
          "table": [
           {
            "cells": {
             "fill": {
              "color": "#EBF0F8"
             },
             "line": {
              "color": "white"
             }
            },
            "header": {
             "fill": {
              "color": "#C8D4E3"
             },
             "line": {
              "color": "white"
             }
            },
            "type": "table"
           }
          ]
         },
         "layout": {
          "annotationdefaults": {
           "arrowcolor": "#2a3f5f",
           "arrowhead": 0,
           "arrowwidth": 1
          },
          "autotypenumbers": "strict",
          "coloraxis": {
           "colorbar": {
            "outlinewidth": 0,
            "ticks": ""
           }
          },
          "colorscale": {
           "diverging": [
            [
             0,
             "#8e0152"
            ],
            [
             0.1,
             "#c51b7d"
            ],
            [
             0.2,
             "#de77ae"
            ],
            [
             0.3,
             "#f1b6da"
            ],
            [
             0.4,
             "#fde0ef"
            ],
            [
             0.5,
             "#f7f7f7"
            ],
            [
             0.6,
             "#e6f5d0"
            ],
            [
             0.7,
             "#b8e186"
            ],
            [
             0.8,
             "#7fbc41"
            ],
            [
             0.9,
             "#4d9221"
            ],
            [
             1,
             "#276419"
            ]
           ],
           "sequential": [
            [
             0,
             "#0d0887"
            ],
            [
             0.1111111111111111,
             "#46039f"
            ],
            [
             0.2222222222222222,
             "#7201a8"
            ],
            [
             0.3333333333333333,
             "#9c179e"
            ],
            [
             0.4444444444444444,
             "#bd3786"
            ],
            [
             0.5555555555555556,
             "#d8576b"
            ],
            [
             0.6666666666666666,
             "#ed7953"
            ],
            [
             0.7777777777777778,
             "#fb9f3a"
            ],
            [
             0.8888888888888888,
             "#fdca26"
            ],
            [
             1,
             "#f0f921"
            ]
           ],
           "sequentialminus": [
            [
             0,
             "#0d0887"
            ],
            [
             0.1111111111111111,
             "#46039f"
            ],
            [
             0.2222222222222222,
             "#7201a8"
            ],
            [
             0.3333333333333333,
             "#9c179e"
            ],
            [
             0.4444444444444444,
             "#bd3786"
            ],
            [
             0.5555555555555556,
             "#d8576b"
            ],
            [
             0.6666666666666666,
             "#ed7953"
            ],
            [
             0.7777777777777778,
             "#fb9f3a"
            ],
            [
             0.8888888888888888,
             "#fdca26"
            ],
            [
             1,
             "#f0f921"
            ]
           ]
          },
          "colorway": [
           "#636efa",
           "#EF553B",
           "#00cc96",
           "#ab63fa",
           "#FFA15A",
           "#19d3f3",
           "#FF6692",
           "#B6E880",
           "#FF97FF",
           "#FECB52"
          ],
          "font": {
           "color": "#2a3f5f"
          },
          "geo": {
           "bgcolor": "white",
           "lakecolor": "white",
           "landcolor": "#E5ECF6",
           "showlakes": true,
           "showland": true,
           "subunitcolor": "white"
          },
          "hoverlabel": {
           "align": "left"
          },
          "hovermode": "closest",
          "mapbox": {
           "style": "light"
          },
          "paper_bgcolor": "white",
          "plot_bgcolor": "#E5ECF6",
          "polar": {
           "angularaxis": {
            "gridcolor": "white",
            "linecolor": "white",
            "ticks": ""
           },
           "bgcolor": "#E5ECF6",
           "radialaxis": {
            "gridcolor": "white",
            "linecolor": "white",
            "ticks": ""
           }
          },
          "scene": {
           "xaxis": {
            "backgroundcolor": "#E5ECF6",
            "gridcolor": "white",
            "gridwidth": 2,
            "linecolor": "white",
            "showbackground": true,
            "ticks": "",
            "zerolinecolor": "white"
           },
           "yaxis": {
            "backgroundcolor": "#E5ECF6",
            "gridcolor": "white",
            "gridwidth": 2,
            "linecolor": "white",
            "showbackground": true,
            "ticks": "",
            "zerolinecolor": "white"
           },
           "zaxis": {
            "backgroundcolor": "#E5ECF6",
            "gridcolor": "white",
            "gridwidth": 2,
            "linecolor": "white",
            "showbackground": true,
            "ticks": "",
            "zerolinecolor": "white"
           }
          },
          "shapedefaults": {
           "line": {
            "color": "#2a3f5f"
           }
          },
          "ternary": {
           "aaxis": {
            "gridcolor": "white",
            "linecolor": "white",
            "ticks": ""
           },
           "baxis": {
            "gridcolor": "white",
            "linecolor": "white",
            "ticks": ""
           },
           "bgcolor": "#E5ECF6",
           "caxis": {
            "gridcolor": "white",
            "linecolor": "white",
            "ticks": ""
           }
          },
          "title": {
           "x": 0.05
          },
          "xaxis": {
           "automargin": true,
           "gridcolor": "white",
           "linecolor": "white",
           "ticks": "",
           "title": {
            "standoff": 15
           },
           "zerolinecolor": "white",
           "zerolinewidth": 2
          },
          "yaxis": {
           "automargin": true,
           "gridcolor": "white",
           "linecolor": "white",
           "ticks": "",
           "title": {
            "standoff": 15
           },
           "zerolinecolor": "white",
           "zerolinewidth": 2
          }
         }
        },
        "title": {
         "text": "Effect of Block Size on P50 Arrival Time Across Networks"
        },
        "width": 1000,
        "xaxis": {
         "anchor": "y",
         "domain": [
          0,
          1
         ],
         "title": {
          "text": "Block Size"
         }
        },
        "yaxis": {
         "anchor": "x",
         "domain": [
          0,
          1
         ],
         "title": {
          "text": "Arrival Time (ms)"
         }
        }
       }
      }
     },
     "metadata": {},
     "output_type": "display_data"
    },
    {
     "data": {
      "application/vnd.plotly.v1+json": {
       "config": {
        "plotlyServerURL": "https://plot.ly"
       },
       "data": [
        {
         "error_y": {
          "array": [
           null,
           86.81447528079374,
           106.40294966531235,
           86.11692027249497,
           90.32617331551812,
           87.99161453416913,
           141.49303204890765,
           121.24495092360408
          ],
          "type": "data",
          "visible": true
         },
         "hovertemplate": "Block Size: %{x}<br>Arrival Time: %{y:.1f}ms<br>Sample Size: %{text}",
         "marker": {
          "color": "blue"
         },
         "name": "baseline (nft-devnet-6)",
         "text": [
          1,
          31,
          35,
          34,
          43,
          44,
          44,
          69
         ],
         "type": "bar",
         "x": [
          "529-1081KB",
          "1081-1633KB",
          "1633-2185KB",
          "2185-2737KB",
          "2737-3289KB",
          "3289-3841KB",
          "3841-4394KB",
          "4394-4946KB"
         ],
         "y": [
          2770.8,
          2927.1612903225805,
          3189.7771428571427,
          3281.370588235294,
          3386.9162790697674,
          3486.4636363636364,
          3757.195454545454,
          3897.715942028985
         ]
        },
        {
         "error_y": {
          "array": [
           null,
           64.40702153551992,
           87.68278208628105,
           158.2009210729706,
           219.91473009107276,
           330.7234294777973,
           406.626424506749,
           505.8736676112105,
           433.77926666181753
          ],
          "type": "data",
          "visible": true
         },
         "hovertemplate": "Block Size: %{x}<br>Arrival Time: %{y:.1f}ms<br>Sample Size: %{text}",
         "marker": {
          "color": "green"
         },
         "name": "rlnc (nft-devnet-5)",
         "text": [
          1,
          13,
          41,
          68,
          17,
          10,
          8,
          14,
          127
         ],
         "type": "bar",
         "x": [
          "0-529KB",
          "529-1081KB",
          "1081-1633KB",
          "1633-2185KB",
          "2185-2737KB",
          "2737-3289KB",
          "3289-3841KB",
          "3841-4394KB",
          "4394-4946KB"
         ],
         "y": [
          2553.75,
          2736.826923076923,
          2840.743902439024,
          3015.4301470588234,
          3528.8088235294117,
          3681.175,
          4049.8125,
          4267.928571428572,
          4346.842519685039
         ]
        }
       ],
       "layout": {
        "barmode": "group",
        "height": 600,
        "legend": {
         "bgcolor": "rgba(255,255,255,0.8)",
         "x": 0.01,
         "y": 0.99
        },
        "plot_bgcolor": "white",
        "template": {
         "data": {
          "bar": [
           {
            "error_x": {
             "color": "#2a3f5f"
            },
            "error_y": {
             "color": "#2a3f5f"
            },
            "marker": {
             "line": {
              "color": "#E5ECF6",
              "width": 0.5
             },
             "pattern": {
              "fillmode": "overlay",
              "size": 10,
              "solidity": 0.2
             }
            },
            "type": "bar"
           }
          ],
          "barpolar": [
           {
            "marker": {
             "line": {
              "color": "#E5ECF6",
              "width": 0.5
             },
             "pattern": {
              "fillmode": "overlay",
              "size": 10,
              "solidity": 0.2
             }
            },
            "type": "barpolar"
           }
          ],
          "carpet": [
           {
            "aaxis": {
             "endlinecolor": "#2a3f5f",
             "gridcolor": "white",
             "linecolor": "white",
             "minorgridcolor": "white",
             "startlinecolor": "#2a3f5f"
            },
            "baxis": {
             "endlinecolor": "#2a3f5f",
             "gridcolor": "white",
             "linecolor": "white",
             "minorgridcolor": "white",
             "startlinecolor": "#2a3f5f"
            },
            "type": "carpet"
           }
          ],
          "choropleth": [
           {
            "colorbar": {
             "outlinewidth": 0,
             "ticks": ""
            },
            "type": "choropleth"
           }
          ],
          "contour": [
           {
            "colorbar": {
             "outlinewidth": 0,
             "ticks": ""
            },
            "colorscale": [
             [
              0,
              "#0d0887"
             ],
             [
              0.1111111111111111,
              "#46039f"
             ],
             [
              0.2222222222222222,
              "#7201a8"
             ],
             [
              0.3333333333333333,
              "#9c179e"
             ],
             [
              0.4444444444444444,
              "#bd3786"
             ],
             [
              0.5555555555555556,
              "#d8576b"
             ],
             [
              0.6666666666666666,
              "#ed7953"
             ],
             [
              0.7777777777777778,
              "#fb9f3a"
             ],
             [
              0.8888888888888888,
              "#fdca26"
             ],
             [
              1,
              "#f0f921"
             ]
            ],
            "type": "contour"
           }
          ],
          "contourcarpet": [
           {
            "colorbar": {
             "outlinewidth": 0,
             "ticks": ""
            },
            "type": "contourcarpet"
           }
          ],
          "heatmap": [
           {
            "colorbar": {
             "outlinewidth": 0,
             "ticks": ""
            },
            "colorscale": [
             [
              0,
              "#0d0887"
             ],
             [
              0.1111111111111111,
              "#46039f"
             ],
             [
              0.2222222222222222,
              "#7201a8"
             ],
             [
              0.3333333333333333,
              "#9c179e"
             ],
             [
              0.4444444444444444,
              "#bd3786"
             ],
             [
              0.5555555555555556,
              "#d8576b"
             ],
             [
              0.6666666666666666,
              "#ed7953"
             ],
             [
              0.7777777777777778,
              "#fb9f3a"
             ],
             [
              0.8888888888888888,
              "#fdca26"
             ],
             [
              1,
              "#f0f921"
             ]
            ],
            "type": "heatmap"
           }
          ],
          "heatmapgl": [
           {
            "colorbar": {
             "outlinewidth": 0,
             "ticks": ""
            },
            "colorscale": [
             [
              0,
              "#0d0887"
             ],
             [
              0.1111111111111111,
              "#46039f"
             ],
             [
              0.2222222222222222,
              "#7201a8"
             ],
             [
              0.3333333333333333,
              "#9c179e"
             ],
             [
              0.4444444444444444,
              "#bd3786"
             ],
             [
              0.5555555555555556,
              "#d8576b"
             ],
             [
              0.6666666666666666,
              "#ed7953"
             ],
             [
              0.7777777777777778,
              "#fb9f3a"
             ],
             [
              0.8888888888888888,
              "#fdca26"
             ],
             [
              1,
              "#f0f921"
             ]
            ],
            "type": "heatmapgl"
           }
          ],
          "histogram": [
           {
            "marker": {
             "pattern": {
              "fillmode": "overlay",
              "size": 10,
              "solidity": 0.2
             }
            },
            "type": "histogram"
           }
          ],
          "histogram2d": [
           {
            "colorbar": {
             "outlinewidth": 0,
             "ticks": ""
            },
            "colorscale": [
             [
              0,
              "#0d0887"
             ],
             [
              0.1111111111111111,
              "#46039f"
             ],
             [
              0.2222222222222222,
              "#7201a8"
             ],
             [
              0.3333333333333333,
              "#9c179e"
             ],
             [
              0.4444444444444444,
              "#bd3786"
             ],
             [
              0.5555555555555556,
              "#d8576b"
             ],
             [
              0.6666666666666666,
              "#ed7953"
             ],
             [
              0.7777777777777778,
              "#fb9f3a"
             ],
             [
              0.8888888888888888,
              "#fdca26"
             ],
             [
              1,
              "#f0f921"
             ]
            ],
            "type": "histogram2d"
           }
          ],
          "histogram2dcontour": [
           {
            "colorbar": {
             "outlinewidth": 0,
             "ticks": ""
            },
            "colorscale": [
             [
              0,
              "#0d0887"
             ],
             [
              0.1111111111111111,
              "#46039f"
             ],
             [
              0.2222222222222222,
              "#7201a8"
             ],
             [
              0.3333333333333333,
              "#9c179e"
             ],
             [
              0.4444444444444444,
              "#bd3786"
             ],
             [
              0.5555555555555556,
              "#d8576b"
             ],
             [
              0.6666666666666666,
              "#ed7953"
             ],
             [
              0.7777777777777778,
              "#fb9f3a"
             ],
             [
              0.8888888888888888,
              "#fdca26"
             ],
             [
              1,
              "#f0f921"
             ]
            ],
            "type": "histogram2dcontour"
           }
          ],
          "mesh3d": [
           {
            "colorbar": {
             "outlinewidth": 0,
             "ticks": ""
            },
            "type": "mesh3d"
           }
          ],
          "parcoords": [
           {
            "line": {
             "colorbar": {
              "outlinewidth": 0,
              "ticks": ""
             }
            },
            "type": "parcoords"
           }
          ],
          "pie": [
           {
            "automargin": true,
            "type": "pie"
           }
          ],
          "scatter": [
           {
            "fillpattern": {
             "fillmode": "overlay",
             "size": 10,
             "solidity": 0.2
            },
            "type": "scatter"
           }
          ],
          "scatter3d": [
           {
            "line": {
             "colorbar": {
              "outlinewidth": 0,
              "ticks": ""
             }
            },
            "marker": {
             "colorbar": {
              "outlinewidth": 0,
              "ticks": ""
             }
            },
            "type": "scatter3d"
           }
          ],
          "scattercarpet": [
           {
            "marker": {
             "colorbar": {
              "outlinewidth": 0,
              "ticks": ""
             }
            },
            "type": "scattercarpet"
           }
          ],
          "scattergeo": [
           {
            "marker": {
             "colorbar": {
              "outlinewidth": 0,
              "ticks": ""
             }
            },
            "type": "scattergeo"
           }
          ],
          "scattergl": [
           {
            "marker": {
             "colorbar": {
              "outlinewidth": 0,
              "ticks": ""
             }
            },
            "type": "scattergl"
           }
          ],
          "scattermapbox": [
           {
            "marker": {
             "colorbar": {
              "outlinewidth": 0,
              "ticks": ""
             }
            },
            "type": "scattermapbox"
           }
          ],
          "scatterpolar": [
           {
            "marker": {
             "colorbar": {
              "outlinewidth": 0,
              "ticks": ""
             }
            },
            "type": "scatterpolar"
           }
          ],
          "scatterpolargl": [
           {
            "marker": {
             "colorbar": {
              "outlinewidth": 0,
              "ticks": ""
             }
            },
            "type": "scatterpolargl"
           }
          ],
          "scatterternary": [
           {
            "marker": {
             "colorbar": {
              "outlinewidth": 0,
              "ticks": ""
             }
            },
            "type": "scatterternary"
           }
          ],
          "surface": [
           {
            "colorbar": {
             "outlinewidth": 0,
             "ticks": ""
            },
            "colorscale": [
             [
              0,
              "#0d0887"
             ],
             [
              0.1111111111111111,
              "#46039f"
             ],
             [
              0.2222222222222222,
              "#7201a8"
             ],
             [
              0.3333333333333333,
              "#9c179e"
             ],
             [
              0.4444444444444444,
              "#bd3786"
             ],
             [
              0.5555555555555556,
              "#d8576b"
             ],
             [
              0.6666666666666666,
              "#ed7953"
             ],
             [
              0.7777777777777778,
              "#fb9f3a"
             ],
             [
              0.8888888888888888,
              "#fdca26"
             ],
             [
              1,
              "#f0f921"
             ]
            ],
            "type": "surface"
           }
          ],
          "table": [
           {
            "cells": {
             "fill": {
              "color": "#EBF0F8"
             },
             "line": {
              "color": "white"
             }
            },
            "header": {
             "fill": {
              "color": "#C8D4E3"
             },
             "line": {
              "color": "white"
             }
            },
            "type": "table"
           }
          ]
         },
         "layout": {
          "annotationdefaults": {
           "arrowcolor": "#2a3f5f",
           "arrowhead": 0,
           "arrowwidth": 1
          },
          "autotypenumbers": "strict",
          "coloraxis": {
           "colorbar": {
            "outlinewidth": 0,
            "ticks": ""
           }
          },
          "colorscale": {
           "diverging": [
            [
             0,
             "#8e0152"
            ],
            [
             0.1,
             "#c51b7d"
            ],
            [
             0.2,
             "#de77ae"
            ],
            [
             0.3,
             "#f1b6da"
            ],
            [
             0.4,
             "#fde0ef"
            ],
            [
             0.5,
             "#f7f7f7"
            ],
            [
             0.6,
             "#e6f5d0"
            ],
            [
             0.7,
             "#b8e186"
            ],
            [
             0.8,
             "#7fbc41"
            ],
            [
             0.9,
             "#4d9221"
            ],
            [
             1,
             "#276419"
            ]
           ],
           "sequential": [
            [
             0,
             "#0d0887"
            ],
            [
             0.1111111111111111,
             "#46039f"
            ],
            [
             0.2222222222222222,
             "#7201a8"
            ],
            [
             0.3333333333333333,
             "#9c179e"
            ],
            [
             0.4444444444444444,
             "#bd3786"
            ],
            [
             0.5555555555555556,
             "#d8576b"
            ],
            [
             0.6666666666666666,
             "#ed7953"
            ],
            [
             0.7777777777777778,
             "#fb9f3a"
            ],
            [
             0.8888888888888888,
             "#fdca26"
            ],
            [
             1,
             "#f0f921"
            ]
           ],
           "sequentialminus": [
            [
             0,
             "#0d0887"
            ],
            [
             0.1111111111111111,
             "#46039f"
            ],
            [
             0.2222222222222222,
             "#7201a8"
            ],
            [
             0.3333333333333333,
             "#9c179e"
            ],
            [
             0.4444444444444444,
             "#bd3786"
            ],
            [
             0.5555555555555556,
             "#d8576b"
            ],
            [
             0.6666666666666666,
             "#ed7953"
            ],
            [
             0.7777777777777778,
             "#fb9f3a"
            ],
            [
             0.8888888888888888,
             "#fdca26"
            ],
            [
             1,
             "#f0f921"
            ]
           ]
          },
          "colorway": [
           "#636efa",
           "#EF553B",
           "#00cc96",
           "#ab63fa",
           "#FFA15A",
           "#19d3f3",
           "#FF6692",
           "#B6E880",
           "#FF97FF",
           "#FECB52"
          ],
          "font": {
           "color": "#2a3f5f"
          },
          "geo": {
           "bgcolor": "white",
           "lakecolor": "white",
           "landcolor": "#E5ECF6",
           "showlakes": true,
           "showland": true,
           "subunitcolor": "white"
          },
          "hoverlabel": {
           "align": "left"
          },
          "hovermode": "closest",
          "mapbox": {
           "style": "light"
          },
          "paper_bgcolor": "white",
          "plot_bgcolor": "#E5ECF6",
          "polar": {
           "angularaxis": {
            "gridcolor": "white",
            "linecolor": "white",
            "ticks": ""
           },
           "bgcolor": "#E5ECF6",
           "radialaxis": {
            "gridcolor": "white",
            "linecolor": "white",
            "ticks": ""
           }
          },
          "scene": {
           "xaxis": {
            "backgroundcolor": "#E5ECF6",
            "gridcolor": "white",
            "gridwidth": 2,
            "linecolor": "white",
            "showbackground": true,
            "ticks": "",
            "zerolinecolor": "white"
           },
           "yaxis": {
            "backgroundcolor": "#E5ECF6",
            "gridcolor": "white",
            "gridwidth": 2,
            "linecolor": "white",
            "showbackground": true,
            "ticks": "",
            "zerolinecolor": "white"
           },
           "zaxis": {
            "backgroundcolor": "#E5ECF6",
            "gridcolor": "white",
            "gridwidth": 2,
            "linecolor": "white",
            "showbackground": true,
            "ticks": "",
            "zerolinecolor": "white"
           }
          },
          "shapedefaults": {
           "line": {
            "color": "#2a3f5f"
           }
          },
          "ternary": {
           "aaxis": {
            "gridcolor": "white",
            "linecolor": "white",
            "ticks": ""
           },
           "baxis": {
            "gridcolor": "white",
            "linecolor": "white",
            "ticks": ""
           },
           "bgcolor": "#E5ECF6",
           "caxis": {
            "gridcolor": "white",
            "linecolor": "white",
            "ticks": ""
           }
          },
          "title": {
           "x": 0.05
          },
          "xaxis": {
           "automargin": true,
           "gridcolor": "white",
           "linecolor": "white",
           "ticks": "",
           "title": {
            "standoff": 15
           },
           "zerolinecolor": "white",
           "zerolinewidth": 2
          },
          "yaxis": {
           "automargin": true,
           "gridcolor": "white",
           "linecolor": "white",
           "ticks": "",
           "title": {
            "standoff": 15
           },
           "zerolinecolor": "white",
           "zerolinewidth": 2
          }
         }
        },
        "title": {
         "text": "Effect of Block Size on P95 Arrival Time Across Networks"
        },
        "width": 1000,
        "xaxis": {
         "anchor": "y",
         "domain": [
          0,
          1
         ],
         "title": {
          "text": "Block Size"
         }
        },
        "yaxis": {
         "anchor": "x",
         "domain": [
          0,
          1
         ],
         "title": {
          "text": "Arrival Time (ms)"
         }
        }
       }
      }
     },
     "metadata": {},
     "output_type": "display_data"
    }
   ],
   "source": [
    "def create_multi_network_block_size_bin_analysis(metrics, metric='p95_arrival_time'):\n",
    "    \"\"\"\n",
    "    Create a bar chart comparing arrival times binned by block size ranges across multiple networks.\n",
    "    \n",
    "    Args:\n",
    "        metrics (dict): Dictionary with network keys and metrics DataFrames as values\n",
    "        metric (str): The metric to plot\n",
    "        \n",
    "    Returns:\n",
    "        plotly.graph_objects.Figure: The plotly figure\n",
    "    \"\"\"\n",
    "    # Collect all block sizes to determine appropriate bins\n",
    "    all_block_sizes = []\n",
    "    for network, network_metrics in metrics.items():\n",
    "        valid_sizes = network_metrics['block_total_bytes'].dropna().values\n",
    "        all_block_sizes.extend(valid_sizes)\n",
    "    \n",
    "    # Determine bin edges using quantiles or other method if there's enough data\n",
    "    if len(all_block_sizes) > 10:\n",
    "        # Use freedman-diaconis rule to determine bin width\n",
    "        q75, q25 = np.percentile(all_block_sizes, [75, 25])\n",
    "        iqr = q75 - q25\n",
    "        bin_width = 2 * iqr * (len(all_block_sizes) ** (-1/3))\n",
    "        \n",
    "        # Ensure bin width is reasonable (at least 10KB)\n",
    "        bin_width = max(bin_width, 10*1024)\n",
    "        \n",
    "        # Create bins\n",
    "        min_size = min(all_block_sizes)\n",
    "        max_size = max(all_block_sizes)\n",
    "        \n",
    "        # Determine number of bins, but limit to a reasonable number\n",
    "        num_bins = min(10, int(np.ceil((max_size - min_size) / bin_width)))\n",
    "        \n",
    "        # Create bins with more even distribution\n",
    "        size_bins = np.linspace(min_size, max_size, num_bins + 1).tolist()\n",
    "    else:\n",
    "        # Not enough data, use some reasonable defaults\n",
    "        size_bins = [0, 100*1024, 500*1024, float('inf')]\n",
    "    \n",
    "    # Add 0 as the first bin edge if it's not there\n",
    "    if size_bins[0] > 0:\n",
    "        size_bins.insert(0, 0)\n",
    "    \n",
    "    # Add infinity as the last bin edge if it's not there\n",
    "    if size_bins[-1] != float('inf'):\n",
    "        size_bins.append(float('inf'))\n",
    "    \n",
    "    # Create labels for the bins\n",
    "    bin_labels = []\n",
    "    for i in range(len(size_bins) - 1):\n",
    "        if size_bins[i+1] == float('inf'):\n",
    "            bin_labels.append(f'>{size_bins[i]/1024:.0f}KB')\n",
    "        else:\n",
    "            bin_labels.append(f'{size_bins[i]/1024:.0f}-{size_bins[i+1]/1024:.0f}KB')\n",
    "    \n",
    "    # Process each network's data\n",
    "    binned_metrics = {}\n",
    "    \n",
    "    for network, network_metrics in metrics.items():\n",
    "        # Drop NaN values and create a copy for safe modification\n",
    "        network_metrics_filtered = network_metrics.dropna(subset=['block_total_bytes']).copy()\n",
    "        \n",
    "        # Add block size bin column using .loc to avoid SettingWithCopyWarning\n",
    "        network_metrics_filtered.loc[:, 'block_size_bin'] = pd.cut(\n",
    "            network_metrics_filtered['block_total_bytes'], \n",
    "            bins=size_bins, \n",
    "            labels=bin_labels\n",
    "        )\n",
    "        \n",
    "        # Group by block size bin with observed=True to avoid FutureWarning\n",
    "        binned = network_metrics_filtered.groupby('block_size_bin', observed=True).agg({\n",
    "            metric: ['mean', 'std', 'count']\n",
    "        }).reset_index()\n",
    "        \n",
    "        binned.columns = ['block_size_bin', 'mean', 'std', 'count']\n",
    "        binned_metrics[network] = binned\n",
    "    \n",
    "    # Create figure\n",
    "    fig = make_subplots(rows=1, cols=1)\n",
    "    \n",
    "    # Colors for each network\n",
    "    colors = {'devnet-5': 'green', 'devnet-6': 'blue', 'devnet-7': 'red'}\n",
    "    \n",
    "    # Create display labels for networks\n",
    "    network_labels = {network: config[\"networks\"][network][\"label\"] for network in metrics.keys()}\n",
    "    \n",
    "    # Add bars for each network\n",
    "    for network, binned in binned_metrics.items():\n",
    "        fig.add_trace(\n",
    "            go.Bar(\n",
    "                x=binned['block_size_bin'],\n",
    "                y=binned['mean'],\n",
    "                name=f'{network_labels[network]} ({config[\"networks\"][network][\"network\"]})',\n",
    "                error_y=dict(type='data', array=binned['std'], visible=True),\n",
    "                marker_color=colors[network],\n",
    "                text=binned['count'],\n",
    "                hovertemplate='Block Size: %{x}<br>Arrival Time: %{y:.1f}ms<br>Sample Size: %{text}'\n",
    "            )\n",
    "        )\n",
    "    \n",
    "    # Update layout\n",
    "    fig.update_layout(\n",
    "        title=f\"Effect of Block Size on {metric.replace('_arrival_time', '').title()} Arrival Time Across Networks\",\n",
    "        xaxis_title=\"Block Size\",\n",
    "        yaxis_title=\"Arrival Time (ms)\",\n",
    "        legend=dict(x=0.01, y=0.99, bgcolor='rgba(255,255,255,0.8)'),\n",
    "        barmode='group',\n",
    "        height=600,\n",
    "        width=1000,\n",
    "        plot_bgcolor='white'\n",
    "    )\n",
    "    \n",
    "    return fig\n",
    "\n",
    "# Create binned analysis for different metrics\n",
    "for metric in ['min_arrival_time', 'p50_arrival_time', 'p95_arrival_time']:\n",
    "    fig = create_multi_network_block_size_bin_analysis(metrics, metric)\n",
    "    fig.show()"
   ]
  },
  {
   "cell_type": "markdown",
   "metadata": {},
   "source": [
    "## Block Size vs Arrival Time Scatter Plot\n",
    "\n",
    "Let's create scatter plots to visualize how block size affects arrival times in each network."
   ]
  },
  {
   "cell_type": "code",
   "metadata": {},
   "outputs": [],
   "source": "def create_multi_network_scatter_plot(metrics, metric='p95_arrival_time'):\n    \"\"\"\n    Create a scatter plot of block size vs arrival time for multiple networks.\n    \n    Args:\n        metrics (dict): Dictionary with network keys and metrics DataFrames as values\n        metric (str): The metric to plot\n        \n    Returns:\n        plotly.graph_objects.Figure: The plotly figure\n    \"\"\"\n    # Create figure\n    fig = go.Figure()\n    \n    # Colors for each network\n    colors = {'devnet-5': 'green', 'devnet-6': 'blue', 'devnet-7': 'red'}\n    symbols = {'devnet-5': 'circle', 'devnet-6': 'square', 'devnet-7': 'diamond'}\n    \n    # Create display labels for networks\n    network_labels = {network: config[\"networks\"][network][\"label\"] for network in metrics.keys()}\n    \n    # Add scatter plot for each network\n    for network, network_metrics in metrics.items():\n        fig.add_trace(go.Scatter(\n            x=network_metrics['block_total_bytes'],\n            y=network_metrics[metric],\n            mode='markers',\n            name=f'{network_labels[network]} ({config[\"networks\"][network][\"network\"]})',\n            marker=dict(\n                color=colors[network],\n                size=8,\n                opacity=0.7,\n                symbol=symbols[network],\n                line=dict(width=1, color=colors[network])\n            ),\n            hovertemplate='Slot: %{text}<br>Block Size: %{x} bytes<br>%{yaxis.title.text}: %{y:.1f}ms',\n            text=network_metrics['slot']\n        ))\n        \n        # Add trend lines\n        if not network_metrics.empty and 'block_total_bytes' in network_metrics.columns:\n            network_metrics_filtered = network_metrics.dropna(subset=['block_total_bytes', metric])\n            if not network_metrics_filtered.empty:\n                try:\n                    x = network_metrics_filtered['block_total_bytes']\n                    y = network_metrics_filtered[metric]\n                    z = np.polyfit(x, y, 1)\n                    p = np.poly1d(z)\n                    x_range = np.linspace(x.min(), x.max(), 100)\n                    \n                    fig.add_trace(go.Scatter(\n                        x=x_range,\n                        y=p(x_range),\n                        mode='lines',\n                        name=f'{network_labels[network]} Trend',\n                        line=dict(color=colors[network], dash='dash', width=2),\n                        hoverinfo='skip'\n                    ))\n                except:\n                    # Skip trendline if there's an error\n                    pass\n    \n    # Update layout\n    fig.update_layout(\n        title=f\"Block Size vs {metric.replace('_arrival_time', '').title()} Arrival Time Across Networks\",\n        xaxis=dict(\n            title=\"Block Size (bytes)\",\n            # Use linear scale instead of log scale to avoid errors with zero/negative values\n            type='linear',\n            title_font=dict(size=14),\n            gridcolor='lightgray'\n        ),\n        yaxis=dict(\n            title=f\"{metric.replace('_arrival_time', '').title()} Arrival Time (ms)\",\n            title_font=dict(size=14),\n            gridcolor='lightgray'\n        ),\n        legend=dict(x=0.01, y=0.99, bgcolor='rgba(255,255,255,0.8)'),\n        hovermode='closest',\n        plot_bgcolor='white',\n        height=600,\n        width=1000\n    )\n    \n    return fig\n\n# Create scatter plots for different metrics\nfor metric in ['min_arrival_time', 'p50_arrival_time', 'p95_arrival_time']:\n    fig = create_multi_network_scatter_plot(metrics, metric)\n    fig.show()"
  },
  {
   "cell_type": "markdown",
   "metadata": {},
   "source": [
    "## Detailed Comparison: Block Size Impact on Arrival Times\n",
    "\n",
    "Let's create a comprehensive analysis table showing how block size affects arrival times across networks."
   ]
  },
  {
   "cell_type": "markdown",
   "metadata": {},
   "source": [
    "## Arrival Time Efficiency Analysis: Time per Block Size\n",
    "\n",
    "Let's calculate arrival time efficiency by dividing arrival time by block size (ms/byte). This shows how efficiently the network can process each byte of data."
   ]
  },
  {
   "cell_type": "code",
   "execution_count": 8,
   "metadata": {},
   "outputs": [
    {
     "name": "stdout",
     "output_type": "stream",
     "text": [
      "Efficiency metrics (ms/KB) summary:\n",
      "\n",
      "devnet-6 (nft-devnet-6):\n",
      "  min: 0.860 ± 0.341 ms/KB\n",
      "  p50: 1.024 ± 0.385 ms/KB\n",
      "  p95: 1.193 ± 0.426 ms/KB\n",
      "\n",
      "devnet-5 (nft-devnet-5):\n",
      "  min: 1.110 ± 0.577 ms/KB\n",
      "  p50: 1.245 ± 0.597 ms/KB\n",
      "  p95: 1.391 ± 0.610 ms/KB\n"
     ]
    }
   ],
   "source": [
    "# Calculate efficiency metrics (time per byte) for each network\n",
    "for network_key in config['networks'].keys():\n",
    "    # Calculate all efficiency metrics\n",
    "    metrics[network_key]['min_time_per_byte'] = metrics[network_key]['min_arrival_time'] / metrics[network_key]['block_total_bytes']\n",
    "    metrics[network_key]['p05_time_per_byte'] = metrics[network_key]['p05_arrival_time'] / metrics[network_key]['block_total_bytes']\n",
    "    metrics[network_key]['p50_time_per_byte'] = metrics[network_key]['p50_arrival_time'] / metrics[network_key]['block_total_bytes']\n",
    "    metrics[network_key]['mean_time_per_byte'] = metrics[network_key]['mean_arrival_time'] / metrics[network_key]['block_total_bytes']\n",
    "    metrics[network_key]['p95_time_per_byte'] = metrics[network_key]['p95_arrival_time'] / metrics[network_key]['block_total_bytes']\n",
    "    metrics[network_key]['max_time_per_byte'] = metrics[network_key]['max_arrival_time'] / metrics[network_key]['block_total_bytes']\n",
    "    \n",
    "    # Convert to ms/KB for better readability\n",
    "    for col in ['min_time_per_byte', 'p05_time_per_byte', 'p50_time_per_byte', \n",
    "                'mean_time_per_byte', 'p95_time_per_byte', 'max_time_per_byte']:\n",
    "        metrics[network_key][f'{col}_per_kb'] = metrics[network_key][col] * 1024\n",
    "\n",
    "# Update all_metrics with the new columns\n",
    "all_metrics = pd.concat(metrics.values(), ignore_index=True)\n",
    "\n",
    "# Basic statistics of efficiency metrics\n",
    "print(\"Efficiency metrics (ms/KB) summary:\")\n",
    "for network_key in config['networks'].keys():\n",
    "    print(f\"\\n{network_key} ({config['networks'][network_key]['network']}):\")\n",
    "    for metric in ['min_time_per_byte_per_kb', 'p50_time_per_byte_per_kb', 'p95_time_per_byte_per_kb']:\n",
    "        mean_val = metrics[network_key][metric].mean()\n",
    "        std_val = metrics[network_key][metric].std()\n",
    "        print(f\"  {metric.replace('_time_per_byte_per_kb', '')}: {mean_val:.3f} ± {std_val:.3f} ms/KB\")"
   ]
  },
  {
   "cell_type": "code",
   "execution_count": null,
   "metadata": {},
   "outputs": [],
   "source": [
    "def plot_time_per_byte_distributions(all_metrics, metrics_to_plot):\n",
    "    \"\"\"\n",
    "    Create boxplots to compare time-per-byte metrics across networks.\n",
    "    \n",
    "    Args:\n",
    "        all_metrics (DataFrame): Combined metrics for all networks\n",
    "        metrics_to_plot (list): List of metric names to plot\n",
    "    \"\"\"\n",
    "    # Set up the figure with subplots for each metric\n",
    "    fig, axes = plt.subplots(len(metrics_to_plot), 1, figsize=(14, 5 * len(metrics_to_plot)))\n",
    "    \n",
    "    # If only one metric, make axes iterable\n",
    "    if len(metrics_to_plot) == 1:\n",
    "        axes = [axes]\n",
    "    \n",
    "    # Colors for each network\n",
    "    colors = {'devnet-5': 'lightgreen', 'devnet-6': 'skyblue', 'devnet-7': 'coral'}\n",
    "    \n",
    "    # Create display labels for networks\n",
    "    network_labels = {network: config[\"networks\"][network][\"label\"] for network in all_metrics['network'].unique()}\n",
    "    \n",
    "    # Plot each metric\n",
    "    for i, metric in enumerate(metrics_to_plot):\n",
    "        # Create boxplot\n",
    "        sns.boxplot(\n",
    "            x='network', \n",
    "            y=f'{metric}_per_kb',\n",
    "            hue='network', \n",
    "            data=all_metrics,\n",
    "            palette=colors,\n",
    "            ax=axes[i],\n",
    "            showfliers=False  # Hide outliers for better visibility\n",
    "        )\n",
    "        \n",
    "        # Add individual data points\n",
    "        sns.stripplot(\n",
    "            x='network', \n",
    "            y=f'{metric}_per_kb', \n",
    "            data=all_metrics,\n",
    "            color='gray',\n",
    "            alpha=0.4,\n",
    "            jitter=True,\n",
    "            ax=axes[i]\n",
    "        )\n",
    "        \n",
    "        # Set axis labels and title\n",
    "        axes[i].set_xlabel('Network', fontsize=12)\n",
    "        axes[i].set_ylabel(f'{metric.replace(\"_time_per_byte\", \"\")} Time per KB (ms/KB)', fontsize=12)\n",
    "        axes[i].set_title(f'{metric.replace(\"_time_per_byte\", \"\").upper()} Arrival Time per KB (ms/KB)', fontsize=14)\n",
    "        \n",
    "        # Get the current x-tick positions\n",
    "        x_positions = axes[i].get_xticks()\n",
    "        \n",
    "        # Properly set x-ticks and labels\n",
    "        networks = all_metrics['network'].unique()\n",
    "        if len(x_positions) == len(networks):\n",
    "            new_labels = []\n",
    "            for network in networks:\n",
    "                if network in network_labels:\n",
    "                    new_labels.append(f'{network_labels[network]}\\n({config[\"networks\"][network][\"network\"]})')\n",
    "                else:\n",
    "                    new_labels.append(network)\n",
    "            \n",
    "            # Set both ticks and labels together\n",
    "            axes[i].set_xticks(x_positions)\n",
    "            axes[i].set_xticklabels(new_labels)\n",
    "        \n",
    "        # Add grid for readability\n",
    "        axes[i].grid(True, axis='y', alpha=0.3)\n",
    "        \n",
    "        # Add average lines for each network\n",
    "        for j, network in enumerate(networks):\n",
    "            network_data = all_metrics[all_metrics['network'] == network][f'{metric}_per_kb']\n",
    "            if not network_data.empty:\n",
    "                network_avg = network_data.mean()\n",
    "                axes[i].axhline(\n",
    "                    network_avg, \n",
    "                    color={'devnet-5': 'green', 'devnet-6': 'blue', 'devnet-7': 'red'}[network], \n",
    "                    linestyle='--', \n",
    "                    alpha=0.7,\n",
    "                    xmin=j/len(networks),\n",
    "                    xmax=(j+1)/len(networks)\n",
    "                )\n",
    "                \n",
    "                # Add text with the average value\n",
    "                axes[i].text(\n",
    "                    j, network_avg, \n",
    "                    f'Mean: {network_avg:.3f} ms/KB', \n",
    "                    ha='center', va='bottom', \n",
    "                    color={'devnet-5': 'green', 'devnet-6': 'blue', 'devnet-7': 'red'}[network], \n",
    "                    fontweight='bold'\n",
    "                )\n",
    "    \n",
    "    # Use tight_layout but without the rect parameter that can cause issues\n",
    "    plt.tight_layout()\n",
    "    return fig\n",
    "\n",
    "# Plot time-per-byte distributions\n",
    "metrics_to_plot = ['min_time_per_byte', 'p50_time_per_byte', 'p95_time_per_byte']\n",
    "fig = plot_time_per_byte_distributions(all_metrics, metrics_to_plot)\n",
    "plt.show()"
   ]
  },
  {
   "cell_type": "code",
   "metadata": {},
   "outputs": [],
   "source": "def plot_time_per_byte_by_size(metrics, metrics_to_plot):\n    \"\"\"\n    Create scatter plots of time per byte vs block size for each network.\n    \n    Args:\n        metrics (dict): Dictionary with network keys and metrics DataFrames\n        metrics_to_plot (list): List of metric names to plot\n    \"\"\"\n    # Set up the figure with subplots for each metric\n    fig, axes = plt.subplots(len(metrics_to_plot), 1, figsize=(14, 5 * len(metrics_to_plot)))\n    \n    # If only one metric, make axes iterable\n    if len(metrics_to_plot) == 1:\n        axes = [axes]\n    \n    # Colors and markers for each network\n    colors = {'devnet-5': 'green', 'devnet-6': 'blue', 'devnet-7': 'red'}\n    markers = {'devnet-5': 'o', 'devnet-6': 's', 'devnet-7': 'd'}\n    \n    # Create display labels for networks\n    network_labels = {network: config[\"networks\"][network][\"label\"] for network in metrics.keys()}\n    \n    # Plot each metric\n    for i, metric in enumerate(metrics_to_plot):\n        # Add scatter plots for each network\n        for network, network_metrics in metrics.items():\n            # Drop rows with missing data\n            df = network_metrics.dropna(subset=[f'{metric}_per_kb', 'block_total_bytes'])\n            \n            # Convert to KB for better x-axis readability\n            block_sizes_kb = df['block_total_bytes'] / 1024\n            \n            # Plot scatter with transparency\n            axes[i].scatter(\n                block_sizes_kb,\n                df[f'{metric}_per_kb'],\n                label=f'{network_labels[network]} ({config[\"networks\"][network][\"network\"]})',\n                color=colors[network],\n                marker=markers[network],\n                alpha=0.6,\n                s=40\n            )\n            \n            # Add regression line if enough points\n            if len(df) > 5:\n                # Check for positive values for potential log scale\n                has_positive_values = np.all(block_sizes_kb > 0)\n                \n                if has_positive_values:\n                    # Use log transformation for fitting with positive values\n                    x_log = np.log(block_sizes_kb)\n                    y = df[f'{metric}_per_kb']\n                    \n                    # Remove infinite values\n                    mask = np.isfinite(x_log) & np.isfinite(y)\n                    x_log, y = x_log[mask], y[mask]\n                    \n                    if len(x_log) > 5:  # Only fit if we have enough points after filtering\n                        # Fit log-transformed data\n                        z = np.polyfit(x_log, y, 1)\n                        p = np.poly1d(z)\n                        \n                        # Create points for the line\n                        x_range = np.linspace(min(x_log), max(x_log), 100)\n                        y_range = p(x_range)\n                        \n                        # Convert back from log scale for plotting\n                        axes[i].plot(\n                            np.exp(x_range),\n                            y_range,\n                            color=colors[network],\n                            linestyle='--',\n                            alpha=0.7\n                        )\n                else:\n                    # Fall back to linear regression if we have non-positive values\n                    x = block_sizes_kb\n                    y = df[f'{metric}_per_kb']\n                    \n                    # Remove infinite values\n                    mask = np.isfinite(x) & np.isfinite(y)\n                    x, y = x[mask], y[mask]\n                    \n                    if len(x) > 5:  # Only fit if we have enough points after filtering\n                        z = np.polyfit(x, y, 1)\n                        p = np.poly1d(z)\n                        \n                        # Create points for the line\n                        x_range = np.linspace(min(x), max(x), 100)\n                        y_range = p(x_range)\n                        \n                        axes[i].plot(\n                            x_range,\n                            y_range,\n                            color=colors[network],\n                            linestyle='--',\n                            alpha=0.7\n                        )\n        \n        # Set axis labels and title\n        axes[i].set_xlabel('Block Size (KB)', fontsize=12)\n        axes[i].set_ylabel(f'{metric.replace(\"_time_per_byte\", \"\")} Time per KB (ms/KB)', fontsize=12)\n        axes[i].set_title(f'{metric.replace(\"_time_per_byte\", \"\").upper()} Arrival Time per KB vs Block Size', fontsize=14)\n        \n        # Add grid and legend\n        axes[i].grid(True, alpha=0.3)\n        axes[i].legend(loc='upper right')\n        \n        # Use log scale for x-axis only if all values are positive\n        all_x_values = []\n        for network, network_metrics in metrics.items():\n            df = network_metrics.dropna(subset=['block_total_bytes'])\n            all_x_values.extend(df['block_total_bytes'].values)\n        \n        if all_x_values and all(x > 0 for x in all_x_values):\n            axes[i].set_xscale('log')\n        else:\n            # Use linear scale if not all values are positive\n            axes[i].set_xscale('linear')\n    \n    plt.tight_layout()\n    return fig\n\n# Plot time-per-byte vs block size\nmetrics_to_plot = ['min_time_per_byte', 'p50_time_per_byte', 'p95_time_per_byte']\nfig = plot_time_per_byte_by_size(metrics, metrics_to_plot)\nplt.show()"
  },
  {
   "cell_type": "code",
   "execution_count": 11,
   "metadata": {},
   "outputs": [
    {
     "data": {
      "application/vnd.plotly.v1+json": {
       "config": {
        "plotlyServerURL": "https://plot.ly"
       },
       "data": [
        {
         "cells": {
          "align": "center",
          "fill": {
           "color": "white"
          },
          "font": {
           "size": 11
          },
          "values": [
           [
            "0.0-528.5KB",
            "528.5-1945.7KB",
            "1945.7-3358.6KB",
            "3358.6-4588.8KB",
            "4588.8-4945.8KB"
           ],
           [
            "0",
            "48",
            "102",
            "97",
            "54"
           ],
           [
            "1",
            "101",
            "48",
            "53",
            "96"
           ],
           [
            "N/A",
            "1525.8",
            "2667.0",
            "4014.8",
            "4787.4"
           ],
           [
            "528.5",
            "1523.2",
            "2387.7",
            "4311.8",
            "4778.6"
           ],
           [
            "N/A",
            "1.513",
            "0.918",
            "0.644",
            "0.559"
           ],
           [
            "4.382",
            "1.702",
            "1.136",
            "0.728",
            "0.650"
           ],
           [
            "N/A",
            "1.750",
            "1.092",
            "0.783",
            "0.681"
           ],
           [
            "4.615",
            "1.850",
            "1.286",
            "0.847",
            "0.772"
           ],
           [
            "N/A",
            "2.004",
            "1.272",
            "0.918",
            "0.817"
           ],
           [
            "4.832",
            "1.997",
            "1.441",
            "1.002",
            "0.907"
           ]
          ]
         },
         "header": {
          "align": "center",
          "fill": {
           "color": "paleturquoise"
          },
          "font": {
           "size": 12
          },
          "values": [
           "Block Size Range",
           "baseline Count",
           "rlnc Count",
           "baseline Avg Size (KB)",
           "rlnc Avg Size (KB)",
           "baseline min (ms/KB)",
           "rlnc min (ms/KB)",
           "baseline p50 (ms/KB)",
           "rlnc p50 (ms/KB)",
           "baseline p95 (ms/KB)",
           "rlnc p95 (ms/KB)"
          ]
         },
         "type": "table"
        }
       ],
       "layout": {
        "height": 400,
        "template": {
         "data": {
          "bar": [
           {
            "error_x": {
             "color": "#2a3f5f"
            },
            "error_y": {
             "color": "#2a3f5f"
            },
            "marker": {
             "line": {
              "color": "#E5ECF6",
              "width": 0.5
             },
             "pattern": {
              "fillmode": "overlay",
              "size": 10,
              "solidity": 0.2
             }
            },
            "type": "bar"
           }
          ],
          "barpolar": [
           {
            "marker": {
             "line": {
              "color": "#E5ECF6",
              "width": 0.5
             },
             "pattern": {
              "fillmode": "overlay",
              "size": 10,
              "solidity": 0.2
             }
            },
            "type": "barpolar"
           }
          ],
          "carpet": [
           {
            "aaxis": {
             "endlinecolor": "#2a3f5f",
             "gridcolor": "white",
             "linecolor": "white",
             "minorgridcolor": "white",
             "startlinecolor": "#2a3f5f"
            },
            "baxis": {
             "endlinecolor": "#2a3f5f",
             "gridcolor": "white",
             "linecolor": "white",
             "minorgridcolor": "white",
             "startlinecolor": "#2a3f5f"
            },
            "type": "carpet"
           }
          ],
          "choropleth": [
           {
            "colorbar": {
             "outlinewidth": 0,
             "ticks": ""
            },
            "type": "choropleth"
           }
          ],
          "contour": [
           {
            "colorbar": {
             "outlinewidth": 0,
             "ticks": ""
            },
            "colorscale": [
             [
              0,
              "#0d0887"
             ],
             [
              0.1111111111111111,
              "#46039f"
             ],
             [
              0.2222222222222222,
              "#7201a8"
             ],
             [
              0.3333333333333333,
              "#9c179e"
             ],
             [
              0.4444444444444444,
              "#bd3786"
             ],
             [
              0.5555555555555556,
              "#d8576b"
             ],
             [
              0.6666666666666666,
              "#ed7953"
             ],
             [
              0.7777777777777778,
              "#fb9f3a"
             ],
             [
              0.8888888888888888,
              "#fdca26"
             ],
             [
              1,
              "#f0f921"
             ]
            ],
            "type": "contour"
           }
          ],
          "contourcarpet": [
           {
            "colorbar": {
             "outlinewidth": 0,
             "ticks": ""
            },
            "type": "contourcarpet"
           }
          ],
          "heatmap": [
           {
            "colorbar": {
             "outlinewidth": 0,
             "ticks": ""
            },
            "colorscale": [
             [
              0,
              "#0d0887"
             ],
             [
              0.1111111111111111,
              "#46039f"
             ],
             [
              0.2222222222222222,
              "#7201a8"
             ],
             [
              0.3333333333333333,
              "#9c179e"
             ],
             [
              0.4444444444444444,
              "#bd3786"
             ],
             [
              0.5555555555555556,
              "#d8576b"
             ],
             [
              0.6666666666666666,
              "#ed7953"
             ],
             [
              0.7777777777777778,
              "#fb9f3a"
             ],
             [
              0.8888888888888888,
              "#fdca26"
             ],
             [
              1,
              "#f0f921"
             ]
            ],
            "type": "heatmap"
           }
          ],
          "heatmapgl": [
           {
            "colorbar": {
             "outlinewidth": 0,
             "ticks": ""
            },
            "colorscale": [
             [
              0,
              "#0d0887"
             ],
             [
              0.1111111111111111,
              "#46039f"
             ],
             [
              0.2222222222222222,
              "#7201a8"
             ],
             [
              0.3333333333333333,
              "#9c179e"
             ],
             [
              0.4444444444444444,
              "#bd3786"
             ],
             [
              0.5555555555555556,
              "#d8576b"
             ],
             [
              0.6666666666666666,
              "#ed7953"
             ],
             [
              0.7777777777777778,
              "#fb9f3a"
             ],
             [
              0.8888888888888888,
              "#fdca26"
             ],
             [
              1,
              "#f0f921"
             ]
            ],
            "type": "heatmapgl"
           }
          ],
          "histogram": [
           {
            "marker": {
             "pattern": {
              "fillmode": "overlay",
              "size": 10,
              "solidity": 0.2
             }
            },
            "type": "histogram"
           }
          ],
          "histogram2d": [
           {
            "colorbar": {
             "outlinewidth": 0,
             "ticks": ""
            },
            "colorscale": [
             [
              0,
              "#0d0887"
             ],
             [
              0.1111111111111111,
              "#46039f"
             ],
             [
              0.2222222222222222,
              "#7201a8"
             ],
             [
              0.3333333333333333,
              "#9c179e"
             ],
             [
              0.4444444444444444,
              "#bd3786"
             ],
             [
              0.5555555555555556,
              "#d8576b"
             ],
             [
              0.6666666666666666,
              "#ed7953"
             ],
             [
              0.7777777777777778,
              "#fb9f3a"
             ],
             [
              0.8888888888888888,
              "#fdca26"
             ],
             [
              1,
              "#f0f921"
             ]
            ],
            "type": "histogram2d"
           }
          ],
          "histogram2dcontour": [
           {
            "colorbar": {
             "outlinewidth": 0,
             "ticks": ""
            },
            "colorscale": [
             [
              0,
              "#0d0887"
             ],
             [
              0.1111111111111111,
              "#46039f"
             ],
             [
              0.2222222222222222,
              "#7201a8"
             ],
             [
              0.3333333333333333,
              "#9c179e"
             ],
             [
              0.4444444444444444,
              "#bd3786"
             ],
             [
              0.5555555555555556,
              "#d8576b"
             ],
             [
              0.6666666666666666,
              "#ed7953"
             ],
             [
              0.7777777777777778,
              "#fb9f3a"
             ],
             [
              0.8888888888888888,
              "#fdca26"
             ],
             [
              1,
              "#f0f921"
             ]
            ],
            "type": "histogram2dcontour"
           }
          ],
          "mesh3d": [
           {
            "colorbar": {
             "outlinewidth": 0,
             "ticks": ""
            },
            "type": "mesh3d"
           }
          ],
          "parcoords": [
           {
            "line": {
             "colorbar": {
              "outlinewidth": 0,
              "ticks": ""
             }
            },
            "type": "parcoords"
           }
          ],
          "pie": [
           {
            "automargin": true,
            "type": "pie"
           }
          ],
          "scatter": [
           {
            "fillpattern": {
             "fillmode": "overlay",
             "size": 10,
             "solidity": 0.2
            },
            "type": "scatter"
           }
          ],
          "scatter3d": [
           {
            "line": {
             "colorbar": {
              "outlinewidth": 0,
              "ticks": ""
             }
            },
            "marker": {
             "colorbar": {
              "outlinewidth": 0,
              "ticks": ""
             }
            },
            "type": "scatter3d"
           }
          ],
          "scattercarpet": [
           {
            "marker": {
             "colorbar": {
              "outlinewidth": 0,
              "ticks": ""
             }
            },
            "type": "scattercarpet"
           }
          ],
          "scattergeo": [
           {
            "marker": {
             "colorbar": {
              "outlinewidth": 0,
              "ticks": ""
             }
            },
            "type": "scattergeo"
           }
          ],
          "scattergl": [
           {
            "marker": {
             "colorbar": {
              "outlinewidth": 0,
              "ticks": ""
             }
            },
            "type": "scattergl"
           }
          ],
          "scattermapbox": [
           {
            "marker": {
             "colorbar": {
              "outlinewidth": 0,
              "ticks": ""
             }
            },
            "type": "scattermapbox"
           }
          ],
          "scatterpolar": [
           {
            "marker": {
             "colorbar": {
              "outlinewidth": 0,
              "ticks": ""
             }
            },
            "type": "scatterpolar"
           }
          ],
          "scatterpolargl": [
           {
            "marker": {
             "colorbar": {
              "outlinewidth": 0,
              "ticks": ""
             }
            },
            "type": "scatterpolargl"
           }
          ],
          "scatterternary": [
           {
            "marker": {
             "colorbar": {
              "outlinewidth": 0,
              "ticks": ""
             }
            },
            "type": "scatterternary"
           }
          ],
          "surface": [
           {
            "colorbar": {
             "outlinewidth": 0,
             "ticks": ""
            },
            "colorscale": [
             [
              0,
              "#0d0887"
             ],
             [
              0.1111111111111111,
              "#46039f"
             ],
             [
              0.2222222222222222,
              "#7201a8"
             ],
             [
              0.3333333333333333,
              "#9c179e"
             ],
             [
              0.4444444444444444,
              "#bd3786"
             ],
             [
              0.5555555555555556,
              "#d8576b"
             ],
             [
              0.6666666666666666,
              "#ed7953"
             ],
             [
              0.7777777777777778,
              "#fb9f3a"
             ],
             [
              0.8888888888888888,
              "#fdca26"
             ],
             [
              1,
              "#f0f921"
             ]
            ],
            "type": "surface"
           }
          ],
          "table": [
           {
            "cells": {
             "fill": {
              "color": "#EBF0F8"
             },
             "line": {
              "color": "white"
             }
            },
            "header": {
             "fill": {
              "color": "#C8D4E3"
             },
             "line": {
              "color": "white"
             }
            },
            "type": "table"
           }
          ]
         },
         "layout": {
          "annotationdefaults": {
           "arrowcolor": "#2a3f5f",
           "arrowhead": 0,
           "arrowwidth": 1
          },
          "autotypenumbers": "strict",
          "coloraxis": {
           "colorbar": {
            "outlinewidth": 0,
            "ticks": ""
           }
          },
          "colorscale": {
           "diverging": [
            [
             0,
             "#8e0152"
            ],
            [
             0.1,
             "#c51b7d"
            ],
            [
             0.2,
             "#de77ae"
            ],
            [
             0.3,
             "#f1b6da"
            ],
            [
             0.4,
             "#fde0ef"
            ],
            [
             0.5,
             "#f7f7f7"
            ],
            [
             0.6,
             "#e6f5d0"
            ],
            [
             0.7,
             "#b8e186"
            ],
            [
             0.8,
             "#7fbc41"
            ],
            [
             0.9,
             "#4d9221"
            ],
            [
             1,
             "#276419"
            ]
           ],
           "sequential": [
            [
             0,
             "#0d0887"
            ],
            [
             0.1111111111111111,
             "#46039f"
            ],
            [
             0.2222222222222222,
             "#7201a8"
            ],
            [
             0.3333333333333333,
             "#9c179e"
            ],
            [
             0.4444444444444444,
             "#bd3786"
            ],
            [
             0.5555555555555556,
             "#d8576b"
            ],
            [
             0.6666666666666666,
             "#ed7953"
            ],
            [
             0.7777777777777778,
             "#fb9f3a"
            ],
            [
             0.8888888888888888,
             "#fdca26"
            ],
            [
             1,
             "#f0f921"
            ]
           ],
           "sequentialminus": [
            [
             0,
             "#0d0887"
            ],
            [
             0.1111111111111111,
             "#46039f"
            ],
            [
             0.2222222222222222,
             "#7201a8"
            ],
            [
             0.3333333333333333,
             "#9c179e"
            ],
            [
             0.4444444444444444,
             "#bd3786"
            ],
            [
             0.5555555555555556,
             "#d8576b"
            ],
            [
             0.6666666666666666,
             "#ed7953"
            ],
            [
             0.7777777777777778,
             "#fb9f3a"
            ],
            [
             0.8888888888888888,
             "#fdca26"
            ],
            [
             1,
             "#f0f921"
            ]
           ]
          },
          "colorway": [
           "#636efa",
           "#EF553B",
           "#00cc96",
           "#ab63fa",
           "#FFA15A",
           "#19d3f3",
           "#FF6692",
           "#B6E880",
           "#FF97FF",
           "#FECB52"
          ],
          "font": {
           "color": "#2a3f5f"
          },
          "geo": {
           "bgcolor": "white",
           "lakecolor": "white",
           "landcolor": "#E5ECF6",
           "showlakes": true,
           "showland": true,
           "subunitcolor": "white"
          },
          "hoverlabel": {
           "align": "left"
          },
          "hovermode": "closest",
          "mapbox": {
           "style": "light"
          },
          "paper_bgcolor": "white",
          "plot_bgcolor": "#E5ECF6",
          "polar": {
           "angularaxis": {
            "gridcolor": "white",
            "linecolor": "white",
            "ticks": ""
           },
           "bgcolor": "#E5ECF6",
           "radialaxis": {
            "gridcolor": "white",
            "linecolor": "white",
            "ticks": ""
           }
          },
          "scene": {
           "xaxis": {
            "backgroundcolor": "#E5ECF6",
            "gridcolor": "white",
            "gridwidth": 2,
            "linecolor": "white",
            "showbackground": true,
            "ticks": "",
            "zerolinecolor": "white"
           },
           "yaxis": {
            "backgroundcolor": "#E5ECF6",
            "gridcolor": "white",
            "gridwidth": 2,
            "linecolor": "white",
            "showbackground": true,
            "ticks": "",
            "zerolinecolor": "white"
           },
           "zaxis": {
            "backgroundcolor": "#E5ECF6",
            "gridcolor": "white",
            "gridwidth": 2,
            "linecolor": "white",
            "showbackground": true,
            "ticks": "",
            "zerolinecolor": "white"
           }
          },
          "shapedefaults": {
           "line": {
            "color": "#2a3f5f"
           }
          },
          "ternary": {
           "aaxis": {
            "gridcolor": "white",
            "linecolor": "white",
            "ticks": ""
           },
           "baxis": {
            "gridcolor": "white",
            "linecolor": "white",
            "ticks": ""
           },
           "bgcolor": "#E5ECF6",
           "caxis": {
            "gridcolor": "white",
            "linecolor": "white",
            "ticks": ""
           }
          },
          "title": {
           "x": 0.05
          },
          "xaxis": {
           "automargin": true,
           "gridcolor": "white",
           "linecolor": "white",
           "ticks": "",
           "title": {
            "standoff": 15
           },
           "zerolinecolor": "white",
           "zerolinewidth": 2
          },
          "yaxis": {
           "automargin": true,
           "gridcolor": "white",
           "linecolor": "white",
           "ticks": "",
           "title": {
            "standoff": 15
           },
           "zerolinecolor": "white",
           "zerolinewidth": 2
          }
         }
        },
        "title": {
         "text": "Block Processing Efficiency (Time per Size) by Block Size Range"
        },
        "width": 1200
       }
      }
     },
     "metadata": {},
     "output_type": "display_data"
    }
   ],
   "source": [
    "def create_efficiency_metrics_table(metrics, metrics_to_show):\n",
    "    \"\"\"\n",
    "    Create a table showing efficiency metrics by block size bins.\n",
    "    \n",
    "    Args:\n",
    "        metrics (dict): Dictionary with network keys and metrics DataFrames\n",
    "        metrics_to_show (list): List of metrics to include in the table\n",
    "    \"\"\"\n",
    "    # Collect all block sizes to determine appropriate bins\n",
    "    all_block_sizes = []\n",
    "    for network, network_metrics in metrics.items():\n",
    "        valid_sizes = network_metrics['block_total_bytes'].dropna().values\n",
    "        all_block_sizes.extend(valid_sizes)\n",
    "    \n",
    "    # Determine bin edges using quantiles\n",
    "    if len(all_block_sizes) > 10:\n",
    "        # Use quartiles for simplicity (4 bins)\n",
    "        quartiles = np.percentile(all_block_sizes, [0, 25, 50, 75, 100])\n",
    "        size_bins = [0] + [q for q in quartiles if q > 0]\n",
    "        size_bins = sorted(list(set(size_bins)))  # Remove duplicates and ensure sorted\n",
    "        \n",
    "        # If we have very small ranges, use reasonable defaults\n",
    "        if len(size_bins) < 3:\n",
    "            size_bins = [0, np.median(all_block_sizes), max(all_block_sizes) * 1.1]\n",
    "    else:\n",
    "        # Not enough data, use some reasonable defaults\n",
    "        size_bins = [0, np.median(all_block_sizes), float('inf')]\n",
    "    \n",
    "    # Add infinity as the last bin edge if it's not there\n",
    "    if size_bins[-1] != float('inf'):\n",
    "        size_bins.append(float('inf'))\n",
    "    \n",
    "    # Create labels for the bins\n",
    "    bin_labels = []\n",
    "    for i in range(len(size_bins) - 1):\n",
    "        if size_bins[i+1] == float('inf'):\n",
    "            bin_labels.append(f'>{size_bins[i]/1024:.1f}KB')\n",
    "        else:\n",
    "            bin_labels.append(f'{size_bins[i]/1024:.1f}-{size_bins[i+1]/1024:.1f}KB')\n",
    "    \n",
    "    # Process each network's data\n",
    "    network_binned_data = {}\n",
    "    \n",
    "    for network, network_metrics in metrics.items():\n",
    "        # Drop NaN values and create a copy for safe modification\n",
    "        network_metrics_filtered = network_metrics.dropna(subset=['block_total_bytes']).copy()\n",
    "        \n",
    "        # Add block size bin column using .loc to avoid SettingWithCopyWarning\n",
    "        network_metrics_filtered.loc[:, 'block_size_bin'] = pd.cut(\n",
    "            network_metrics_filtered['block_total_bytes'], \n",
    "            bins=size_bins, \n",
    "            labels=bin_labels\n",
    "        )\n",
    "        \n",
    "        # Select columns to aggregate\n",
    "        cols_to_agg = [f'{metric}_per_kb' for metric in metrics_to_show] + ['block_total_bytes']\n",
    "        \n",
    "        # Group by block size bin and aggregate with observed=True\n",
    "        agg_dict = {col: 'mean' for col in cols_to_agg}\n",
    "        agg_dict['block_total_bytes'] = ['mean', 'count']\n",
    "        \n",
    "        binned = network_metrics_filtered.groupby('block_size_bin', observed=True).agg(agg_dict)\n",
    "        binned.columns = ['_'.join(col).strip() for col in binned.columns.values]\n",
    "        binned = binned.reset_index()\n",
    "        \n",
    "        # Rename columns for clarity\n",
    "        binned = binned.rename(columns={'block_total_bytes_mean': f'{network}_avg_size', \n",
    "                                       'block_total_bytes_count': f'{network}_count'})\n",
    "        \n",
    "        for metric in metrics_to_show:\n",
    "            binned = binned.rename(columns={f'{metric}_per_kb_mean': f'{network}_{metric}'})\n",
    "            \n",
    "        network_binned_data[network] = binned\n",
    "    \n",
    "    # Merge all networks' data\n",
    "    network_keys = list(metrics.keys())\n",
    "    if network_keys:\n",
    "        merged_data = network_binned_data[network_keys[0]].copy()\n",
    "        \n",
    "        for i in range(1, len(network_keys)):\n",
    "            merged_data = pd.merge(merged_data, network_binned_data[network_keys[i]], \n",
    "                                  on='block_size_bin', how='outer')\n",
    "    else:\n",
    "        # Handle empty metrics case\n",
    "        return go.Figure()\n",
    "    \n",
    "    # Create display labels for networks\n",
    "    network_labels = {network: config[\"networks\"][network][\"label\"] for network in metrics.keys()}\n",
    "    \n",
    "    # Prepare data for the table\n",
    "    table_data = [\n",
    "        ['Block Size Range'] + \n",
    "        [f'{network_labels[network]} Count' for network in network_keys] +\n",
    "        [f'{network_labels[network]} Avg Size (KB)' for network in network_keys]\n",
    "    ]\n",
    "    \n",
    "    # Add headings for each metric\n",
    "    for metric in metrics_to_show:\n",
    "        table_data[0].extend([f'{network_labels[network]} {metric.replace(\"_time_per_byte\", \"\")} (ms/KB)' for network in network_keys])\n",
    "    \n",
    "    # Fill in the data\n",
    "    for _, row in merged_data.iterrows():\n",
    "        table_row = [row['block_size_bin']]\n",
    "        \n",
    "        # Add counts for each network\n",
    "        for network in network_keys:\n",
    "            count_col = f'{network}_count'\n",
    "            if count_col in row and not pd.isna(row[count_col]):\n",
    "                table_row.append(f\"{int(row[count_col])}\")\n",
    "            else:\n",
    "                table_row.append('0')\n",
    "        \n",
    "        # Add average sizes for each network (converted to KB)\n",
    "        for network in network_keys:\n",
    "            size_col = f'{network}_avg_size'\n",
    "            if size_col in row and not pd.isna(row[size_col]):\n",
    "                table_row.append(f\"{row[size_col]/1024:.1f}\")\n",
    "            else:\n",
    "                table_row.append('N/A')\n",
    "        \n",
    "        # Add metrics for each network\n",
    "        for metric in metrics_to_show:\n",
    "            for network in network_keys:\n",
    "                metric_col = f'{network}_{metric}'\n",
    "                if metric_col in row and not pd.isna(row[metric_col]):\n",
    "                    table_row.append(f\"{row[metric_col]:.3f}\")\n",
    "                else:\n",
    "                    table_row.append('N/A')\n",
    "        \n",
    "        table_data.append(table_row)\n",
    "    \n",
    "    # Create table figure\n",
    "    table_fig = go.Figure(data=[go.Table(\n",
    "        header=dict(\n",
    "            values=table_data[0],\n",
    "            fill_color='paleturquoise',\n",
    "            align='center',\n",
    "            font=dict(size=12)\n",
    "        ),\n",
    "        cells=dict(\n",
    "            values=[[row[i] for row in table_data[1:]] for i in range(len(table_data[0]))],\n",
    "            fill_color='white',\n",
    "            align='center',\n",
    "            font=dict(size=11)\n",
    "        )\n",
    "    )])\n",
    "    \n",
    "    table_fig.update_layout(\n",
    "        title=\"Block Processing Efficiency (Time per Size) by Block Size Range\",\n",
    "        height=400,\n",
    "        width=1200\n",
    "    )\n",
    "    \n",
    "    return table_fig\n",
    "\n",
    "# Create efficiency metrics table\n",
    "metrics_to_show = ['min_time_per_byte', 'p50_time_per_byte', 'p95_time_per_byte']\n",
    "fig = create_efficiency_metrics_table(metrics, metrics_to_show)\n",
    "fig.show()"
   ]
  },
  {
   "cell_type": "code",
   "execution_count": 12,
   "metadata": {},
   "outputs": [
    {
     "data": {
      "application/vnd.plotly.v1+json": {
       "config": {
        "plotlyServerURL": "https://plot.ly"
       },
       "data": [
        {
         "hovertemplate": "Slot: %{x}<br>Block Size: %{y:.1f} KB",
         "marker": {
          "color": "blue",
          "opacity": 0.5,
          "size": 6
         },
         "mode": "markers",
         "name": "baseline Raw",
         "type": "scatter",
         "x": [
          300,
          301,
          302,
          303,
          304,
          305,
          306,
          307,
          308,
          309,
          310,
          311,
          312,
          313,
          314,
          315,
          316,
          317,
          318,
          319,
          320,
          321,
          322,
          323,
          324,
          325,
          326,
          327,
          328,
          329,
          330,
          331,
          332,
          333,
          334,
          335,
          336,
          337,
          338,
          339,
          340,
          341,
          342,
          343,
          344,
          345,
          346,
          347,
          348,
          349,
          350,
          351,
          352,
          353,
          354,
          355,
          356,
          357,
          358,
          359,
          360,
          361,
          362,
          363,
          364,
          365,
          366,
          367,
          368,
          369,
          370,
          371,
          372,
          373,
          374,
          375,
          376,
          377,
          378,
          379,
          380,
          381,
          382,
          383,
          384,
          385,
          386,
          387,
          388,
          389,
          390,
          391,
          392,
          393,
          394,
          395,
          396,
          397,
          398,
          399,
          400,
          401,
          402,
          403,
          404,
          405,
          406,
          407,
          408,
          409,
          410,
          411,
          412,
          413,
          414,
          415,
          416,
          417,
          418,
          419,
          420,
          421,
          422,
          423,
          424,
          425,
          426,
          427,
          428,
          429,
          430,
          431,
          432,
          433,
          434,
          435,
          436,
          437,
          438,
          439,
          440,
          441,
          442,
          443,
          444,
          445,
          446,
          447,
          448,
          449,
          450,
          451,
          452,
          453,
          454,
          455,
          456,
          457,
          458,
          459,
          460,
          461,
          462,
          463,
          464,
          465,
          466,
          467,
          468,
          469,
          470,
          471,
          472,
          473,
          474,
          475,
          476,
          477,
          478,
          479,
          480,
          481,
          482,
          483,
          484,
          485,
          486,
          487,
          488,
          489,
          490,
          491,
          492,
          493,
          494,
          495,
          496,
          497,
          498,
          499,
          500,
          501,
          502,
          503,
          504,
          505,
          506,
          507,
          508,
          509,
          510,
          511,
          512,
          513,
          514,
          515,
          516,
          517,
          518,
          519,
          520,
          521,
          522,
          523,
          524,
          525,
          526,
          527,
          528,
          529,
          530,
          531,
          532,
          533,
          534,
          535,
          536,
          537,
          538,
          539,
          540,
          541,
          542,
          543,
          544,
          545,
          546,
          547,
          548,
          549,
          550,
          551,
          552,
          553,
          554,
          555,
          556,
          557,
          558,
          559,
          560,
          561,
          562,
          563,
          564,
          565,
          566,
          567,
          568,
          569,
          570,
          571,
          572,
          573,
          574,
          575,
          576,
          577,
          578,
          579,
          580,
          581,
          582,
          583,
          584,
          585,
          586,
          587,
          588,
          589,
          590,
          591,
          592,
          593,
          594,
          595,
          596,
          597,
          598,
          599,
          600
         ],
         "y": [
          3238.14453125,
          2991.306640625,
          3629.34765625,
          3529.466796875,
          2745.619140625,
          4167.5068359375,
          2947.10546875,
          3458.1376953125,
          3433.314453125,
          2819.5263671875,
          3701.533203125,
          2773.892578125,
          3803.1376953125,
          3334.0068359375,
          3187.6259765625,
          3775.44140625,
          2302.4638671875,
          4387.5068359375,
          2997.623046875,
          3407.626953125,
          3750.037109375,
          2671.42578125,
          4169.5166015625,
          3019.2919921875,
          3557.4521484375,
          3604.5185546875,
          2841.7705078125,
          4020.552734375,
          2184.3564453125,
          4390.376953125,
          2746.4794921875,
          3774.5791015625,
          3529.7529296875,
          2646.025390625,
          4167.79296875,
          2158.9541015625,
          4757.6123046875,
          2482.857421875,
          3803.7109375,
          3506.0732421875,
          2965.9072265625,
          3652.7392578125,
          3724.923828125,
          2743.8974609375,
          4338.9990234375,
          2081.6025390625,
          4904.283203125,
          1004.7138671875,
          4855.2021484375,
          1160.8544921875,
          4781.869140625,
          1731.0146484375,
          4931.9814453125,
          1723.265625,
          4783.5908203125,
          2000.95703125,
          4519.3916015625,
          1817.693359375,
          4905.142578125,
          1504.7021484375,
          4612.958984375,
          1552.9189453125,
          4687.7265625,
          2802.740234375,
          3705.837890625,
          3162.7998046875,
          2993.890625,
          3602.509765625,
          3725.212890625,
          2720.7939453125,
          4364.4013671875,
          1891.0244140625,
          4807.2705078125,
          1402.8095703125,
          4588.7060546875,
          1506.4248046875,
          4588.98828125,
          2539.1162109375,
          3951.814453125,
          3070.95703125,
          3189.349609375,
          3875.896484375,
          2281.94140625,
          4363.5390625,
          2402.0595703125,
          4268.2490234375,
          3001.640625,
          4269.109375,
          2234.8720703125,
          4733.9345703125,
          1846.5390625,
          4686.00390625,
          1475.853515625,
          4884.9111328125,
          1087.80859375,
          4741.1123046875,
          2383.8349609375,
          3873.314453125,
          2923.4306640625,
          4392.673828125,
          2186.654296875,
          4881.46484375,
          1725.5625,
          4711.4072265625,
          1622.5185546875,
          4587.84375,
          1572.5791015625,
          4759.9130859375,
          1332.0595703125,
          4785.02734375,
          1154.5380859375,
          4834.681640625,
          1534.6962890625,
          4390.9521484375,
          2704.865234375,
          4683.9931640625,
          1893.3232421875,
          4933.4150390625,
          1731.017578125,
          4516.232421875,
          1361.4814453125,
          4935.1357421875,
          1138.03515625,
          4619.5615234375,
          2409.8125,
          4053.7041015625,
          2932.0419921875,
          4100.490234375,
          2725.9599609375,
          4390.9501953125,
          2044.294921875,
          4663.185546875,
          1501.8310546875,
          4759.0517578125,
          1476.1416015625,
          4663.1865234375,
          1677.91796875,
          4514.7998046875,
          1596.83203125,
          4807.2666015625,
          2484.8681640625,
          4121.5849609375,
          3023.59765625,
          3311.7646484375,
          3556.8759765625,
          2597.232421875,
          4243.13671875,
          2010.85546875,
          4541.34765625,
          2405.79296875,
          4930.830078125,
          2050.0361328125,
          4565.8876953125,
          1975.267578125,
          4888.3544921875,
          1655.673828125,
          4787.8955078125,
          1452.17578125,
          4760.4853515625,
          1505.2763671875,
          4563.8798828125,
          1505.5625,
          4540.4892578125,
          2698.26171875,
          3849.0576171875,
          3088.03125,
          4264.8037109375,
          2449.9921875,
          4878.8818359375,
          1697.0009765625,
          4905.4306640625,
          1411.9951171875,
          4785.6015625,
          1875.673828125,
          4586.982421875,
          1354.876953125,
          4880.314453125,
          2361.59375,
          3827.388671875,
          2919.4091796875,
          3556.015625,
          3358.8330078125,
          3756.9296875,
          2795.84765625,
          3996.8740234375,
          2162.9765625,
          4513.7255859375,
          2776.873046875,
          3732.2490234375,
          3290.5107421875,
          2769.6962890625,
          3926.85546875,
          2057.4326171875,
          4658.2021484375,
          1232.5126953125,
          4684.1796875,
          2552.8447265625,
          3824.958984375,
          3308.447265625,
          3211.4326171875,
          3677.1376953125,
          2547.677734375,
          4044.390625,
          3259.65234375,
          3284.76953125,
          3554.431640625,
          2694.9228515625,
          4266.12109375,
          2135.361328125,
          4832.5751953125,
          2431.2890625,
          4120.8857421875,
          3385.8046875,
          2923.2568359375,
          4097.7802734375,
          2333.4130859375,
          4392.560546875,
          2823.369140625,
          3732.2509765625,
          3362.6982421875,
          2868.4345703125,
          4168.24609375,
          1966.4462890625,
          4787.2255859375,
          1510.2158203125,
          4321.5224609375,
          3117.8642578125,
          3290.51171875,
          3556.1552734375,
          2648.138671875,
          4292.6708984375,
          2626.4658203125,
          4221.0595703125,
          3164.0732421875,
          3287.06640625,
          3873.4677734375,
          2302.5546875,
          4485.84375,
          2873.0283203125,
          3727.3681640625,
          3358.3935546875,
          2744.5810546875,
          3898.0078125,
          2083.40625,
          4805.1650390625,
          1969.029296875,
          4346.0615234375,
          2683.8759765625,
          4712.455078125,
          2161.9130859375,
          4270.7138671875,
          2068.052734375,
          4934.185546875,
          1163.76953125,
          4759.52734375,
          1206.5361328125,
          4440.494140625,
          1608.37890625,
          4419.3974609375,
          2531.462890625,
          4661.36328125,
          2092.5966796875,
          4664.5205078125,
          1550.3974609375,
          4736.421875,
          1505.6220703125,
          4687.6240234375,
          2778.5947265625,
          3584.716796875,
          3753.056640625,
          2549.6875,
          4192.4990234375,
          3043.0927734375,
          3090.7353515625,
          3531.9013671875,
          3973.6416015625,
          2505.4873046875,
          4245.0283203125,
          2819.6376953125,
          3580.12109375,
          3261.0888671875,
          3972.4912109375,
          2401.8671875,
          4829.9892578125,
          1358.0888671875,
          4734.984375,
          1679.1318359375,
          4367.15625,
          2197.36328125,
          4933.0361328125,
          1234.2353515625,
          4932.75,
          1851.2060546875,
          4392.845703125,
          1913.056640625,
          4813.2021484375,
          2098.3369140625,
          4832.57421875,
          1944.4892578125,
          4517.5634765625,
          2117.7119140625
         ]
        },
        {
         "hovertemplate": "Slot: %{x}<br>Avg Block Size: %{y:.1f} KB",
         "line": {
          "color": "blue",
          "width": 2
         },
         "mode": "lines",
         "name": "baseline 16-Slot MA",
         "type": "scatter",
         "x": [
          300,
          301,
          302,
          303,
          304,
          305,
          306,
          307,
          308,
          309,
          310,
          311,
          312,
          313,
          314,
          315,
          316,
          317,
          318,
          319,
          320,
          321,
          322,
          323,
          324,
          325,
          326,
          327,
          328,
          329,
          330,
          331,
          332,
          333,
          334,
          335,
          336,
          337,
          338,
          339,
          340,
          341,
          342,
          343,
          344,
          345,
          346,
          347,
          348,
          349,
          350,
          351,
          352,
          353,
          354,
          355,
          356,
          357,
          358,
          359,
          360,
          361,
          362,
          363,
          364,
          365,
          366,
          367,
          368,
          369,
          370,
          371,
          372,
          373,
          374,
          375,
          376,
          377,
          378,
          379,
          380,
          381,
          382,
          383,
          384,
          385,
          386,
          387,
          388,
          389,
          390,
          391,
          392,
          393,
          394,
          395,
          396,
          397,
          398,
          399,
          400,
          401,
          402,
          403,
          404,
          405,
          406,
          407,
          408,
          409,
          410,
          411,
          412,
          413,
          414,
          415,
          416,
          417,
          418,
          419,
          420,
          421,
          422,
          423,
          424,
          425,
          426,
          427,
          428,
          429,
          430,
          431,
          432,
          433,
          434,
          435,
          436,
          437,
          438,
          439,
          440,
          441,
          442,
          443,
          444,
          445,
          446,
          447,
          448,
          449,
          450,
          451,
          452,
          453,
          454,
          455,
          456,
          457,
          458,
          459,
          460,
          461,
          462,
          463,
          464,
          465,
          466,
          467,
          468,
          469,
          470,
          471,
          472,
          473,
          474,
          475,
          476,
          477,
          478,
          479,
          480,
          481,
          482,
          483,
          484,
          485,
          486,
          487,
          488,
          489,
          490,
          491,
          492,
          493,
          494,
          495,
          496,
          497,
          498,
          499,
          500,
          501,
          502,
          503,
          504,
          505,
          506,
          507,
          508,
          509,
          510,
          511,
          512,
          513,
          514,
          515,
          516,
          517,
          518,
          519,
          520,
          521,
          522,
          523,
          524,
          525,
          526,
          527,
          528,
          529,
          530,
          531,
          532,
          533,
          534,
          535,
          536,
          537,
          538,
          539,
          540,
          541,
          542,
          543,
          544,
          545,
          546,
          547,
          548,
          549,
          550,
          551,
          552,
          553,
          554,
          555,
          556,
          557,
          558,
          559,
          560,
          561,
          562,
          563,
          564,
          565,
          566,
          567,
          568,
          569,
          570,
          571,
          572,
          573,
          574,
          575,
          576,
          577,
          578,
          579,
          580,
          581,
          582,
          583,
          584,
          585,
          586,
          587,
          588,
          589,
          590,
          591,
          592,
          593,
          594,
          595,
          596,
          597,
          598,
          599,
          600
         ],
         "y": [
          null,
          null,
          null,
          null,
          null,
          null,
          null,
          null,
          null,
          null,
          null,
          null,
          null,
          null,
          null,
          3345.944580078125,
          3287.4645385742188,
          3374.72705078125,
          3335.2442626953125,
          3327.6292724609375,
          3390.4053955078125,
          3296.9003295898438,
          3373.301025390625,
          3345.8731689453125,
          3353.6317749023438,
          3402.6937866210938,
          3348.9586181640625,
          3426.8748779296875,
          3325.7010498046875,
          3391.7241821289062,
          3364.1525268554688,
          3364.0986328125,
          3440.80419921875,
          3331.9616088867188,
          3405.0972290039062,
          3327.05517578125,
          3390.0286254882812,
          3378.2431030273438,
          3355.3802490234375,
          3385.8040771484375,
          3348.83251953125,
          3351.8463134765625,
          3407.0433959960938,
          3327.25244140625,
          3461.9176025390625,
          3317.6192016601562,
          3452.48193359375,
          3279.3653564453125,
          3362.2059326171875,
          3269.3827514648438,
          3307.7625122070312,
          3281.0162963867188,
          3291.9143676757812,
          3244.4398803710938,
          3305.682373046875,
          3211.6126098632812,
          3308.7053833007812,
          3194.0150146484375,
          3267.7786865234375,
          3190.3289794921875,
          3207.4514770507812,
          3174.4087524414062,
          3160.8739624023438,
          3273.2506103515625,
          3201.4153442382812,
          3326.5369262695312,
          3214.7882690429688,
          3331.7567138671875,
          3256.3336791992188,
          3318.67919921875,
          3292.4798583984375,
          3285.6090698242188,
          3303.6015014648438,
          3277.6712646484375,
          3257.8939819335938,
          3258.0016479492188,
          3256.5034790039062,
          3318.1408081054688,
          3272.1463012695312,
          3288.9098510742188,
          3256.6293334960938,
          3301.1978759765625,
          3256.7010498046875,
          3304.265380859375,
          3221.5682983398438,
          3318.2842407226562,
          3233.1116943359375,
          3381.7420043945312,
          3220.9671020507812,
          3429.1624145507812,
          3257.7769775390625,
          3456.5006713867188,
          3261.9297485351562,
          3408.5419311523438,
          3229.5415649414062,
          3333.92626953125,
          3283.5816040039062,
          3283.4202270507812,
          3323.5133056640625,
          3325.334228515625,
          3311.8713989257812,
          3350.1973876953125,
          3270.4425048828125,
          3298.0861206054688,
          3259.8140258789062,
          3250.683349609375,
          3233.5608520507812,
          3238.18017578125,
          3229.1930541992188,
          3222.9503173828125,
          3227.1209106445312,
          3232.968994140625,
          3179.8978271484375,
          3212.2501831054688,
          3198.58984375,
          3216.7973022460938,
          3198.464111328125,
          3201.7109985351562,
          3202.0519409179688,
          3189.853515625,
          3173.5386962890625,
          3195.2444458007812,
          3168.08544921875,
          3159.3134765625,
          3226.6730346679688,
          3180.96533203125,
          3292.059326171875,
          3246.17236328125,
          3320.6263427734375,
          3320.626220703125,
          3279.340576171875,
          3278.0401000976562,
          3253.5718383789062,
          3242.6741333007812,
          3226.744384765625,
          3235.9290161132812,
          3255.706298828125,
          3229.435302734375,
          3258.110107421875,
          3269.8416748046875,
          3274.5326538085938,
          3278.7752075195312,
          3284.4974365234375,
          3235.2020874023438,
          3287.1343383789062,
          3175.0269775390625,
          3312.45458984375,
          3146.6839599609375,
          3336.6537475585938,
          3189.5750732421875,
          3405.4931030273438,
          3242.1712036132812,
          3422.6693115234375,
          3263.9485473632812,
          3469.668701171875,
          3272.6941528320312,
          3416.6333618164062,
          3249.7952880859375,
          3358.3507690429688,
          3245.4452514648438,
          3308.3829956054688,
          3240.1536254882812,
          3258.7381591796875,
          3301.7010498046875,
          3258.4329223632812,
          3301.0728149414062,
          3259.4461669921875,
          3284.4434204101562,
          3304.0055541992188,
          3286.6138916015625,
          3287.68115234375,
          3272.4512329101562,
          3272.307861328125,
          3298.7764892578125,
          3287.9325561523438,
          3278.5325927734375,
          3298.3097534179688,
          3351.8117065429688,
          3307.242919921875,
          3321.0646362304688,
          3302.74951171875,
          3319.6746215820312,
          3287.9324951171875,
          3309.5484619140625,
          3254.4229736328125,
          3283.5464477539062,
          3259.0648803710938,
          3344.3697509765625,
          3278.5352172851562,
          3366.9625244140625,
          3253.3821411132812,
          3414.1307983398438,
          3237.70068359375,
          3381.2387084960938,
          3219.0589599609375,
          3329.3571166992188,
          3266.658935546875,
          3295.7918090820312,
          3267.7616577148438,
          3293.7357177734375,
          3273.752197265625,
          3297.7960205078125,
          3268.4625854492188,
          3298.6362915039062,
          3270.6688232421875,
          3287.1638793945312,
          3282.4905395507812,
          3303.6946411132812,
          3308.565185546875,
          3319.4635009765625,
          3394.3870239257812,
          3359.18115234375,
          3411.2411499023438,
          3354.884765625,
          3404.2180786132812,
          3349.3418579101562,
          3394.0557861328125,
          3411.2864990234375,
          3391.7777709960938,
          3398.2181396484375,
          3372.1972045898438,
          3410.5606079101562,
          3365.0308227539062,
          3397.599853515625,
          3358.5282592773438,
          3326.5874633789062,
          3369.4984130859375,
          3317.6000366210938,
          3328.2469482421875,
          3311.0520629882812,
          3323.2327270507812,
          3341.5485229492188,
          3330.8297119140625,
          3352.1237182617188,
          3324.2996826171875,
          3356.2227783203125,
          3320.8552856445312,
          3340.7051391601562,
          3397.3665161132812,
          3331.1254272460938,
          3446.6365356445312,
          3348.0776977539062,
          3396.836669921875,
          3321.392578125,
          3399.4556884765625,
          3357.0113525390625,
          3360.3482666015625,
          3363.9364013671875,
          3394.6486206054688,
          3332.0136108398438,
          3393.4915771484375,
          3280.6531372070312,
          3445.1300659179688,
          3237.5004272460938,
          3355.4066162109375,
          3197.8546142578125,
          3265.4859008789062,
          3194.4732666015625,
          3227.0601196289062,
          3255.0636596679688,
          3246.0760498046875,
          3253.7990112304688,
          3273.7026977539062,
          3202.8602905273438,
          3204.3582153320312,
          3163.3400268554688,
          3189.3969116210938,
          3233.8057861328125,
          3149.4639892578125,
          3311.29443359375,
          3173.179443359375,
          3359.8021240234375,
          3272.4645385742188,
          3365.11181640625,
          3309.643310546875,
          3399.7794799804688,
          3265.0372314453125,
          3399.564208984375,
          3284.259033203125,
          3411.1167602539062,
          3318.908447265625,
          3473.0877685546875,
          3330.2279663085938,
          3458.4401245117188,
          3319.27587890625,
          3380.6463623046875,
          3326.2366333007812,
          3337.1527099609375,
          3284.2946166992188,
          3399.4384155273438,
          3255.8342895507812,
          3315.778564453125,
          3274.885986328125,
          3284.1245727539062,
          3227.4632568359375,
          3304.5308227539062,
          3231.8588256835938,
          3285.614013671875,
          3257.0278930664062,
          3237.5012817382812,
          3284.9777221679688
         ]
        },
        {
         "hovertemplate": "Slot: %{x}<br>Block Size: %{y:.1f} KB",
         "marker": {
          "color": "green",
          "opacity": 0.5,
          "size": 6
         },
         "mode": "markers",
         "name": "rlnc Raw",
         "type": "scatter",
         "x": [
          300,
          301,
          302,
          303,
          304,
          305,
          306,
          307,
          308,
          309,
          310,
          311,
          312,
          313,
          314,
          315,
          316,
          317,
          318,
          319,
          320,
          321,
          322,
          323,
          324,
          325,
          326,
          327,
          328,
          329,
          330,
          331,
          332,
          333,
          334,
          335,
          336,
          337,
          338,
          339,
          340,
          341,
          342,
          343,
          344,
          345,
          346,
          347,
          348,
          349,
          350,
          351,
          352,
          354,
          355,
          356,
          357,
          358,
          359,
          360,
          361,
          362,
          363,
          364,
          365,
          366,
          367,
          368,
          369,
          370,
          371,
          372,
          373,
          374,
          375,
          376,
          377,
          378,
          379,
          380,
          381,
          382,
          383,
          384,
          385,
          386,
          387,
          388,
          389,
          390,
          391,
          392,
          393,
          394,
          395,
          396,
          397,
          398,
          399,
          400,
          401,
          402,
          403,
          404,
          405,
          406,
          407,
          408,
          409,
          410,
          411,
          412,
          413,
          414,
          415,
          416,
          417,
          418,
          419,
          420,
          421,
          422,
          423,
          424,
          425,
          426,
          427,
          428,
          429,
          430,
          431,
          432,
          433,
          434,
          435,
          436,
          437,
          438,
          439,
          440,
          441,
          442,
          443,
          444,
          445,
          446,
          447,
          448,
          449,
          450,
          451,
          452,
          453,
          454,
          455,
          456,
          457,
          458,
          459,
          460,
          461,
          462,
          463,
          464,
          465,
          466,
          467,
          468,
          469,
          470,
          471,
          472,
          473,
          474,
          475,
          476,
          477,
          478,
          479,
          480,
          481,
          482,
          483,
          484,
          485,
          486,
          487,
          488,
          489,
          490,
          491,
          492,
          493,
          494,
          495,
          496,
          497,
          498,
          499,
          500,
          501,
          502,
          503,
          504,
          505,
          506,
          507,
          508,
          509,
          510,
          511,
          512,
          513,
          514,
          516,
          517,
          518,
          519,
          520,
          521,
          522,
          523,
          524,
          525,
          526,
          527,
          528,
          529,
          530,
          531,
          532,
          533,
          534,
          535,
          536,
          537,
          538,
          539,
          540,
          541,
          542,
          543,
          544,
          545,
          546,
          547,
          548,
          549,
          550,
          551,
          552,
          553,
          554,
          555,
          556,
          557,
          558,
          559,
          560,
          561,
          562,
          563,
          564,
          565,
          566,
          567,
          568,
          569,
          570,
          571,
          572,
          573,
          574,
          575,
          576,
          577,
          578,
          579,
          580,
          581,
          582,
          583,
          584,
          585,
          586,
          587,
          588,
          589,
          590,
          591,
          592,
          593,
          594,
          595,
          596,
          597,
          598,
          599,
          600
         ],
         "y": [
          4396.2275390625,
          1927.26171875,
          4618.806640625,
          1632.505859375,
          4591.3935546875,
          994.7783203125,
          4934.6513671875,
          1461.01953125,
          4764.03125,
          1657.33203125,
          4834.484375,
          1802.5556640625,
          4542.0283203125,
          2163.751953125,
          4417.6123046875,
          1485.5576171875,
          4930.63671875,
          1019.31640625,
          4930.34765625,
          1559.17578125,
          4757.4248046875,
          4945.5634765625,
          4552.94140625,
          1436.48046875,
          4724.71484375,
          1706.4111328125,
          4454.78515625,
          1780.02734375,
          4700.1748046875,
          1681.8720703125,
          4577.4765625,
          1485.55859375,
          4766.6142578125,
          1411.9423828125,
          4615.0732421875,
          1458.435546875,
          4741.4951171875,
          1555.73046875,
          4663.001953125,
          1436.478515625,
          4687.2568359375,
          1338.3251953125,
          4712.08203125,
          1755.4892578125,
          4514.3330078125,
          1191.0908203125,
          4930.63671875,
          1065.5244140625,
          4708.63671875,
          1803.9931640625,
          4341.412109375,
          2221.4423828125,
          4048.9541015625,
          3497.76171875,
          872.0830078125,
          4896.4853515625,
          528.5361328125,
          4945.5654296875,
          1289.2470703125,
          4430.2470703125,
          1362.8623046875,
          4746.09375,
          2712.51171875,
          3914.92578125,
          3006.9794921875,
          3129.6767578125,
          1853.64453125,
          4279.27734375,
          1559.17578125,
          4499.3486328125,
          2442.591796875,
          3790.59375,
          3105.2216796875,
          3197.9619140625,
          3713.3056640625,
          2540.8369140625,
          4381.3408203125,
          1927.3359375,
          4449.79296875,
          1804.6376953125,
          4422.6669921875,
          1829.1767578125,
          4495.7119140625,
          2047.4521484375,
          4667.78125,
          1632.857421875,
          4724.8994140625,
          1853.7177734375,
          4356.80078125,
          2025.49609375,
          4700.3623046875,
          1142.0546875,
          4938.294921875,
          1706.474609375,
          4377.0302734375,
          2295.4375,
          4940.880859375,
          1681.9365234375,
          4642.37890625,
          1829.1767578125,
          4742.8369140625,
          1142.056640625,
          4931.4033203125,
          970.2744140625,
          4935.7138671875,
          1608.3173828125,
          4611.525390625,
          2050.0361328125,
          4809.279296875,
          2048.888671875,
          4566.4609375,
          2189.2392578125,
          4565.6025390625,
          2218.0859375,
          4759.05078125,
          1976.4169921875,
          4859.7958984375,
          2050.0380859375,
          4251.17578125,
          1166.595703125,
          4551.3974609375,
          2295.4375,
          4700.361328125,
          1485.6171875,
          4945.7607421875,
          1706.4765625,
          4646.9736328125,
          1878.2578125,
          4791.62890625,
          1927.3369140625,
          4664.6240234375,
          1902.796875,
          4811.0009765625,
          1828.0283203125,
          4615.2568359375,
          2050.0380859375,
          4858.6474609375,
          2025.4970703125,
          4442.041015625,
          2415.267578125,
          3855.0888671875,
          2849.5224609375,
          3212.4541015625,
          3536.35546875,
          2565.37890625,
          4300.25390625,
          1996.9375,
          4910.0234375,
          1264.7568359375,
          4717.7216796875,
          896.6552734375,
          4944.0400390625,
          1387.45703125,
          4749.4375,
          1804.6357421875,
          4623.001953125,
          1534.697265625,
          4724.8994140625,
          1780.09765625,
          4329.67578125,
          1976.41796875,
          4666.91796875,
          1755.5576171875,
          4491.9814453125,
          1804.6376953125,
          4788.47265625,
          921.1953125,
          4933.4130859375,
          1461.076171875,
          4686.5791015625,
          1534.697265625,
          4787.322265625,
          1607.1689453125,
          4906.5791015625,
          1461.0751953125,
          4760.486328125,
          1946.134765625,
          4244.28515625,
          2540.837890625,
          4661.177734375,
          1461.0771484375,
          4919.7822265625,
          1510.15625,
          4773.98046875,
          1927.337890625,
          4620.7099609375,
          1998.9482421875,
          4667.2080078125,
          1780.095703125,
          4520.828125,
          1657.3974609375,
          4791.9169921875,
          626.7158203125,
          4938.2958984375,
          823.03515625,
          4908.8720703125,
          724.875,
          4931.978515625,
          1681.9375,
          4365.546875,
          1893.896484375,
          4516.5205078125,
          994.8154296875,
          4931.1162109375,
          1410.2734375,
          4732.787109375,
          1411.1357421875,
          4831.51953125,
          1705.9033203125,
          4464.5693359375,
          1878.2578125,
          4707.673828125,
          994.8154296875,
          4945.76171875,
          4945.7587890625,
          1731.015625,
          4724.9013671875,
          651.255859375,
          4528.5810546875,
          1559.236328125,
          4945.7607421875,
          1731.0166015625,
          4651.279296875,
          2246.3583984375,
          3718.7607421875,
          3252.5,
          3007.0986328125,
          3743.30078125,
          2516.296875,
          4405.880859375,
          1411.99609375,
          4889.7900390625,
          1510.15625,
          4577.6611328125,
          1191.13671875,
          4937.14453125,
          1755.5576171875,
          4498.296875,
          2047.740234375,
          4636.3486328125,
          1681.9375,
          4684.2822265625,
          1848.546875,
          4686.2841796875,
          1755.556640625,
          4454.958984375,
          1485.6171875,
          4940.3056640625,
          1510.1552734375,
          4647.2568359375,
          2123.658203125,
          4275.71484375,
          2123.6552734375,
          4862.6650390625,
          1632.8564453125,
          4747.14453125,
          1240.216796875,
          4933.98828125,
          1829.1767578125,
          4640.080078125,
          2319.9775390625,
          3803.42578125,
          2982.5595703125,
          3047.2783203125,
          3685.0302734375,
          2462.623046875,
          4571.9189453125,
          1655.67578125,
          4613.0361328125,
          1166.626953125,
          4933.2236328125,
          1581.5419921875,
          4586.3017578125,
          2172.2470703125,
          4788.3740234375,
          1853.7900390625,
          4650.8896484375,
          2123.740234375,
          4649.7392578125,
          2172.822265625,
          4545.26171875,
          2270.9873046875,
          4598.0751953125,
          1387.509765625,
          4936.76953125,
          1829.248046875,
          4744.4609375,
          2246.4462890625,
          4544.400390625,
          2099.19921875,
          4599.2236328125,
          2099.2001953125,
          4563.486328125,
          1927.4130859375,
          4736.4189453125,
          1780.166015625,
          4567.79296875,
          1828.9619140625,
          4614.001953125
         ]
        },
        {
         "hovertemplate": "Slot: %{x}<br>Avg Block Size: %{y:.1f} KB",
         "line": {
          "color": "green",
          "width": 2
         },
         "mode": "lines",
         "name": "rlnc 16-Slot MA",
         "type": "scatter",
         "x": [
          300,
          301,
          302,
          303,
          304,
          305,
          306,
          307,
          308,
          309,
          310,
          311,
          312,
          313,
          314,
          315,
          316,
          317,
          318,
          319,
          320,
          321,
          322,
          323,
          324,
          325,
          326,
          327,
          328,
          329,
          330,
          331,
          332,
          333,
          334,
          335,
          336,
          337,
          338,
          339,
          340,
          341,
          342,
          343,
          344,
          345,
          346,
          347,
          348,
          349,
          350,
          351,
          352,
          354,
          355,
          356,
          357,
          358,
          359,
          360,
          361,
          362,
          363,
          364,
          365,
          366,
          367,
          368,
          369,
          370,
          371,
          372,
          373,
          374,
          375,
          376,
          377,
          378,
          379,
          380,
          381,
          382,
          383,
          384,
          385,
          386,
          387,
          388,
          389,
          390,
          391,
          392,
          393,
          394,
          395,
          396,
          397,
          398,
          399,
          400,
          401,
          402,
          403,
          404,
          405,
          406,
          407,
          408,
          409,
          410,
          411,
          412,
          413,
          414,
          415,
          416,
          417,
          418,
          419,
          420,
          421,
          422,
          423,
          424,
          425,
          426,
          427,
          428,
          429,
          430,
          431,
          432,
          433,
          434,
          435,
          436,
          437,
          438,
          439,
          440,
          441,
          442,
          443,
          444,
          445,
          446,
          447,
          448,
          449,
          450,
          451,
          452,
          453,
          454,
          455,
          456,
          457,
          458,
          459,
          460,
          461,
          462,
          463,
          464,
          465,
          466,
          467,
          468,
          469,
          470,
          471,
          472,
          473,
          474,
          475,
          476,
          477,
          478,
          479,
          480,
          481,
          482,
          483,
          484,
          485,
          486,
          487,
          488,
          489,
          490,
          491,
          492,
          493,
          494,
          495,
          496,
          497,
          498,
          499,
          500,
          501,
          502,
          503,
          504,
          505,
          506,
          507,
          508,
          509,
          510,
          511,
          512,
          513,
          514,
          516,
          517,
          518,
          519,
          520,
          521,
          522,
          523,
          524,
          525,
          526,
          527,
          528,
          529,
          530,
          531,
          532,
          533,
          534,
          535,
          536,
          537,
          538,
          539,
          540,
          541,
          542,
          543,
          544,
          545,
          546,
          547,
          548,
          549,
          550,
          551,
          552,
          553,
          554,
          555,
          556,
          557,
          558,
          559,
          560,
          561,
          562,
          563,
          564,
          565,
          566,
          567,
          568,
          569,
          570,
          571,
          572,
          573,
          574,
          575,
          576,
          577,
          578,
          579,
          580,
          581,
          582,
          583,
          584,
          585,
          586,
          587,
          588,
          589,
          590,
          591,
          592,
          593,
          594,
          595,
          596,
          597,
          598,
          599,
          600
         ],
         "y": [
          null,
          null,
          null,
          null,
          null,
          null,
          null,
          null,
          null,
          null,
          null,
          null,
          null,
          null,
          null,
          3138.9998779296875,
          3172.4004516601562,
          3115.6538696289062,
          3135.1251831054688,
          3130.5420532226562,
          3140.9190063476562,
          3387.8430786132812,
          3363.9862060546875,
          3362.4525146484375,
          3359.9952392578125,
          3363.0626831054688,
          3339.3314819335938,
          3337.9234619140625,
          3347.8076171875,
          3317.6901245117188,
          3327.681640625,
          3327.6817016601562,
          3317.4302978515625,
          3341.9694213867188,
          3322.2647705078125,
          3315.968505859375,
          3314.972900390625,
          3103.1083374023438,
          3109.9871215820312,
          3109.9869995117188,
          3107.6458740234375,
          3084.6405029296875,
          3100.7215576171875,
          3099.1879272460938,
          3087.5728149414062,
          3056.8989868164062,
          3078.9714965820312,
          3052.7193603515625,
          3049.0957641601562,
          3073.5989379882812,
          3056.4951171875,
          3104.1830444335938,
          3060.8992309570312,
          3182.2761840820312,
          2945.34375,
          3161.5941772460938,
          2901.6741333007812,
          3127.1266479492188,
          2913.199462890625,
          3080.371826171875,
          2883.4049072265625,
          3105.5925903320312,
          2966.9597778320312,
          3145.04736328125,
          3038.6937866210938,
          3121.5490112304688,
          2966.0635375976562,
          3094.67822265625,
          2939.0670776367188,
          3001.666259765625,
          3099.8230590820312,
          3030.704833984375,
          3191.7476806640625,
          3082.5224609375,
          3234.026123046875,
          3115.93798828125,
          3304.5928955078125,
          3128.4205322265625,
          3237.0006103515625,
          3105.1076049804688,
          3193.5880737304688,
          3112.3068237304688,
          3277.43603515625,
          3137.9469604492188,
          3332.2348022460938,
          3153.0791015625,
          3295.7233276367188,
          3174.6685791015625,
          3252.8922729492188,
          3179.6131591796875,
          3241.30419921875,
          3153.8803100585938,
          3188.68994140625,
          3174.8861083984375,
          3170.3384399414062,
          3201.013427734375,
          3233.4017944335938,
          3224.1992797851562,
          3233.365966796875,
          3219.7237548828125,
          3224.4147338867188,
          3193.7396850585938,
          3206.6461791992188,
          3151.4309692382812,
          3187.613037109375,
          3161.5393676757812,
          3155.987060546875,
          3212.7359008789062,
          3204.6724243164062,
          3226.0733032226562,
          3237.9127197265625,
          3231.2753295898438,
          3207.8204345703125,
          3241.3297729492188,
          3248.6217651367188,
          3257.8242797851562,
          3265.1342163085938,
          3321.883056640625,
          3279.3688354492188,
          3291.638916015625,
          3267.619140625,
          3310.5641479492188,
          3316.1163940429688,
          3280.8402099609375,
          3289.3703002929688,
          3267.9695434570312,
          3273.0015869140625,
          3253.5652465820312,
          3267.69189453125,
          3249.5200805664062,
          3243.618408203125,
          3239.0171508789062,
          3235.9674682617188,
          3222.0918579101562,
          3244.846923828125,
          3300.0620727539062,
          3319.2651977539062,
          3302.3939208984375,
          3286.2489013671875,
          3344.35205078125,
          3276.18505859375,
          3347.6254272460938,
          3257.9679565429688,
          3361.5990600585938,
          3222.4584350585938,
          3370.7657470703125,
          3204.0353393554688,
          3391.9869995117188,
          3170.3467407226562,
          3350.9525756835938,
          3118.5399780273438,
          3299.4151000976562,
          3082.4656982421875,
          3252.7119750976562,
          3087.8741455078125,
          3225.8575439453125,
          3080.8330688476562,
          3198.0441284179688,
          3108.5218505859375,
          3158.1043701171875,
          3121.2943115234375,
          3144.2108154296875,
          3129.1245727539062,
          3102.9969482421875,
          3136.739501953125,
          3141.1614379882812,
          3142.6951904296875,
          3142.031005859375,
          3146.6322021484375,
          3142.7035522460938,
          3125.8323974609375,
          3136.1024169921875,
          3140.6318969726562,
          3151.9868774414062,
          3132.0479736328125,
          3158.9736328125,
          3157.0809326171875,
          3130.6663818359375,
          3179.7463989257812,
          3190.3211669921875,
          3168.8486328125,
          3177.0554809570312,
          3213.8655395507812,
          3203.9010009765625,
          3233.0423583984375,
          3228.925537109375,
          3257.9412231445312,
          3250.43408203125,
          3261.2420043945312,
          3237.132568359375,
          3249.4027099609375,
          3251.3671264648438,
          3168.9034423828125,
          3212.2791137695312,
          3104.9164428710938,
          3120.3973388671875,
          3074.3847045898438,
          3075.14697265625,
          3085.88330078125,
          3060.356201171875,
          3058.26611328125,
          3051.7542724609375,
          2988.9959716796875,
          3005.490234375,
          2982.3763427734375,
          2995.623779296875,
          2980.232421875,
          2982.7075805664062,
          3050.1567993164062,
          3020.5488891601562,
          3086.5003051757812,
          3073.9254150390625,
          3090.7966918945312,
          3091.6581420898438,
          3295.64697265625,
          3130.98876953125,
          3307.9265747070312,
          3066.3475341796875,
          3287.2078857421875,
          3076.4653930664062,
          3297.433349609375,
          3109.8226928710938,
          3312.3316650390625,
          3150.7590942382812,
          3276.5626831054688,
          3200.808349609375,
          3271.3609008789062,
          3211.0875854492188,
          3306.18017578125,
          3272.4376220703125,
          3051.5774536132812,
          3249.0008544921875,
          3048.0792846679688,
          3293.4796142578125,
          3084.8893432617188,
          3296.0086059570312,
          3096.6209106445312,
          3269.575927734375,
          3106.854736328125,
          3256.2291259765625,
          3128.9276733398438,
          3218.4140625,
          3146.0045776367188,
          3204.9410400390625,
          3157.394775390625,
          3160.462158203125,
          3165.0634765625,
          3168.220703125,
          3168.2206420898438,
          3172.5703735351562,
          3230.8529663085938,
          3189.5136108398438,
          3212.5197143554688,
          3235.292724609375,
          3209.3624877929688,
          3216.2872314453125,
          3188.6796875,
          3204.2863159179688,
          3203.07568359375,
          3200.1879272460938,
          3235.4642333984375,
          3194.743408203125,
          3288.3023071289062,
          3169.9880981445312,
          3305.9177856445312,
          3169.378173828125,
          3322.3944702148438,
          3158.6420288085938,
          3314.2283325195312,
          3083.2259521484375,
          3289.4989013671875,
          3091.6487426757812,
          3300.779052734375,
          3128.1702270507812,
          3313.1200561523438,
          3138.9769287109375,
          3284.658935546875,
          3179.6785888671875,
          3283.8773193359375,
          3229.2238159179688,
          3282.98828125,
          3271.0110473632812,
          3272.6458129882812,
          3255.8854370117188,
          3276.1187744140625,
          3317.5325927734375,
          3305.7349243164062,
          3347.2914428710938,
          3344.672607421875,
          3340.1071166992188,
          3328.2852172851562,
          3343.6233520507812,
          3338.16064453125,
          3325.8901977539062,
          3331.3076782226562,
          3306.7666625976562,
          3308.1748657226562,
          3280.5482788085938,
          3281.543701171875
         ]
        }
       ],
       "layout": {
        "height": 600,
        "hovermode": "closest",
        "legend": {
         "bgcolor": "rgba(255,255,255,0.8)",
         "x": 0.01,
         "y": 0.99
        },
        "plot_bgcolor": "white",
        "template": {
         "data": {
          "bar": [
           {
            "error_x": {
             "color": "#2a3f5f"
            },
            "error_y": {
             "color": "#2a3f5f"
            },
            "marker": {
             "line": {
              "color": "#E5ECF6",
              "width": 0.5
             },
             "pattern": {
              "fillmode": "overlay",
              "size": 10,
              "solidity": 0.2
             }
            },
            "type": "bar"
           }
          ],
          "barpolar": [
           {
            "marker": {
             "line": {
              "color": "#E5ECF6",
              "width": 0.5
             },
             "pattern": {
              "fillmode": "overlay",
              "size": 10,
              "solidity": 0.2
             }
            },
            "type": "barpolar"
           }
          ],
          "carpet": [
           {
            "aaxis": {
             "endlinecolor": "#2a3f5f",
             "gridcolor": "white",
             "linecolor": "white",
             "minorgridcolor": "white",
             "startlinecolor": "#2a3f5f"
            },
            "baxis": {
             "endlinecolor": "#2a3f5f",
             "gridcolor": "white",
             "linecolor": "white",
             "minorgridcolor": "white",
             "startlinecolor": "#2a3f5f"
            },
            "type": "carpet"
           }
          ],
          "choropleth": [
           {
            "colorbar": {
             "outlinewidth": 0,
             "ticks": ""
            },
            "type": "choropleth"
           }
          ],
          "contour": [
           {
            "colorbar": {
             "outlinewidth": 0,
             "ticks": ""
            },
            "colorscale": [
             [
              0,
              "#0d0887"
             ],
             [
              0.1111111111111111,
              "#46039f"
             ],
             [
              0.2222222222222222,
              "#7201a8"
             ],
             [
              0.3333333333333333,
              "#9c179e"
             ],
             [
              0.4444444444444444,
              "#bd3786"
             ],
             [
              0.5555555555555556,
              "#d8576b"
             ],
             [
              0.6666666666666666,
              "#ed7953"
             ],
             [
              0.7777777777777778,
              "#fb9f3a"
             ],
             [
              0.8888888888888888,
              "#fdca26"
             ],
             [
              1,
              "#f0f921"
             ]
            ],
            "type": "contour"
           }
          ],
          "contourcarpet": [
           {
            "colorbar": {
             "outlinewidth": 0,
             "ticks": ""
            },
            "type": "contourcarpet"
           }
          ],
          "heatmap": [
           {
            "colorbar": {
             "outlinewidth": 0,
             "ticks": ""
            },
            "colorscale": [
             [
              0,
              "#0d0887"
             ],
             [
              0.1111111111111111,
              "#46039f"
             ],
             [
              0.2222222222222222,
              "#7201a8"
             ],
             [
              0.3333333333333333,
              "#9c179e"
             ],
             [
              0.4444444444444444,
              "#bd3786"
             ],
             [
              0.5555555555555556,
              "#d8576b"
             ],
             [
              0.6666666666666666,
              "#ed7953"
             ],
             [
              0.7777777777777778,
              "#fb9f3a"
             ],
             [
              0.8888888888888888,
              "#fdca26"
             ],
             [
              1,
              "#f0f921"
             ]
            ],
            "type": "heatmap"
           }
          ],
          "heatmapgl": [
           {
            "colorbar": {
             "outlinewidth": 0,
             "ticks": ""
            },
            "colorscale": [
             [
              0,
              "#0d0887"
             ],
             [
              0.1111111111111111,
              "#46039f"
             ],
             [
              0.2222222222222222,
              "#7201a8"
             ],
             [
              0.3333333333333333,
              "#9c179e"
             ],
             [
              0.4444444444444444,
              "#bd3786"
             ],
             [
              0.5555555555555556,
              "#d8576b"
             ],
             [
              0.6666666666666666,
              "#ed7953"
             ],
             [
              0.7777777777777778,
              "#fb9f3a"
             ],
             [
              0.8888888888888888,
              "#fdca26"
             ],
             [
              1,
              "#f0f921"
             ]
            ],
            "type": "heatmapgl"
           }
          ],
          "histogram": [
           {
            "marker": {
             "pattern": {
              "fillmode": "overlay",
              "size": 10,
              "solidity": 0.2
             }
            },
            "type": "histogram"
           }
          ],
          "histogram2d": [
           {
            "colorbar": {
             "outlinewidth": 0,
             "ticks": ""
            },
            "colorscale": [
             [
              0,
              "#0d0887"
             ],
             [
              0.1111111111111111,
              "#46039f"
             ],
             [
              0.2222222222222222,
              "#7201a8"
             ],
             [
              0.3333333333333333,
              "#9c179e"
             ],
             [
              0.4444444444444444,
              "#bd3786"
             ],
             [
              0.5555555555555556,
              "#d8576b"
             ],
             [
              0.6666666666666666,
              "#ed7953"
             ],
             [
              0.7777777777777778,
              "#fb9f3a"
             ],
             [
              0.8888888888888888,
              "#fdca26"
             ],
             [
              1,
              "#f0f921"
             ]
            ],
            "type": "histogram2d"
           }
          ],
          "histogram2dcontour": [
           {
            "colorbar": {
             "outlinewidth": 0,
             "ticks": ""
            },
            "colorscale": [
             [
              0,
              "#0d0887"
             ],
             [
              0.1111111111111111,
              "#46039f"
             ],
             [
              0.2222222222222222,
              "#7201a8"
             ],
             [
              0.3333333333333333,
              "#9c179e"
             ],
             [
              0.4444444444444444,
              "#bd3786"
             ],
             [
              0.5555555555555556,
              "#d8576b"
             ],
             [
              0.6666666666666666,
              "#ed7953"
             ],
             [
              0.7777777777777778,
              "#fb9f3a"
             ],
             [
              0.8888888888888888,
              "#fdca26"
             ],
             [
              1,
              "#f0f921"
             ]
            ],
            "type": "histogram2dcontour"
           }
          ],
          "mesh3d": [
           {
            "colorbar": {
             "outlinewidth": 0,
             "ticks": ""
            },
            "type": "mesh3d"
           }
          ],
          "parcoords": [
           {
            "line": {
             "colorbar": {
              "outlinewidth": 0,
              "ticks": ""
             }
            },
            "type": "parcoords"
           }
          ],
          "pie": [
           {
            "automargin": true,
            "type": "pie"
           }
          ],
          "scatter": [
           {
            "fillpattern": {
             "fillmode": "overlay",
             "size": 10,
             "solidity": 0.2
            },
            "type": "scatter"
           }
          ],
          "scatter3d": [
           {
            "line": {
             "colorbar": {
              "outlinewidth": 0,
              "ticks": ""
             }
            },
            "marker": {
             "colorbar": {
              "outlinewidth": 0,
              "ticks": ""
             }
            },
            "type": "scatter3d"
           }
          ],
          "scattercarpet": [
           {
            "marker": {
             "colorbar": {
              "outlinewidth": 0,
              "ticks": ""
             }
            },
            "type": "scattercarpet"
           }
          ],
          "scattergeo": [
           {
            "marker": {
             "colorbar": {
              "outlinewidth": 0,
              "ticks": ""
             }
            },
            "type": "scattergeo"
           }
          ],
          "scattergl": [
           {
            "marker": {
             "colorbar": {
              "outlinewidth": 0,
              "ticks": ""
             }
            },
            "type": "scattergl"
           }
          ],
          "scattermapbox": [
           {
            "marker": {
             "colorbar": {
              "outlinewidth": 0,
              "ticks": ""
             }
            },
            "type": "scattermapbox"
           }
          ],
          "scatterpolar": [
           {
            "marker": {
             "colorbar": {
              "outlinewidth": 0,
              "ticks": ""
             }
            },
            "type": "scatterpolar"
           }
          ],
          "scatterpolargl": [
           {
            "marker": {
             "colorbar": {
              "outlinewidth": 0,
              "ticks": ""
             }
            },
            "type": "scatterpolargl"
           }
          ],
          "scatterternary": [
           {
            "marker": {
             "colorbar": {
              "outlinewidth": 0,
              "ticks": ""
             }
            },
            "type": "scatterternary"
           }
          ],
          "surface": [
           {
            "colorbar": {
             "outlinewidth": 0,
             "ticks": ""
            },
            "colorscale": [
             [
              0,
              "#0d0887"
             ],
             [
              0.1111111111111111,
              "#46039f"
             ],
             [
              0.2222222222222222,
              "#7201a8"
             ],
             [
              0.3333333333333333,
              "#9c179e"
             ],
             [
              0.4444444444444444,
              "#bd3786"
             ],
             [
              0.5555555555555556,
              "#d8576b"
             ],
             [
              0.6666666666666666,
              "#ed7953"
             ],
             [
              0.7777777777777778,
              "#fb9f3a"
             ],
             [
              0.8888888888888888,
              "#fdca26"
             ],
             [
              1,
              "#f0f921"
             ]
            ],
            "type": "surface"
           }
          ],
          "table": [
           {
            "cells": {
             "fill": {
              "color": "#EBF0F8"
             },
             "line": {
              "color": "white"
             }
            },
            "header": {
             "fill": {
              "color": "#C8D4E3"
             },
             "line": {
              "color": "white"
             }
            },
            "type": "table"
           }
          ]
         },
         "layout": {
          "annotationdefaults": {
           "arrowcolor": "#2a3f5f",
           "arrowhead": 0,
           "arrowwidth": 1
          },
          "autotypenumbers": "strict",
          "coloraxis": {
           "colorbar": {
            "outlinewidth": 0,
            "ticks": ""
           }
          },
          "colorscale": {
           "diverging": [
            [
             0,
             "#8e0152"
            ],
            [
             0.1,
             "#c51b7d"
            ],
            [
             0.2,
             "#de77ae"
            ],
            [
             0.3,
             "#f1b6da"
            ],
            [
             0.4,
             "#fde0ef"
            ],
            [
             0.5,
             "#f7f7f7"
            ],
            [
             0.6,
             "#e6f5d0"
            ],
            [
             0.7,
             "#b8e186"
            ],
            [
             0.8,
             "#7fbc41"
            ],
            [
             0.9,
             "#4d9221"
            ],
            [
             1,
             "#276419"
            ]
           ],
           "sequential": [
            [
             0,
             "#0d0887"
            ],
            [
             0.1111111111111111,
             "#46039f"
            ],
            [
             0.2222222222222222,
             "#7201a8"
            ],
            [
             0.3333333333333333,
             "#9c179e"
            ],
            [
             0.4444444444444444,
             "#bd3786"
            ],
            [
             0.5555555555555556,
             "#d8576b"
            ],
            [
             0.6666666666666666,
             "#ed7953"
            ],
            [
             0.7777777777777778,
             "#fb9f3a"
            ],
            [
             0.8888888888888888,
             "#fdca26"
            ],
            [
             1,
             "#f0f921"
            ]
           ],
           "sequentialminus": [
            [
             0,
             "#0d0887"
            ],
            [
             0.1111111111111111,
             "#46039f"
            ],
            [
             0.2222222222222222,
             "#7201a8"
            ],
            [
             0.3333333333333333,
             "#9c179e"
            ],
            [
             0.4444444444444444,
             "#bd3786"
            ],
            [
             0.5555555555555556,
             "#d8576b"
            ],
            [
             0.6666666666666666,
             "#ed7953"
            ],
            [
             0.7777777777777778,
             "#fb9f3a"
            ],
            [
             0.8888888888888888,
             "#fdca26"
            ],
            [
             1,
             "#f0f921"
            ]
           ]
          },
          "colorway": [
           "#636efa",
           "#EF553B",
           "#00cc96",
           "#ab63fa",
           "#FFA15A",
           "#19d3f3",
           "#FF6692",
           "#B6E880",
           "#FF97FF",
           "#FECB52"
          ],
          "font": {
           "color": "#2a3f5f"
          },
          "geo": {
           "bgcolor": "white",
           "lakecolor": "white",
           "landcolor": "#E5ECF6",
           "showlakes": true,
           "showland": true,
           "subunitcolor": "white"
          },
          "hoverlabel": {
           "align": "left"
          },
          "hovermode": "closest",
          "mapbox": {
           "style": "light"
          },
          "paper_bgcolor": "white",
          "plot_bgcolor": "#E5ECF6",
          "polar": {
           "angularaxis": {
            "gridcolor": "white",
            "linecolor": "white",
            "ticks": ""
           },
           "bgcolor": "#E5ECF6",
           "radialaxis": {
            "gridcolor": "white",
            "linecolor": "white",
            "ticks": ""
           }
          },
          "scene": {
           "xaxis": {
            "backgroundcolor": "#E5ECF6",
            "gridcolor": "white",
            "gridwidth": 2,
            "linecolor": "white",
            "showbackground": true,
            "ticks": "",
            "zerolinecolor": "white"
           },
           "yaxis": {
            "backgroundcolor": "#E5ECF6",
            "gridcolor": "white",
            "gridwidth": 2,
            "linecolor": "white",
            "showbackground": true,
            "ticks": "",
            "zerolinecolor": "white"
           },
           "zaxis": {
            "backgroundcolor": "#E5ECF6",
            "gridcolor": "white",
            "gridwidth": 2,
            "linecolor": "white",
            "showbackground": true,
            "ticks": "",
            "zerolinecolor": "white"
           }
          },
          "shapedefaults": {
           "line": {
            "color": "#2a3f5f"
           }
          },
          "ternary": {
           "aaxis": {
            "gridcolor": "white",
            "linecolor": "white",
            "ticks": ""
           },
           "baxis": {
            "gridcolor": "white",
            "linecolor": "white",
            "ticks": ""
           },
           "bgcolor": "#E5ECF6",
           "caxis": {
            "gridcolor": "white",
            "linecolor": "white",
            "ticks": ""
           }
          },
          "title": {
           "x": 0.05
          },
          "xaxis": {
           "automargin": true,
           "gridcolor": "white",
           "linecolor": "white",
           "ticks": "",
           "title": {
            "standoff": 15
           },
           "zerolinecolor": "white",
           "zerolinewidth": 2
          },
          "yaxis": {
           "automargin": true,
           "gridcolor": "white",
           "linecolor": "white",
           "ticks": "",
           "title": {
            "standoff": 15
           },
           "zerolinecolor": "white",
           "zerolinewidth": 2
          }
         }
        },
        "title": {
         "text": "Block Size Over Time by Network with 16-Slot Moving Average"
        },
        "width": 1000,
        "xaxis": {
         "gridcolor": "lightgray",
         "title": {
          "font": {
           "size": 14
          },
          "text": "Slot"
         }
        },
        "yaxis": {
         "gridcolor": "lightgray",
         "title": {
          "font": {
           "size": 14
          },
          "text": "Block Size (KB)"
         }
        }
       }
      }
     },
     "metadata": {},
     "output_type": "display_data"
    }
   ],
   "source": [
    "def plot_block_size_over_time(metrics, window_size=16):\n",
    "    \"\"\"\n",
    "    Create a scatter plot of block size over time (by slot) for each network, with a moving average.\n",
    "    \n",
    "    Args:\n",
    "        metrics (dict): Dictionary with network keys and metrics DataFrames\n",
    "        window_size (int): Size of the moving average window\n",
    "        \n",
    "    Returns:\n",
    "        plotly.graph_objects.Figure: The plotly figure\n",
    "    \"\"\"\n",
    "    # Create figure\n",
    "    fig = go.Figure()\n",
    "    \n",
    "    # Colors for each network\n",
    "    colors = {'devnet-5': 'green', 'devnet-6': 'blue', 'devnet-7': 'red'}\n",
    "    \n",
    "    # Create display labels for networks\n",
    "    network_labels = {network: config[\"networks\"][network][\"label\"] for network in metrics.keys()}\n",
    "    \n",
    "    # Add scatter plot for each network\n",
    "    for network, network_metrics in metrics.items():\n",
    "        # Sort metrics by slot\n",
    "        network_metrics = network_metrics.sort_values('slot')\n",
    "        \n",
    "        # Drop rows with missing data\n",
    "        df = network_metrics.dropna(subset=['block_total_bytes', 'slot'])\n",
    "        \n",
    "        # Convert block size to KB for better readability\n",
    "        block_sizes_kb = df['block_total_bytes'] / 1024\n",
    "        \n",
    "        # Calculate moving average\n",
    "        if len(df) >= window_size:\n",
    "            ma = block_sizes_kb.rolling(window=window_size).mean()\n",
    "        else:\n",
    "            ma = pd.Series([None] * len(block_sizes_kb))\n",
    "        \n",
    "        # Add scatter plot for raw data\n",
    "        fig.add_trace(go.Scatter(\n",
    "            x=df['slot'],\n",
    "            y=block_sizes_kb,\n",
    "            mode='markers',\n",
    "            name=f'{network_labels[network]} Raw',\n",
    "            marker=dict(\n",
    "                color=colors[network],\n",
    "                size=6,\n",
    "                opacity=0.5\n",
    "            ),\n",
    "            hovertemplate='Slot: %{x}<br>Block Size: %{y:.1f} KB'\n",
    "        ))\n",
    "        \n",
    "        # Add line for moving average\n",
    "        fig.add_trace(go.Scatter(\n",
    "            x=df['slot'],\n",
    "            y=ma,\n",
    "            mode='lines',\n",
    "            name=f'{network_labels[network]} {window_size}-Slot MA',\n",
    "            line=dict(\n",
    "                color=colors[network],\n",
    "                width=2\n",
    "            ),\n",
    "            hovertemplate='Slot: %{x}<br>Avg Block Size: %{y:.1f} KB'\n",
    "        ))\n",
    "    \n",
    "    # Update layout\n",
    "    fig.update_layout(\n",
    "        title=f\"Block Size Over Time by Network with {window_size}-Slot Moving Average\",\n",
    "        xaxis=dict(\n",
    "            title=\"Slot\",\n",
    "            title_font=dict(size=14),\n",
    "            gridcolor='lightgray'\n",
    "        ),\n",
    "        yaxis=dict(\n",
    "            title=\"Block Size (KB)\",\n",
    "            title_font=dict(size=14),\n",
    "            gridcolor='lightgray'\n",
    "        ),\n",
    "        legend=dict(x=0.01, y=0.99, bgcolor='rgba(255,255,255,0.8)'),\n",
    "        hovermode='closest',\n",
    "        plot_bgcolor='white',\n",
    "        height=600,\n",
    "        width=1000\n",
    "    )\n",
    "    \n",
    "    return fig\n",
    "\n",
    "# Create and display the block size over time plot\n",
    "fig = plot_block_size_over_time(metrics, window_size=16)\n",
    "fig.show()"
   ]
  }
 ],
 "metadata": {
  "kernelspec": {
   "display_name": "ldm",
   "language": "python",
   "name": "python3"
  },
  "language_info": {
   "codemirror_mode": {
    "name": "ipython",
    "version": 3
   },
   "file_extension": ".py",
   "mimetype": "text/x-python",
   "name": "python",
   "nbconvert_exporter": "python",
   "pygments_lexer": "ipython3",
   "version": "3.10.5"
  }
 },
 "nbformat": 4,
 "nbformat_minor": 4
}
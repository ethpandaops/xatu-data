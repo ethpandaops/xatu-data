{
 "cells": [
  {
   "cell_type": "markdown",
   "metadata": {},
   "source": [
    "# Prysm RLNC Multi-Network Block Arrivals Analysis\n",
    "\n",
    "This notebook analyzes the impact of Random Linear Network Coding (RLNC) implementation by Prysm on beacon block propagation times. We compare block arrival times and block sizes across three networks: devnet-5, devnet-6, and devnet-7."
   ]
  },
  {
   "cell_type": "code",
   "execution_count": 1,
   "metadata": {},
   "outputs": [
    {
     "name": "stderr",
     "output_type": "stream",
     "text": [
      "/Users/samcm/.pyenv/versions/anaconda3-2022.05/envs/ldm/lib/python3.10/site-packages/scipy/__init__.py:155: UserWarning: A NumPy version >=1.18.5 and <1.25.0 is required for this version of SciPy (detected version 1.26.4\n",
      "  warnings.warn(f\"A NumPy version >={np_minversion} and <{np_maxversion}\"\n"
     ]
    }
   ],
   "source": [
    "# Import necessary packages\n",
    "import sys\n",
    "import os\n",
    "import pandas as pd\n",
    "import numpy as np\n",
    "import matplotlib.pyplot as plt\n",
    "import plotly.express as px\n",
    "import plotly.graph_objects as go\n",
    "from plotly.subplots import make_subplots\n",
    "import seaborn as sns\n",
    "from sqlalchemy import create_engine, text\n",
    "from datetime import datetime, timedelta\n",
    "\n",
    "# Add scripts directory to path\n",
    "sys.path.append('./scripts')\n",
    "\n",
    "# Import custom modules\n",
    "from bootstrap import load_env, create_db_url, add_branding, process_config\n",
    "from clickhouse import ClickhouseClient\n",
    "from transforms_multi import process_block_data, process_block_size_data, calculate_arrival_metrics, compare_networks_multi\n",
    "\n",
    "# Set plot style\n",
    "plt.style.use('seaborn-v0_8-whitegrid')\n",
    "sns.set_context(\"notebook\", font_scale=1.2)"
   ]
  },
  {
   "cell_type": "code",
   "execution_count": 2,
   "metadata": {},
   "outputs": [],
   "source": [
    "# Configuration\n",
    "config = {\n",
    "    \"networks\": {\n",
    "        \"devnet-6\": {\n",
    "            \"network\": \"nft-devnet-6\",\n",
    "            \"label\": \"baseline\",\n",
    "            \"start_at_slot\": 300,\n",
    "            \"finish_at_slot\": 600\n",
    "        },\n",
    "        \"devnet-5\": {\n",
    "            \"network\": \"nft-devnet-5\",\n",
    "            \"label\": \"rlnc\",\n",
    "            \"start_at_slot\": 300,\n",
    "            \"finish_at_slot\": 600\n",
    "        },\n",
    "        # \"devnet-7\": {\n",
    "        #     \"network\": \"nft-devnet-7\",\n",
    "        #     \"label\": \"experiment\",\n",
    "        #     \"start_at_slot\": 300,\n",
    "        #     \"finish_at_slot\": 600\n",
    "        # }\n",
    "    }\n",
    "}\n",
    "\n",
    "# Validate and process the config\n",
    "config = process_config(config)\n",
    "\n",
    "# Load environment variables\n",
    "credentials = load_env()\n",
    "db_url = create_db_url(credentials)\n",
    "\n",
    "# Initialize Clickhouse client\n",
    "clickhouse = ClickhouseClient(db_url)"
   ]
  },
  {
   "cell_type": "markdown",
   "metadata": {},
   "source": [
    "## Data Collection\n",
    "\n",
    "Let's collect block arrival data from all three networks."
   ]
  },
  {
   "cell_type": "code",
   "execution_count": 3,
   "metadata": {},
   "outputs": [
    {
     "name": "stdout",
     "output_type": "stream",
     "text": [
      "Fetching data for nft-devnet-6 (devnet-6)...\n",
      "Fetching data for nft-devnet-5 (devnet-5)...\n"
     ]
    }
   ],
   "source": [
    "# Dictionaries to store data for each network\n",
    "block_data = {}\n",
    "block_size_data = {}\n",
    "\n",
    "# Fetch data for each network\n",
    "for network_key, network_config in config['networks'].items():\n",
    "    print(f\"Fetching data for {network_config['network']} ({network_key})...\")\n",
    "    \n",
    "    block_data[network_key] = clickhouse.fetch_block_arrival_times(\n",
    "        network_config['network'], \n",
    "        network_config['start_at_slot'], \n",
    "        network_config['finish_at_slot']\n",
    "    )\n",
    "    \n",
    "    block_size_data[network_key] = clickhouse.fetch_block_size_data(\n",
    "        network_config['network'], \n",
    "        network_config['start_at_slot'], \n",
    "        network_config['finish_at_slot']\n",
    "    )"
   ]
  },
  {
   "cell_type": "markdown",
   "metadata": {},
   "source": [
    "## Data Processing\n",
    "\n",
    "Now let's process the data to calculate metrics for all networks."
   ]
  },
  {
   "cell_type": "code",
   "execution_count": 4,
   "metadata": {},
   "outputs": [
    {
     "name": "stdout",
     "output_type": "stream",
     "text": [
      "Dataset summary:\n",
      "baseline (nft-devnet-6): 301 slots, 145 unique clients\n",
      "rlnc (nft-devnet-5): 301 slots, 146 unique clients\n",
      "\n",
      "Pairwise comparisons of arrival times:\n",
      "\n",
      "baseline vs rlnc:\n",
      "min: 2478.4ms → 2816.6ms (-338.2ms difference, -13.6% increase)\n",
      "p50: 2975.0ms → 3226.0ms (-251.0ms difference, -8.4% increase)\n",
      "p95: 3488.4ms → 3687.4ms (-198.9ms difference, -5.7% increase)\n"
     ]
    }
   ],
   "source": [
    "# Process data for each network\n",
    "combined_data = {}\n",
    "block_size_processed = {}\n",
    "metrics = {}\n",
    "\n",
    "for network_key in config['networks'].keys():\n",
    "    # Process block data\n",
    "    combined_data[network_key] = process_block_data(block_data[network_key])\n",
    "    \n",
    "    # Process block size data\n",
    "    block_size_processed[network_key] = process_block_size_data(block_size_data[network_key])\n",
    "    \n",
    "    # Calculate metrics\n",
    "    metrics[network_key] = calculate_arrival_metrics(\n",
    "        combined_data[network_key],\n",
    "        block_size_processed[network_key]\n",
    "    )\n",
    "    \n",
    "    # Add network label for visualization\n",
    "    metrics[network_key]['network'] = network_key\n",
    "\n",
    "# Combine for easier comparison\n",
    "all_metrics = pd.concat(metrics.values(), ignore_index=True)\n",
    "\n",
    "# Show summary statistics\n",
    "print(\"Dataset summary:\")\n",
    "for network_key, network_config in config['networks'].items():\n",
    "    print(f\"{network_config['label']} ({network_config['network']}): {len(metrics[network_key])} slots, {combined_data[network_key]['meta_client_name'].nunique()} unique clients\")\n",
    "\n",
    "# Compare the networks\n",
    "comparison = compare_networks_multi(metrics)\n",
    "\n",
    "# Display pairwise comparisons for key metrics\n",
    "print(\"\\nPairwise comparisons of arrival times:\")\n",
    "for pair_key in [key for key in comparison.keys() if '_vs_' in key]:\n",
    "    network1, network2 = pair_key.split('_vs_')\n",
    "    print(f\"\\n{config['networks'][network1]['label']} vs {config['networks'][network2]['label']}:\")\n",
    "    \n",
    "    for metric in ['min_arrival_time', 'p50_arrival_time', 'p95_arrival_time']:\n",
    "        val1 = comparison[pair_key][metric][network1]\n",
    "        val2 = comparison[pair_key][metric][network2]\n",
    "        diff = comparison[pair_key][metric]['difference']\n",
    "        pct = comparison[pair_key][metric]['improvement_percent']\n",
    "        \n",
    "        print(f\"{metric.replace('_arrival_time', '')}: {val1:.1f}ms → {val2:.1f}ms ({diff:.1f}ms difference, {pct:.1f}% {('improvement' if pct > 0 else 'increase')})\")"
   ]
  },
  {
   "cell_type": "markdown",
   "metadata": {},
   "source": [
    "## Visualization: Block Arrival Time Comparison Across Networks\n",
    "\n",
    "Let's create visualizations to compare all three networks."
   ]
  },
  {
   "cell_type": "code",
   "execution_count": null,
   "metadata": {},
   "outputs": [],
   "source": [
    "def create_multi_network_boxplot(metrics_df, metric='p50_arrival_time', title=None, subtitle=None):\n",
    "    \"\"\"\n",
    "    Create a box plot comparing networks for a specified metric.\n",
    "    \n",
    "    Args:\n",
    "        metrics_df (DataFrame): Combined metrics from all networks\n",
    "        metric (str): The metric to plot\n",
    "        title (str, optional): Title for the plot\n",
    "        subtitle (str, optional): Subtitle for the plot\n",
    "        \n",
    "    Returns:\n",
    "        matplotlib.figure.Figure: The figure with the plot\n",
    "    \"\"\"\n",
    "    networks = metrics_df['network'].unique()\n",
    "    network_count = len(networks)\n",
    "    \n",
    "    # Create separate figure for the main plot\n",
    "    fig, ax = plt.subplots(figsize=(12, 8))\n",
    "    \n",
    "    # Create labels mapping\n",
    "    labels = {network: config[\"networks\"][network][\"label\"] for network in networks}\n",
    "    \n",
    "    # Create box plot with hue parameter for color differentiation\n",
    "    sns.boxplot(\n",
    "        x='network', \n",
    "        y=metric,\n",
    "        hue='network', \n",
    "        data=metrics_df,\n",
    "        palette={'devnet-5': 'lightgreen', 'devnet-6': 'skyblue', 'devnet-7': 'coral'},\n",
    "        ax=ax,\n",
    "        legend=False\n",
    "    )\n",
    "    \n",
    "    # Add individual data points\n",
    "    sns.stripplot(\n",
    "        x='network', \n",
    "        y=metric, \n",
    "        data=metrics_df,\n",
    "        color='gray',\n",
    "        alpha=0.4,\n",
    "        jitter=True,\n",
    "        ax=ax\n",
    "    )\n",
    "    \n",
    "    # Set axis labels and title\n",
    "    ax.set_xlabel('Network', fontsize=14)\n",
    "    ax.set_ylabel(f'{metric.replace(\"_arrival_time\", \"\")} Block Arrival Time (ms)', fontsize=14)\n",
    "    \n",
    "    if title:\n",
    "        ax.set_title(title, fontsize=16, pad=20)\n",
    "    \n",
    "    # Add grid for readability\n",
    "    ax.grid(True, axis='y', alpha=0.3)\n",
    "    \n",
    "    # Get the current x-tick positions\n",
    "    x_positions = ax.get_xticks()\n",
    "    \n",
    "    # Properly set x-ticks and labels\n",
    "    if len(x_positions) == len(networks):\n",
    "        new_labels = [f'{labels[network]}\\n({config[\"networks\"][network][\"network\"]})' for network in networks]\n",
    "        ax.set_xticks(x_positions)\n",
    "        ax.set_xticklabels(new_labels)\n",
    "    \n",
    "    # Add average lines for each network\n",
    "    for i, network in enumerate(networks):\n",
    "        network_data = metrics_df[metrics_df['network'] == network][metric]\n",
    "        if not network_data.empty:\n",
    "            network_avg = network_data.mean()\n",
    "            # Add horizontal line at the average with appropriate span\n",
    "            span_start = i - 0.3\n",
    "            span_end = i + 0.3\n",
    "            line_colors = {'devnet-5': 'green', 'devnet-6': 'blue', 'devnet-7': 'red'}\n",
    "            \n",
    "            ax.axhline(network_avg, color=line_colors[network], linestyle='--', alpha=0.5, \n",
    "                      xmin=span_start/network_count, xmax=span_end/network_count)\n",
    "            \n",
    "            # Add text with the average value\n",
    "            ax.text(i, network_avg, f'Mean: {network_avg:.1f}ms', \n",
    "                   ha='center', va='bottom', color=line_colors[network], fontweight='bold')\n",
    "    \n",
    "    # Add branding if title and subtitle are provided in a separate way\n",
    "    if title and subtitle:\n",
    "        branding_fig = add_branding(plt.figure(figsize=(12, 1.5)), title, subtitle)\n",
    "        plt.close(branding_fig)  # Close it to prevent display\n",
    "        \n",
    "        # Create a composite image (without using tight_layout with rect)\n",
    "        plt.tight_layout()  # Layout the main plot properly\n",
    "    else:\n",
    "        plt.tight_layout()  # Just use tight_layout for the main plot\n",
    "    \n",
    "    return fig\n",
    "\n",
    "# Create box plots for different metrics\n",
    "metrics_to_plot = ['min_arrival_time', 'p05_arrival_time', 'p50_arrival_time', 'p95_arrival_time']\n",
    "for metric in metrics_to_plot:\n",
    "    title = f\"{metric.replace('_arrival_time', '').title()} Block Arrival Time Comparison\"\n",
    "    subtitle = \"Random Linear Network Coding (RLNC) Impact Across Networks\"\n",
    "    \n",
    "    fig = create_multi_network_boxplot(all_metrics, metric, title, subtitle)\n",
    "    plt.show()"
   ]
  },
  {
   "cell_type": "markdown",
   "metadata": {},
   "source": [
    "## Block Size Analysis\n",
    "\n",
    "Let's analyze how block size affects arrival times across all three networks."
   ]
  },
  {
   "cell_type": "code",
   "execution_count": 6,
   "metadata": {},
   "outputs": [
    {
     "data": {
      "application/vnd.plotly.v1+json": {
       "config": {
        "plotlyServerURL": "https://plot.ly"
       },
       "data": [
        {
         "error_y": {
          "array": [
           null,
           32.951577376703845,
           41.981088179153836,
           32.19748830451582,
           43.31391506312064,
           40.05015354720049,
           102.28039435672626,
           71.33013732671898
          ],
          "type": "data",
          "visible": true
         },
         "hovertemplate": "Block Size: %{x}<br>Arrival Time: %{y:.1f}ms<br>Sample Size: %{text}",
         "marker": {
          "color": "blue"
         },
         "name": "baseline (nft-devnet-6)",
         "text": [
          1,
          31,
          35,
          34,
          43,
          44,
          44,
          69
         ],
         "type": "bar",
         "x": [
          "529-1081KB",
          "1081-1633KB",
          "1633-2185KB",
          "2185-2737KB",
          "2737-3289KB",
          "3289-3841KB",
          "3841-4394KB",
          "4394-4946KB"
         ],
         "y": [
          2157,
          2239.1612903225805,
          2309,
          2385.5588235294117,
          2426,
          2505.590909090909,
          2600.5,
          2659.521739130435
         ]
        },
        {
         "error_y": {
          "array": [
           null,
           41.74449142225312,
           65.05797602064209,
           86.69800653497092,
           167.4351059541647,
           138.30357109553523,
           208.13281302366252,
           201.6126740303554,
           196.3052212945739
          ],
          "type": "data",
          "visible": true
         },
         "hovertemplate": "Block Size: %{x}<br>Arrival Time: %{y:.1f}ms<br>Sample Size: %{text}",
         "marker": {
          "color": "green"
         },
         "name": "rlnc (nft-devnet-5)",
         "text": [
          1,
          13,
          41,
          68,
          17,
          10,
          8,
          14,
          127
         ],
         "type": "bar",
         "x": [
          "0-529KB",
          "529-1081KB",
          "1081-1633KB",
          "1633-2185KB",
          "2185-2737KB",
          "2737-3289KB",
          "3289-3841KB",
          "3841-4394KB",
          "4394-4946KB"
         ],
         "y": [
          2316,
          2386.5384615384614,
          2416.9024390243903,
          2511.5882352941176,
          2684.470588235294,
          2839.9,
          3001.125,
          3127.1428571428573,
          3117.8818897637793
         ]
        }
       ],
       "layout": {
        "barmode": "group",
        "height": 600,
        "legend": {
         "bgcolor": "rgba(255,255,255,0.8)",
         "x": 0.01,
         "y": 0.99
        },
        "plot_bgcolor": "white",
        "template": {
         "data": {
          "bar": [
           {
            "error_x": {
             "color": "#2a3f5f"
            },
            "error_y": {
             "color": "#2a3f5f"
            },
            "marker": {
             "line": {
              "color": "#E5ECF6",
              "width": 0.5
             },
             "pattern": {
              "fillmode": "overlay",
              "size": 10,
              "solidity": 0.2
             }
            },
            "type": "bar"
           }
          ],
          "barpolar": [
           {
            "marker": {
             "line": {
              "color": "#E5ECF6",
              "width": 0.5
             },
             "pattern": {
              "fillmode": "overlay",
              "size": 10,
              "solidity": 0.2
             }
            },
            "type": "barpolar"
           }
          ],
          "carpet": [
           {
            "aaxis": {
             "endlinecolor": "#2a3f5f",
             "gridcolor": "white",
             "linecolor": "white",
             "minorgridcolor": "white",
             "startlinecolor": "#2a3f5f"
            },
            "baxis": {
             "endlinecolor": "#2a3f5f",
             "gridcolor": "white",
             "linecolor": "white",
             "minorgridcolor": "white",
             "startlinecolor": "#2a3f5f"
            },
            "type": "carpet"
           }
          ],
          "choropleth": [
           {
            "colorbar": {
             "outlinewidth": 0,
             "ticks": ""
            },
            "type": "choropleth"
           }
          ],
          "contour": [
           {
            "colorbar": {
             "outlinewidth": 0,
             "ticks": ""
            },
            "colorscale": [
             [
              0,
              "#0d0887"
             ],
             [
              0.1111111111111111,
              "#46039f"
             ],
             [
              0.2222222222222222,
              "#7201a8"
             ],
             [
              0.3333333333333333,
              "#9c179e"
             ],
             [
              0.4444444444444444,
              "#bd3786"
             ],
             [
              0.5555555555555556,
              "#d8576b"
             ],
             [
              0.6666666666666666,
              "#ed7953"
             ],
             [
              0.7777777777777778,
              "#fb9f3a"
             ],
             [
              0.8888888888888888,
              "#fdca26"
             ],
             [
              1,
              "#f0f921"
             ]
            ],
            "type": "contour"
           }
          ],
          "contourcarpet": [
           {
            "colorbar": {
             "outlinewidth": 0,
             "ticks": ""
            },
            "type": "contourcarpet"
           }
          ],
          "heatmap": [
           {
            "colorbar": {
             "outlinewidth": 0,
             "ticks": ""
            },
            "colorscale": [
             [
              0,
              "#0d0887"
             ],
             [
              0.1111111111111111,
              "#46039f"
             ],
             [
              0.2222222222222222,
              "#7201a8"
             ],
             [
              0.3333333333333333,
              "#9c179e"
             ],
             [
              0.4444444444444444,
              "#bd3786"
             ],
             [
              0.5555555555555556,
              "#d8576b"
             ],
             [
              0.6666666666666666,
              "#ed7953"
             ],
             [
              0.7777777777777778,
              "#fb9f3a"
             ],
             [
              0.8888888888888888,
              "#fdca26"
             ],
             [
              1,
              "#f0f921"
             ]
            ],
            "type": "heatmap"
           }
          ],
          "heatmapgl": [
           {
            "colorbar": {
             "outlinewidth": 0,
             "ticks": ""
            },
            "colorscale": [
             [
              0,
              "#0d0887"
             ],
             [
              0.1111111111111111,
              "#46039f"
             ],
             [
              0.2222222222222222,
              "#7201a8"
             ],
             [
              0.3333333333333333,
              "#9c179e"
             ],
             [
              0.4444444444444444,
              "#bd3786"
             ],
             [
              0.5555555555555556,
              "#d8576b"
             ],
             [
              0.6666666666666666,
              "#ed7953"
             ],
             [
              0.7777777777777778,
              "#fb9f3a"
             ],
             [
              0.8888888888888888,
              "#fdca26"
             ],
             [
              1,
              "#f0f921"
             ]
            ],
            "type": "heatmapgl"
           }
          ],
          "histogram": [
           {
            "marker": {
             "pattern": {
              "fillmode": "overlay",
              "size": 10,
              "solidity": 0.2
             }
            },
            "type": "histogram"
           }
          ],
          "histogram2d": [
           {
            "colorbar": {
             "outlinewidth": 0,
             "ticks": ""
            },
            "colorscale": [
             [
              0,
              "#0d0887"
             ],
             [
              0.1111111111111111,
              "#46039f"
             ],
             [
              0.2222222222222222,
              "#7201a8"
             ],
             [
              0.3333333333333333,
              "#9c179e"
             ],
             [
              0.4444444444444444,
              "#bd3786"
             ],
             [
              0.5555555555555556,
              "#d8576b"
             ],
             [
              0.6666666666666666,
              "#ed7953"
             ],
             [
              0.7777777777777778,
              "#fb9f3a"
             ],
             [
              0.8888888888888888,
              "#fdca26"
             ],
             [
              1,
              "#f0f921"
             ]
            ],
            "type": "histogram2d"
           }
          ],
          "histogram2dcontour": [
           {
            "colorbar": {
             "outlinewidth": 0,
             "ticks": ""
            },
            "colorscale": [
             [
              0,
              "#0d0887"
             ],
             [
              0.1111111111111111,
              "#46039f"
             ],
             [
              0.2222222222222222,
              "#7201a8"
             ],
             [
              0.3333333333333333,
              "#9c179e"
             ],
             [
              0.4444444444444444,
              "#bd3786"
             ],
             [
              0.5555555555555556,
              "#d8576b"
             ],
             [
              0.6666666666666666,
              "#ed7953"
             ],
             [
              0.7777777777777778,
              "#fb9f3a"
             ],
             [
              0.8888888888888888,
              "#fdca26"
             ],
             [
              1,
              "#f0f921"
             ]
            ],
            "type": "histogram2dcontour"
           }
          ],
          "mesh3d": [
           {
            "colorbar": {
             "outlinewidth": 0,
             "ticks": ""
            },
            "type": "mesh3d"
           }
          ],
          "parcoords": [
           {
            "line": {
             "colorbar": {
              "outlinewidth": 0,
              "ticks": ""
             }
            },
            "type": "parcoords"
           }
          ],
          "pie": [
           {
            "automargin": true,
            "type": "pie"
           }
          ],
          "scatter": [
           {
            "fillpattern": {
             "fillmode": "overlay",
             "size": 10,
             "solidity": 0.2
            },
            "type": "scatter"
           }
          ],
          "scatter3d": [
           {
            "line": {
             "colorbar": {
              "outlinewidth": 0,
              "ticks": ""
             }
            },
            "marker": {
             "colorbar": {
              "outlinewidth": 0,
              "ticks": ""
             }
            },
            "type": "scatter3d"
           }
          ],
          "scattercarpet": [
           {
            "marker": {
             "colorbar": {
              "outlinewidth": 0,
              "ticks": ""
             }
            },
            "type": "scattercarpet"
           }
          ],
          "scattergeo": [
           {
            "marker": {
             "colorbar": {
              "outlinewidth": 0,
              "ticks": ""
             }
            },
            "type": "scattergeo"
           }
          ],
          "scattergl": [
           {
            "marker": {
             "colorbar": {
              "outlinewidth": 0,
              "ticks": ""
             }
            },
            "type": "scattergl"
           }
          ],
          "scattermapbox": [
           {
            "marker": {
             "colorbar": {
              "outlinewidth": 0,
              "ticks": ""
             }
            },
            "type": "scattermapbox"
           }
          ],
          "scatterpolar": [
           {
            "marker": {
             "colorbar": {
              "outlinewidth": 0,
              "ticks": ""
             }
            },
            "type": "scatterpolar"
           }
          ],
          "scatterpolargl": [
           {
            "marker": {
             "colorbar": {
              "outlinewidth": 0,
              "ticks": ""
             }
            },
            "type": "scatterpolargl"
           }
          ],
          "scatterternary": [
           {
            "marker": {
             "colorbar": {
              "outlinewidth": 0,
              "ticks": ""
             }
            },
            "type": "scatterternary"
           }
          ],
          "surface": [
           {
            "colorbar": {
             "outlinewidth": 0,
             "ticks": ""
            },
            "colorscale": [
             [
              0,
              "#0d0887"
             ],
             [
              0.1111111111111111,
              "#46039f"
             ],
             [
              0.2222222222222222,
              "#7201a8"
             ],
             [
              0.3333333333333333,
              "#9c179e"
             ],
             [
              0.4444444444444444,
              "#bd3786"
             ],
             [
              0.5555555555555556,
              "#d8576b"
             ],
             [
              0.6666666666666666,
              "#ed7953"
             ],
             [
              0.7777777777777778,
              "#fb9f3a"
             ],
             [
              0.8888888888888888,
              "#fdca26"
             ],
             [
              1,
              "#f0f921"
             ]
            ],
            "type": "surface"
           }
          ],
          "table": [
           {
            "cells": {
             "fill": {
              "color": "#EBF0F8"
             },
             "line": {
              "color": "white"
             }
            },
            "header": {
             "fill": {
              "color": "#C8D4E3"
             },
             "line": {
              "color": "white"
             }
            },
            "type": "table"
           }
          ]
         },
         "layout": {
          "annotationdefaults": {
           "arrowcolor": "#2a3f5f",
           "arrowhead": 0,
           "arrowwidth": 1
          },
          "autotypenumbers": "strict",
          "coloraxis": {
           "colorbar": {
            "outlinewidth": 0,
            "ticks": ""
           }
          },
          "colorscale": {
           "diverging": [
            [
             0,
             "#8e0152"
            ],
            [
             0.1,
             "#c51b7d"
            ],
            [
             0.2,
             "#de77ae"
            ],
            [
             0.3,
             "#f1b6da"
            ],
            [
             0.4,
             "#fde0ef"
            ],
            [
             0.5,
             "#f7f7f7"
            ],
            [
             0.6,
             "#e6f5d0"
            ],
            [
             0.7,
             "#b8e186"
            ],
            [
             0.8,
             "#7fbc41"
            ],
            [
             0.9,
             "#4d9221"
            ],
            [
             1,
             "#276419"
            ]
           ],
           "sequential": [
            [
             0,
             "#0d0887"
            ],
            [
             0.1111111111111111,
             "#46039f"
            ],
            [
             0.2222222222222222,
             "#7201a8"
            ],
            [
             0.3333333333333333,
             "#9c179e"
            ],
            [
             0.4444444444444444,
             "#bd3786"
            ],
            [
             0.5555555555555556,
             "#d8576b"
            ],
            [
             0.6666666666666666,
             "#ed7953"
            ],
            [
             0.7777777777777778,
             "#fb9f3a"
            ],
            [
             0.8888888888888888,
             "#fdca26"
            ],
            [
             1,
             "#f0f921"
            ]
           ],
           "sequentialminus": [
            [
             0,
             "#0d0887"
            ],
            [
             0.1111111111111111,
             "#46039f"
            ],
            [
             0.2222222222222222,
             "#7201a8"
            ],
            [
             0.3333333333333333,
             "#9c179e"
            ],
            [
             0.4444444444444444,
             "#bd3786"
            ],
            [
             0.5555555555555556,
             "#d8576b"
            ],
            [
             0.6666666666666666,
             "#ed7953"
            ],
            [
             0.7777777777777778,
             "#fb9f3a"
            ],
            [
             0.8888888888888888,
             "#fdca26"
            ],
            [
             1,
             "#f0f921"
            ]
           ]
          },
          "colorway": [
           "#636efa",
           "#EF553B",
           "#00cc96",
           "#ab63fa",
           "#FFA15A",
           "#19d3f3",
           "#FF6692",
           "#B6E880",
           "#FF97FF",
           "#FECB52"
          ],
          "font": {
           "color": "#2a3f5f"
          },
          "geo": {
           "bgcolor": "white",
           "lakecolor": "white",
           "landcolor": "#E5ECF6",
           "showlakes": true,
           "showland": true,
           "subunitcolor": "white"
          },
          "hoverlabel": {
           "align": "left"
          },
          "hovermode": "closest",
          "mapbox": {
           "style": "light"
          },
          "paper_bgcolor": "white",
          "plot_bgcolor": "#E5ECF6",
          "polar": {
           "angularaxis": {
            "gridcolor": "white",
            "linecolor": "white",
            "ticks": ""
           },
           "bgcolor": "#E5ECF6",
           "radialaxis": {
            "gridcolor": "white",
            "linecolor": "white",
            "ticks": ""
           }
          },
          "scene": {
           "xaxis": {
            "backgroundcolor": "#E5ECF6",
            "gridcolor": "white",
            "gridwidth": 2,
            "linecolor": "white",
            "showbackground": true,
            "ticks": "",
            "zerolinecolor": "white"
           },
           "yaxis": {
            "backgroundcolor": "#E5ECF6",
            "gridcolor": "white",
            "gridwidth": 2,
            "linecolor": "white",
            "showbackground": true,
            "ticks": "",
            "zerolinecolor": "white"
           },
           "zaxis": {
            "backgroundcolor": "#E5ECF6",
            "gridcolor": "white",
            "gridwidth": 2,
            "linecolor": "white",
            "showbackground": true,
            "ticks": "",
            "zerolinecolor": "white"
           }
          },
          "shapedefaults": {
           "line": {
            "color": "#2a3f5f"
           }
          },
          "ternary": {
           "aaxis": {
            "gridcolor": "white",
            "linecolor": "white",
            "ticks": ""
           },
           "baxis": {
            "gridcolor": "white",
            "linecolor": "white",
            "ticks": ""
           },
           "bgcolor": "#E5ECF6",
           "caxis": {
            "gridcolor": "white",
            "linecolor": "white",
            "ticks": ""
           }
          },
          "title": {
           "x": 0.05
          },
          "xaxis": {
           "automargin": true,
           "gridcolor": "white",
           "linecolor": "white",
           "ticks": "",
           "title": {
            "standoff": 15
           },
           "zerolinecolor": "white",
           "zerolinewidth": 2
          },
          "yaxis": {
           "automargin": true,
           "gridcolor": "white",
           "linecolor": "white",
           "ticks": "",
           "title": {
            "standoff": 15
           },
           "zerolinecolor": "white",
           "zerolinewidth": 2
          }
         }
        },
        "title": {
         "text": "Effect of Block Size on Min Arrival Time Across Networks"
        },
        "width": 1000,
        "xaxis": {
         "anchor": "y",
         "domain": [
          0,
          1
         ],
         "title": {
          "text": "Block Size"
         }
        },
        "yaxis": {
         "anchor": "x",
         "domain": [
          0,
          1
         ],
         "title": {
          "text": "Arrival Time (ms)"
         }
        }
       }
      }
     },
     "metadata": {},
     "output_type": "display_data"
    },
    {
     "data": {
      "application/vnd.plotly.v1+json": {
       "config": {
        "plotlyServerURL": "https://plot.ly"
       },
       "data": [
        {
         "error_y": {
          "array": [
           null,
           125.62206504355217,
           196.9249398445334,
           140.19822991755012,
           188.65294179364807,
           188.8177905649429,
           223.28036301340867,
           224.56176798051288
          ],
          "type": "data",
          "visible": true
         },
         "hovertemplate": "Block Size: %{x}<br>Arrival Time: %{y:.1f}ms<br>Sample Size: %{text}",
         "marker": {
          "color": "blue"
         },
         "name": "baseline (nft-devnet-6)",
         "text": [
          1,
          31,
          35,
          34,
          43,
          44,
          44,
          69
         ],
         "type": "bar",
         "x": [
          "529-1081KB",
          "1081-1633KB",
          "1633-2185KB",
          "2185-2737KB",
          "2737-3289KB",
          "3289-3841KB",
          "3841-4394KB",
          "4394-4946KB"
         ],
         "y": [
          2404,
          2557.3548387096776,
          2774.7428571428572,
          2808.176470588235,
          2902.860465116279,
          2997.431818181818,
          3177.1363636363635,
          3256.463768115942
         ]
        },
        {
         "error_y": {
          "array": [
           null,
           40.76330992323166,
           46.14206257878362,
           101.77878535302314,
           140.76149258272898,
           227.65300715489494,
           260.9570897265898,
           297.3131235021309,
           242.29513184314223
          ],
          "type": "data",
          "visible": true
         },
         "hovertemplate": "Block Size: %{x}<br>Arrival Time: %{y:.1f}ms<br>Sample Size: %{text}",
         "marker": {
          "color": "green"
         },
         "name": "rlnc (nft-devnet-5)",
         "text": [
          1,
          13,
          41,
          68,
          17,
          10,
          8,
          14,
          127
         ],
         "type": "bar",
         "x": [
          "0-529KB",
          "529-1081KB",
          "1081-1633KB",
          "1633-2185KB",
          "2185-2737KB",
          "2737-3289KB",
          "3289-3841KB",
          "3841-4394KB",
          "4394-4946KB"
         ],
         "y": [
          2439,
          2565.6923076923076,
          2636.560975609756,
          2755.2720588235293,
          3109.3823529411766,
          3250.15,
          3476.4375,
          3645.1428571428573,
          3682.783464566929
         ]
        }
       ],
       "layout": {
        "barmode": "group",
        "height": 600,
        "legend": {
         "bgcolor": "rgba(255,255,255,0.8)",
         "x": 0.01,
         "y": 0.99
        },
        "plot_bgcolor": "white",
        "template": {
         "data": {
          "bar": [
           {
            "error_x": {
             "color": "#2a3f5f"
            },
            "error_y": {
             "color": "#2a3f5f"
            },
            "marker": {
             "line": {
              "color": "#E5ECF6",
              "width": 0.5
             },
             "pattern": {
              "fillmode": "overlay",
              "size": 10,
              "solidity": 0.2
             }
            },
            "type": "bar"
           }
          ],
          "barpolar": [
           {
            "marker": {
             "line": {
              "color": "#E5ECF6",
              "width": 0.5
             },
             "pattern": {
              "fillmode": "overlay",
              "size": 10,
              "solidity": 0.2
             }
            },
            "type": "barpolar"
           }
          ],
          "carpet": [
           {
            "aaxis": {
             "endlinecolor": "#2a3f5f",
             "gridcolor": "white",
             "linecolor": "white",
             "minorgridcolor": "white",
             "startlinecolor": "#2a3f5f"
            },
            "baxis": {
             "endlinecolor": "#2a3f5f",
             "gridcolor": "white",
             "linecolor": "white",
             "minorgridcolor": "white",
             "startlinecolor": "#2a3f5f"
            },
            "type": "carpet"
           }
          ],
          "choropleth": [
           {
            "colorbar": {
             "outlinewidth": 0,
             "ticks": ""
            },
            "type": "choropleth"
           }
          ],
          "contour": [
           {
            "colorbar": {
             "outlinewidth": 0,
             "ticks": ""
            },
            "colorscale": [
             [
              0,
              "#0d0887"
             ],
             [
              0.1111111111111111,
              "#46039f"
             ],
             [
              0.2222222222222222,
              "#7201a8"
             ],
             [
              0.3333333333333333,
              "#9c179e"
             ],
             [
              0.4444444444444444,
              "#bd3786"
             ],
             [
              0.5555555555555556,
              "#d8576b"
             ],
             [
              0.6666666666666666,
              "#ed7953"
             ],
             [
              0.7777777777777778,
              "#fb9f3a"
             ],
             [
              0.8888888888888888,
              "#fdca26"
             ],
             [
              1,
              "#f0f921"
             ]
            ],
            "type": "contour"
           }
          ],
          "contourcarpet": [
           {
            "colorbar": {
             "outlinewidth": 0,
             "ticks": ""
            },
            "type": "contourcarpet"
           }
          ],
          "heatmap": [
           {
            "colorbar": {
             "outlinewidth": 0,
             "ticks": ""
            },
            "colorscale": [
             [
              0,
              "#0d0887"
             ],
             [
              0.1111111111111111,
              "#46039f"
             ],
             [
              0.2222222222222222,
              "#7201a8"
             ],
             [
              0.3333333333333333,
              "#9c179e"
             ],
             [
              0.4444444444444444,
              "#bd3786"
             ],
             [
              0.5555555555555556,
              "#d8576b"
             ],
             [
              0.6666666666666666,
              "#ed7953"
             ],
             [
              0.7777777777777778,
              "#fb9f3a"
             ],
             [
              0.8888888888888888,
              "#fdca26"
             ],
             [
              1,
              "#f0f921"
             ]
            ],
            "type": "heatmap"
           }
          ],
          "heatmapgl": [
           {
            "colorbar": {
             "outlinewidth": 0,
             "ticks": ""
            },
            "colorscale": [
             [
              0,
              "#0d0887"
             ],
             [
              0.1111111111111111,
              "#46039f"
             ],
             [
              0.2222222222222222,
              "#7201a8"
             ],
             [
              0.3333333333333333,
              "#9c179e"
             ],
             [
              0.4444444444444444,
              "#bd3786"
             ],
             [
              0.5555555555555556,
              "#d8576b"
             ],
             [
              0.6666666666666666,
              "#ed7953"
             ],
             [
              0.7777777777777778,
              "#fb9f3a"
             ],
             [
              0.8888888888888888,
              "#fdca26"
             ],
             [
              1,
              "#f0f921"
             ]
            ],
            "type": "heatmapgl"
           }
          ],
          "histogram": [
           {
            "marker": {
             "pattern": {
              "fillmode": "overlay",
              "size": 10,
              "solidity": 0.2
             }
            },
            "type": "histogram"
           }
          ],
          "histogram2d": [
           {
            "colorbar": {
             "outlinewidth": 0,
             "ticks": ""
            },
            "colorscale": [
             [
              0,
              "#0d0887"
             ],
             [
              0.1111111111111111,
              "#46039f"
             ],
             [
              0.2222222222222222,
              "#7201a8"
             ],
             [
              0.3333333333333333,
              "#9c179e"
             ],
             [
              0.4444444444444444,
              "#bd3786"
             ],
             [
              0.5555555555555556,
              "#d8576b"
             ],
             [
              0.6666666666666666,
              "#ed7953"
             ],
             [
              0.7777777777777778,
              "#fb9f3a"
             ],
             [
              0.8888888888888888,
              "#fdca26"
             ],
             [
              1,
              "#f0f921"
             ]
            ],
            "type": "histogram2d"
           }
          ],
          "histogram2dcontour": [
           {
            "colorbar": {
             "outlinewidth": 0,
             "ticks": ""
            },
            "colorscale": [
             [
              0,
              "#0d0887"
             ],
             [
              0.1111111111111111,
              "#46039f"
             ],
             [
              0.2222222222222222,
              "#7201a8"
             ],
             [
              0.3333333333333333,
              "#9c179e"
             ],
             [
              0.4444444444444444,
              "#bd3786"
             ],
             [
              0.5555555555555556,
              "#d8576b"
             ],
             [
              0.6666666666666666,
              "#ed7953"
             ],
             [
              0.7777777777777778,
              "#fb9f3a"
             ],
             [
              0.8888888888888888,
              "#fdca26"
             ],
             [
              1,
              "#f0f921"
             ]
            ],
            "type": "histogram2dcontour"
           }
          ],
          "mesh3d": [
           {
            "colorbar": {
             "outlinewidth": 0,
             "ticks": ""
            },
            "type": "mesh3d"
           }
          ],
          "parcoords": [
           {
            "line": {
             "colorbar": {
              "outlinewidth": 0,
              "ticks": ""
             }
            },
            "type": "parcoords"
           }
          ],
          "pie": [
           {
            "automargin": true,
            "type": "pie"
           }
          ],
          "scatter": [
           {
            "fillpattern": {
             "fillmode": "overlay",
             "size": 10,
             "solidity": 0.2
            },
            "type": "scatter"
           }
          ],
          "scatter3d": [
           {
            "line": {
             "colorbar": {
              "outlinewidth": 0,
              "ticks": ""
             }
            },
            "marker": {
             "colorbar": {
              "outlinewidth": 0,
              "ticks": ""
             }
            },
            "type": "scatter3d"
           }
          ],
          "scattercarpet": [
           {
            "marker": {
             "colorbar": {
              "outlinewidth": 0,
              "ticks": ""
             }
            },
            "type": "scattercarpet"
           }
          ],
          "scattergeo": [
           {
            "marker": {
             "colorbar": {
              "outlinewidth": 0,
              "ticks": ""
             }
            },
            "type": "scattergeo"
           }
          ],
          "scattergl": [
           {
            "marker": {
             "colorbar": {
              "outlinewidth": 0,
              "ticks": ""
             }
            },
            "type": "scattergl"
           }
          ],
          "scattermapbox": [
           {
            "marker": {
             "colorbar": {
              "outlinewidth": 0,
              "ticks": ""
             }
            },
            "type": "scattermapbox"
           }
          ],
          "scatterpolar": [
           {
            "marker": {
             "colorbar": {
              "outlinewidth": 0,
              "ticks": ""
             }
            },
            "type": "scatterpolar"
           }
          ],
          "scatterpolargl": [
           {
            "marker": {
             "colorbar": {
              "outlinewidth": 0,
              "ticks": ""
             }
            },
            "type": "scatterpolargl"
           }
          ],
          "scatterternary": [
           {
            "marker": {
             "colorbar": {
              "outlinewidth": 0,
              "ticks": ""
             }
            },
            "type": "scatterternary"
           }
          ],
          "surface": [
           {
            "colorbar": {
             "outlinewidth": 0,
             "ticks": ""
            },
            "colorscale": [
             [
              0,
              "#0d0887"
             ],
             [
              0.1111111111111111,
              "#46039f"
             ],
             [
              0.2222222222222222,
              "#7201a8"
             ],
             [
              0.3333333333333333,
              "#9c179e"
             ],
             [
              0.4444444444444444,
              "#bd3786"
             ],
             [
              0.5555555555555556,
              "#d8576b"
             ],
             [
              0.6666666666666666,
              "#ed7953"
             ],
             [
              0.7777777777777778,
              "#fb9f3a"
             ],
             [
              0.8888888888888888,
              "#fdca26"
             ],
             [
              1,
              "#f0f921"
             ]
            ],
            "type": "surface"
           }
          ],
          "table": [
           {
            "cells": {
             "fill": {
              "color": "#EBF0F8"
             },
             "line": {
              "color": "white"
             }
            },
            "header": {
             "fill": {
              "color": "#C8D4E3"
             },
             "line": {
              "color": "white"
             }
            },
            "type": "table"
           }
          ]
         },
         "layout": {
          "annotationdefaults": {
           "arrowcolor": "#2a3f5f",
           "arrowhead": 0,
           "arrowwidth": 1
          },
          "autotypenumbers": "strict",
          "coloraxis": {
           "colorbar": {
            "outlinewidth": 0,
            "ticks": ""
           }
          },
          "colorscale": {
           "diverging": [
            [
             0,
             "#8e0152"
            ],
            [
             0.1,
             "#c51b7d"
            ],
            [
             0.2,
             "#de77ae"
            ],
            [
             0.3,
             "#f1b6da"
            ],
            [
             0.4,
             "#fde0ef"
            ],
            [
             0.5,
             "#f7f7f7"
            ],
            [
             0.6,
             "#e6f5d0"
            ],
            [
             0.7,
             "#b8e186"
            ],
            [
             0.8,
             "#7fbc41"
            ],
            [
             0.9,
             "#4d9221"
            ],
            [
             1,
             "#276419"
            ]
           ],
           "sequential": [
            [
             0,
             "#0d0887"
            ],
            [
             0.1111111111111111,
             "#46039f"
            ],
            [
             0.2222222222222222,
             "#7201a8"
            ],
            [
             0.3333333333333333,
             "#9c179e"
            ],
            [
             0.4444444444444444,
             "#bd3786"
            ],
            [
             0.5555555555555556,
             "#d8576b"
            ],
            [
             0.6666666666666666,
             "#ed7953"
            ],
            [
             0.7777777777777778,
             "#fb9f3a"
            ],
            [
             0.8888888888888888,
             "#fdca26"
            ],
            [
             1,
             "#f0f921"
            ]
           ],
           "sequentialminus": [
            [
             0,
             "#0d0887"
            ],
            [
             0.1111111111111111,
             "#46039f"
            ],
            [
             0.2222222222222222,
             "#7201a8"
            ],
            [
             0.3333333333333333,
             "#9c179e"
            ],
            [
             0.4444444444444444,
             "#bd3786"
            ],
            [
             0.5555555555555556,
             "#d8576b"
            ],
            [
             0.6666666666666666,
             "#ed7953"
            ],
            [
             0.7777777777777778,
             "#fb9f3a"
            ],
            [
             0.8888888888888888,
             "#fdca26"
            ],
            [
             1,
             "#f0f921"
            ]
           ]
          },
          "colorway": [
           "#636efa",
           "#EF553B",
           "#00cc96",
           "#ab63fa",
           "#FFA15A",
           "#19d3f3",
           "#FF6692",
           "#B6E880",
           "#FF97FF",
           "#FECB52"
          ],
          "font": {
           "color": "#2a3f5f"
          },
          "geo": {
           "bgcolor": "white",
           "lakecolor": "white",
           "landcolor": "#E5ECF6",
           "showlakes": true,
           "showland": true,
           "subunitcolor": "white"
          },
          "hoverlabel": {
           "align": "left"
          },
          "hovermode": "closest",
          "mapbox": {
           "style": "light"
          },
          "paper_bgcolor": "white",
          "plot_bgcolor": "#E5ECF6",
          "polar": {
           "angularaxis": {
            "gridcolor": "white",
            "linecolor": "white",
            "ticks": ""
           },
           "bgcolor": "#E5ECF6",
           "radialaxis": {
            "gridcolor": "white",
            "linecolor": "white",
            "ticks": ""
           }
          },
          "scene": {
           "xaxis": {
            "backgroundcolor": "#E5ECF6",
            "gridcolor": "white",
            "gridwidth": 2,
            "linecolor": "white",
            "showbackground": true,
            "ticks": "",
            "zerolinecolor": "white"
           },
           "yaxis": {
            "backgroundcolor": "#E5ECF6",
            "gridcolor": "white",
            "gridwidth": 2,
            "linecolor": "white",
            "showbackground": true,
            "ticks": "",
            "zerolinecolor": "white"
           },
           "zaxis": {
            "backgroundcolor": "#E5ECF6",
            "gridcolor": "white",
            "gridwidth": 2,
            "linecolor": "white",
            "showbackground": true,
            "ticks": "",
            "zerolinecolor": "white"
           }
          },
          "shapedefaults": {
           "line": {
            "color": "#2a3f5f"
           }
          },
          "ternary": {
           "aaxis": {
            "gridcolor": "white",
            "linecolor": "white",
            "ticks": ""
           },
           "baxis": {
            "gridcolor": "white",
            "linecolor": "white",
            "ticks": ""
           },
           "bgcolor": "#E5ECF6",
           "caxis": {
            "gridcolor": "white",
            "linecolor": "white",
            "ticks": ""
           }
          },
          "title": {
           "x": 0.05
          },
          "xaxis": {
           "automargin": true,
           "gridcolor": "white",
           "linecolor": "white",
           "ticks": "",
           "title": {
            "standoff": 15
           },
           "zerolinecolor": "white",
           "zerolinewidth": 2
          },
          "yaxis": {
           "automargin": true,
           "gridcolor": "white",
           "linecolor": "white",
           "ticks": "",
           "title": {
            "standoff": 15
           },
           "zerolinecolor": "white",
           "zerolinewidth": 2
          }
         }
        },
        "title": {
         "text": "Effect of Block Size on P50 Arrival Time Across Networks"
        },
        "width": 1000,
        "xaxis": {
         "anchor": "y",
         "domain": [
          0,
          1
         ],
         "title": {
          "text": "Block Size"
         }
        },
        "yaxis": {
         "anchor": "x",
         "domain": [
          0,
          1
         ],
         "title": {
          "text": "Arrival Time (ms)"
         }
        }
       }
      }
     },
     "metadata": {},
     "output_type": "display_data"
    },
    {
     "data": {
      "application/vnd.plotly.v1+json": {
       "config": {
        "plotlyServerURL": "https://plot.ly"
       },
       "data": [
        {
         "error_y": {
          "array": [
           null,
           86.81447528079374,
           106.40294966531235,
           86.11692027249497,
           90.32617331551812,
           87.99161453416913,
           141.49303204890765,
           121.24495092360408
          ],
          "type": "data",
          "visible": true
         },
         "hovertemplate": "Block Size: %{x}<br>Arrival Time: %{y:.1f}ms<br>Sample Size: %{text}",
         "marker": {
          "color": "blue"
         },
         "name": "baseline (nft-devnet-6)",
         "text": [
          1,
          31,
          35,
          34,
          43,
          44,
          44,
          69
         ],
         "type": "bar",
         "x": [
          "529-1081KB",
          "1081-1633KB",
          "1633-2185KB",
          "2185-2737KB",
          "2737-3289KB",
          "3289-3841KB",
          "3841-4394KB",
          "4394-4946KB"
         ],
         "y": [
          2770.8,
          2927.1612903225805,
          3189.7771428571427,
          3281.370588235294,
          3386.9162790697674,
          3486.4636363636364,
          3757.195454545454,
          3897.715942028985
         ]
        },
        {
         "error_y": {
          "array": [
           null,
           64.40702153551992,
           87.68278208628105,
           158.2009210729706,
           219.91473009107276,
           330.7234294777973,
           406.626424506749,
           505.8736676112105,
           433.77926666181753
          ],
          "type": "data",
          "visible": true
         },
         "hovertemplate": "Block Size: %{x}<br>Arrival Time: %{y:.1f}ms<br>Sample Size: %{text}",
         "marker": {
          "color": "green"
         },
         "name": "rlnc (nft-devnet-5)",
         "text": [
          1,
          13,
          41,
          68,
          17,
          10,
          8,
          14,
          127
         ],
         "type": "bar",
         "x": [
          "0-529KB",
          "529-1081KB",
          "1081-1633KB",
          "1633-2185KB",
          "2185-2737KB",
          "2737-3289KB",
          "3289-3841KB",
          "3841-4394KB",
          "4394-4946KB"
         ],
         "y": [
          2553.75,
          2736.826923076923,
          2840.743902439024,
          3015.4301470588234,
          3528.8088235294117,
          3681.175,
          4049.8125,
          4267.928571428572,
          4346.842519685039
         ]
        }
       ],
       "layout": {
        "barmode": "group",
        "height": 600,
        "legend": {
         "bgcolor": "rgba(255,255,255,0.8)",
         "x": 0.01,
         "y": 0.99
        },
        "plot_bgcolor": "white",
        "template": {
         "data": {
          "bar": [
           {
            "error_x": {
             "color": "#2a3f5f"
            },
            "error_y": {
             "color": "#2a3f5f"
            },
            "marker": {
             "line": {
              "color": "#E5ECF6",
              "width": 0.5
             },
             "pattern": {
              "fillmode": "overlay",
              "size": 10,
              "solidity": 0.2
             }
            },
            "type": "bar"
           }
          ],
          "barpolar": [
           {
            "marker": {
             "line": {
              "color": "#E5ECF6",
              "width": 0.5
             },
             "pattern": {
              "fillmode": "overlay",
              "size": 10,
              "solidity": 0.2
             }
            },
            "type": "barpolar"
           }
          ],
          "carpet": [
           {
            "aaxis": {
             "endlinecolor": "#2a3f5f",
             "gridcolor": "white",
             "linecolor": "white",
             "minorgridcolor": "white",
             "startlinecolor": "#2a3f5f"
            },
            "baxis": {
             "endlinecolor": "#2a3f5f",
             "gridcolor": "white",
             "linecolor": "white",
             "minorgridcolor": "white",
             "startlinecolor": "#2a3f5f"
            },
            "type": "carpet"
           }
          ],
          "choropleth": [
           {
            "colorbar": {
             "outlinewidth": 0,
             "ticks": ""
            },
            "type": "choropleth"
           }
          ],
          "contour": [
           {
            "colorbar": {
             "outlinewidth": 0,
             "ticks": ""
            },
            "colorscale": [
             [
              0,
              "#0d0887"
             ],
             [
              0.1111111111111111,
              "#46039f"
             ],
             [
              0.2222222222222222,
              "#7201a8"
             ],
             [
              0.3333333333333333,
              "#9c179e"
             ],
             [
              0.4444444444444444,
              "#bd3786"
             ],
             [
              0.5555555555555556,
              "#d8576b"
             ],
             [
              0.6666666666666666,
              "#ed7953"
             ],
             [
              0.7777777777777778,
              "#fb9f3a"
             ],
             [
              0.8888888888888888,
              "#fdca26"
             ],
             [
              1,
              "#f0f921"
             ]
            ],
            "type": "contour"
           }
          ],
          "contourcarpet": [
           {
            "colorbar": {
             "outlinewidth": 0,
             "ticks": ""
            },
            "type": "contourcarpet"
           }
          ],
          "heatmap": [
           {
            "colorbar": {
             "outlinewidth": 0,
             "ticks": ""
            },
            "colorscale": [
             [
              0,
              "#0d0887"
             ],
             [
              0.1111111111111111,
              "#46039f"
             ],
             [
              0.2222222222222222,
              "#7201a8"
             ],
             [
              0.3333333333333333,
              "#9c179e"
             ],
             [
              0.4444444444444444,
              "#bd3786"
             ],
             [
              0.5555555555555556,
              "#d8576b"
             ],
             [
              0.6666666666666666,
              "#ed7953"
             ],
             [
              0.7777777777777778,
              "#fb9f3a"
             ],
             [
              0.8888888888888888,
              "#fdca26"
             ],
             [
              1,
              "#f0f921"
             ]
            ],
            "type": "heatmap"
           }
          ],
          "heatmapgl": [
           {
            "colorbar": {
             "outlinewidth": 0,
             "ticks": ""
            },
            "colorscale": [
             [
              0,
              "#0d0887"
             ],
             [
              0.1111111111111111,
              "#46039f"
             ],
             [
              0.2222222222222222,
              "#7201a8"
             ],
             [
              0.3333333333333333,
              "#9c179e"
             ],
             [
              0.4444444444444444,
              "#bd3786"
             ],
             [
              0.5555555555555556,
              "#d8576b"
             ],
             [
              0.6666666666666666,
              "#ed7953"
             ],
             [
              0.7777777777777778,
              "#fb9f3a"
             ],
             [
              0.8888888888888888,
              "#fdca26"
             ],
             [
              1,
              "#f0f921"
             ]
            ],
            "type": "heatmapgl"
           }
          ],
          "histogram": [
           {
            "marker": {
             "pattern": {
              "fillmode": "overlay",
              "size": 10,
              "solidity": 0.2
             }
            },
            "type": "histogram"
           }
          ],
          "histogram2d": [
           {
            "colorbar": {
             "outlinewidth": 0,
             "ticks": ""
            },
            "colorscale": [
             [
              0,
              "#0d0887"
             ],
             [
              0.1111111111111111,
              "#46039f"
             ],
             [
              0.2222222222222222,
              "#7201a8"
             ],
             [
              0.3333333333333333,
              "#9c179e"
             ],
             [
              0.4444444444444444,
              "#bd3786"
             ],
             [
              0.5555555555555556,
              "#d8576b"
             ],
             [
              0.6666666666666666,
              "#ed7953"
             ],
             [
              0.7777777777777778,
              "#fb9f3a"
             ],
             [
              0.8888888888888888,
              "#fdca26"
             ],
             [
              1,
              "#f0f921"
             ]
            ],
            "type": "histogram2d"
           }
          ],
          "histogram2dcontour": [
           {
            "colorbar": {
             "outlinewidth": 0,
             "ticks": ""
            },
            "colorscale": [
             [
              0,
              "#0d0887"
             ],
             [
              0.1111111111111111,
              "#46039f"
             ],
             [
              0.2222222222222222,
              "#7201a8"
             ],
             [
              0.3333333333333333,
              "#9c179e"
             ],
             [
              0.4444444444444444,
              "#bd3786"
             ],
             [
              0.5555555555555556,
              "#d8576b"
             ],
             [
              0.6666666666666666,
              "#ed7953"
             ],
             [
              0.7777777777777778,
              "#fb9f3a"
             ],
             [
              0.8888888888888888,
              "#fdca26"
             ],
             [
              1,
              "#f0f921"
             ]
            ],
            "type": "histogram2dcontour"
           }
          ],
          "mesh3d": [
           {
            "colorbar": {
             "outlinewidth": 0,
             "ticks": ""
            },
            "type": "mesh3d"
           }
          ],
          "parcoords": [
           {
            "line": {
             "colorbar": {
              "outlinewidth": 0,
              "ticks": ""
             }
            },
            "type": "parcoords"
           }
          ],
          "pie": [
           {
            "automargin": true,
            "type": "pie"
           }
          ],
          "scatter": [
           {
            "fillpattern": {
             "fillmode": "overlay",
             "size": 10,
             "solidity": 0.2
            },
            "type": "scatter"
           }
          ],
          "scatter3d": [
           {
            "line": {
             "colorbar": {
              "outlinewidth": 0,
              "ticks": ""
             }
            },
            "marker": {
             "colorbar": {
              "outlinewidth": 0,
              "ticks": ""
             }
            },
            "type": "scatter3d"
           }
          ],
          "scattercarpet": [
           {
            "marker": {
             "colorbar": {
              "outlinewidth": 0,
              "ticks": ""
             }
            },
            "type": "scattercarpet"
           }
          ],
          "scattergeo": [
           {
            "marker": {
             "colorbar": {
              "outlinewidth": 0,
              "ticks": ""
             }
            },
            "type": "scattergeo"
           }
          ],
          "scattergl": [
           {
            "marker": {
             "colorbar": {
              "outlinewidth": 0,
              "ticks": ""
             }
            },
            "type": "scattergl"
           }
          ],
          "scattermapbox": [
           {
            "marker": {
             "colorbar": {
              "outlinewidth": 0,
              "ticks": ""
             }
            },
            "type": "scattermapbox"
           }
          ],
          "scatterpolar": [
           {
            "marker": {
             "colorbar": {
              "outlinewidth": 0,
              "ticks": ""
             }
            },
            "type": "scatterpolar"
           }
          ],
          "scatterpolargl": [
           {
            "marker": {
             "colorbar": {
              "outlinewidth": 0,
              "ticks": ""
             }
            },
            "type": "scatterpolargl"
           }
          ],
          "scatterternary": [
           {
            "marker": {
             "colorbar": {
              "outlinewidth": 0,
              "ticks": ""
             }
            },
            "type": "scatterternary"
           }
          ],
          "surface": [
           {
            "colorbar": {
             "outlinewidth": 0,
             "ticks": ""
            },
            "colorscale": [
             [
              0,
              "#0d0887"
             ],
             [
              0.1111111111111111,
              "#46039f"
             ],
             [
              0.2222222222222222,
              "#7201a8"
             ],
             [
              0.3333333333333333,
              "#9c179e"
             ],
             [
              0.4444444444444444,
              "#bd3786"
             ],
             [
              0.5555555555555556,
              "#d8576b"
             ],
             [
              0.6666666666666666,
              "#ed7953"
             ],
             [
              0.7777777777777778,
              "#fb9f3a"
             ],
             [
              0.8888888888888888,
              "#fdca26"
             ],
             [
              1,
              "#f0f921"
             ]
            ],
            "type": "surface"
           }
          ],
          "table": [
           {
            "cells": {
             "fill": {
              "color": "#EBF0F8"
             },
             "line": {
              "color": "white"
             }
            },
            "header": {
             "fill": {
              "color": "#C8D4E3"
             },
             "line": {
              "color": "white"
             }
            },
            "type": "table"
           }
          ]
         },
         "layout": {
          "annotationdefaults": {
           "arrowcolor": "#2a3f5f",
           "arrowhead": 0,
           "arrowwidth": 1
          },
          "autotypenumbers": "strict",
          "coloraxis": {
           "colorbar": {
            "outlinewidth": 0,
            "ticks": ""
           }
          },
          "colorscale": {
           "diverging": [
            [
             0,
             "#8e0152"
            ],
            [
             0.1,
             "#c51b7d"
            ],
            [
             0.2,
             "#de77ae"
            ],
            [
             0.3,
             "#f1b6da"
            ],
            [
             0.4,
             "#fde0ef"
            ],
            [
             0.5,
             "#f7f7f7"
            ],
            [
             0.6,
             "#e6f5d0"
            ],
            [
             0.7,
             "#b8e186"
            ],
            [
             0.8,
             "#7fbc41"
            ],
            [
             0.9,
             "#4d9221"
            ],
            [
             1,
             "#276419"
            ]
           ],
           "sequential": [
            [
             0,
             "#0d0887"
            ],
            [
             0.1111111111111111,
             "#46039f"
            ],
            [
             0.2222222222222222,
             "#7201a8"
            ],
            [
             0.3333333333333333,
             "#9c179e"
            ],
            [
             0.4444444444444444,
             "#bd3786"
            ],
            [
             0.5555555555555556,
             "#d8576b"
            ],
            [
             0.6666666666666666,
             "#ed7953"
            ],
            [
             0.7777777777777778,
             "#fb9f3a"
            ],
            [
             0.8888888888888888,
             "#fdca26"
            ],
            [
             1,
             "#f0f921"
            ]
           ],
           "sequentialminus": [
            [
             0,
             "#0d0887"
            ],
            [
             0.1111111111111111,
             "#46039f"
            ],
            [
             0.2222222222222222,
             "#7201a8"
            ],
            [
             0.3333333333333333,
             "#9c179e"
            ],
            [
             0.4444444444444444,
             "#bd3786"
            ],
            [
             0.5555555555555556,
             "#d8576b"
            ],
            [
             0.6666666666666666,
             "#ed7953"
            ],
            [
             0.7777777777777778,
             "#fb9f3a"
            ],
            [
             0.8888888888888888,
             "#fdca26"
            ],
            [
             1,
             "#f0f921"
            ]
           ]
          },
          "colorway": [
           "#636efa",
           "#EF553B",
           "#00cc96",
           "#ab63fa",
           "#FFA15A",
           "#19d3f3",
           "#FF6692",
           "#B6E880",
           "#FF97FF",
           "#FECB52"
          ],
          "font": {
           "color": "#2a3f5f"
          },
          "geo": {
           "bgcolor": "white",
           "lakecolor": "white",
           "landcolor": "#E5ECF6",
           "showlakes": true,
           "showland": true,
           "subunitcolor": "white"
          },
          "hoverlabel": {
           "align": "left"
          },
          "hovermode": "closest",
          "mapbox": {
           "style": "light"
          },
          "paper_bgcolor": "white",
          "plot_bgcolor": "#E5ECF6",
          "polar": {
           "angularaxis": {
            "gridcolor": "white",
            "linecolor": "white",
            "ticks": ""
           },
           "bgcolor": "#E5ECF6",
           "radialaxis": {
            "gridcolor": "white",
            "linecolor": "white",
            "ticks": ""
           }
          },
          "scene": {
           "xaxis": {
            "backgroundcolor": "#E5ECF6",
            "gridcolor": "white",
            "gridwidth": 2,
            "linecolor": "white",
            "showbackground": true,
            "ticks": "",
            "zerolinecolor": "white"
           },
           "yaxis": {
            "backgroundcolor": "#E5ECF6",
            "gridcolor": "white",
            "gridwidth": 2,
            "linecolor": "white",
            "showbackground": true,
            "ticks": "",
            "zerolinecolor": "white"
           },
           "zaxis": {
            "backgroundcolor": "#E5ECF6",
            "gridcolor": "white",
            "gridwidth": 2,
            "linecolor": "white",
            "showbackground": true,
            "ticks": "",
            "zerolinecolor": "white"
           }
          },
          "shapedefaults": {
           "line": {
            "color": "#2a3f5f"
           }
          },
          "ternary": {
           "aaxis": {
            "gridcolor": "white",
            "linecolor": "white",
            "ticks": ""
           },
           "baxis": {
            "gridcolor": "white",
            "linecolor": "white",
            "ticks": ""
           },
           "bgcolor": "#E5ECF6",
           "caxis": {
            "gridcolor": "white",
            "linecolor": "white",
            "ticks": ""
           }
          },
          "title": {
           "x": 0.05
          },
          "xaxis": {
           "automargin": true,
           "gridcolor": "white",
           "linecolor": "white",
           "ticks": "",
           "title": {
            "standoff": 15
           },
           "zerolinecolor": "white",
           "zerolinewidth": 2
          },
          "yaxis": {
           "automargin": true,
           "gridcolor": "white",
           "linecolor": "white",
           "ticks": "",
           "title": {
            "standoff": 15
           },
           "zerolinecolor": "white",
           "zerolinewidth": 2
          }
         }
        },
        "title": {
         "text": "Effect of Block Size on P95 Arrival Time Across Networks"
        },
        "width": 1000,
        "xaxis": {
         "anchor": "y",
         "domain": [
          0,
          1
         ],
         "title": {
          "text": "Block Size"
         }
        },
        "yaxis": {
         "anchor": "x",
         "domain": [
          0,
          1
         ],
         "title": {
          "text": "Arrival Time (ms)"
         }
        }
       }
      }
     },
     "metadata": {},
     "output_type": "display_data"
    }
   ],
   "source": [
    "def create_multi_network_block_size_bin_analysis(metrics, metric='p95_arrival_time'):\n",
    "    \"\"\"\n",
    "    Create a bar chart comparing arrival times binned by block size ranges across multiple networks.\n",
    "    \n",
    "    Args:\n",
    "        metrics (dict): Dictionary with network keys and metrics DataFrames as values\n",
    "        metric (str): The metric to plot\n",
    "        \n",
    "    Returns:\n",
    "        plotly.graph_objects.Figure: The plotly figure\n",
    "    \"\"\"\n",
    "    # Collect all block sizes to determine appropriate bins\n",
    "    all_block_sizes = []\n",
    "    for network, network_metrics in metrics.items():\n",
    "        valid_sizes = network_metrics['block_total_bytes'].dropna().values\n",
    "        all_block_sizes.extend(valid_sizes)\n",
    "    \n",
    "    # Determine bin edges using quantiles or other method if there's enough data\n",
    "    if len(all_block_sizes) > 10:\n",
    "        # Use freedman-diaconis rule to determine bin width\n",
    "        q75, q25 = np.percentile(all_block_sizes, [75, 25])\n",
    "        iqr = q75 - q25\n",
    "        bin_width = 2 * iqr * (len(all_block_sizes) ** (-1/3))\n",
    "        \n",
    "        # Ensure bin width is reasonable (at least 10KB)\n",
    "        bin_width = max(bin_width, 10*1024)\n",
    "        \n",
    "        # Create bins\n",
    "        min_size = min(all_block_sizes)\n",
    "        max_size = max(all_block_sizes)\n",
    "        \n",
    "        # Determine number of bins, but limit to a reasonable number\n",
    "        num_bins = min(10, int(np.ceil((max_size - min_size) / bin_width)))\n",
    "        \n",
    "        # Create bins with more even distribution\n",
    "        size_bins = np.linspace(min_size, max_size, num_bins + 1).tolist()\n",
    "    else:\n",
    "        # Not enough data, use some reasonable defaults\n",
    "        size_bins = [0, 100*1024, 500*1024, float('inf')]\n",
    "    \n",
    "    # Add 0 as the first bin edge if it's not there\n",
    "    if size_bins[0] > 0:\n",
    "        size_bins.insert(0, 0)\n",
    "    \n",
    "    # Add infinity as the last bin edge if it's not there\n",
    "    if size_bins[-1] != float('inf'):\n",
    "        size_bins.append(float('inf'))\n",
    "    \n",
    "    # Create labels for the bins\n",
    "    bin_labels = []\n",
    "    for i in range(len(size_bins) - 1):\n",
    "        if size_bins[i+1] == float('inf'):\n",
    "            bin_labels.append(f'>{size_bins[i]/1024:.0f}KB')\n",
    "        else:\n",
    "            bin_labels.append(f'{size_bins[i]/1024:.0f}-{size_bins[i+1]/1024:.0f}KB')\n",
    "    \n",
    "    # Process each network's data\n",
    "    binned_metrics = {}\n",
    "    \n",
    "    for network, network_metrics in metrics.items():\n",
    "        # Drop NaN values and create a copy for safe modification\n",
    "        network_metrics_filtered = network_metrics.dropna(subset=['block_total_bytes']).copy()\n",
    "        \n",
    "        # Add block size bin column using .loc to avoid SettingWithCopyWarning\n",
    "        network_metrics_filtered.loc[:, 'block_size_bin'] = pd.cut(\n",
    "            network_metrics_filtered['block_total_bytes'], \n",
    "            bins=size_bins, \n",
    "            labels=bin_labels\n",
    "        )\n",
    "        \n",
    "        # Group by block size bin with observed=True to avoid FutureWarning\n",
    "        binned = network_metrics_filtered.groupby('block_size_bin', observed=True).agg({\n",
    "            metric: ['mean', 'std', 'count']\n",
    "        }).reset_index()\n",
    "        \n",
    "        binned.columns = ['block_size_bin', 'mean', 'std', 'count']\n",
    "        binned_metrics[network] = binned\n",
    "    \n",
    "    # Create figure\n",
    "    fig = make_subplots(rows=1, cols=1)\n",
    "    \n",
    "    # Colors for each network\n",
    "    colors = {'devnet-5': 'green', 'devnet-6': 'blue', 'devnet-7': 'red'}\n",
    "    \n",
    "    # Create display labels for networks\n",
    "    network_labels = {network: config[\"networks\"][network][\"label\"] for network in metrics.keys()}\n",
    "    \n",
    "    # Add bars for each network\n",
    "    for network, binned in binned_metrics.items():\n",
    "        fig.add_trace(\n",
    "            go.Bar(\n",
    "                x=binned['block_size_bin'],\n",
    "                y=binned['mean'],\n",
    "                name=f'{network_labels[network]} ({config[\"networks\"][network][\"network\"]})',\n",
    "                error_y=dict(type='data', array=binned['std'], visible=True),\n",
    "                marker_color=colors[network],\n",
    "                text=binned['count'],\n",
    "                hovertemplate='Block Size: %{x}<br>Arrival Time: %{y:.1f}ms<br>Sample Size: %{text}'\n",
    "            )\n",
    "        )\n",
    "    \n",
    "    # Update layout\n",
    "    fig.update_layout(\n",
    "        title=f\"Effect of Block Size on {metric.replace('_arrival_time', '').title()} Arrival Time Across Networks\",\n",
    "        xaxis_title=\"Block Size\",\n",
    "        yaxis_title=\"Arrival Time (ms)\",\n",
    "        legend=dict(x=0.01, y=0.99, bgcolor='rgba(255,255,255,0.8)'),\n",
    "        barmode='group',\n",
    "        height=600,\n",
    "        width=1000,\n",
    "        plot_bgcolor='white'\n",
    "    )\n",
    "    \n",
    "    return fig\n",
    "\n",
    "# Create binned analysis for different metrics\n",
    "for metric in ['min_arrival_time', 'p50_arrival_time', 'p95_arrival_time']:\n",
    "    fig = create_multi_network_block_size_bin_analysis(metrics, metric)\n",
    "    fig.show()"
   ]
  },
  {
   "cell_type": "markdown",
   "metadata": {},
   "source": [
    "## Block Size vs Arrival Time Scatter Plot\n",
    "\n",
    "Let's create scatter plots to visualize how block size affects arrival times in each network."
   ]
  },
  {
   "cell_type": "code",
   "execution_count": 7,
   "metadata": {},
   "outputs": [
    {
     "data": {
      "application/vnd.plotly.v1+json": {
       "config": {
        "plotlyServerURL": "https://plot.ly"
       },
       "data": [
        {
         "hovertemplate": "Slot: %{text}<br>Block Size: %{x} bytes<br>%{yaxis.title.text}: %{y:.1f}ms",
         "marker": {
          "color": "blue",
          "line": {
           "color": "blue",
           "width": 1
          },
          "opacity": 0.7,
          "size": 8,
          "symbol": "square"
         },
         "mode": "markers",
         "name": "baseline (nft-devnet-6)",
         "text": [
          300,
          301,
          302,
          303,
          304,
          305,
          306,
          307,
          308,
          309,
          310,
          311,
          312,
          313,
          314,
          315,
          316,
          317,
          318,
          319,
          320,
          321,
          322,
          323,
          324,
          325,
          326,
          327,
          328,
          329,
          330,
          331,
          332,
          333,
          334,
          335,
          336,
          337,
          338,
          339,
          340,
          341,
          342,
          343,
          344,
          345,
          346,
          347,
          348,
          349,
          350,
          351,
          352,
          353,
          354,
          355,
          356,
          357,
          358,
          359,
          360,
          361,
          362,
          363,
          364,
          365,
          366,
          367,
          368,
          369,
          370,
          371,
          372,
          373,
          374,
          375,
          376,
          377,
          378,
          379,
          380,
          381,
          382,
          383,
          384,
          385,
          386,
          387,
          388,
          389,
          390,
          391,
          392,
          393,
          394,
          395,
          396,
          397,
          398,
          399,
          400,
          401,
          402,
          403,
          404,
          405,
          406,
          407,
          408,
          409,
          410,
          411,
          412,
          413,
          414,
          415,
          416,
          417,
          418,
          419,
          420,
          421,
          422,
          423,
          424,
          425,
          426,
          427,
          428,
          429,
          430,
          431,
          432,
          433,
          434,
          435,
          436,
          437,
          438,
          439,
          440,
          441,
          442,
          443,
          444,
          445,
          446,
          447,
          448,
          449,
          450,
          451,
          452,
          453,
          454,
          455,
          456,
          457,
          458,
          459,
          460,
          461,
          462,
          463,
          464,
          465,
          466,
          467,
          468,
          469,
          470,
          471,
          472,
          473,
          474,
          475,
          476,
          477,
          478,
          479,
          480,
          481,
          482,
          483,
          484,
          485,
          486,
          487,
          488,
          489,
          490,
          491,
          492,
          493,
          494,
          495,
          496,
          497,
          498,
          499,
          500,
          501,
          502,
          503,
          504,
          505,
          506,
          507,
          508,
          509,
          510,
          511,
          512,
          513,
          514,
          515,
          516,
          517,
          518,
          519,
          520,
          521,
          522,
          523,
          524,
          525,
          526,
          527,
          528,
          529,
          530,
          531,
          532,
          533,
          534,
          535,
          536,
          537,
          538,
          539,
          540,
          541,
          542,
          543,
          544,
          545,
          546,
          547,
          548,
          549,
          550,
          551,
          552,
          553,
          554,
          555,
          556,
          557,
          558,
          559,
          560,
          561,
          562,
          563,
          564,
          565,
          566,
          567,
          568,
          569,
          570,
          571,
          572,
          573,
          574,
          575,
          576,
          577,
          578,
          579,
          580,
          581,
          582,
          583,
          584,
          585,
          586,
          587,
          588,
          589,
          590,
          591,
          592,
          593,
          594,
          595,
          596,
          597,
          598,
          599,
          600
         ],
         "type": "scatter",
         "x": [
          3315860,
          3063098,
          3716452,
          3614174,
          2811514,
          4267527,
          3017836,
          3541133,
          3515714,
          2887195,
          3790370,
          2840466,
          3894413,
          3414023,
          3264129,
          3866052,
          2357723,
          4492807,
          3069566,
          3489410,
          3840038,
          2735540,
          4269585,
          3091755,
          3642831,
          3691027,
          2909973,
          4117046,
          2236781,
          4495746,
          2812395,
          3865169,
          3614467,
          2709530,
          4267820,
          2210769,
          4871795,
          2542446,
          3895000,
          3590219,
          3037089,
          3740405,
          3814322,
          2809751,
          4443135,
          2131561,
          5021986,
          1028827,
          4971727,
          1188715,
          4896634,
          1772559,
          5050349,
          1764624,
          4898397,
          2048980,
          4627857,
          1861318,
          5022866,
          1540815,
          4723670,
          1590189,
          4800232,
          2870006,
          3794778,
          3238707,
          3065744,
          3688970,
          3814618,
          2786093,
          4469147,
          1936409,
          4922645,
          1436477,
          4698835,
          1542579,
          4699124,
          2600055,
          4046658,
          3144660,
          3265894,
          3968918,
          2336708,
          4468264,
          2459709,
          4370687,
          3073680,
          4371568,
          2288509,
          4847549,
          1890856,
          4798468,
          1511274,
          5002149,
          1113916,
          4854899,
          2441047,
          3966274,
          2993593,
          4498098,
          2239134,
          4998620,
          1766976,
          4824481,
          1661459,
          4697952,
          1610321,
          4874151,
          1364029,
          4899868,
          1182247,
          4950714,
          1571529,
          4496335,
          2769782,
          4796409,
          1938763,
          5051817,
          1772562,
          4624622,
          1394157,
          5053579,
          1165348,
          4730431,
          2467648,
          4150993,
          3002411,
          4198902,
          2791383,
          4496333,
          2093358,
          4775102,
          1537875,
          4873269,
          1511569,
          4775103,
          1718188,
          4623155,
          1635156,
          4922641,
          2544505,
          4220503,
          3096164,
          3391247,
          3642241,
          2659566,
          4344972,
          2059116,
          4650340,
          2463532,
          5049170,
          2099237,
          4675469,
          2022674,
          5005675,
          1695410,
          4902805,
          1487028,
          4874737,
          1541403,
          4673413,
          1541696,
          4649461,
          2763020,
          3941435,
          3162144,
          4367159,
          2508792,
          4995975,
          1737729,
          5023161,
          1445883,
          4900456,
          1920690,
          4697070,
          1387394,
          4997442,
          2418272,
          3919246,
          2989475,
          3641360,
          3439445,
          3847096,
          2862948,
          4092799,
          2214888,
          4622055,
          2843518,
          3821823,
          3369483,
          2836169,
          4021100,
          2106811,
          4769999,
          1262093,
          4796600,
          2614113,
          3916758,
          3387850,
          3288507,
          3765389,
          2608822,
          4141456,
          3337884,
          3363604,
          3639738,
          2759601,
          4368508,
          2186610,
          4948557,
          2489640,
          4219787,
          3467064,
          2993415,
          4196127,
          2389415,
          4497982,
          2891130,
          3821825,
          3443403,
          2937277,
          4268284,
          2013641,
          4902119,
          1546461,
          4425239,
          3192693,
          3369484,
          3641503,
          2711694,
          4395695,
          2689501,
          4322365,
          3240011,
          3365956,
          3966431,
          2357816,
          4593504,
          2941981,
          3816825,
          3438995,
          2810451,
          3991560,
          2133408,
          4920489,
          2016286,
          4450367,
          2748289,
          4825554,
          2213799,
          4373211,
          2117686,
          5052606,
          1191700,
          4873756,
          1235493,
          4547066,
          1646980,
          4525463,
          2592218,
          4773236,
          2142819,
          4776469,
          1587607,
          4850096,
          1541757,
          4800127,
          2845281,
          3670750,
          3843130,
          2610880,
          4293119,
          3116127,
          3164913,
          3616667,
          4069009,
          2565619,
          4346909,
          2887309,
          3666044,
          3339355,
          4067831,
          2459512,
          4945909,
          1390683,
          4848624,
          1719431,
          4471968,
          2250100,
          5051429,
          1263857,
          5051136,
          1895635,
          4498274,
          1958970,
          4928719,
          2148697,
          4948556,
          1991157,
          4625985,
          2168537
         ],
         "y": [
          2486,
          2419,
          2417,
          2528,
          2405,
          2667,
          2518,
          2466,
          2531,
          2356,
          2493,
          2385,
          2620,
          2466,
          2456,
          2491,
          2405,
          2587,
          2491,
          2532,
          2510,
          2410,
          2562,
          2407,
          2549,
          2554,
          2340,
          2581,
          2336,
          2573,
          2391,
          2461,
          2497,
          2414,
          2623,
          2331,
          2671,
          2413,
          2521,
          2541,
          2451,
          2493,
          2527,
          2401,
          2586,
          2272,
          2672,
          2157,
          2740,
          2253,
          2601,
          2281,
          2733,
          2281,
          2594,
          2298,
          2566,
          2300,
          2698,
          2239,
          2633,
          2247,
          2596,
          2387,
          2448,
          2432,
          2404,
          2511,
          2517,
          2397,
          2628,
          2306,
          2719,
          2207,
          2716,
          2259,
          2952,
          2362,
          2468,
          2447,
          2428,
          2529,
          2403,
          2557,
          2435,
          2665,
          2393,
          2561,
          2345,
          2695,
          2330,
          2651,
          2211,
          2702,
          2199,
          2565,
          2385,
          2590,
          2392,
          2557,
          2326,
          2693,
          2219,
          2639,
          2286,
          2567,
          2278,
          2689,
          2252,
          2640,
          2198,
          2603,
          2264,
          2758,
          2447,
          2713,
          2262,
          2693,
          2304,
          2553,
          2193,
          2663,
          2211,
          2601,
          2348,
          2496,
          2437,
          2639,
          2424,
          2612,
          2341,
          2583,
          2234,
          2710,
          2218,
          2689,
          2287,
          2590,
          2312,
          2620,
          2393,
          2642,
          2426,
          2452,
          2495,
          2361,
          2658,
          2343,
          2565,
          2352,
          2752,
          2279,
          2725,
          2241,
          2676,
          2237,
          2606,
          2271,
          2677,
          2234,
          2704,
          2227,
          2604,
          2370,
          2547,
          2398,
          2548,
          2379,
          2665,
          2309,
          2829,
          2258,
          2726,
          2334,
          2645,
          2221,
          2646,
          2369,
          2506,
          2364,
          2532,
          2439,
          2526,
          2418,
          2608,
          2347,
          2559,
          2441,
          2556,
          2485,
          2363,
          2498,
          2291,
          2645,
          2194,
          2579,
          2421,
          2534,
          2504,
          2457,
          2541,
          2364,
          2570,
          2490,
          2491,
          2469,
          2368,
          2587,
          2305,
          2671,
          2362,
          2598,
          2513,
          2369,
          2853,
          2378,
          2574,
          2416,
          2493,
          2442,
          2464,
          2659,
          2330,
          2618,
          2245,
          2580,
          2506,
          2491,
          2509,
          2345,
          2551,
          2429,
          2555,
          2476,
          2448,
          2493,
          2351,
          2656,
          2445,
          2484,
          2450,
          2406,
          2514,
          2324,
          2754,
          2337,
          2645,
          2410,
          2603,
          2359,
          2645,
          2355,
          2720,
          2231,
          2673,
          2186,
          2574,
          2287,
          2553,
          2364,
          2608,
          2414,
          2586,
          2242,
          2713,
          2303,
          2684,
          2360,
          2583,
          2533,
          2392,
          2593,
          2445,
          2434,
          2498,
          3080,
          2418,
          2618,
          2412,
          2538,
          2463,
          2471,
          2337,
          2683,
          2220,
          2741,
          2238,
          2528,
          2432,
          2637,
          2234,
          2729,
          2317,
          2568,
          2264,
          2753,
          2345,
          2616,
          2361,
          2582,
          2337
         ]
        },
        {
         "hoverinfo": "skip",
         "line": {
          "color": "blue",
          "dash": "dash",
          "width": 2
         },
         "mode": "lines",
         "name": "baseline Trend",
         "type": "scatter",
         "x": [
          1028827,
          1069481.0606060605,
          1110135.121212121,
          1150789.1818181819,
          1191443.2424242424,
          1232097.303030303,
          1272751.3636363638,
          1313405.4242424243,
          1354059.4848484849,
          1394713.5454545454,
          1435367.606060606,
          1476021.6666666667,
          1516675.7272727273,
          1557329.7878787878,
          1597983.8484848486,
          1638637.9090909092,
          1679291.9696969697,
          1719946.0303030303,
          1760600.0909090908,
          1801254.1515151516,
          1841908.2121212122,
          1882562.2727272727,
          1923216.3333333335,
          1963870.393939394,
          2004524.4545454546,
          2045178.5151515151,
          2085832.5757575757,
          2126486.6363636367,
          2167140.6969696973,
          2207794.757575758,
          2248448.8181818184,
          2289102.878787879,
          2329756.9393939395,
          2370411,
          2411065.0606060605,
          2451719.121212121,
          2492373.1818181816,
          2533027.242424242,
          2573681.303030303,
          2614335.3636363638,
          2654989.4242424243,
          2695643.484848485,
          2736297.5454545454,
          2776951.6060606064,
          2817605.666666667,
          2858259.7272727275,
          2898913.787878788,
          2939567.8484848486,
          2980221.909090909,
          3020875.9696969697,
          3061530.0303030303,
          3102184.090909091,
          3142838.1515151514,
          3183492.2121212124,
          3224146.272727273,
          3264800.3333333335,
          3305454.393939394,
          3346108.4545454546,
          3386762.515151515,
          3427416.5757575757,
          3468070.6363636367,
          3508724.6969696973,
          3549378.757575758,
          3590032.8181818184,
          3630686.878787879,
          3671340.9393939395,
          3711995,
          3752649.0606060605,
          3793303.121212121,
          3833957.181818182,
          3874611.2424242427,
          3915265.303030303,
          3955919.3636363638,
          3996573.4242424243,
          4037227.484848485,
          4077881.5454545454,
          4118535.6060606064,
          4159189.666666667,
          4199843.7272727275,
          4240497.787878788,
          4281151.848484849,
          4321805.909090909,
          4362459.96969697,
          4403114.03030303,
          4443768.090909091,
          4484422.151515152,
          4525076.212121213,
          4565730.272727273,
          4606384.333333334,
          4647038.3939393945,
          4687692.454545455,
          4728346.515151516,
          4769000.575757576,
          4809654.636363637,
          4850308.696969697,
          4890962.757575758,
          4931616.818181818,
          4972270.878787879,
          5012924.939393939,
          5053579
         ],
         "y": [
          2187.1279314306316,
          2192.1659991219076,
          2197.204066813183,
          2202.242134504459,
          2207.280202195735,
          2212.3182698870105,
          2217.3563375782865,
          2222.394405269562,
          2227.432472960838,
          2232.470540652114,
          2237.5086083433894,
          2242.5466760346653,
          2247.5847437259413,
          2252.622811417217,
          2257.6608791084927,
          2262.6989467997682,
          2267.737014491044,
          2272.77508218232,
          2277.8131498735956,
          2282.8512175648716,
          2287.8892852561476,
          2292.927352947423,
          2297.965420638699,
          2303.0034883299745,
          2308.0415560212505,
          2313.0796237125264,
          2318.117691403802,
          2323.155759095078,
          2328.1938267863534,
          2333.2318944776293,
          2338.2699621689053,
          2343.308029860181,
          2348.3460975514568,
          2353.3841652427327,
          2358.422232934008,
          2363.460300625284,
          2368.4983683165597,
          2373.5364360078356,
          2378.5745036991116,
          2383.612571390387,
          2388.650639081663,
          2393.6887067729385,
          2398.7267744642145,
          2403.7648421554904,
          2408.802909846766,
          2413.840977538042,
          2418.879045229318,
          2423.9171129205934,
          2428.9551806118693,
          2433.9932483031453,
          2439.0313159944208,
          2444.0693836856967,
          2449.107451376972,
          2454.145519068248,
          2459.183586759524,
          2464.2216544507996,
          2469.2597221420756,
          2474.297789833351,
          2479.335857524627,
          2484.373925215903,
          2489.4119929071785,
          2494.4500605984545,
          2499.4881282897304,
          2504.526195981006,
          2509.564263672282,
          2514.6023313635574,
          2519.6403990548333,
          2524.6784667461093,
          2529.716534437385,
          2534.7546021286607,
          2539.7926698199362,
          2544.830737511212,
          2549.868805202488,
          2554.9068728937636,
          2559.9449405850396,
          2564.9830082763156,
          2570.021075967591,
          2575.059143658867,
          2580.097211350143,
          2585.1352790414185,
          2590.1733467326944,
          2595.21141442397,
          2600.249482115246,
          2605.2875498065214,
          2610.3256174977973,
          2615.3636851890733,
          2620.401752880349,
          2625.4398205716248,
          2630.4778882629007,
          2635.515955954176,
          2640.554023645452,
          2645.592091336728,
          2650.6301590280036,
          2655.6682267192796,
          2660.7062944105555,
          2665.744362101831,
          2670.782429793107,
          2675.8204974843825,
          2680.8585651756584,
          2685.896632866934
         ]
        },
        {
         "hovertemplate": "Slot: %{text}<br>Block Size: %{x} bytes<br>%{yaxis.title.text}: %{y:.1f}ms",
         "marker": {
          "color": "green",
          "line": {
           "color": "green",
           "width": 1
          },
          "opacity": 0.7,
          "size": 8,
          "symbol": "circle"
         },
         "mode": "markers",
         "name": "rlnc (nft-devnet-5)",
         "text": [
          300,
          301,
          302,
          303,
          304,
          305,
          306,
          307,
          308,
          309,
          310,
          311,
          312,
          313,
          314,
          315,
          316,
          317,
          318,
          319,
          320,
          321,
          322,
          323,
          324,
          325,
          326,
          327,
          328,
          329,
          330,
          331,
          332,
          333,
          334,
          335,
          336,
          337,
          338,
          339,
          340,
          341,
          342,
          343,
          344,
          345,
          346,
          347,
          348,
          349,
          350,
          351,
          352,
          353,
          354,
          355,
          356,
          357,
          358,
          359,
          360,
          361,
          362,
          363,
          364,
          365,
          366,
          367,
          368,
          369,
          370,
          371,
          372,
          373,
          374,
          375,
          376,
          377,
          378,
          379,
          380,
          381,
          382,
          383,
          384,
          385,
          386,
          387,
          388,
          389,
          390,
          391,
          392,
          393,
          394,
          395,
          396,
          397,
          398,
          399,
          400,
          401,
          402,
          403,
          404,
          405,
          406,
          407,
          408,
          409,
          410,
          411,
          412,
          413,
          414,
          415,
          416,
          417,
          418,
          419,
          420,
          421,
          422,
          423,
          424,
          425,
          426,
          427,
          428,
          429,
          430,
          431,
          432,
          433,
          434,
          435,
          436,
          437,
          438,
          439,
          440,
          441,
          442,
          443,
          444,
          445,
          446,
          447,
          448,
          449,
          450,
          451,
          452,
          453,
          454,
          455,
          456,
          457,
          458,
          459,
          460,
          461,
          462,
          463,
          464,
          465,
          466,
          467,
          468,
          469,
          470,
          471,
          472,
          473,
          474,
          475,
          476,
          477,
          478,
          479,
          480,
          481,
          482,
          483,
          484,
          485,
          486,
          487,
          488,
          489,
          490,
          491,
          492,
          493,
          494,
          495,
          496,
          497,
          498,
          499,
          500,
          501,
          502,
          503,
          504,
          505,
          506,
          507,
          508,
          509,
          510,
          511,
          512,
          513,
          514,
          515,
          516,
          517,
          518,
          519,
          520,
          521,
          522,
          523,
          524,
          525,
          526,
          527,
          528,
          529,
          530,
          531,
          532,
          533,
          534,
          535,
          536,
          537,
          538,
          539,
          540,
          541,
          542,
          543,
          544,
          545,
          546,
          547,
          548,
          549,
          550,
          551,
          552,
          553,
          554,
          555,
          556,
          557,
          558,
          559,
          560,
          561,
          562,
          563,
          564,
          565,
          566,
          567,
          568,
          569,
          570,
          571,
          572,
          573,
          574,
          575,
          576,
          577,
          578,
          579,
          580,
          581,
          582,
          583,
          584,
          585,
          586,
          587,
          588,
          589,
          590,
          591,
          592,
          593,
          594,
          595,
          596,
          597,
          598,
          599,
          600
         ],
         "type": "scatter",
         "x": [
          4501737,
          1973516,
          4729658,
          1671686,
          4701587,
          1018653,
          5053083,
          1496084,
          4878368,
          1697108,
          4950512,
          1845817,
          4651037,
          2215682,
          4523635,
          1521211,
          5048972,
          1043780,
          5048676,
          1596596,
          4871603,
          5064257,
          4662212,
          1470956,
          4838108,
          1747365,
          4561700,
          1822748,
          4812979,
          1722237,
          4687336,
          1521212,
          4881013,
          1445829,
          4725835,
          1493438,
          4855291,
          1593068,
          4774914,
          1470954,
          4799751,
          1370445,
          4825172,
          1797621,
          4622677,
          1219677,
          5048972,
          1091097,
          4821644,
          1847289,
          4445606,
          2274757,
          4146129,
          null,
          3581708,
          893013,
          5014001,
          541221,
          5064259,
          1320189,
          4536573,
          1395571,
          4860000,
          2777612,
          4008884,
          3079147,
          3204789,
          1898132,
          4381980,
          1596596,
          4607333,
          2501214,
          3881568,
          3179747,
          3274713,
          3802425,
          2601817,
          4486493,
          1973592,
          4556588,
          1847949,
          4528811,
          1873077,
          4603609,
          2096591,
          4779808,
          1672046,
          4838297,
          1898207,
          4461364,
          2074108,
          4813171,
          1169464,
          5056814,
          1747430,
          4482079,
          2350528,
          5059462,
          1722303,
          4753796,
          1873077,
          4856665,
          1169466,
          5049757,
          993561,
          5054171,
          1646917,
          4722202,
          2099237,
          4924702,
          2098062,
          4676056,
          2241781,
          4675177,
          2271320,
          4873268,
          2023851,
          4976431,
          2099239,
          4353204,
          1194594,
          4660631,
          2350528,
          4813170,
          1521272,
          5064459,
          1747432,
          4758501,
          1923336,
          4906628,
          1973593,
          4776575,
          1948464,
          4926465,
          1871901,
          4726023,
          2099239,
          4975255,
          2074109,
          4548650,
          2473234,
          3947611,
          2917911,
          3289553,
          3621228,
          2626948,
          4403460,
          2044864,
          5027864,
          1295111,
          4830947,
          918175,
          5062697,
          1420756,
          4863424,
          1847947,
          4733954,
          1571530,
          4838297,
          1822820,
          4433588,
          2023852,
          4778924,
          1797691,
          4599789,
          1847949,
          4903396,
          943304,
          5051815,
          1496142,
          4799057,
          1571530,
          4902218,
          1645741,
          5024337,
          1496141,
          4874738,
          1992842,
          4346148,
          2601818,
          4773046,
          1496143,
          5037857,
          1546400,
          4888556,
          1973594,
          4731607,
          2046923,
          4779221,
          1822818,
          4629328,
          1697175,
          4906923,
          641757,
          5056815,
          842788,
          5026685,
          742272,
          5050346,
          1722304,
          4470320,
          1939350,
          4624917,
          1018691,
          5049463,
          1444120,
          4846374,
          1445003,
          4947476,
          1746845,
          4571719,
          1923336,
          4820658,
          1018691,
          5064460,
          null,
          5064457,
          1772560,
          4838299,
          666886,
          4637267,
          1596658,
          5064459,
          1772561,
          4762910,
          2300271,
          3808011,
          3330560,
          3079269,
          3833140,
          2576688,
          4511622,
          1445884,
          5007145,
          1546400,
          4687525,
          1219724,
          5055636,
          1797691,
          4606256,
          2096886,
          4747621,
          1722304,
          4796705,
          1892912,
          4798755,
          1797690,
          4561878,
          1521272,
          5058873,
          1546399,
          4758791,
          2174626,
          4378332,
          2174623,
          4979369,
          1672045,
          4861076,
          1269982,
          5052404,
          1873077,
          4751442,
          2375657,
          3894708,
          3054141,
          3120413,
          3773471,
          2521726,
          4681645,
          1695412,
          4723749,
          1194626,
          5051621,
          1619499,
          4696373,
          2224381,
          4903295,
          1898281,
          4762511,
          2174710,
          4761333,
          2224970,
          4654348,
          2325491,
          4708429,
          1420810,
          5055252,
          1873150,
          4858328,
          2300361,
          4653466,
          2149580,
          4709605,
          2149581,
          4673010,
          1973671,
          4850093,
          1822890,
          4677420,
          1872857,
          4724738
         ],
         "y": [
          3122,
          2531,
          2783,
          2290,
          3083,
          2421,
          2869,
          2440,
          3209,
          2457,
          3136,
          2438,
          3101,
          2589,
          3293,
          2280,
          3229,
          2373,
          3298,
          2449,
          4174,
          3354,
          3130,
          2405,
          2712,
          2487,
          3050,
          2533,
          3056,
          2466,
          3231,
          2439,
          3209,
          2471,
          3107,
          2477,
          2978,
          2415,
          3136,
          2435,
          3415,
          2490,
          3446,
          2330,
          3307,
          2398,
          2995,
          2381,
          3172,
          2493,
          3085,
          2946,
          3663,
          3439,
          2820,
          2403,
          3122,
          2316,
          2604,
          2392,
          3160,
          2482,
          3161,
          2476,
          3029,
          3056,
          3061,
          2546,
          3192,
          2405,
          3102,
          2315,
          2898,
          2741,
          2828,
          2891,
          2750,
          2996,
          2498,
          3158,
          2301,
          3224,
          2558,
          3272,
          2547,
          3116,
          2460,
          3278,
          2503,
          3377,
          2571,
          3238,
          2344,
          3226,
          2496,
          3042,
          2713,
          3125,
          2341,
          2997,
          2548,
          3179,
          2424,
          3300,
          2440,
          3125,
          2544,
          3318,
          2550,
          3143,
          2530,
          3045,
          2605,
          3050,
          2380,
          3141,
          2542,
          2777,
          2574,
          3142,
          2449,
          3180,
          2797,
          3274,
          2397,
          3164,
          2466,
          2995,
          2546,
          3212,
          2529,
          2774,
          2553,
          3003,
          2513,
          3362,
          2553,
          3151,
          2545,
          3258,
          2894,
          2845,
          2707,
          2807,
          3378,
          2776,
          2992,
          2553,
          3035,
          2419,
          3103,
          2290,
          3320,
          2414,
          2769,
          2519,
          3001,
          2338,
          3111,
          2490,
          3057,
          2502,
          3073,
          2561,
          2573,
          2517,
          3173,
          2382,
          3173,
          2442,
          3148,
          2386,
          3124,
          2477,
          3148,
          2457,
          3108,
          2478,
          3192,
          2702,
          3091,
          2462,
          3250,
          2399,
          2932,
          2513,
          3054,
          2353,
          3124,
          2547,
          2990,
          2442,
          2990,
          2398,
          3093,
          2333,
          3302,
          2359,
          3256,
          2530,
          2966,
          2481,
          3391,
          2434,
          3080,
          2324,
          3099,
          2469,
          3165,
          2279,
          3281,
          2511,
          3053,
          2418,
          2724,
          3327,
          3120,
          2513,
          2826,
          2393,
          3279,
          2360,
          3160,
          2536,
          3109,
          2671,
          3265,
          2932,
          2847,
          2817,
          2766,
          3208,
          2425,
          3049,
          2444,
          3262,
          2450,
          3231,
          2489,
          2829,
          2337,
          3180,
          2455,
          3121,
          2512,
          2626,
          2463,
          3177,
          2379,
          2598,
          2539,
          3083,
          2634,
          3202,
          2568,
          3215,
          2521,
          2695,
          2450,
          3180,
          2552,
          3157,
          2797,
          2979,
          2657,
          2763,
          2961,
          2747,
          3204,
          2448,
          3393,
          2365,
          2797,
          2220,
          3146,
          2851,
          3235,
          2505,
          3101,
          2619,
          3085,
          2571,
          3278,
          2600,
          3170,
          2448,
          3170,
          2542,
          3134,
          2701,
          3238,
          2768,
          3044,
          2506,
          3105,
          2528,
          3043,
          2514,
          3111,
          2486,
          3049
         ]
        },
        {
         "hoverinfo": "skip",
         "line": {
          "color": "green",
          "dash": "dash",
          "width": 2
         },
         "mode": "lines",
         "name": "rlnc Trend",
         "type": "scatter",
         "x": [
          541221,
          586910.2828282828,
          632599.5656565656,
          678288.8484848485,
          723978.1313131313,
          769667.4141414141,
          815356.696969697,
          861045.9797979798,
          906735.2626262626,
          952424.5454545454,
          998113.8282828282,
          1043803.1111111111,
          1089492.393939394,
          1135181.6767676766,
          1180870.9595959596,
          1226560.2424242424,
          1272249.5252525252,
          1317938.808080808,
          1363628.0909090908,
          1409317.3737373739,
          1455006.6565656564,
          1500695.9393939395,
          1546385.2222222222,
          1592074.505050505,
          1637763.7878787878,
          1683453.0707070706,
          1729142.3535353534,
          1774831.6363636362,
          1820520.9191919193,
          1866210.202020202,
          1911899.4848484849,
          1957588.7676767677,
          2003278.0505050505,
          2048967.3333333333,
          2094656.616161616,
          2140345.898989899,
          2186035.1818181816,
          2231724.4646464647,
          2277413.7474747477,
          2323103.0303030303,
          2368792.313131313,
          2414481.595959596,
          2460170.878787879,
          2505860.1616161615,
          2551549.4444444445,
          2597238.7272727275,
          2642928.01010101,
          2688617.2929292927,
          2734306.5757575757,
          2779995.8585858587,
          2825685.1414141413,
          2871374.4242424243,
          2917063.707070707,
          2962752.98989899,
          3008442.2727272725,
          3054131.5555555555,
          3099820.8383838385,
          3145510.121212121,
          3191199.404040404,
          3236888.6868686867,
          3282577.9696969697,
          3328267.2525252523,
          3373956.5353535353,
          3419645.818181818,
          3465335.101010101,
          3511024.383838384,
          3556713.6666666665,
          3602402.9494949495,
          3648092.232323232,
          3693781.515151515,
          3739470.7979797977,
          3785160.0808080807,
          3830849.3636363633,
          3876538.6464646463,
          3922227.9292929294,
          3967917.212121212,
          4013606.494949495,
          4059295.7777777775,
          4104985.0606060605,
          4150674.343434343,
          4196363.626262626,
          4242052.909090909,
          4287742.191919192,
          4333431.474747475,
          4379120.757575758,
          4424810.04040404,
          4470499.323232323,
          4516188.6060606055,
          4561877.888888889,
          4607567.171717172,
          4653256.454545455,
          4698945.737373738,
          4744635.02020202,
          4790324.303030303,
          4836013.585858585,
          4881702.868686869,
          4927392.151515151,
          4973081.434343434,
          5018770.717171717,
          5064460
         ],
         "y": [
          2255.9213504685476,
          2265.2281464913176,
          2274.534942514087,
          2283.841738536857,
          2293.148534559627,
          2302.455330582397,
          2311.762126605167,
          2321.0689226279364,
          2330.3757186507064,
          2339.6825146734764,
          2348.9893106962463,
          2358.2961067190163,
          2367.6029027417862,
          2376.9096987645557,
          2386.2164947873257,
          2395.5232908100957,
          2404.8300868328656,
          2414.1368828556356,
          2423.443678878405,
          2432.750474901175,
          2442.057270923945,
          2451.364066946715,
          2460.670862969485,
          2469.977658992255,
          2479.2844550150244,
          2488.5912510377943,
          2497.8980470605643,
          2507.2048430833343,
          2516.511639106104,
          2525.8184351288737,
          2535.1252311516437,
          2544.4320271744136,
          2553.7388231971836,
          2563.0456192199536,
          2572.3524152427235,
          2581.659211265493,
          2590.966007288263,
          2600.272803311033,
          2609.579599333803,
          2618.886395356573,
          2628.1931913793424,
          2637.4999874021123,
          2646.8067834248823,
          2656.1135794476522,
          2665.420375470422,
          2674.727171493192,
          2684.0339675159616,
          2693.3407635387316,
          2702.6475595615016,
          2711.9543555842715,
          2721.261151607041,
          2730.567947629811,
          2739.874743652581,
          2749.181539675351,
          2758.488335698121,
          2767.795131720891,
          2777.101927743661,
          2786.4087237664303,
          2795.7155197892002,
          2805.02231581197,
          2814.32911183474,
          2823.6359078575097,
          2832.9427038802796,
          2842.2494999030496,
          2851.5562959258195,
          2860.8630919485895,
          2870.1698879713595,
          2879.4766839941294,
          2888.783480016899,
          2898.090276039669,
          2907.397072062439,
          2916.703868085209,
          2926.0106641079783,
          2935.3174601307483,
          2944.624256153518,
          2953.931052176288,
          2963.237848199058,
          2972.544644221828,
          2981.8514402445976,
          2991.1582362673676,
          3000.4650322901375,
          3009.7718283129075,
          3019.078624335677,
          3028.3854203584474,
          3037.692216381217,
          3046.999012403987,
          3056.305808426757,
          3065.6126044495268,
          3074.9194004722967,
          3084.2261964950662,
          3093.5329925178366,
          3102.839788540606,
          3112.146584563376,
          3121.4533805861456,
          3130.7601766089156,
          3140.0669726316855,
          3149.3737686544555,
          3158.6805646772254,
          3167.9873606999954,
          3177.2941567227654
         ]
        }
       ],
       "layout": {
        "height": 600,
        "hovermode": "closest",
        "legend": {
         "bgcolor": "rgba(255,255,255,0.8)",
         "x": 0.01,
         "y": 0.99
        },
        "plot_bgcolor": "white",
        "template": {
         "data": {
          "bar": [
           {
            "error_x": {
             "color": "#2a3f5f"
            },
            "error_y": {
             "color": "#2a3f5f"
            },
            "marker": {
             "line": {
              "color": "#E5ECF6",
              "width": 0.5
             },
             "pattern": {
              "fillmode": "overlay",
              "size": 10,
              "solidity": 0.2
             }
            },
            "type": "bar"
           }
          ],
          "barpolar": [
           {
            "marker": {
             "line": {
              "color": "#E5ECF6",
              "width": 0.5
             },
             "pattern": {
              "fillmode": "overlay",
              "size": 10,
              "solidity": 0.2
             }
            },
            "type": "barpolar"
           }
          ],
          "carpet": [
           {
            "aaxis": {
             "endlinecolor": "#2a3f5f",
             "gridcolor": "white",
             "linecolor": "white",
             "minorgridcolor": "white",
             "startlinecolor": "#2a3f5f"
            },
            "baxis": {
             "endlinecolor": "#2a3f5f",
             "gridcolor": "white",
             "linecolor": "white",
             "minorgridcolor": "white",
             "startlinecolor": "#2a3f5f"
            },
            "type": "carpet"
           }
          ],
          "choropleth": [
           {
            "colorbar": {
             "outlinewidth": 0,
             "ticks": ""
            },
            "type": "choropleth"
           }
          ],
          "contour": [
           {
            "colorbar": {
             "outlinewidth": 0,
             "ticks": ""
            },
            "colorscale": [
             [
              0,
              "#0d0887"
             ],
             [
              0.1111111111111111,
              "#46039f"
             ],
             [
              0.2222222222222222,
              "#7201a8"
             ],
             [
              0.3333333333333333,
              "#9c179e"
             ],
             [
              0.4444444444444444,
              "#bd3786"
             ],
             [
              0.5555555555555556,
              "#d8576b"
             ],
             [
              0.6666666666666666,
              "#ed7953"
             ],
             [
              0.7777777777777778,
              "#fb9f3a"
             ],
             [
              0.8888888888888888,
              "#fdca26"
             ],
             [
              1,
              "#f0f921"
             ]
            ],
            "type": "contour"
           }
          ],
          "contourcarpet": [
           {
            "colorbar": {
             "outlinewidth": 0,
             "ticks": ""
            },
            "type": "contourcarpet"
           }
          ],
          "heatmap": [
           {
            "colorbar": {
             "outlinewidth": 0,
             "ticks": ""
            },
            "colorscale": [
             [
              0,
              "#0d0887"
             ],
             [
              0.1111111111111111,
              "#46039f"
             ],
             [
              0.2222222222222222,
              "#7201a8"
             ],
             [
              0.3333333333333333,
              "#9c179e"
             ],
             [
              0.4444444444444444,
              "#bd3786"
             ],
             [
              0.5555555555555556,
              "#d8576b"
             ],
             [
              0.6666666666666666,
              "#ed7953"
             ],
             [
              0.7777777777777778,
              "#fb9f3a"
             ],
             [
              0.8888888888888888,
              "#fdca26"
             ],
             [
              1,
              "#f0f921"
             ]
            ],
            "type": "heatmap"
           }
          ],
          "heatmapgl": [
           {
            "colorbar": {
             "outlinewidth": 0,
             "ticks": ""
            },
            "colorscale": [
             [
              0,
              "#0d0887"
             ],
             [
              0.1111111111111111,
              "#46039f"
             ],
             [
              0.2222222222222222,
              "#7201a8"
             ],
             [
              0.3333333333333333,
              "#9c179e"
             ],
             [
              0.4444444444444444,
              "#bd3786"
             ],
             [
              0.5555555555555556,
              "#d8576b"
             ],
             [
              0.6666666666666666,
              "#ed7953"
             ],
             [
              0.7777777777777778,
              "#fb9f3a"
             ],
             [
              0.8888888888888888,
              "#fdca26"
             ],
             [
              1,
              "#f0f921"
             ]
            ],
            "type": "heatmapgl"
           }
          ],
          "histogram": [
           {
            "marker": {
             "pattern": {
              "fillmode": "overlay",
              "size": 10,
              "solidity": 0.2
             }
            },
            "type": "histogram"
           }
          ],
          "histogram2d": [
           {
            "colorbar": {
             "outlinewidth": 0,
             "ticks": ""
            },
            "colorscale": [
             [
              0,
              "#0d0887"
             ],
             [
              0.1111111111111111,
              "#46039f"
             ],
             [
              0.2222222222222222,
              "#7201a8"
             ],
             [
              0.3333333333333333,
              "#9c179e"
             ],
             [
              0.4444444444444444,
              "#bd3786"
             ],
             [
              0.5555555555555556,
              "#d8576b"
             ],
             [
              0.6666666666666666,
              "#ed7953"
             ],
             [
              0.7777777777777778,
              "#fb9f3a"
             ],
             [
              0.8888888888888888,
              "#fdca26"
             ],
             [
              1,
              "#f0f921"
             ]
            ],
            "type": "histogram2d"
           }
          ],
          "histogram2dcontour": [
           {
            "colorbar": {
             "outlinewidth": 0,
             "ticks": ""
            },
            "colorscale": [
             [
              0,
              "#0d0887"
             ],
             [
              0.1111111111111111,
              "#46039f"
             ],
             [
              0.2222222222222222,
              "#7201a8"
             ],
             [
              0.3333333333333333,
              "#9c179e"
             ],
             [
              0.4444444444444444,
              "#bd3786"
             ],
             [
              0.5555555555555556,
              "#d8576b"
             ],
             [
              0.6666666666666666,
              "#ed7953"
             ],
             [
              0.7777777777777778,
              "#fb9f3a"
             ],
             [
              0.8888888888888888,
              "#fdca26"
             ],
             [
              1,
              "#f0f921"
             ]
            ],
            "type": "histogram2dcontour"
           }
          ],
          "mesh3d": [
           {
            "colorbar": {
             "outlinewidth": 0,
             "ticks": ""
            },
            "type": "mesh3d"
           }
          ],
          "parcoords": [
           {
            "line": {
             "colorbar": {
              "outlinewidth": 0,
              "ticks": ""
             }
            },
            "type": "parcoords"
           }
          ],
          "pie": [
           {
            "automargin": true,
            "type": "pie"
           }
          ],
          "scatter": [
           {
            "fillpattern": {
             "fillmode": "overlay",
             "size": 10,
             "solidity": 0.2
            },
            "type": "scatter"
           }
          ],
          "scatter3d": [
           {
            "line": {
             "colorbar": {
              "outlinewidth": 0,
              "ticks": ""
             }
            },
            "marker": {
             "colorbar": {
              "outlinewidth": 0,
              "ticks": ""
             }
            },
            "type": "scatter3d"
           }
          ],
          "scattercarpet": [
           {
            "marker": {
             "colorbar": {
              "outlinewidth": 0,
              "ticks": ""
             }
            },
            "type": "scattercarpet"
           }
          ],
          "scattergeo": [
           {
            "marker": {
             "colorbar": {
              "outlinewidth": 0,
              "ticks": ""
             }
            },
            "type": "scattergeo"
           }
          ],
          "scattergl": [
           {
            "marker": {
             "colorbar": {
              "outlinewidth": 0,
              "ticks": ""
             }
            },
            "type": "scattergl"
           }
          ],
          "scattermapbox": [
           {
            "marker": {
             "colorbar": {
              "outlinewidth": 0,
              "ticks": ""
             }
            },
            "type": "scattermapbox"
           }
          ],
          "scatterpolar": [
           {
            "marker": {
             "colorbar": {
              "outlinewidth": 0,
              "ticks": ""
             }
            },
            "type": "scatterpolar"
           }
          ],
          "scatterpolargl": [
           {
            "marker": {
             "colorbar": {
              "outlinewidth": 0,
              "ticks": ""
             }
            },
            "type": "scatterpolargl"
           }
          ],
          "scatterternary": [
           {
            "marker": {
             "colorbar": {
              "outlinewidth": 0,
              "ticks": ""
             }
            },
            "type": "scatterternary"
           }
          ],
          "surface": [
           {
            "colorbar": {
             "outlinewidth": 0,
             "ticks": ""
            },
            "colorscale": [
             [
              0,
              "#0d0887"
             ],
             [
              0.1111111111111111,
              "#46039f"
             ],
             [
              0.2222222222222222,
              "#7201a8"
             ],
             [
              0.3333333333333333,
              "#9c179e"
             ],
             [
              0.4444444444444444,
              "#bd3786"
             ],
             [
              0.5555555555555556,
              "#d8576b"
             ],
             [
              0.6666666666666666,
              "#ed7953"
             ],
             [
              0.7777777777777778,
              "#fb9f3a"
             ],
             [
              0.8888888888888888,
              "#fdca26"
             ],
             [
              1,
              "#f0f921"
             ]
            ],
            "type": "surface"
           }
          ],
          "table": [
           {
            "cells": {
             "fill": {
              "color": "#EBF0F8"
             },
             "line": {
              "color": "white"
             }
            },
            "header": {
             "fill": {
              "color": "#C8D4E3"
             },
             "line": {
              "color": "white"
             }
            },
            "type": "table"
           }
          ]
         },
         "layout": {
          "annotationdefaults": {
           "arrowcolor": "#2a3f5f",
           "arrowhead": 0,
           "arrowwidth": 1
          },
          "autotypenumbers": "strict",
          "coloraxis": {
           "colorbar": {
            "outlinewidth": 0,
            "ticks": ""
           }
          },
          "colorscale": {
           "diverging": [
            [
             0,
             "#8e0152"
            ],
            [
             0.1,
             "#c51b7d"
            ],
            [
             0.2,
             "#de77ae"
            ],
            [
             0.3,
             "#f1b6da"
            ],
            [
             0.4,
             "#fde0ef"
            ],
            [
             0.5,
             "#f7f7f7"
            ],
            [
             0.6,
             "#e6f5d0"
            ],
            [
             0.7,
             "#b8e186"
            ],
            [
             0.8,
             "#7fbc41"
            ],
            [
             0.9,
             "#4d9221"
            ],
            [
             1,
             "#276419"
            ]
           ],
           "sequential": [
            [
             0,
             "#0d0887"
            ],
            [
             0.1111111111111111,
             "#46039f"
            ],
            [
             0.2222222222222222,
             "#7201a8"
            ],
            [
             0.3333333333333333,
             "#9c179e"
            ],
            [
             0.4444444444444444,
             "#bd3786"
            ],
            [
             0.5555555555555556,
             "#d8576b"
            ],
            [
             0.6666666666666666,
             "#ed7953"
            ],
            [
             0.7777777777777778,
             "#fb9f3a"
            ],
            [
             0.8888888888888888,
             "#fdca26"
            ],
            [
             1,
             "#f0f921"
            ]
           ],
           "sequentialminus": [
            [
             0,
             "#0d0887"
            ],
            [
             0.1111111111111111,
             "#46039f"
            ],
            [
             0.2222222222222222,
             "#7201a8"
            ],
            [
             0.3333333333333333,
             "#9c179e"
            ],
            [
             0.4444444444444444,
             "#bd3786"
            ],
            [
             0.5555555555555556,
             "#d8576b"
            ],
            [
             0.6666666666666666,
             "#ed7953"
            ],
            [
             0.7777777777777778,
             "#fb9f3a"
            ],
            [
             0.8888888888888888,
             "#fdca26"
            ],
            [
             1,
             "#f0f921"
            ]
           ]
          },
          "colorway": [
           "#636efa",
           "#EF553B",
           "#00cc96",
           "#ab63fa",
           "#FFA15A",
           "#19d3f3",
           "#FF6692",
           "#B6E880",
           "#FF97FF",
           "#FECB52"
          ],
          "font": {
           "color": "#2a3f5f"
          },
          "geo": {
           "bgcolor": "white",
           "lakecolor": "white",
           "landcolor": "#E5ECF6",
           "showlakes": true,
           "showland": true,
           "subunitcolor": "white"
          },
          "hoverlabel": {
           "align": "left"
          },
          "hovermode": "closest",
          "mapbox": {
           "style": "light"
          },
          "paper_bgcolor": "white",
          "plot_bgcolor": "#E5ECF6",
          "polar": {
           "angularaxis": {
            "gridcolor": "white",
            "linecolor": "white",
            "ticks": ""
           },
           "bgcolor": "#E5ECF6",
           "radialaxis": {
            "gridcolor": "white",
            "linecolor": "white",
            "ticks": ""
           }
          },
          "scene": {
           "xaxis": {
            "backgroundcolor": "#E5ECF6",
            "gridcolor": "white",
            "gridwidth": 2,
            "linecolor": "white",
            "showbackground": true,
            "ticks": "",
            "zerolinecolor": "white"
           },
           "yaxis": {
            "backgroundcolor": "#E5ECF6",
            "gridcolor": "white",
            "gridwidth": 2,
            "linecolor": "white",
            "showbackground": true,
            "ticks": "",
            "zerolinecolor": "white"
           },
           "zaxis": {
            "backgroundcolor": "#E5ECF6",
            "gridcolor": "white",
            "gridwidth": 2,
            "linecolor": "white",
            "showbackground": true,
            "ticks": "",
            "zerolinecolor": "white"
           }
          },
          "shapedefaults": {
           "line": {
            "color": "#2a3f5f"
           }
          },
          "ternary": {
           "aaxis": {
            "gridcolor": "white",
            "linecolor": "white",
            "ticks": ""
           },
           "baxis": {
            "gridcolor": "white",
            "linecolor": "white",
            "ticks": ""
           },
           "bgcolor": "#E5ECF6",
           "caxis": {
            "gridcolor": "white",
            "linecolor": "white",
            "ticks": ""
           }
          },
          "title": {
           "x": 0.05
          },
          "xaxis": {
           "automargin": true,
           "gridcolor": "white",
           "linecolor": "white",
           "ticks": "",
           "title": {
            "standoff": 15
           },
           "zerolinecolor": "white",
           "zerolinewidth": 2
          },
          "yaxis": {
           "automargin": true,
           "gridcolor": "white",
           "linecolor": "white",
           "ticks": "",
           "title": {
            "standoff": 15
           },
           "zerolinecolor": "white",
           "zerolinewidth": 2
          }
         }
        },
        "title": {
         "text": "Block Size vs Min Arrival Time Across Networks"
        },
        "width": 1000,
        "xaxis": {
         "gridcolor": "lightgray",
         "title": {
          "font": {
           "size": 14
          },
          "text": "Block Size (bytes)"
         },
         "type": "log"
        },
        "yaxis": {
         "gridcolor": "lightgray",
         "title": {
          "font": {
           "size": 14
          },
          "text": "Min Arrival Time (ms)"
         }
        }
       }
      }
     },
     "metadata": {},
     "output_type": "display_data"
    },
    {
     "data": {
      "application/vnd.plotly.v1+json": {
       "config": {
        "plotlyServerURL": "https://plot.ly"
       },
       "data": [
        {
         "hovertemplate": "Slot: %{text}<br>Block Size: %{x} bytes<br>%{yaxis.title.text}: %{y:.1f}ms",
         "marker": {
          "color": "blue",
          "line": {
           "color": "blue",
           "width": 1
          },
          "opacity": 0.7,
          "size": 8,
          "symbol": "square"
         },
         "mode": "markers",
         "name": "baseline (nft-devnet-6)",
         "text": [
          300,
          301,
          302,
          303,
          304,
          305,
          306,
          307,
          308,
          309,
          310,
          311,
          312,
          313,
          314,
          315,
          316,
          317,
          318,
          319,
          320,
          321,
          322,
          323,
          324,
          325,
          326,
          327,
          328,
          329,
          330,
          331,
          332,
          333,
          334,
          335,
          336,
          337,
          338,
          339,
          340,
          341,
          342,
          343,
          344,
          345,
          346,
          347,
          348,
          349,
          350,
          351,
          352,
          353,
          354,
          355,
          356,
          357,
          358,
          359,
          360,
          361,
          362,
          363,
          364,
          365,
          366,
          367,
          368,
          369,
          370,
          371,
          372,
          373,
          374,
          375,
          376,
          377,
          378,
          379,
          380,
          381,
          382,
          383,
          384,
          385,
          386,
          387,
          388,
          389,
          390,
          391,
          392,
          393,
          394,
          395,
          396,
          397,
          398,
          399,
          400,
          401,
          402,
          403,
          404,
          405,
          406,
          407,
          408,
          409,
          410,
          411,
          412,
          413,
          414,
          415,
          416,
          417,
          418,
          419,
          420,
          421,
          422,
          423,
          424,
          425,
          426,
          427,
          428,
          429,
          430,
          431,
          432,
          433,
          434,
          435,
          436,
          437,
          438,
          439,
          440,
          441,
          442,
          443,
          444,
          445,
          446,
          447,
          448,
          449,
          450,
          451,
          452,
          453,
          454,
          455,
          456,
          457,
          458,
          459,
          460,
          461,
          462,
          463,
          464,
          465,
          466,
          467,
          468,
          469,
          470,
          471,
          472,
          473,
          474,
          475,
          476,
          477,
          478,
          479,
          480,
          481,
          482,
          483,
          484,
          485,
          486,
          487,
          488,
          489,
          490,
          491,
          492,
          493,
          494,
          495,
          496,
          497,
          498,
          499,
          500,
          501,
          502,
          503,
          504,
          505,
          506,
          507,
          508,
          509,
          510,
          511,
          512,
          513,
          514,
          515,
          516,
          517,
          518,
          519,
          520,
          521,
          522,
          523,
          524,
          525,
          526,
          527,
          528,
          529,
          530,
          531,
          532,
          533,
          534,
          535,
          536,
          537,
          538,
          539,
          540,
          541,
          542,
          543,
          544,
          545,
          546,
          547,
          548,
          549,
          550,
          551,
          552,
          553,
          554,
          555,
          556,
          557,
          558,
          559,
          560,
          561,
          562,
          563,
          564,
          565,
          566,
          567,
          568,
          569,
          570,
          571,
          572,
          573,
          574,
          575,
          576,
          577,
          578,
          579,
          580,
          581,
          582,
          583,
          584,
          585,
          586,
          587,
          588,
          589,
          590,
          591,
          592,
          593,
          594,
          595,
          596,
          597,
          598,
          599,
          600
         ],
         "type": "scatter",
         "x": [
          3315860,
          3063098,
          3716452,
          3614174,
          2811514,
          4267527,
          3017836,
          3541133,
          3515714,
          2887195,
          3790370,
          2840466,
          3894413,
          3414023,
          3264129,
          3866052,
          2357723,
          4492807,
          3069566,
          3489410,
          3840038,
          2735540,
          4269585,
          3091755,
          3642831,
          3691027,
          2909973,
          4117046,
          2236781,
          4495746,
          2812395,
          3865169,
          3614467,
          2709530,
          4267820,
          2210769,
          4871795,
          2542446,
          3895000,
          3590219,
          3037089,
          3740405,
          3814322,
          2809751,
          4443135,
          2131561,
          5021986,
          1028827,
          4971727,
          1188715,
          4896634,
          1772559,
          5050349,
          1764624,
          4898397,
          2048980,
          4627857,
          1861318,
          5022866,
          1540815,
          4723670,
          1590189,
          4800232,
          2870006,
          3794778,
          3238707,
          3065744,
          3688970,
          3814618,
          2786093,
          4469147,
          1936409,
          4922645,
          1436477,
          4698835,
          1542579,
          4699124,
          2600055,
          4046658,
          3144660,
          3265894,
          3968918,
          2336708,
          4468264,
          2459709,
          4370687,
          3073680,
          4371568,
          2288509,
          4847549,
          1890856,
          4798468,
          1511274,
          5002149,
          1113916,
          4854899,
          2441047,
          3966274,
          2993593,
          4498098,
          2239134,
          4998620,
          1766976,
          4824481,
          1661459,
          4697952,
          1610321,
          4874151,
          1364029,
          4899868,
          1182247,
          4950714,
          1571529,
          4496335,
          2769782,
          4796409,
          1938763,
          5051817,
          1772562,
          4624622,
          1394157,
          5053579,
          1165348,
          4730431,
          2467648,
          4150993,
          3002411,
          4198902,
          2791383,
          4496333,
          2093358,
          4775102,
          1537875,
          4873269,
          1511569,
          4775103,
          1718188,
          4623155,
          1635156,
          4922641,
          2544505,
          4220503,
          3096164,
          3391247,
          3642241,
          2659566,
          4344972,
          2059116,
          4650340,
          2463532,
          5049170,
          2099237,
          4675469,
          2022674,
          5005675,
          1695410,
          4902805,
          1487028,
          4874737,
          1541403,
          4673413,
          1541696,
          4649461,
          2763020,
          3941435,
          3162144,
          4367159,
          2508792,
          4995975,
          1737729,
          5023161,
          1445883,
          4900456,
          1920690,
          4697070,
          1387394,
          4997442,
          2418272,
          3919246,
          2989475,
          3641360,
          3439445,
          3847096,
          2862948,
          4092799,
          2214888,
          4622055,
          2843518,
          3821823,
          3369483,
          2836169,
          4021100,
          2106811,
          4769999,
          1262093,
          4796600,
          2614113,
          3916758,
          3387850,
          3288507,
          3765389,
          2608822,
          4141456,
          3337884,
          3363604,
          3639738,
          2759601,
          4368508,
          2186610,
          4948557,
          2489640,
          4219787,
          3467064,
          2993415,
          4196127,
          2389415,
          4497982,
          2891130,
          3821825,
          3443403,
          2937277,
          4268284,
          2013641,
          4902119,
          1546461,
          4425239,
          3192693,
          3369484,
          3641503,
          2711694,
          4395695,
          2689501,
          4322365,
          3240011,
          3365956,
          3966431,
          2357816,
          4593504,
          2941981,
          3816825,
          3438995,
          2810451,
          3991560,
          2133408,
          4920489,
          2016286,
          4450367,
          2748289,
          4825554,
          2213799,
          4373211,
          2117686,
          5052606,
          1191700,
          4873756,
          1235493,
          4547066,
          1646980,
          4525463,
          2592218,
          4773236,
          2142819,
          4776469,
          1587607,
          4850096,
          1541757,
          4800127,
          2845281,
          3670750,
          3843130,
          2610880,
          4293119,
          3116127,
          3164913,
          3616667,
          4069009,
          2565619,
          4346909,
          2887309,
          3666044,
          3339355,
          4067831,
          2459512,
          4945909,
          1390683,
          4848624,
          1719431,
          4471968,
          2250100,
          5051429,
          1263857,
          5051136,
          1895635,
          4498274,
          1958970,
          4928719,
          2148697,
          4948556,
          1991157,
          4625985,
          2168537
         ],
         "y": [
          3234,
          2767,
          3263,
          2986,
          2781,
          3523,
          2853,
          2848,
          2925,
          3245,
          3434,
          2729,
          2931,
          2811,
          2850,
          2920,
          2759,
          3161,
          2821,
          2979,
          2930,
          2969,
          2975,
          2736,
          3000,
          3006,
          3212,
          3437,
          2718,
          3018,
          2770,
          3383,
          2828,
          2871,
          3037,
          3075,
          3118,
          2709,
          3051,
          3236,
          2849,
          2824,
          2910,
          2742,
          3010,
          3137,
          3133,
          2404,
          3359,
          2539,
          3742,
          2592,
          3159,
          2549,
          3726,
          2655,
          3016,
          2683,
          3258,
          2557,
          3181,
          2493,
          3069,
          2817,
          2873,
          2802,
          2724,
          2843,
          2963,
          2722,
          3278,
          2602,
          3244,
          2474,
          3291,
          2492,
          3367,
          2695,
          3442,
          2959,
          3300,
          3016,
          2774,
          3018,
          2979,
          3217,
          2762,
          2985,
          2666,
          3090,
          2991,
          3079,
          2805,
          3134,
          2428,
          3168,
          2759,
          2943,
          2801,
          3031,
          2692,
          3220,
          2923,
          3208,
          2508,
          3085,
          2525,
          3126,
          2502,
          3214,
          2447,
          3753,
          2603,
          3605,
          2807,
          3200,
          2556,
          3261,
          2706,
          3592,
          2835,
          3155,
          2443,
          3069,
          2665,
          3620,
          3180,
          3485,
          2746,
          3130,
          2759,
          3061,
          2478,
          3149,
          2469,
          3234,
          2601,
          3026,
          2628,
          3081,
          2867,
          3047,
          2934,
          2777,
          2873,
          2872,
          3512,
          2762,
          3034,
          2591,
          3663,
          2618,
          3231,
          2605,
          3262,
          2992,
          3076,
          2541,
          3299,
          2463,
          3236,
          2469,
          3054,
          3140,
          2981,
          2789,
          3038,
          2857,
          3100,
          2607,
          3742,
          2747,
          3646,
          2646,
          3590,
          2841,
          3093,
          2691,
          2877,
          2750,
          2990,
          3311,
          3271,
          2769,
          3214,
          2741,
          3043,
          2842,
          3049,
          2806,
          2747,
          2932,
          2615,
          3221,
          2426,
          3126,
          2811,
          2871,
          3217,
          2803,
          2987,
          2689,
          2989,
          2870,
          2829,
          2884,
          2728,
          3170,
          3141,
          3084,
          2713,
          3026,
          3090,
          3217,
          3257,
          2802,
          3023,
          2781,
          3371,
          2820,
          3249,
          3233,
          2637,
          3762,
          2519,
          3221,
          2948,
          2866,
          2831,
          3220,
          3062,
          3123,
          3036,
          2906,
          3343,
          3082,
          2816,
          3060,
          2912,
          3357,
          2846,
          2756,
          2885,
          2662,
          3290,
          2653,
          3259,
          2835,
          3099,
          3059,
          3546,
          3033,
          3194,
          2483,
          3281,
          2784,
          3702,
          2617,
          3013,
          2695,
          3079,
          3061,
          3086,
          2487,
          3276,
          2526,
          3129,
          3233,
          3271,
          2891,
          2821,
          3156,
          2780,
          2762,
          2838,
          3583,
          2800,
          3038,
          2807,
          2849,
          2862,
          2909,
          2829,
          3192,
          2451,
          3605,
          2564,
          3651,
          2765,
          3095,
          2698,
          3318,
          2673,
          3013,
          3081,
          3668,
          2733,
          3093,
          3021,
          3686,
          2665
         ]
        },
        {
         "hoverinfo": "skip",
         "line": {
          "color": "blue",
          "dash": "dash",
          "width": 2
         },
         "mode": "lines",
         "name": "baseline Trend",
         "type": "scatter",
         "x": [
          1028827,
          1069481.0606060605,
          1110135.121212121,
          1150789.1818181819,
          1191443.2424242424,
          1232097.303030303,
          1272751.3636363638,
          1313405.4242424243,
          1354059.4848484849,
          1394713.5454545454,
          1435367.606060606,
          1476021.6666666667,
          1516675.7272727273,
          1557329.7878787878,
          1597983.8484848486,
          1638637.9090909092,
          1679291.9696969697,
          1719946.0303030303,
          1760600.0909090908,
          1801254.1515151516,
          1841908.2121212122,
          1882562.2727272727,
          1923216.3333333335,
          1963870.393939394,
          2004524.4545454546,
          2045178.5151515151,
          2085832.5757575757,
          2126486.6363636367,
          2167140.6969696973,
          2207794.757575758,
          2248448.8181818184,
          2289102.878787879,
          2329756.9393939395,
          2370411,
          2411065.0606060605,
          2451719.121212121,
          2492373.1818181816,
          2533027.242424242,
          2573681.303030303,
          2614335.3636363638,
          2654989.4242424243,
          2695643.484848485,
          2736297.5454545454,
          2776951.6060606064,
          2817605.666666667,
          2858259.7272727275,
          2898913.787878788,
          2939567.8484848486,
          2980221.909090909,
          3020875.9696969697,
          3061530.0303030303,
          3102184.090909091,
          3142838.1515151514,
          3183492.2121212124,
          3224146.272727273,
          3264800.3333333335,
          3305454.393939394,
          3346108.4545454546,
          3386762.515151515,
          3427416.5757575757,
          3468070.6363636367,
          3508724.6969696973,
          3549378.757575758,
          3590032.8181818184,
          3630686.878787879,
          3671340.9393939395,
          3711995,
          3752649.0606060605,
          3793303.121212121,
          3833957.181818182,
          3874611.2424242427,
          3915265.303030303,
          3955919.3636363638,
          3996573.4242424243,
          4037227.484848485,
          4077881.5454545454,
          4118535.6060606064,
          4159189.666666667,
          4199843.7272727275,
          4240497.787878788,
          4281151.848484849,
          4321805.909090909,
          4362459.96969697,
          4403114.03030303,
          4443768.090909091,
          4484422.151515152,
          4525076.212121213,
          4565730.272727273,
          4606384.333333334,
          4647038.3939393945,
          4687692.454545455,
          4728346.515151516,
          4769000.575757576,
          4809654.636363637,
          4850308.696969697,
          4890962.757575758,
          4931616.818181818,
          4972270.878787879,
          5012924.939393939,
          5053579
         ],
         "y": [
          2517.5276711094384,
          2525.4414636755737,
          2533.3552562417085,
          2541.269048807844,
          2549.1828413739786,
          2557.096633940114,
          2565.010426506249,
          2572.924219072384,
          2580.838011638519,
          2588.751804204654,
          2596.6655967707893,
          2604.5793893369246,
          2612.4931819030594,
          2620.4069744691947,
          2628.32076703533,
          2636.2345596014648,
          2644.1483521676,
          2652.062144733735,
          2659.97593729987,
          2667.8897298660054,
          2675.80352243214,
          2683.7173149982755,
          2691.6311075644107,
          2699.5449001305456,
          2707.458692696681,
          2715.3724852628156,
          2723.286277828951,
          2731.200070395086,
          2739.113862961221,
          2747.0276555273563,
          2754.941448093491,
          2762.8552406596264,
          2770.7690332257616,
          2778.6828257918964,
          2786.5966183580317,
          2794.5104109241665,
          2802.424203490302,
          2810.337996056437,
          2818.251788622572,
          2826.165581188707,
          2834.079373754842,
          2841.9931663209773,
          2849.9069588871125,
          2857.820751453248,
          2865.7345440193826,
          2873.6483365855174,
          2881.5621291516527,
          2889.475921717788,
          2897.3897142839232,
          2905.303506850058,
          2913.217299416193,
          2921.131091982328,
          2929.0448845484634,
          2936.9586771145987,
          2944.8724696807335,
          2952.786262246869,
          2960.7000548130036,
          2968.613847379139,
          2976.527639945274,
          2984.441432511409,
          2992.355225077544,
          3000.269017643679,
          3008.1828102098143,
          3016.0966027759496,
          3024.0103953420844,
          3031.9241879082197,
          3039.8379804743545,
          3047.7517730404898,
          3055.665565606625,
          3063.57935817276,
          3071.493150738895,
          3079.40694330503,
          3087.320735871165,
          3095.2345284373005,
          3103.1483210034353,
          3111.0621135695706,
          3118.9759061357054,
          3126.8896987018406,
          3134.803491267976,
          3142.7172838341107,
          3150.631076400246,
          3158.544868966381,
          3166.458661532516,
          3174.3724540986514,
          3182.286246664786,
          3190.2000392309214,
          3198.1138317970567,
          3206.0276243631915,
          3213.941416929327,
          3221.855209495462,
          3229.769002061597,
          3237.682794627732,
          3245.596587193867,
          3253.5103797600023,
          3261.4241723261375,
          3269.3379648922723,
          3277.2517574584076,
          3285.1655500245424,
          3293.0793425906777,
          3300.993135156813
         ]
        },
        {
         "hovertemplate": "Slot: %{text}<br>Block Size: %{x} bytes<br>%{yaxis.title.text}: %{y:.1f}ms",
         "marker": {
          "color": "green",
          "line": {
           "color": "green",
           "width": 1
          },
          "opacity": 0.7,
          "size": 8,
          "symbol": "circle"
         },
         "mode": "markers",
         "name": "rlnc (nft-devnet-5)",
         "text": [
          300,
          301,
          302,
          303,
          304,
          305,
          306,
          307,
          308,
          309,
          310,
          311,
          312,
          313,
          314,
          315,
          316,
          317,
          318,
          319,
          320,
          321,
          322,
          323,
          324,
          325,
          326,
          327,
          328,
          329,
          330,
          331,
          332,
          333,
          334,
          335,
          336,
          337,
          338,
          339,
          340,
          341,
          342,
          343,
          344,
          345,
          346,
          347,
          348,
          349,
          350,
          351,
          352,
          353,
          354,
          355,
          356,
          357,
          358,
          359,
          360,
          361,
          362,
          363,
          364,
          365,
          366,
          367,
          368,
          369,
          370,
          371,
          372,
          373,
          374,
          375,
          376,
          377,
          378,
          379,
          380,
          381,
          382,
          383,
          384,
          385,
          386,
          387,
          388,
          389,
          390,
          391,
          392,
          393,
          394,
          395,
          396,
          397,
          398,
          399,
          400,
          401,
          402,
          403,
          404,
          405,
          406,
          407,
          408,
          409,
          410,
          411,
          412,
          413,
          414,
          415,
          416,
          417,
          418,
          419,
          420,
          421,
          422,
          423,
          424,
          425,
          426,
          427,
          428,
          429,
          430,
          431,
          432,
          433,
          434,
          435,
          436,
          437,
          438,
          439,
          440,
          441,
          442,
          443,
          444,
          445,
          446,
          447,
          448,
          449,
          450,
          451,
          452,
          453,
          454,
          455,
          456,
          457,
          458,
          459,
          460,
          461,
          462,
          463,
          464,
          465,
          466,
          467,
          468,
          469,
          470,
          471,
          472,
          473,
          474,
          475,
          476,
          477,
          478,
          479,
          480,
          481,
          482,
          483,
          484,
          485,
          486,
          487,
          488,
          489,
          490,
          491,
          492,
          493,
          494,
          495,
          496,
          497,
          498,
          499,
          500,
          501,
          502,
          503,
          504,
          505,
          506,
          507,
          508,
          509,
          510,
          511,
          512,
          513,
          514,
          515,
          516,
          517,
          518,
          519,
          520,
          521,
          522,
          523,
          524,
          525,
          526,
          527,
          528,
          529,
          530,
          531,
          532,
          533,
          534,
          535,
          536,
          537,
          538,
          539,
          540,
          541,
          542,
          543,
          544,
          545,
          546,
          547,
          548,
          549,
          550,
          551,
          552,
          553,
          554,
          555,
          556,
          557,
          558,
          559,
          560,
          561,
          562,
          563,
          564,
          565,
          566,
          567,
          568,
          569,
          570,
          571,
          572,
          573,
          574,
          575,
          576,
          577,
          578,
          579,
          580,
          581,
          582,
          583,
          584,
          585,
          586,
          587,
          588,
          589,
          590,
          591,
          592,
          593,
          594,
          595,
          596,
          597,
          598,
          599,
          600
         ],
         "type": "scatter",
         "x": [
          4501737,
          1973516,
          4729658,
          1671686,
          4701587,
          1018653,
          5053083,
          1496084,
          4878368,
          1697108,
          4950512,
          1845817,
          4651037,
          2215682,
          4523635,
          1521211,
          5048972,
          1043780,
          5048676,
          1596596,
          4871603,
          5064257,
          4662212,
          1470956,
          4838108,
          1747365,
          4561700,
          1822748,
          4812979,
          1722237,
          4687336,
          1521212,
          4881013,
          1445829,
          4725835,
          1493438,
          4855291,
          1593068,
          4774914,
          1470954,
          4799751,
          1370445,
          4825172,
          1797621,
          4622677,
          1219677,
          5048972,
          1091097,
          4821644,
          1847289,
          4445606,
          2274757,
          4146129,
          null,
          3581708,
          893013,
          5014001,
          541221,
          5064259,
          1320189,
          4536573,
          1395571,
          4860000,
          2777612,
          4008884,
          3079147,
          3204789,
          1898132,
          4381980,
          1596596,
          4607333,
          2501214,
          3881568,
          3179747,
          3274713,
          3802425,
          2601817,
          4486493,
          1973592,
          4556588,
          1847949,
          4528811,
          1873077,
          4603609,
          2096591,
          4779808,
          1672046,
          4838297,
          1898207,
          4461364,
          2074108,
          4813171,
          1169464,
          5056814,
          1747430,
          4482079,
          2350528,
          5059462,
          1722303,
          4753796,
          1873077,
          4856665,
          1169466,
          5049757,
          993561,
          5054171,
          1646917,
          4722202,
          2099237,
          4924702,
          2098062,
          4676056,
          2241781,
          4675177,
          2271320,
          4873268,
          2023851,
          4976431,
          2099239,
          4353204,
          1194594,
          4660631,
          2350528,
          4813170,
          1521272,
          5064459,
          1747432,
          4758501,
          1923336,
          4906628,
          1973593,
          4776575,
          1948464,
          4926465,
          1871901,
          4726023,
          2099239,
          4975255,
          2074109,
          4548650,
          2473234,
          3947611,
          2917911,
          3289553,
          3621228,
          2626948,
          4403460,
          2044864,
          5027864,
          1295111,
          4830947,
          918175,
          5062697,
          1420756,
          4863424,
          1847947,
          4733954,
          1571530,
          4838297,
          1822820,
          4433588,
          2023852,
          4778924,
          1797691,
          4599789,
          1847949,
          4903396,
          943304,
          5051815,
          1496142,
          4799057,
          1571530,
          4902218,
          1645741,
          5024337,
          1496141,
          4874738,
          1992842,
          4346148,
          2601818,
          4773046,
          1496143,
          5037857,
          1546400,
          4888556,
          1973594,
          4731607,
          2046923,
          4779221,
          1822818,
          4629328,
          1697175,
          4906923,
          641757,
          5056815,
          842788,
          5026685,
          742272,
          5050346,
          1722304,
          4470320,
          1939350,
          4624917,
          1018691,
          5049463,
          1444120,
          4846374,
          1445003,
          4947476,
          1746845,
          4571719,
          1923336,
          4820658,
          1018691,
          5064460,
          null,
          5064457,
          1772560,
          4838299,
          666886,
          4637267,
          1596658,
          5064459,
          1772561,
          4762910,
          2300271,
          3808011,
          3330560,
          3079269,
          3833140,
          2576688,
          4511622,
          1445884,
          5007145,
          1546400,
          4687525,
          1219724,
          5055636,
          1797691,
          4606256,
          2096886,
          4747621,
          1722304,
          4796705,
          1892912,
          4798755,
          1797690,
          4561878,
          1521272,
          5058873,
          1546399,
          4758791,
          2174626,
          4378332,
          2174623,
          4979369,
          1672045,
          4861076,
          1269982,
          5052404,
          1873077,
          4751442,
          2375657,
          3894708,
          3054141,
          3120413,
          3773471,
          2521726,
          4681645,
          1695412,
          4723749,
          1194626,
          5051621,
          1619499,
          4696373,
          2224381,
          4903295,
          1898281,
          4762511,
          2174710,
          4761333,
          2224970,
          4654348,
          2325491,
          4708429,
          1420810,
          5055252,
          1873150,
          4858328,
          2300361,
          4653466,
          2149580,
          4709605,
          2149581,
          4673010,
          1973671,
          4850093,
          1822890,
          4677420,
          1872857,
          4724738
         ],
         "y": [
          3637,
          2748,
          3441.5,
          2645,
          3656,
          2599.5,
          3615,
          2653.5,
          3712,
          2654,
          3576.5,
          2769,
          3479.5,
          2848,
          3865.5,
          2639.5,
          3624,
          2501.5,
          3839.5,
          2610.5,
          5741.5,
          3944,
          3607.5,
          2603.5,
          3659.5,
          2710.5,
          3568,
          2703.5,
          3640.5,
          2648,
          3839,
          2601,
          3657,
          2634,
          3481,
          2672.5,
          3420,
          2605.5,
          3623.5,
          2610,
          3875,
          2671,
          3943,
          2772.5,
          3849,
          2655,
          3579,
          2569.5,
          3664.5,
          2698,
          3578,
          3280,
          4339,
          3907.5,
          3236.5,
          2600,
          3607.5,
          2439,
          3920.5,
          2561.5,
          3695,
          2658.5,
          3655.5,
          3262,
          3385.5,
          3494,
          3773.5,
          2783.5,
          3857.5,
          2603,
          3719.5,
          3199,
          3375,
          3114,
          3275,
          3417.5,
          3171,
          3523.5,
          2709,
          3593.5,
          2732.5,
          3788,
          2755.5,
          3649,
          2824.5,
          3628.5,
          2641,
          3697,
          2698,
          3922,
          2787.5,
          3698.5,
          2543,
          3713,
          2673,
          3683,
          3054.5,
          3644.5,
          2674,
          3570.5,
          2793.5,
          3567,
          2600,
          3742,
          2621,
          3696.5,
          2701.5,
          3886.5,
          2798,
          3511,
          2800,
          3441,
          2822,
          3471.5,
          2958,
          3644,
          2780,
          3575.5,
          2805,
          4019,
          2648.5,
          3776.5,
          3208,
          3814.5,
          2648,
          3871.5,
          2677.5,
          3515,
          2728,
          3608,
          2745.5,
          3468,
          2738.5,
          3571,
          2696,
          3879,
          2759.5,
          3733.5,
          2787,
          3626.5,
          3305.5,
          3238,
          3049,
          3131.5,
          3982,
          3263,
          3438.5,
          2793.5,
          3614.5,
          2565,
          3624,
          2534.5,
          3781,
          2595.5,
          3621,
          2765,
          3475,
          2660.5,
          3653,
          2731.5,
          3487,
          2721.5,
          3525,
          2711,
          3451,
          2745.5,
          3567.5,
          2578.5,
          3752,
          2641.5,
          3785.5,
          2616.5,
          3506,
          2732,
          3706,
          2675.5,
          3533.5,
          2720,
          3656.5,
          3038,
          3683.5,
          2639,
          3638,
          2641,
          3622.5,
          2751,
          3453.5,
          2819,
          3565.5,
          2705,
          3604.5,
          2675,
          3536.5,
          2594.5,
          3597,
          2532,
          3787,
          2508.5,
          3819,
          2720.5,
          3381.5,
          2696.5,
          3988.5,
          2584.5,
          3558.5,
          2661.5,
          3546,
          2660,
          3666.5,
          2661.5,
          3693,
          2704.5,
          3775.5,
          2608,
          4438.5,
          3956,
          3577,
          2772,
          4077,
          2522,
          3818,
          2678.5,
          3622.5,
          2800.5,
          3477.5,
          3047,
          3780.5,
          3296.5,
          3183.5,
          3338,
          3068,
          3690.5,
          2596,
          3555.5,
          2657.5,
          3896,
          2611.5,
          3753,
          2674,
          3511,
          2752.5,
          3673.5,
          2619.5,
          3471,
          2724,
          3733,
          2674,
          3629.5,
          2616,
          3543.5,
          2786,
          3546.5,
          2916,
          3523,
          2787.5,
          3719,
          2753,
          3718.5,
          2618,
          3633,
          2734,
          3702.5,
          3175.5,
          3368,
          3054,
          3130.5,
          3314,
          3048.5,
          3577,
          2622,
          4291.5,
          2557.5,
          3573,
          2644.5,
          3534.5,
          3275,
          3709.5,
          2756.5,
          3583.5,
          2984.5,
          3575,
          2870,
          3674.5,
          2879.5,
          3724.5,
          2680.5,
          3612.5,
          2743,
          3564,
          3080,
          3973.5,
          3107,
          3525.5,
          2722.5,
          3641,
          2848.5,
          3584,
          2687.5,
          3613.5,
          2675.5,
          3522.5
         ]
        },
        {
         "hoverinfo": "skip",
         "line": {
          "color": "green",
          "dash": "dash",
          "width": 2
         },
         "mode": "lines",
         "name": "rlnc Trend",
         "type": "scatter",
         "x": [
          541221,
          586910.2828282828,
          632599.5656565656,
          678288.8484848485,
          723978.1313131313,
          769667.4141414141,
          815356.696969697,
          861045.9797979798,
          906735.2626262626,
          952424.5454545454,
          998113.8282828282,
          1043803.1111111111,
          1089492.393939394,
          1135181.6767676766,
          1180870.9595959596,
          1226560.2424242424,
          1272249.5252525252,
          1317938.808080808,
          1363628.0909090908,
          1409317.3737373739,
          1455006.6565656564,
          1500695.9393939395,
          1546385.2222222222,
          1592074.505050505,
          1637763.7878787878,
          1683453.0707070706,
          1729142.3535353534,
          1774831.6363636362,
          1820520.9191919193,
          1866210.202020202,
          1911899.4848484849,
          1957588.7676767677,
          2003278.0505050505,
          2048967.3333333333,
          2094656.616161616,
          2140345.898989899,
          2186035.1818181816,
          2231724.4646464647,
          2277413.7474747477,
          2323103.0303030303,
          2368792.313131313,
          2414481.595959596,
          2460170.878787879,
          2505860.1616161615,
          2551549.4444444445,
          2597238.7272727275,
          2642928.01010101,
          2688617.2929292927,
          2734306.5757575757,
          2779995.8585858587,
          2825685.1414141413,
          2871374.4242424243,
          2917063.707070707,
          2962752.98989899,
          3008442.2727272725,
          3054131.5555555555,
          3099820.8383838385,
          3145510.121212121,
          3191199.404040404,
          3236888.6868686867,
          3282577.9696969697,
          3328267.2525252523,
          3373956.5353535353,
          3419645.818181818,
          3465335.101010101,
          3511024.383838384,
          3556713.6666666665,
          3602402.9494949495,
          3648092.232323232,
          3693781.515151515,
          3739470.7979797977,
          3785160.0808080807,
          3830849.3636363633,
          3876538.6464646463,
          3922227.9292929294,
          3967917.212121212,
          4013606.494949495,
          4059295.7777777775,
          4104985.0606060605,
          4150674.343434343,
          4196363.626262626,
          4242052.909090909,
          4287742.191919192,
          4333431.474747475,
          4379120.757575758,
          4424810.04040404,
          4470499.323232323,
          4516188.6060606055,
          4561877.888888889,
          4607567.171717172,
          4653256.454545455,
          4698945.737373738,
          4744635.02020202,
          4790324.303030303,
          4836013.585858585,
          4881702.868686869,
          4927392.151515151,
          4973081.434343434,
          5018770.717171717,
          5064460
         ],
         "y": [
          2380.7083346681993,
          2394.7575143569156,
          2408.8066940456315,
          2422.8558737343474,
          2436.9050534230637,
          2450.9542331117796,
          2465.0034128004954,
          2479.0525924892117,
          2493.1017721779276,
          2507.150951866644,
          2521.20013155536,
          2535.249311244076,
          2549.298490932792,
          2563.347670621508,
          2577.396850310224,
          2591.44602999894,
          2605.495209687656,
          2619.5443893763722,
          2633.593569065088,
          2647.6427487538044,
          2661.6919284425203,
          2675.741108131236,
          2689.7902878199525,
          2703.8394675086683,
          2717.8886471973847,
          2731.9378268861005,
          2745.9870065748164,
          2760.0361862635327,
          2774.0853659522486,
          2788.1345456409645,
          2802.183725329681,
          2816.2329050183967,
          2830.282084707113,
          2844.331264395829,
          2858.380444084545,
          2872.429623773261,
          2886.478803461977,
          2900.527983150693,
          2914.577162839409,
          2928.626342528125,
          2942.6755222168413,
          2956.724701905557,
          2970.7738815942735,
          2984.8230612829893,
          2998.8722409717057,
          3012.9214206604215,
          3026.9706003491374,
          3041.0197800378537,
          3055.0689597265696,
          3069.1181394152854,
          3083.1673191040018,
          3097.2164987927176,
          3111.2656784814335,
          3125.31485817015,
          3139.3640378588657,
          3153.413217547582,
          3167.462397236298,
          3181.511576925014,
          3195.56075661373,
          3209.609936302446,
          3223.6591159911623,
          3237.708295679878,
          3251.757475368594,
          3265.8066550573103,
          3279.855834746026,
          3293.9050144347425,
          3307.9541941234584,
          3322.0033738121747,
          3336.05255350089,
          3350.1017331896064,
          3364.1509128783227,
          3378.2000925670386,
          3392.2492722557545,
          3406.298451944471,
          3420.347631633187,
          3434.3968113219025,
          3448.445991010619,
          3462.4951706993347,
          3476.544350388051,
          3490.593530076767,
          3504.642709765483,
          3518.691889454199,
          3532.741069142915,
          3546.7902488316313,
          3560.8394285203476,
          3574.888608209063,
          3588.9377878977793,
          3602.986967586495,
          3617.0361472752115,
          3631.0853269639274,
          3645.1345066526437,
          3659.1836863413596,
          3673.2328660300755,
          3687.282045718792,
          3701.331225407507,
          3715.3804050962235,
          3729.42958478494,
          3743.4787644736557,
          3757.527944162372,
          3771.577123851088
         ]
        }
       ],
       "layout": {
        "height": 600,
        "hovermode": "closest",
        "legend": {
         "bgcolor": "rgba(255,255,255,0.8)",
         "x": 0.01,
         "y": 0.99
        },
        "plot_bgcolor": "white",
        "template": {
         "data": {
          "bar": [
           {
            "error_x": {
             "color": "#2a3f5f"
            },
            "error_y": {
             "color": "#2a3f5f"
            },
            "marker": {
             "line": {
              "color": "#E5ECF6",
              "width": 0.5
             },
             "pattern": {
              "fillmode": "overlay",
              "size": 10,
              "solidity": 0.2
             }
            },
            "type": "bar"
           }
          ],
          "barpolar": [
           {
            "marker": {
             "line": {
              "color": "#E5ECF6",
              "width": 0.5
             },
             "pattern": {
              "fillmode": "overlay",
              "size": 10,
              "solidity": 0.2
             }
            },
            "type": "barpolar"
           }
          ],
          "carpet": [
           {
            "aaxis": {
             "endlinecolor": "#2a3f5f",
             "gridcolor": "white",
             "linecolor": "white",
             "minorgridcolor": "white",
             "startlinecolor": "#2a3f5f"
            },
            "baxis": {
             "endlinecolor": "#2a3f5f",
             "gridcolor": "white",
             "linecolor": "white",
             "minorgridcolor": "white",
             "startlinecolor": "#2a3f5f"
            },
            "type": "carpet"
           }
          ],
          "choropleth": [
           {
            "colorbar": {
             "outlinewidth": 0,
             "ticks": ""
            },
            "type": "choropleth"
           }
          ],
          "contour": [
           {
            "colorbar": {
             "outlinewidth": 0,
             "ticks": ""
            },
            "colorscale": [
             [
              0,
              "#0d0887"
             ],
             [
              0.1111111111111111,
              "#46039f"
             ],
             [
              0.2222222222222222,
              "#7201a8"
             ],
             [
              0.3333333333333333,
              "#9c179e"
             ],
             [
              0.4444444444444444,
              "#bd3786"
             ],
             [
              0.5555555555555556,
              "#d8576b"
             ],
             [
              0.6666666666666666,
              "#ed7953"
             ],
             [
              0.7777777777777778,
              "#fb9f3a"
             ],
             [
              0.8888888888888888,
              "#fdca26"
             ],
             [
              1,
              "#f0f921"
             ]
            ],
            "type": "contour"
           }
          ],
          "contourcarpet": [
           {
            "colorbar": {
             "outlinewidth": 0,
             "ticks": ""
            },
            "type": "contourcarpet"
           }
          ],
          "heatmap": [
           {
            "colorbar": {
             "outlinewidth": 0,
             "ticks": ""
            },
            "colorscale": [
             [
              0,
              "#0d0887"
             ],
             [
              0.1111111111111111,
              "#46039f"
             ],
             [
              0.2222222222222222,
              "#7201a8"
             ],
             [
              0.3333333333333333,
              "#9c179e"
             ],
             [
              0.4444444444444444,
              "#bd3786"
             ],
             [
              0.5555555555555556,
              "#d8576b"
             ],
             [
              0.6666666666666666,
              "#ed7953"
             ],
             [
              0.7777777777777778,
              "#fb9f3a"
             ],
             [
              0.8888888888888888,
              "#fdca26"
             ],
             [
              1,
              "#f0f921"
             ]
            ],
            "type": "heatmap"
           }
          ],
          "heatmapgl": [
           {
            "colorbar": {
             "outlinewidth": 0,
             "ticks": ""
            },
            "colorscale": [
             [
              0,
              "#0d0887"
             ],
             [
              0.1111111111111111,
              "#46039f"
             ],
             [
              0.2222222222222222,
              "#7201a8"
             ],
             [
              0.3333333333333333,
              "#9c179e"
             ],
             [
              0.4444444444444444,
              "#bd3786"
             ],
             [
              0.5555555555555556,
              "#d8576b"
             ],
             [
              0.6666666666666666,
              "#ed7953"
             ],
             [
              0.7777777777777778,
              "#fb9f3a"
             ],
             [
              0.8888888888888888,
              "#fdca26"
             ],
             [
              1,
              "#f0f921"
             ]
            ],
            "type": "heatmapgl"
           }
          ],
          "histogram": [
           {
            "marker": {
             "pattern": {
              "fillmode": "overlay",
              "size": 10,
              "solidity": 0.2
             }
            },
            "type": "histogram"
           }
          ],
          "histogram2d": [
           {
            "colorbar": {
             "outlinewidth": 0,
             "ticks": ""
            },
            "colorscale": [
             [
              0,
              "#0d0887"
             ],
             [
              0.1111111111111111,
              "#46039f"
             ],
             [
              0.2222222222222222,
              "#7201a8"
             ],
             [
              0.3333333333333333,
              "#9c179e"
             ],
             [
              0.4444444444444444,
              "#bd3786"
             ],
             [
              0.5555555555555556,
              "#d8576b"
             ],
             [
              0.6666666666666666,
              "#ed7953"
             ],
             [
              0.7777777777777778,
              "#fb9f3a"
             ],
             [
              0.8888888888888888,
              "#fdca26"
             ],
             [
              1,
              "#f0f921"
             ]
            ],
            "type": "histogram2d"
           }
          ],
          "histogram2dcontour": [
           {
            "colorbar": {
             "outlinewidth": 0,
             "ticks": ""
            },
            "colorscale": [
             [
              0,
              "#0d0887"
             ],
             [
              0.1111111111111111,
              "#46039f"
             ],
             [
              0.2222222222222222,
              "#7201a8"
             ],
             [
              0.3333333333333333,
              "#9c179e"
             ],
             [
              0.4444444444444444,
              "#bd3786"
             ],
             [
              0.5555555555555556,
              "#d8576b"
             ],
             [
              0.6666666666666666,
              "#ed7953"
             ],
             [
              0.7777777777777778,
              "#fb9f3a"
             ],
             [
              0.8888888888888888,
              "#fdca26"
             ],
             [
              1,
              "#f0f921"
             ]
            ],
            "type": "histogram2dcontour"
           }
          ],
          "mesh3d": [
           {
            "colorbar": {
             "outlinewidth": 0,
             "ticks": ""
            },
            "type": "mesh3d"
           }
          ],
          "parcoords": [
           {
            "line": {
             "colorbar": {
              "outlinewidth": 0,
              "ticks": ""
             }
            },
            "type": "parcoords"
           }
          ],
          "pie": [
           {
            "automargin": true,
            "type": "pie"
           }
          ],
          "scatter": [
           {
            "fillpattern": {
             "fillmode": "overlay",
             "size": 10,
             "solidity": 0.2
            },
            "type": "scatter"
           }
          ],
          "scatter3d": [
           {
            "line": {
             "colorbar": {
              "outlinewidth": 0,
              "ticks": ""
             }
            },
            "marker": {
             "colorbar": {
              "outlinewidth": 0,
              "ticks": ""
             }
            },
            "type": "scatter3d"
           }
          ],
          "scattercarpet": [
           {
            "marker": {
             "colorbar": {
              "outlinewidth": 0,
              "ticks": ""
             }
            },
            "type": "scattercarpet"
           }
          ],
          "scattergeo": [
           {
            "marker": {
             "colorbar": {
              "outlinewidth": 0,
              "ticks": ""
             }
            },
            "type": "scattergeo"
           }
          ],
          "scattergl": [
           {
            "marker": {
             "colorbar": {
              "outlinewidth": 0,
              "ticks": ""
             }
            },
            "type": "scattergl"
           }
          ],
          "scattermapbox": [
           {
            "marker": {
             "colorbar": {
              "outlinewidth": 0,
              "ticks": ""
             }
            },
            "type": "scattermapbox"
           }
          ],
          "scatterpolar": [
           {
            "marker": {
             "colorbar": {
              "outlinewidth": 0,
              "ticks": ""
             }
            },
            "type": "scatterpolar"
           }
          ],
          "scatterpolargl": [
           {
            "marker": {
             "colorbar": {
              "outlinewidth": 0,
              "ticks": ""
             }
            },
            "type": "scatterpolargl"
           }
          ],
          "scatterternary": [
           {
            "marker": {
             "colorbar": {
              "outlinewidth": 0,
              "ticks": ""
             }
            },
            "type": "scatterternary"
           }
          ],
          "surface": [
           {
            "colorbar": {
             "outlinewidth": 0,
             "ticks": ""
            },
            "colorscale": [
             [
              0,
              "#0d0887"
             ],
             [
              0.1111111111111111,
              "#46039f"
             ],
             [
              0.2222222222222222,
              "#7201a8"
             ],
             [
              0.3333333333333333,
              "#9c179e"
             ],
             [
              0.4444444444444444,
              "#bd3786"
             ],
             [
              0.5555555555555556,
              "#d8576b"
             ],
             [
              0.6666666666666666,
              "#ed7953"
             ],
             [
              0.7777777777777778,
              "#fb9f3a"
             ],
             [
              0.8888888888888888,
              "#fdca26"
             ],
             [
              1,
              "#f0f921"
             ]
            ],
            "type": "surface"
           }
          ],
          "table": [
           {
            "cells": {
             "fill": {
              "color": "#EBF0F8"
             },
             "line": {
              "color": "white"
             }
            },
            "header": {
             "fill": {
              "color": "#C8D4E3"
             },
             "line": {
              "color": "white"
             }
            },
            "type": "table"
           }
          ]
         },
         "layout": {
          "annotationdefaults": {
           "arrowcolor": "#2a3f5f",
           "arrowhead": 0,
           "arrowwidth": 1
          },
          "autotypenumbers": "strict",
          "coloraxis": {
           "colorbar": {
            "outlinewidth": 0,
            "ticks": ""
           }
          },
          "colorscale": {
           "diverging": [
            [
             0,
             "#8e0152"
            ],
            [
             0.1,
             "#c51b7d"
            ],
            [
             0.2,
             "#de77ae"
            ],
            [
             0.3,
             "#f1b6da"
            ],
            [
             0.4,
             "#fde0ef"
            ],
            [
             0.5,
             "#f7f7f7"
            ],
            [
             0.6,
             "#e6f5d0"
            ],
            [
             0.7,
             "#b8e186"
            ],
            [
             0.8,
             "#7fbc41"
            ],
            [
             0.9,
             "#4d9221"
            ],
            [
             1,
             "#276419"
            ]
           ],
           "sequential": [
            [
             0,
             "#0d0887"
            ],
            [
             0.1111111111111111,
             "#46039f"
            ],
            [
             0.2222222222222222,
             "#7201a8"
            ],
            [
             0.3333333333333333,
             "#9c179e"
            ],
            [
             0.4444444444444444,
             "#bd3786"
            ],
            [
             0.5555555555555556,
             "#d8576b"
            ],
            [
             0.6666666666666666,
             "#ed7953"
            ],
            [
             0.7777777777777778,
             "#fb9f3a"
            ],
            [
             0.8888888888888888,
             "#fdca26"
            ],
            [
             1,
             "#f0f921"
            ]
           ],
           "sequentialminus": [
            [
             0,
             "#0d0887"
            ],
            [
             0.1111111111111111,
             "#46039f"
            ],
            [
             0.2222222222222222,
             "#7201a8"
            ],
            [
             0.3333333333333333,
             "#9c179e"
            ],
            [
             0.4444444444444444,
             "#bd3786"
            ],
            [
             0.5555555555555556,
             "#d8576b"
            ],
            [
             0.6666666666666666,
             "#ed7953"
            ],
            [
             0.7777777777777778,
             "#fb9f3a"
            ],
            [
             0.8888888888888888,
             "#fdca26"
            ],
            [
             1,
             "#f0f921"
            ]
           ]
          },
          "colorway": [
           "#636efa",
           "#EF553B",
           "#00cc96",
           "#ab63fa",
           "#FFA15A",
           "#19d3f3",
           "#FF6692",
           "#B6E880",
           "#FF97FF",
           "#FECB52"
          ],
          "font": {
           "color": "#2a3f5f"
          },
          "geo": {
           "bgcolor": "white",
           "lakecolor": "white",
           "landcolor": "#E5ECF6",
           "showlakes": true,
           "showland": true,
           "subunitcolor": "white"
          },
          "hoverlabel": {
           "align": "left"
          },
          "hovermode": "closest",
          "mapbox": {
           "style": "light"
          },
          "paper_bgcolor": "white",
          "plot_bgcolor": "#E5ECF6",
          "polar": {
           "angularaxis": {
            "gridcolor": "white",
            "linecolor": "white",
            "ticks": ""
           },
           "bgcolor": "#E5ECF6",
           "radialaxis": {
            "gridcolor": "white",
            "linecolor": "white",
            "ticks": ""
           }
          },
          "scene": {
           "xaxis": {
            "backgroundcolor": "#E5ECF6",
            "gridcolor": "white",
            "gridwidth": 2,
            "linecolor": "white",
            "showbackground": true,
            "ticks": "",
            "zerolinecolor": "white"
           },
           "yaxis": {
            "backgroundcolor": "#E5ECF6",
            "gridcolor": "white",
            "gridwidth": 2,
            "linecolor": "white",
            "showbackground": true,
            "ticks": "",
            "zerolinecolor": "white"
           },
           "zaxis": {
            "backgroundcolor": "#E5ECF6",
            "gridcolor": "white",
            "gridwidth": 2,
            "linecolor": "white",
            "showbackground": true,
            "ticks": "",
            "zerolinecolor": "white"
           }
          },
          "shapedefaults": {
           "line": {
            "color": "#2a3f5f"
           }
          },
          "ternary": {
           "aaxis": {
            "gridcolor": "white",
            "linecolor": "white",
            "ticks": ""
           },
           "baxis": {
            "gridcolor": "white",
            "linecolor": "white",
            "ticks": ""
           },
           "bgcolor": "#E5ECF6",
           "caxis": {
            "gridcolor": "white",
            "linecolor": "white",
            "ticks": ""
           }
          },
          "title": {
           "x": 0.05
          },
          "xaxis": {
           "automargin": true,
           "gridcolor": "white",
           "linecolor": "white",
           "ticks": "",
           "title": {
            "standoff": 15
           },
           "zerolinecolor": "white",
           "zerolinewidth": 2
          },
          "yaxis": {
           "automargin": true,
           "gridcolor": "white",
           "linecolor": "white",
           "ticks": "",
           "title": {
            "standoff": 15
           },
           "zerolinecolor": "white",
           "zerolinewidth": 2
          }
         }
        },
        "title": {
         "text": "Block Size vs P50 Arrival Time Across Networks"
        },
        "width": 1000,
        "xaxis": {
         "gridcolor": "lightgray",
         "title": {
          "font": {
           "size": 14
          },
          "text": "Block Size (bytes)"
         },
         "type": "log"
        },
        "yaxis": {
         "gridcolor": "lightgray",
         "title": {
          "font": {
           "size": 14
          },
          "text": "P50 Arrival Time (ms)"
         }
        }
       }
      }
     },
     "metadata": {},
     "output_type": "display_data"
    },
    {
     "data": {
      "application/vnd.plotly.v1+json": {
       "config": {
        "plotlyServerURL": "https://plot.ly"
       },
       "data": [
        {
         "hovertemplate": "Slot: %{text}<br>Block Size: %{x} bytes<br>%{yaxis.title.text}: %{y:.1f}ms",
         "marker": {
          "color": "blue",
          "line": {
           "color": "blue",
           "width": 1
          },
          "opacity": 0.7,
          "size": 8,
          "symbol": "square"
         },
         "mode": "markers",
         "name": "baseline (nft-devnet-6)",
         "text": [
          300,
          301,
          302,
          303,
          304,
          305,
          306,
          307,
          308,
          309,
          310,
          311,
          312,
          313,
          314,
          315,
          316,
          317,
          318,
          319,
          320,
          321,
          322,
          323,
          324,
          325,
          326,
          327,
          328,
          329,
          330,
          331,
          332,
          333,
          334,
          335,
          336,
          337,
          338,
          339,
          340,
          341,
          342,
          343,
          344,
          345,
          346,
          347,
          348,
          349,
          350,
          351,
          352,
          353,
          354,
          355,
          356,
          357,
          358,
          359,
          360,
          361,
          362,
          363,
          364,
          365,
          366,
          367,
          368,
          369,
          370,
          371,
          372,
          373,
          374,
          375,
          376,
          377,
          378,
          379,
          380,
          381,
          382,
          383,
          384,
          385,
          386,
          387,
          388,
          389,
          390,
          391,
          392,
          393,
          394,
          395,
          396,
          397,
          398,
          399,
          400,
          401,
          402,
          403,
          404,
          405,
          406,
          407,
          408,
          409,
          410,
          411,
          412,
          413,
          414,
          415,
          416,
          417,
          418,
          419,
          420,
          421,
          422,
          423,
          424,
          425,
          426,
          427,
          428,
          429,
          430,
          431,
          432,
          433,
          434,
          435,
          436,
          437,
          438,
          439,
          440,
          441,
          442,
          443,
          444,
          445,
          446,
          447,
          448,
          449,
          450,
          451,
          452,
          453,
          454,
          455,
          456,
          457,
          458,
          459,
          460,
          461,
          462,
          463,
          464,
          465,
          466,
          467,
          468,
          469,
          470,
          471,
          472,
          473,
          474,
          475,
          476,
          477,
          478,
          479,
          480,
          481,
          482,
          483,
          484,
          485,
          486,
          487,
          488,
          489,
          490,
          491,
          492,
          493,
          494,
          495,
          496,
          497,
          498,
          499,
          500,
          501,
          502,
          503,
          504,
          505,
          506,
          507,
          508,
          509,
          510,
          511,
          512,
          513,
          514,
          515,
          516,
          517,
          518,
          519,
          520,
          521,
          522,
          523,
          524,
          525,
          526,
          527,
          528,
          529,
          530,
          531,
          532,
          533,
          534,
          535,
          536,
          537,
          538,
          539,
          540,
          541,
          542,
          543,
          544,
          545,
          546,
          547,
          548,
          549,
          550,
          551,
          552,
          553,
          554,
          555,
          556,
          557,
          558,
          559,
          560,
          561,
          562,
          563,
          564,
          565,
          566,
          567,
          568,
          569,
          570,
          571,
          572,
          573,
          574,
          575,
          576,
          577,
          578,
          579,
          580,
          581,
          582,
          583,
          584,
          585,
          586,
          587,
          588,
          589,
          590,
          591,
          592,
          593,
          594,
          595,
          596,
          597,
          598,
          599,
          600
         ],
         "type": "scatter",
         "x": [
          3315860,
          3063098,
          3716452,
          3614174,
          2811514,
          4267527,
          3017836,
          3541133,
          3515714,
          2887195,
          3790370,
          2840466,
          3894413,
          3414023,
          3264129,
          3866052,
          2357723,
          4492807,
          3069566,
          3489410,
          3840038,
          2735540,
          4269585,
          3091755,
          3642831,
          3691027,
          2909973,
          4117046,
          2236781,
          4495746,
          2812395,
          3865169,
          3614467,
          2709530,
          4267820,
          2210769,
          4871795,
          2542446,
          3895000,
          3590219,
          3037089,
          3740405,
          3814322,
          2809751,
          4443135,
          2131561,
          5021986,
          1028827,
          4971727,
          1188715,
          4896634,
          1772559,
          5050349,
          1764624,
          4898397,
          2048980,
          4627857,
          1861318,
          5022866,
          1540815,
          4723670,
          1590189,
          4800232,
          2870006,
          3794778,
          3238707,
          3065744,
          3688970,
          3814618,
          2786093,
          4469147,
          1936409,
          4922645,
          1436477,
          4698835,
          1542579,
          4699124,
          2600055,
          4046658,
          3144660,
          3265894,
          3968918,
          2336708,
          4468264,
          2459709,
          4370687,
          3073680,
          4371568,
          2288509,
          4847549,
          1890856,
          4798468,
          1511274,
          5002149,
          1113916,
          4854899,
          2441047,
          3966274,
          2993593,
          4498098,
          2239134,
          4998620,
          1766976,
          4824481,
          1661459,
          4697952,
          1610321,
          4874151,
          1364029,
          4899868,
          1182247,
          4950714,
          1571529,
          4496335,
          2769782,
          4796409,
          1938763,
          5051817,
          1772562,
          4624622,
          1394157,
          5053579,
          1165348,
          4730431,
          2467648,
          4150993,
          3002411,
          4198902,
          2791383,
          4496333,
          2093358,
          4775102,
          1537875,
          4873269,
          1511569,
          4775103,
          1718188,
          4623155,
          1635156,
          4922641,
          2544505,
          4220503,
          3096164,
          3391247,
          3642241,
          2659566,
          4344972,
          2059116,
          4650340,
          2463532,
          5049170,
          2099237,
          4675469,
          2022674,
          5005675,
          1695410,
          4902805,
          1487028,
          4874737,
          1541403,
          4673413,
          1541696,
          4649461,
          2763020,
          3941435,
          3162144,
          4367159,
          2508792,
          4995975,
          1737729,
          5023161,
          1445883,
          4900456,
          1920690,
          4697070,
          1387394,
          4997442,
          2418272,
          3919246,
          2989475,
          3641360,
          3439445,
          3847096,
          2862948,
          4092799,
          2214888,
          4622055,
          2843518,
          3821823,
          3369483,
          2836169,
          4021100,
          2106811,
          4769999,
          1262093,
          4796600,
          2614113,
          3916758,
          3387850,
          3288507,
          3765389,
          2608822,
          4141456,
          3337884,
          3363604,
          3639738,
          2759601,
          4368508,
          2186610,
          4948557,
          2489640,
          4219787,
          3467064,
          2993415,
          4196127,
          2389415,
          4497982,
          2891130,
          3821825,
          3443403,
          2937277,
          4268284,
          2013641,
          4902119,
          1546461,
          4425239,
          3192693,
          3369484,
          3641503,
          2711694,
          4395695,
          2689501,
          4322365,
          3240011,
          3365956,
          3966431,
          2357816,
          4593504,
          2941981,
          3816825,
          3438995,
          2810451,
          3991560,
          2133408,
          4920489,
          2016286,
          4450367,
          2748289,
          4825554,
          2213799,
          4373211,
          2117686,
          5052606,
          1191700,
          4873756,
          1235493,
          4547066,
          1646980,
          4525463,
          2592218,
          4773236,
          2142819,
          4776469,
          1587607,
          4850096,
          1541757,
          4800127,
          2845281,
          3670750,
          3843130,
          2610880,
          4293119,
          3116127,
          3164913,
          3616667,
          4069009,
          2565619,
          4346909,
          2887309,
          3666044,
          3339355,
          4067831,
          2459512,
          4945909,
          1390683,
          4848624,
          1719431,
          4471968,
          2250100,
          5051429,
          1263857,
          5051136,
          1895635,
          4498274,
          1958970,
          4928719,
          2148697,
          4948556,
          1991157,
          4625985,
          2168537
         ],
         "y": [
          3496.2,
          3330.9999999999995,
          3486.3999999999996,
          3532.3999999999996,
          3280.3999999999996,
          3865,
          3313,
          3402,
          3411.7999999999997,
          3491.4,
          3729.3999999999996,
          3272,
          3512.4,
          3410.9999999999995,
          3377,
          3460.7999999999997,
          3252.8,
          3757.3999999999996,
          3340.6,
          3578,
          3397.2,
          3184.4,
          3654,
          3317.8,
          3527.9999999999995,
          3450.6,
          3491,
          3790,
          3221.2,
          3807.2,
          3313.8,
          3664,
          3398,
          3367.6,
          3756.3999999999996,
          3264.8,
          3869.8,
          3282,
          3528.5999999999995,
          3517.6,
          3417.2,
          3473.2,
          3486.5999999999995,
          3314.2,
          3730.8,
          3399.4,
          3850.4,
          2770.8,
          4008.7999999999993,
          2950.6,
          4221.2,
          3003.6,
          3750.2,
          3085.6,
          4119,
          3200.5999999999995,
          3760.3999999999996,
          3154.6,
          3901.9999999999995,
          2953,
          3815.5999999999995,
          2893.8,
          3795.7999999999997,
          3334.2,
          3484.7999999999997,
          3375.6,
          3318.3999999999996,
          3466.7999999999997,
          3442.6,
          3360.7999999999997,
          3802.9999999999995,
          3152.2,
          3853.6,
          2871.2,
          4027.2,
          2898.2,
          4091.999999999999,
          3265.6,
          3909,
          3482.3999999999996,
          3611.7999999999997,
          3512.5999999999995,
          3239.2,
          3656.2,
          3234.9999999999995,
          3809.7999999999997,
          3318.6,
          3739.5999999999995,
          3121.7999999999997,
          3880,
          3241.8,
          3850.6,
          3025,
          3928,
          2829.3999999999996,
          3877.4,
          3272.3999999999996,
          3557.3999999999996,
          3313.2,
          3677.4,
          3245.7999999999997,
          3914.2,
          3243.7999999999997,
          3848.9999999999995,
          2933.7999999999997,
          3824.8,
          2933.8,
          3828.6,
          2897.8,
          3806.7999999999997,
          2822.8,
          4222.599999999999,
          3023,
          3935.2,
          3330.1999999999994,
          3894,
          2950.6,
          3831.7999999999997,
          2994.9999999999995,
          3887.8,
          3038.3999999999996,
          3877,
          2825.6,
          3783.4,
          3247.7999999999997,
          3976.6,
          3437.4,
          3787.7999999999997,
          3308.4,
          3829.5999999999995,
          3222.6,
          3769.6,
          2863.4,
          3913.1999999999994,
          2860,
          3856.7999999999997,
          3106.2,
          3796.6,
          3004.6,
          3828.5999999999995,
          3348.7999999999997,
          3839.9999999999986,
          3471.4,
          3358,
          3464.6,
          3289.3999999999996,
          3910.6,
          3260.6,
          3703.2,
          3127.399999999999,
          4083.599999999999,
          3173.6,
          3820.6,
          3149.6,
          3954.6,
          3250.3999999999996,
          3839.1999999999994,
          2926.8,
          3975.2,
          2868.6,
          3862.9999999999995,
          2844.6,
          3756.6,
          3480,
          3475.6,
          3351.7999999999997,
          3709.8,
          3348.6,
          3877.6,
          3150.7999999999997,
          4165.4,
          2938.2,
          4077.2,
          3191.7999999999997,
          3921.6,
          3030.6,
          3811.3999999999996,
          3270.7999999999993,
          3450.7999999999997,
          3174.8,
          3326,
          3611,
          3601.3999999999996,
          3329.6,
          3814.7999999999997,
          3224.9999999999995,
          3762.2,
          3330.8,
          3592.6,
          3395.6,
          3354.6,
          3478.4,
          3161.4,
          3851.4,
          2819.8,
          3765.6,
          3274.8,
          3468.6,
          3482,
          3382.2,
          3495.1999999999994,
          3233.7999999999997,
          3725.4,
          3392.8,
          3411.4,
          3473.9999999999995,
          3265,
          3778.7999999999997,
          3409.2,
          3901.7999999999993,
          3207.8,
          3685.4,
          3375,
          3399.2,
          3648.6,
          3273.8,
          3794.3999999999996,
          3298,
          3655,
          3408.2,
          3520.4,
          3898.7999999999997,
          3177.4,
          4169,
          3132.6,
          3785,
          3500.3999999999996,
          3436.2,
          3405.7999999999997,
          3520.7999999999997,
          3818.3999999999996,
          3369.2,
          3688,
          3389.8,
          3612.2,
          3508.2,
          3364.7999999999997,
          3804,
          3414.2,
          3654.3999999999996,
          3428.6,
          3337.8,
          3507.4,
          3060.2,
          3758.9999999999995,
          3170.7999999999997,
          3942.7999999999997,
          3300.2,
          3796,
          3292.8,
          3972.5999999999995,
          3268.8,
          3865.3999999999996,
          2853.2,
          3941.7999999999997,
          2968.6,
          4052.7999999999997,
          3146.9999999999995,
          3755.6,
          3185.4,
          3820.2,
          3293.3999999999996,
          3820.6,
          2896.8,
          3968.5999999999995,
          2949.8,
          3868.4,
          3503.6,
          3545.6,
          3516.7999999999997,
          3307,
          3778.8,
          3394.2,
          3354.7999999999997,
          3433.2,
          3964.2,
          3134.7999999999997,
          3584.2,
          3318.2,
          3463.5999999999995,
          3448,
          3658.3999999999996,
          3300.7999999999997,
          3844.3999999999996,
          2824.6,
          4029.9999999999995,
          2981.4,
          4027.9999999999995,
          3249.6,
          3842.5999999999995,
          2916.3999999999996,
          4017.3999999999996,
          3164,
          3764.9999999999995,
          3312.6,
          4088,
          3234.3999999999996,
          3846.7999999999997,
          3284.2,
          4034.7999999999997,
          3187.8
         ]
        },
        {
         "hoverinfo": "skip",
         "line": {
          "color": "blue",
          "dash": "dash",
          "width": 2
         },
         "mode": "lines",
         "name": "baseline Trend",
         "type": "scatter",
         "x": [
          1028827,
          1069481.0606060605,
          1110135.121212121,
          1150789.1818181819,
          1191443.2424242424,
          1232097.303030303,
          1272751.3636363638,
          1313405.4242424243,
          1354059.4848484849,
          1394713.5454545454,
          1435367.606060606,
          1476021.6666666667,
          1516675.7272727273,
          1557329.7878787878,
          1597983.8484848486,
          1638637.9090909092,
          1679291.9696969697,
          1719946.0303030303,
          1760600.0909090908,
          1801254.1515151516,
          1841908.2121212122,
          1882562.2727272727,
          1923216.3333333335,
          1963870.393939394,
          2004524.4545454546,
          2045178.5151515151,
          2085832.5757575757,
          2126486.6363636367,
          2167140.6969696973,
          2207794.757575758,
          2248448.8181818184,
          2289102.878787879,
          2329756.9393939395,
          2370411,
          2411065.0606060605,
          2451719.121212121,
          2492373.1818181816,
          2533027.242424242,
          2573681.303030303,
          2614335.3636363638,
          2654989.4242424243,
          2695643.484848485,
          2736297.5454545454,
          2776951.6060606064,
          2817605.666666667,
          2858259.7272727275,
          2898913.787878788,
          2939567.8484848486,
          2980221.909090909,
          3020875.9696969697,
          3061530.0303030303,
          3102184.090909091,
          3142838.1515151514,
          3183492.2121212124,
          3224146.272727273,
          3264800.3333333335,
          3305454.393939394,
          3346108.4545454546,
          3386762.515151515,
          3427416.5757575757,
          3468070.6363636367,
          3508724.6969696973,
          3549378.757575758,
          3590032.8181818184,
          3630686.878787879,
          3671340.9393939395,
          3711995,
          3752649.0606060605,
          3793303.121212121,
          3833957.181818182,
          3874611.2424242427,
          3915265.303030303,
          3955919.3636363638,
          3996573.4242424243,
          4037227.484848485,
          4077881.5454545454,
          4118535.6060606064,
          4159189.666666667,
          4199843.7272727275,
          4240497.787878788,
          4281151.848484849,
          4321805.909090909,
          4362459.96969697,
          4403114.03030303,
          4443768.090909091,
          4484422.151515152,
          4525076.212121213,
          4565730.272727273,
          4606384.333333334,
          4647038.3939393945,
          4687692.454545455,
          4728346.515151516,
          4769000.575757576,
          4809654.636363637,
          4850308.696969697,
          4890962.757575758,
          4931616.818181818,
          4972270.878787879,
          5012924.939393939,
          5053579
         ],
         "y": [
          2855.0906641976326,
          2866.0469780134945,
          2877.003291829357,
          2887.9596056452187,
          2898.9159194610806,
          2909.8722332769426,
          2920.828547092805,
          2931.784860908667,
          2942.7411747245287,
          2953.6974885403906,
          2964.6538023562525,
          2975.6101161721144,
          2986.566429987977,
          2997.5227438038387,
          3008.4790576197006,
          3019.4353714355625,
          3030.3916852514244,
          3041.3479990672868,
          3052.3043128831487,
          3063.2606266990106,
          3074.2169405148725,
          3085.1732543307344,
          3096.1295681465963,
          3107.0858819624586,
          3118.0421957783205,
          3128.9985095941825,
          3139.9548234100444,
          3150.9111372259067,
          3161.8674510417686,
          3172.8237648576305,
          3183.7800786734924,
          3194.7363924893543,
          3205.6927063052162,
          3216.649020121078,
          3227.60533393694,
          3238.5616477528024,
          3249.5179615686643,
          3260.474275384526,
          3271.4305892003886,
          3282.3869030162505,
          3293.3432168321124,
          3304.2995306479743,
          3315.255844463836,
          3326.212158279698,
          3337.16847209556,
          3348.1247859114224,
          3359.0810997272843,
          3370.037413543146,
          3380.993727359008,
          3391.95004117487,
          3402.9063549907323,
          3413.8626688065942,
          3424.818982622456,
          3435.775296438318,
          3446.73161025418,
          3457.687924070042,
          3468.6442378859037,
          3479.600551701766,
          3490.556865517628,
          3501.51317933349,
          3512.4694931493523,
          3523.425806965214,
          3534.382120781076,
          3545.338434596938,
          3556.2947484128,
          3567.251062228662,
          3578.2073760445237,
          3589.1636898603856,
          3600.120003676248,
          3611.07631749211,
          3622.0326313079718,
          3632.988945123834,
          3643.945258939696,
          3654.901572755558,
          3665.85788657142,
          3676.8142003872817,
          3687.7705142031436,
          3698.7268280190056,
          3709.6831418348675,
          3720.63945565073,
          3731.5957694665917,
          3742.5520832824536,
          3753.508397098316,
          3764.464710914178,
          3775.42102473004,
          3786.3773385459017,
          3797.3336523617636,
          3808.2899661776255,
          3819.2462799934874,
          3830.2025938093498,
          3841.1589076252117,
          3852.1152214410736,
          3863.071535256936,
          3874.027849072798,
          3884.9841628886597,
          3895.9404767045216,
          3906.8967905203835,
          3917.8531043362455,
          3928.8094181521074,
          3939.7657319679693
         ]
        },
        {
         "hovertemplate": "Slot: %{text}<br>Block Size: %{x} bytes<br>%{yaxis.title.text}: %{y:.1f}ms",
         "marker": {
          "color": "green",
          "line": {
           "color": "green",
           "width": 1
          },
          "opacity": 0.7,
          "size": 8,
          "symbol": "circle"
         },
         "mode": "markers",
         "name": "rlnc (nft-devnet-5)",
         "text": [
          300,
          301,
          302,
          303,
          304,
          305,
          306,
          307,
          308,
          309,
          310,
          311,
          312,
          313,
          314,
          315,
          316,
          317,
          318,
          319,
          320,
          321,
          322,
          323,
          324,
          325,
          326,
          327,
          328,
          329,
          330,
          331,
          332,
          333,
          334,
          335,
          336,
          337,
          338,
          339,
          340,
          341,
          342,
          343,
          344,
          345,
          346,
          347,
          348,
          349,
          350,
          351,
          352,
          353,
          354,
          355,
          356,
          357,
          358,
          359,
          360,
          361,
          362,
          363,
          364,
          365,
          366,
          367,
          368,
          369,
          370,
          371,
          372,
          373,
          374,
          375,
          376,
          377,
          378,
          379,
          380,
          381,
          382,
          383,
          384,
          385,
          386,
          387,
          388,
          389,
          390,
          391,
          392,
          393,
          394,
          395,
          396,
          397,
          398,
          399,
          400,
          401,
          402,
          403,
          404,
          405,
          406,
          407,
          408,
          409,
          410,
          411,
          412,
          413,
          414,
          415,
          416,
          417,
          418,
          419,
          420,
          421,
          422,
          423,
          424,
          425,
          426,
          427,
          428,
          429,
          430,
          431,
          432,
          433,
          434,
          435,
          436,
          437,
          438,
          439,
          440,
          441,
          442,
          443,
          444,
          445,
          446,
          447,
          448,
          449,
          450,
          451,
          452,
          453,
          454,
          455,
          456,
          457,
          458,
          459,
          460,
          461,
          462,
          463,
          464,
          465,
          466,
          467,
          468,
          469,
          470,
          471,
          472,
          473,
          474,
          475,
          476,
          477,
          478,
          479,
          480,
          481,
          482,
          483,
          484,
          485,
          486,
          487,
          488,
          489,
          490,
          491,
          492,
          493,
          494,
          495,
          496,
          497,
          498,
          499,
          500,
          501,
          502,
          503,
          504,
          505,
          506,
          507,
          508,
          509,
          510,
          511,
          512,
          513,
          514,
          515,
          516,
          517,
          518,
          519,
          520,
          521,
          522,
          523,
          524,
          525,
          526,
          527,
          528,
          529,
          530,
          531,
          532,
          533,
          534,
          535,
          536,
          537,
          538,
          539,
          540,
          541,
          542,
          543,
          544,
          545,
          546,
          547,
          548,
          549,
          550,
          551,
          552,
          553,
          554,
          555,
          556,
          557,
          558,
          559,
          560,
          561,
          562,
          563,
          564,
          565,
          566,
          567,
          568,
          569,
          570,
          571,
          572,
          573,
          574,
          575,
          576,
          577,
          578,
          579,
          580,
          581,
          582,
          583,
          584,
          585,
          586,
          587,
          588,
          589,
          590,
          591,
          592,
          593,
          594,
          595,
          596,
          597,
          598,
          599,
          600
         ],
         "type": "scatter",
         "x": [
          4501737,
          1973516,
          4729658,
          1671686,
          4701587,
          1018653,
          5053083,
          1496084,
          4878368,
          1697108,
          4950512,
          1845817,
          4651037,
          2215682,
          4523635,
          1521211,
          5048972,
          1043780,
          5048676,
          1596596,
          4871603,
          5064257,
          4662212,
          1470956,
          4838108,
          1747365,
          4561700,
          1822748,
          4812979,
          1722237,
          4687336,
          1521212,
          4881013,
          1445829,
          4725835,
          1493438,
          4855291,
          1593068,
          4774914,
          1470954,
          4799751,
          1370445,
          4825172,
          1797621,
          4622677,
          1219677,
          5048972,
          1091097,
          4821644,
          1847289,
          4445606,
          2274757,
          4146129,
          null,
          3581708,
          893013,
          5014001,
          541221,
          5064259,
          1320189,
          4536573,
          1395571,
          4860000,
          2777612,
          4008884,
          3079147,
          3204789,
          1898132,
          4381980,
          1596596,
          4607333,
          2501214,
          3881568,
          3179747,
          3274713,
          3802425,
          2601817,
          4486493,
          1973592,
          4556588,
          1847949,
          4528811,
          1873077,
          4603609,
          2096591,
          4779808,
          1672046,
          4838297,
          1898207,
          4461364,
          2074108,
          4813171,
          1169464,
          5056814,
          1747430,
          4482079,
          2350528,
          5059462,
          1722303,
          4753796,
          1873077,
          4856665,
          1169466,
          5049757,
          993561,
          5054171,
          1646917,
          4722202,
          2099237,
          4924702,
          2098062,
          4676056,
          2241781,
          4675177,
          2271320,
          4873268,
          2023851,
          4976431,
          2099239,
          4353204,
          1194594,
          4660631,
          2350528,
          4813170,
          1521272,
          5064459,
          1747432,
          4758501,
          1923336,
          4906628,
          1973593,
          4776575,
          1948464,
          4926465,
          1871901,
          4726023,
          2099239,
          4975255,
          2074109,
          4548650,
          2473234,
          3947611,
          2917911,
          3289553,
          3621228,
          2626948,
          4403460,
          2044864,
          5027864,
          1295111,
          4830947,
          918175,
          5062697,
          1420756,
          4863424,
          1847947,
          4733954,
          1571530,
          4838297,
          1822820,
          4433588,
          2023852,
          4778924,
          1797691,
          4599789,
          1847949,
          4903396,
          943304,
          5051815,
          1496142,
          4799057,
          1571530,
          4902218,
          1645741,
          5024337,
          1496141,
          4874738,
          1992842,
          4346148,
          2601818,
          4773046,
          1496143,
          5037857,
          1546400,
          4888556,
          1973594,
          4731607,
          2046923,
          4779221,
          1822818,
          4629328,
          1697175,
          4906923,
          641757,
          5056815,
          842788,
          5026685,
          742272,
          5050346,
          1722304,
          4470320,
          1939350,
          4624917,
          1018691,
          5049463,
          1444120,
          4846374,
          1445003,
          4947476,
          1746845,
          4571719,
          1923336,
          4820658,
          1018691,
          5064460,
          null,
          5064457,
          1772560,
          4838299,
          666886,
          4637267,
          1596658,
          5064459,
          1772561,
          4762910,
          2300271,
          3808011,
          3330560,
          3079269,
          3833140,
          2576688,
          4511622,
          1445884,
          5007145,
          1546400,
          4687525,
          1219724,
          5055636,
          1797691,
          4606256,
          2096886,
          4747621,
          1722304,
          4796705,
          1892912,
          4798755,
          1797690,
          4561878,
          1521272,
          5058873,
          1546399,
          4758791,
          2174626,
          4378332,
          2174623,
          4979369,
          1672045,
          4861076,
          1269982,
          5052404,
          1873077,
          4751442,
          2375657,
          3894708,
          3054141,
          3120413,
          3773471,
          2521726,
          4681645,
          1695412,
          4723749,
          1194626,
          5051621,
          1619499,
          4696373,
          2224381,
          4903295,
          1898281,
          4762511,
          2174710,
          4761333,
          2224970,
          4654348,
          2325491,
          4708429,
          1420810,
          5055252,
          1873150,
          4858328,
          2300361,
          4653466,
          2149580,
          4709605,
          2149581,
          4673010,
          1973671,
          4850093,
          1822890,
          4677420,
          1872857,
          4724738
         ],
         "y": [
          4605.25,
          3045,
          4000.75,
          2859.25,
          4258.75,
          2777,
          4129,
          2893,
          4316.5,
          2922.5,
          4162,
          3062,
          3972.25,
          3085.5,
          4872.5,
          2886,
          4201,
          2632,
          4567.25,
          2785.25,
          7340.25,
          4630.75,
          4045.5,
          2775.75,
          4213.5,
          2983.75,
          4146.5,
          2902.25,
          4073,
          2817.25,
          4807.25,
          2771,
          4186.25,
          2782.5,
          3971,
          2944,
          3827.75,
          2786.5,
          4194.75,
          2822.75,
          4764.25,
          2884.25,
          4797.5,
          3001.25,
          4666,
          2852,
          4235.5,
          2759.75,
          4288.5,
          2907,
          4130.25,
          3574,
          5347.25,
          4585.5,
          3660,
          2824.5,
          4217.75,
          2553.75,
          4713.25,
          2742.75,
          4189.25,
          2841,
          4331.5,
          3724.75,
          3743,
          4107.75,
          4419,
          3104.75,
          4532.5,
          2758.75,
          4385.25,
          3749.5,
          4016.5,
          3470.5,
          3674,
          3975.5,
          3620,
          4036.25,
          2927.5,
          4043.75,
          2946.5,
          4383.75,
          2965.5,
          5324.75,
          3115.5,
          4196.5,
          2861.5,
          4301,
          2907.5,
          4823.25,
          3036.25,
          4280.25,
          2710.75,
          4285.5,
          2849,
          4404.25,
          3509.25,
          4132.75,
          2897.25,
          4295,
          3090.25,
          4153.5,
          2775,
          4619.75,
          2748.5,
          4215.5,
          2855.75,
          4969.75,
          3116.5,
          4038.75,
          3101.75,
          3940.5,
          3075.25,
          3862.5,
          3276.75,
          5215,
          3071.25,
          4092,
          3102.5,
          5050.5,
          2844.5,
          4385.5,
          3636.5,
          4546.5,
          2868.25,
          4755,
          2913.75,
          4137.5,
          2969.5,
          4085.75,
          3058,
          3830.75,
          2933.75,
          4119.75,
          2917.75,
          4646.5,
          3021,
          4658.75,
          2978.5,
          4186.25,
          3866.25,
          3707.75,
          3476.25,
          3525.75,
          4761,
          3856.75,
          3980.75,
          3127.5,
          4244.75,
          2735.75,
          4190.5,
          2684.75,
          4330,
          2779.25,
          4151.75,
          2995.5,
          3896,
          2860.75,
          4178,
          3011,
          4001.75,
          2954.25,
          4087,
          2927.75,
          3920,
          2995.75,
          4147.5,
          2751.25,
          4540,
          2831.75,
          4458,
          2810.75,
          3978.5,
          3087.25,
          4374,
          2907.5,
          3999.5,
          2939.5,
          4277.5,
          3395.25,
          4316.75,
          2848,
          4148.25,
          2812.75,
          4237.5,
          3032.75,
          3960.25,
          3150.5,
          4179.75,
          2977,
          4417.25,
          2887.75,
          3964,
          2760.75,
          4132.25,
          2726.75,
          4341.75,
          2670.5,
          4604.5,
          2943.25,
          3880.5,
          2975.5,
          4959.25,
          2755,
          4018.25,
          2864.75,
          4115.5,
          2843.75,
          4106,
          2858.5,
          4549,
          2952,
          4947,
          2845,
          5697.25,
          4663,
          4239,
          2973,
          5079,
          2643,
          4599,
          2900.25,
          4121.75,
          3118,
          3924.25,
          3512,
          4580.25,
          3729,
          3550,
          3864.5,
          3471.25,
          4468.5,
          2779,
          4103.5,
          2881,
          4697.25,
          2780.25,
          4268.75,
          2937,
          4214.25,
          2983.25,
          4318.5,
          2774.75,
          3988.75,
          2948.5,
          4315.75,
          2876.5,
          4310,
          2793.25,
          4061.5,
          3151.25,
          4102,
          3278.5,
          3835.5,
          3137.75,
          4364.25,
          3025.75,
          4542.75,
          2860,
          4141.75,
          3019.75,
          4350.25,
          3624.75,
          3873.25,
          3402,
          3457.5,
          3667.5,
          3402.75,
          4035,
          2851,
          5514,
          2698.25,
          4131.25,
          2833,
          4093.5,
          3840.5,
          4752.5,
          2989.5,
          4330.5,
          3361.5,
          4113,
          3183.25,
          4346,
          3172.25,
          4466,
          2973,
          4124.75,
          2934,
          4145,
          3522.5,
          5178,
          3464.25,
          4155.5,
          2907,
          4185.25,
          3224,
          4182.25,
          2931.75,
          4172.75,
          2949,
          3909.75
         ]
        },
        {
         "hoverinfo": "skip",
         "line": {
          "color": "green",
          "dash": "dash",
          "width": 2
         },
         "mode": "lines",
         "name": "rlnc Trend",
         "type": "scatter",
         "x": [
          541221,
          586910.2828282828,
          632599.5656565656,
          678288.8484848485,
          723978.1313131313,
          769667.4141414141,
          815356.696969697,
          861045.9797979798,
          906735.2626262626,
          952424.5454545454,
          998113.8282828282,
          1043803.1111111111,
          1089492.393939394,
          1135181.6767676766,
          1180870.9595959596,
          1226560.2424242424,
          1272249.5252525252,
          1317938.808080808,
          1363628.0909090908,
          1409317.3737373739,
          1455006.6565656564,
          1500695.9393939395,
          1546385.2222222222,
          1592074.505050505,
          1637763.7878787878,
          1683453.0707070706,
          1729142.3535353534,
          1774831.6363636362,
          1820520.9191919193,
          1866210.202020202,
          1911899.4848484849,
          1957588.7676767677,
          2003278.0505050505,
          2048967.3333333333,
          2094656.616161616,
          2140345.898989899,
          2186035.1818181816,
          2231724.4646464647,
          2277413.7474747477,
          2323103.0303030303,
          2368792.313131313,
          2414481.595959596,
          2460170.878787879,
          2505860.1616161615,
          2551549.4444444445,
          2597238.7272727275,
          2642928.01010101,
          2688617.2929292927,
          2734306.5757575757,
          2779995.8585858587,
          2825685.1414141413,
          2871374.4242424243,
          2917063.707070707,
          2962752.98989899,
          3008442.2727272725,
          3054131.5555555555,
          3099820.8383838385,
          3145510.121212121,
          3191199.404040404,
          3236888.6868686867,
          3282577.9696969697,
          3328267.2525252523,
          3373956.5353535353,
          3419645.818181818,
          3465335.101010101,
          3511024.383838384,
          3556713.6666666665,
          3602402.9494949495,
          3648092.232323232,
          3693781.515151515,
          3739470.7979797977,
          3785160.0808080807,
          3830849.3636363633,
          3876538.6464646463,
          3922227.9292929294,
          3967917.212121212,
          4013606.494949495,
          4059295.7777777775,
          4104985.0606060605,
          4150674.343434343,
          4196363.626262626,
          4242052.909090909,
          4287742.191919192,
          4333431.474747475,
          4379120.757575758,
          4424810.04040404,
          4470499.323232323,
          4516188.6060606055,
          4561877.888888889,
          4607567.171717172,
          4653256.454545455,
          4698945.737373738,
          4744635.02020202,
          4790324.303030303,
          4836013.585858585,
          4881702.868686869,
          4927392.151515151,
          4973081.434343434,
          5018770.717171717,
          5064460
         ],
         "y": [
          2476.166295787227,
          2496.3050881398194,
          2516.4438804924116,
          2536.582672845004,
          2556.721465197596,
          2576.860257550188,
          2596.99904990278,
          2617.137842255372,
          2637.2766346079643,
          2657.4154269605565,
          2677.5542193131487,
          2697.6930116657404,
          2717.831804018333,
          2737.970596370925,
          2758.109388723517,
          2778.248181076109,
          2798.3869734287014,
          2818.5257657812936,
          2838.6645581338853,
          2858.8033504864775,
          2878.9421428390697,
          2899.080935191662,
          2919.219727544254,
          2939.358519896846,
          2959.497312249438,
          2979.63610460203,
          2999.7748969546224,
          3019.9136893072146,
          3040.0524816598067,
          3060.191274012399,
          3080.3300663649907,
          3100.468858717583,
          3120.607651070175,
          3140.7464434227672,
          3160.8852357753594,
          3181.024028127951,
          3201.1628204805434,
          3221.3016128331356,
          3241.4404051857277,
          3261.57919753832,
          3281.7179898909117,
          3301.8567822435043,
          3321.995574596096,
          3342.1343669486882,
          3362.2731593012804,
          3382.4119516538726,
          3402.550744006465,
          3422.6895363590565,
          3442.8283287116487,
          3462.967121064241,
          3483.1059134168327,
          3503.2447057694253,
          3523.383498122017,
          3543.5222904746097,
          3563.6610828272014,
          3583.7998751797936,
          3603.938667532386,
          3624.0774598849775,
          3644.21625223757,
          3664.355044590162,
          3684.493836942754,
          3704.6326292953463,
          3724.7714216479385,
          3744.9102140005307,
          3765.0490063531224,
          3785.187798705715,
          3805.326591058307,
          3825.465383410899,
          3845.604175763491,
          3865.742968116083,
          3885.881760468675,
          3906.0205528212673,
          3926.1593451738595,
          3946.2981375264517,
          3966.436929879044,
          3986.575722231636,
          4006.714514584228,
          4026.85330693682,
          4046.992099289412,
          4067.130891642004,
          4087.269683994596,
          4107.408476347188,
          4127.54726869978,
          4147.686061052373,
          4167.824853404965,
          4187.963645757557,
          4208.102438110149,
          4228.241230462741,
          4248.380022815333,
          4268.518815167925,
          4288.657607520518,
          4308.79639987311,
          4328.935192225702,
          4349.073984578294,
          4369.212776930886,
          4389.351569283478,
          4409.49036163607,
          4429.629153988662,
          4449.767946341255,
          4469.906738693846
         ]
        }
       ],
       "layout": {
        "height": 600,
        "hovermode": "closest",
        "legend": {
         "bgcolor": "rgba(255,255,255,0.8)",
         "x": 0.01,
         "y": 0.99
        },
        "plot_bgcolor": "white",
        "template": {
         "data": {
          "bar": [
           {
            "error_x": {
             "color": "#2a3f5f"
            },
            "error_y": {
             "color": "#2a3f5f"
            },
            "marker": {
             "line": {
              "color": "#E5ECF6",
              "width": 0.5
             },
             "pattern": {
              "fillmode": "overlay",
              "size": 10,
              "solidity": 0.2
             }
            },
            "type": "bar"
           }
          ],
          "barpolar": [
           {
            "marker": {
             "line": {
              "color": "#E5ECF6",
              "width": 0.5
             },
             "pattern": {
              "fillmode": "overlay",
              "size": 10,
              "solidity": 0.2
             }
            },
            "type": "barpolar"
           }
          ],
          "carpet": [
           {
            "aaxis": {
             "endlinecolor": "#2a3f5f",
             "gridcolor": "white",
             "linecolor": "white",
             "minorgridcolor": "white",
             "startlinecolor": "#2a3f5f"
            },
            "baxis": {
             "endlinecolor": "#2a3f5f",
             "gridcolor": "white",
             "linecolor": "white",
             "minorgridcolor": "white",
             "startlinecolor": "#2a3f5f"
            },
            "type": "carpet"
           }
          ],
          "choropleth": [
           {
            "colorbar": {
             "outlinewidth": 0,
             "ticks": ""
            },
            "type": "choropleth"
           }
          ],
          "contour": [
           {
            "colorbar": {
             "outlinewidth": 0,
             "ticks": ""
            },
            "colorscale": [
             [
              0,
              "#0d0887"
             ],
             [
              0.1111111111111111,
              "#46039f"
             ],
             [
              0.2222222222222222,
              "#7201a8"
             ],
             [
              0.3333333333333333,
              "#9c179e"
             ],
             [
              0.4444444444444444,
              "#bd3786"
             ],
             [
              0.5555555555555556,
              "#d8576b"
             ],
             [
              0.6666666666666666,
              "#ed7953"
             ],
             [
              0.7777777777777778,
              "#fb9f3a"
             ],
             [
              0.8888888888888888,
              "#fdca26"
             ],
             [
              1,
              "#f0f921"
             ]
            ],
            "type": "contour"
           }
          ],
          "contourcarpet": [
           {
            "colorbar": {
             "outlinewidth": 0,
             "ticks": ""
            },
            "type": "contourcarpet"
           }
          ],
          "heatmap": [
           {
            "colorbar": {
             "outlinewidth": 0,
             "ticks": ""
            },
            "colorscale": [
             [
              0,
              "#0d0887"
             ],
             [
              0.1111111111111111,
              "#46039f"
             ],
             [
              0.2222222222222222,
              "#7201a8"
             ],
             [
              0.3333333333333333,
              "#9c179e"
             ],
             [
              0.4444444444444444,
              "#bd3786"
             ],
             [
              0.5555555555555556,
              "#d8576b"
             ],
             [
              0.6666666666666666,
              "#ed7953"
             ],
             [
              0.7777777777777778,
              "#fb9f3a"
             ],
             [
              0.8888888888888888,
              "#fdca26"
             ],
             [
              1,
              "#f0f921"
             ]
            ],
            "type": "heatmap"
           }
          ],
          "heatmapgl": [
           {
            "colorbar": {
             "outlinewidth": 0,
             "ticks": ""
            },
            "colorscale": [
             [
              0,
              "#0d0887"
             ],
             [
              0.1111111111111111,
              "#46039f"
             ],
             [
              0.2222222222222222,
              "#7201a8"
             ],
             [
              0.3333333333333333,
              "#9c179e"
             ],
             [
              0.4444444444444444,
              "#bd3786"
             ],
             [
              0.5555555555555556,
              "#d8576b"
             ],
             [
              0.6666666666666666,
              "#ed7953"
             ],
             [
              0.7777777777777778,
              "#fb9f3a"
             ],
             [
              0.8888888888888888,
              "#fdca26"
             ],
             [
              1,
              "#f0f921"
             ]
            ],
            "type": "heatmapgl"
           }
          ],
          "histogram": [
           {
            "marker": {
             "pattern": {
              "fillmode": "overlay",
              "size": 10,
              "solidity": 0.2
             }
            },
            "type": "histogram"
           }
          ],
          "histogram2d": [
           {
            "colorbar": {
             "outlinewidth": 0,
             "ticks": ""
            },
            "colorscale": [
             [
              0,
              "#0d0887"
             ],
             [
              0.1111111111111111,
              "#46039f"
             ],
             [
              0.2222222222222222,
              "#7201a8"
             ],
             [
              0.3333333333333333,
              "#9c179e"
             ],
             [
              0.4444444444444444,
              "#bd3786"
             ],
             [
              0.5555555555555556,
              "#d8576b"
             ],
             [
              0.6666666666666666,
              "#ed7953"
             ],
             [
              0.7777777777777778,
              "#fb9f3a"
             ],
             [
              0.8888888888888888,
              "#fdca26"
             ],
             [
              1,
              "#f0f921"
             ]
            ],
            "type": "histogram2d"
           }
          ],
          "histogram2dcontour": [
           {
            "colorbar": {
             "outlinewidth": 0,
             "ticks": ""
            },
            "colorscale": [
             [
              0,
              "#0d0887"
             ],
             [
              0.1111111111111111,
              "#46039f"
             ],
             [
              0.2222222222222222,
              "#7201a8"
             ],
             [
              0.3333333333333333,
              "#9c179e"
             ],
             [
              0.4444444444444444,
              "#bd3786"
             ],
             [
              0.5555555555555556,
              "#d8576b"
             ],
             [
              0.6666666666666666,
              "#ed7953"
             ],
             [
              0.7777777777777778,
              "#fb9f3a"
             ],
             [
              0.8888888888888888,
              "#fdca26"
             ],
             [
              1,
              "#f0f921"
             ]
            ],
            "type": "histogram2dcontour"
           }
          ],
          "mesh3d": [
           {
            "colorbar": {
             "outlinewidth": 0,
             "ticks": ""
            },
            "type": "mesh3d"
           }
          ],
          "parcoords": [
           {
            "line": {
             "colorbar": {
              "outlinewidth": 0,
              "ticks": ""
             }
            },
            "type": "parcoords"
           }
          ],
          "pie": [
           {
            "automargin": true,
            "type": "pie"
           }
          ],
          "scatter": [
           {
            "fillpattern": {
             "fillmode": "overlay",
             "size": 10,
             "solidity": 0.2
            },
            "type": "scatter"
           }
          ],
          "scatter3d": [
           {
            "line": {
             "colorbar": {
              "outlinewidth": 0,
              "ticks": ""
             }
            },
            "marker": {
             "colorbar": {
              "outlinewidth": 0,
              "ticks": ""
             }
            },
            "type": "scatter3d"
           }
          ],
          "scattercarpet": [
           {
            "marker": {
             "colorbar": {
              "outlinewidth": 0,
              "ticks": ""
             }
            },
            "type": "scattercarpet"
           }
          ],
          "scattergeo": [
           {
            "marker": {
             "colorbar": {
              "outlinewidth": 0,
              "ticks": ""
             }
            },
            "type": "scattergeo"
           }
          ],
          "scattergl": [
           {
            "marker": {
             "colorbar": {
              "outlinewidth": 0,
              "ticks": ""
             }
            },
            "type": "scattergl"
           }
          ],
          "scattermapbox": [
           {
            "marker": {
             "colorbar": {
              "outlinewidth": 0,
              "ticks": ""
             }
            },
            "type": "scattermapbox"
           }
          ],
          "scatterpolar": [
           {
            "marker": {
             "colorbar": {
              "outlinewidth": 0,
              "ticks": ""
             }
            },
            "type": "scatterpolar"
           }
          ],
          "scatterpolargl": [
           {
            "marker": {
             "colorbar": {
              "outlinewidth": 0,
              "ticks": ""
             }
            },
            "type": "scatterpolargl"
           }
          ],
          "scatterternary": [
           {
            "marker": {
             "colorbar": {
              "outlinewidth": 0,
              "ticks": ""
             }
            },
            "type": "scatterternary"
           }
          ],
          "surface": [
           {
            "colorbar": {
             "outlinewidth": 0,
             "ticks": ""
            },
            "colorscale": [
             [
              0,
              "#0d0887"
             ],
             [
              0.1111111111111111,
              "#46039f"
             ],
             [
              0.2222222222222222,
              "#7201a8"
             ],
             [
              0.3333333333333333,
              "#9c179e"
             ],
             [
              0.4444444444444444,
              "#bd3786"
             ],
             [
              0.5555555555555556,
              "#d8576b"
             ],
             [
              0.6666666666666666,
              "#ed7953"
             ],
             [
              0.7777777777777778,
              "#fb9f3a"
             ],
             [
              0.8888888888888888,
              "#fdca26"
             ],
             [
              1,
              "#f0f921"
             ]
            ],
            "type": "surface"
           }
          ],
          "table": [
           {
            "cells": {
             "fill": {
              "color": "#EBF0F8"
             },
             "line": {
              "color": "white"
             }
            },
            "header": {
             "fill": {
              "color": "#C8D4E3"
             },
             "line": {
              "color": "white"
             }
            },
            "type": "table"
           }
          ]
         },
         "layout": {
          "annotationdefaults": {
           "arrowcolor": "#2a3f5f",
           "arrowhead": 0,
           "arrowwidth": 1
          },
          "autotypenumbers": "strict",
          "coloraxis": {
           "colorbar": {
            "outlinewidth": 0,
            "ticks": ""
           }
          },
          "colorscale": {
           "diverging": [
            [
             0,
             "#8e0152"
            ],
            [
             0.1,
             "#c51b7d"
            ],
            [
             0.2,
             "#de77ae"
            ],
            [
             0.3,
             "#f1b6da"
            ],
            [
             0.4,
             "#fde0ef"
            ],
            [
             0.5,
             "#f7f7f7"
            ],
            [
             0.6,
             "#e6f5d0"
            ],
            [
             0.7,
             "#b8e186"
            ],
            [
             0.8,
             "#7fbc41"
            ],
            [
             0.9,
             "#4d9221"
            ],
            [
             1,
             "#276419"
            ]
           ],
           "sequential": [
            [
             0,
             "#0d0887"
            ],
            [
             0.1111111111111111,
             "#46039f"
            ],
            [
             0.2222222222222222,
             "#7201a8"
            ],
            [
             0.3333333333333333,
             "#9c179e"
            ],
            [
             0.4444444444444444,
             "#bd3786"
            ],
            [
             0.5555555555555556,
             "#d8576b"
            ],
            [
             0.6666666666666666,
             "#ed7953"
            ],
            [
             0.7777777777777778,
             "#fb9f3a"
            ],
            [
             0.8888888888888888,
             "#fdca26"
            ],
            [
             1,
             "#f0f921"
            ]
           ],
           "sequentialminus": [
            [
             0,
             "#0d0887"
            ],
            [
             0.1111111111111111,
             "#46039f"
            ],
            [
             0.2222222222222222,
             "#7201a8"
            ],
            [
             0.3333333333333333,
             "#9c179e"
            ],
            [
             0.4444444444444444,
             "#bd3786"
            ],
            [
             0.5555555555555556,
             "#d8576b"
            ],
            [
             0.6666666666666666,
             "#ed7953"
            ],
            [
             0.7777777777777778,
             "#fb9f3a"
            ],
            [
             0.8888888888888888,
             "#fdca26"
            ],
            [
             1,
             "#f0f921"
            ]
           ]
          },
          "colorway": [
           "#636efa",
           "#EF553B",
           "#00cc96",
           "#ab63fa",
           "#FFA15A",
           "#19d3f3",
           "#FF6692",
           "#B6E880",
           "#FF97FF",
           "#FECB52"
          ],
          "font": {
           "color": "#2a3f5f"
          },
          "geo": {
           "bgcolor": "white",
           "lakecolor": "white",
           "landcolor": "#E5ECF6",
           "showlakes": true,
           "showland": true,
           "subunitcolor": "white"
          },
          "hoverlabel": {
           "align": "left"
          },
          "hovermode": "closest",
          "mapbox": {
           "style": "light"
          },
          "paper_bgcolor": "white",
          "plot_bgcolor": "#E5ECF6",
          "polar": {
           "angularaxis": {
            "gridcolor": "white",
            "linecolor": "white",
            "ticks": ""
           },
           "bgcolor": "#E5ECF6",
           "radialaxis": {
            "gridcolor": "white",
            "linecolor": "white",
            "ticks": ""
           }
          },
          "scene": {
           "xaxis": {
            "backgroundcolor": "#E5ECF6",
            "gridcolor": "white",
            "gridwidth": 2,
            "linecolor": "white",
            "showbackground": true,
            "ticks": "",
            "zerolinecolor": "white"
           },
           "yaxis": {
            "backgroundcolor": "#E5ECF6",
            "gridcolor": "white",
            "gridwidth": 2,
            "linecolor": "white",
            "showbackground": true,
            "ticks": "",
            "zerolinecolor": "white"
           },
           "zaxis": {
            "backgroundcolor": "#E5ECF6",
            "gridcolor": "white",
            "gridwidth": 2,
            "linecolor": "white",
            "showbackground": true,
            "ticks": "",
            "zerolinecolor": "white"
           }
          },
          "shapedefaults": {
           "line": {
            "color": "#2a3f5f"
           }
          },
          "ternary": {
           "aaxis": {
            "gridcolor": "white",
            "linecolor": "white",
            "ticks": ""
           },
           "baxis": {
            "gridcolor": "white",
            "linecolor": "white",
            "ticks": ""
           },
           "bgcolor": "#E5ECF6",
           "caxis": {
            "gridcolor": "white",
            "linecolor": "white",
            "ticks": ""
           }
          },
          "title": {
           "x": 0.05
          },
          "xaxis": {
           "automargin": true,
           "gridcolor": "white",
           "linecolor": "white",
           "ticks": "",
           "title": {
            "standoff": 15
           },
           "zerolinecolor": "white",
           "zerolinewidth": 2
          },
          "yaxis": {
           "automargin": true,
           "gridcolor": "white",
           "linecolor": "white",
           "ticks": "",
           "title": {
            "standoff": 15
           },
           "zerolinecolor": "white",
           "zerolinewidth": 2
          }
         }
        },
        "title": {
         "text": "Block Size vs P95 Arrival Time Across Networks"
        },
        "width": 1000,
        "xaxis": {
         "gridcolor": "lightgray",
         "title": {
          "font": {
           "size": 14
          },
          "text": "Block Size (bytes)"
         },
         "type": "log"
        },
        "yaxis": {
         "gridcolor": "lightgray",
         "title": {
          "font": {
           "size": 14
          },
          "text": "P95 Arrival Time (ms)"
         }
        }
       }
      }
     },
     "metadata": {},
     "output_type": "display_data"
    }
   ],
   "source": [
    "def create_multi_network_scatter_plot(metrics, metric='p95_arrival_time'):\n",
    "    \"\"\"\n",
    "    Create a scatter plot of block size vs arrival time for multiple networks.\n",
    "    \n",
    "    Args:\n",
    "        metrics (dict): Dictionary with network keys and metrics DataFrames as values\n",
    "        metric (str): The metric to plot\n",
    "        \n",
    "    Returns:\n",
    "        plotly.graph_objects.Figure: The plotly figure\n",
    "    \"\"\"\n",
    "    # Create figure\n",
    "    fig = go.Figure()\n",
    "    \n",
    "    # Colors for each network\n",
    "    colors = {'devnet-5': 'green', 'devnet-6': 'blue', 'devnet-7': 'red'}\n",
    "    symbols = {'devnet-5': 'circle', 'devnet-6': 'square', 'devnet-7': 'diamond'}\n",
    "    \n",
    "    # Create display labels for networks\n",
    "    network_labels = {network: config[\"networks\"][network][\"label\"] for network in metrics.keys()}\n",
    "    \n",
    "    # Add scatter plot for each network\n",
    "    for network, network_metrics in metrics.items():\n",
    "        fig.add_trace(go.Scatter(\n",
    "            x=network_metrics['block_total_bytes'],\n",
    "            y=network_metrics[metric],\n",
    "            mode='markers',\n",
    "            name=f'{network_labels[network]} ({config[\"networks\"][network][\"network\"]})',\n",
    "            marker=dict(\n",
    "                color=colors[network],\n",
    "                size=8,\n",
    "                opacity=0.7,\n",
    "                symbol=symbols[network],\n",
    "                line=dict(width=1, color=colors[network])\n",
    "            ),\n",
    "            hovertemplate='Slot: %{text}<br>Block Size: %{x} bytes<br>%{yaxis.title.text}: %{y:.1f}ms',\n",
    "            text=network_metrics['slot']\n",
    "        ))\n",
    "        \n",
    "        # Add trend lines\n",
    "        if not network_metrics.empty and 'block_total_bytes' in network_metrics.columns:\n",
    "            network_metrics_filtered = network_metrics.dropna(subset=['block_total_bytes', metric])\n",
    "            if not network_metrics_filtered.empty:\n",
    "                try:\n",
    "                    x = network_metrics_filtered['block_total_bytes']\n",
    "                    y = network_metrics_filtered[metric]\n",
    "                    z = np.polyfit(x, y, 1)\n",
    "                    p = np.poly1d(z)\n",
    "                    x_range = np.linspace(x.min(), x.max(), 100)\n",
    "                    \n",
    "                    fig.add_trace(go.Scatter(\n",
    "                        x=x_range,\n",
    "                        y=p(x_range),\n",
    "                        mode='lines',\n",
    "                        name=f'{network_labels[network]} Trend',\n",
    "                        line=dict(color=colors[network], dash='dash', width=2),\n",
    "                        hoverinfo='skip'\n",
    "                    ))\n",
    "                except:\n",
    "                    # Skip trendline if there's an error\n",
    "                    pass\n",
    "    \n",
    "    # Update layout\n",
    "    fig.update_layout(\n",
    "        title=f\"Block Size vs {metric.replace('_arrival_time', '').title()} Arrival Time Across Networks\",\n",
    "        xaxis=dict(\n",
    "            title=\"Block Size (bytes)\",\n",
    "            type='log',\n",
    "            title_font=dict(size=14),\n",
    "            gridcolor='lightgray'\n",
    "        ),\n",
    "        yaxis=dict(\n",
    "            title=f\"{metric.replace('_arrival_time', '').title()} Arrival Time (ms)\",\n",
    "            title_font=dict(size=14),\n",
    "            gridcolor='lightgray'\n",
    "        ),\n",
    "        legend=dict(x=0.01, y=0.99, bgcolor='rgba(255,255,255,0.8)'),\n",
    "        hovermode='closest',\n",
    "        plot_bgcolor='white',\n",
    "        height=600,\n",
    "        width=1000\n",
    "    )\n",
    "    \n",
    "    return fig\n",
    "\n",
    "# Create scatter plots for different metrics\n",
    "for metric in ['min_arrival_time', 'p50_arrival_time', 'p95_arrival_time']:\n",
    "    fig = create_multi_network_scatter_plot(metrics, metric)\n",
    "    fig.show()"
   ]
  },
  {
   "cell_type": "markdown",
   "metadata": {},
   "source": [
    "## Detailed Comparison: Block Size Impact on Arrival Times\n",
    "\n",
    "Let's create a comprehensive analysis table showing how block size affects arrival times across networks."
   ]
  },
  {
   "cell_type": "markdown",
   "metadata": {},
   "source": [
    "## Arrival Time Efficiency Analysis: Time per Block Size\n",
    "\n",
    "Let's calculate arrival time efficiency by dividing arrival time by block size (ms/byte). This shows how efficiently the network can process each byte of data."
   ]
  },
  {
   "cell_type": "code",
   "execution_count": 8,
   "metadata": {},
   "outputs": [
    {
     "name": "stdout",
     "output_type": "stream",
     "text": [
      "Efficiency metrics (ms/KB) summary:\n",
      "\n",
      "devnet-6 (nft-devnet-6):\n",
      "  min: 0.860 ± 0.341 ms/KB\n",
      "  p50: 1.024 ± 0.385 ms/KB\n",
      "  p95: 1.193 ± 0.426 ms/KB\n",
      "\n",
      "devnet-5 (nft-devnet-5):\n",
      "  min: 1.110 ± 0.577 ms/KB\n",
      "  p50: 1.245 ± 0.597 ms/KB\n",
      "  p95: 1.391 ± 0.610 ms/KB\n"
     ]
    }
   ],
   "source": [
    "# Calculate efficiency metrics (time per byte) for each network\n",
    "for network_key in config['networks'].keys():\n",
    "    # Calculate all efficiency metrics\n",
    "    metrics[network_key]['min_time_per_byte'] = metrics[network_key]['min_arrival_time'] / metrics[network_key]['block_total_bytes']\n",
    "    metrics[network_key]['p05_time_per_byte'] = metrics[network_key]['p05_arrival_time'] / metrics[network_key]['block_total_bytes']\n",
    "    metrics[network_key]['p50_time_per_byte'] = metrics[network_key]['p50_arrival_time'] / metrics[network_key]['block_total_bytes']\n",
    "    metrics[network_key]['mean_time_per_byte'] = metrics[network_key]['mean_arrival_time'] / metrics[network_key]['block_total_bytes']\n",
    "    metrics[network_key]['p95_time_per_byte'] = metrics[network_key]['p95_arrival_time'] / metrics[network_key]['block_total_bytes']\n",
    "    metrics[network_key]['max_time_per_byte'] = metrics[network_key]['max_arrival_time'] / metrics[network_key]['block_total_bytes']\n",
    "    \n",
    "    # Convert to ms/KB for better readability\n",
    "    for col in ['min_time_per_byte', 'p05_time_per_byte', 'p50_time_per_byte', \n",
    "                'mean_time_per_byte', 'p95_time_per_byte', 'max_time_per_byte']:\n",
    "        metrics[network_key][f'{col}_per_kb'] = metrics[network_key][col] * 1024\n",
    "\n",
    "# Update all_metrics with the new columns\n",
    "all_metrics = pd.concat(metrics.values(), ignore_index=True)\n",
    "\n",
    "# Basic statistics of efficiency metrics\n",
    "print(\"Efficiency metrics (ms/KB) summary:\")\n",
    "for network_key in config['networks'].keys():\n",
    "    print(f\"\\n{network_key} ({config['networks'][network_key]['network']}):\")\n",
    "    for metric in ['min_time_per_byte_per_kb', 'p50_time_per_byte_per_kb', 'p95_time_per_byte_per_kb']:\n",
    "        mean_val = metrics[network_key][metric].mean()\n",
    "        std_val = metrics[network_key][metric].std()\n",
    "        print(f\"  {metric.replace('_time_per_byte_per_kb', '')}: {mean_val:.3f} ± {std_val:.3f} ms/KB\")"
   ]
  },
  {
   "cell_type": "code",
   "execution_count": null,
   "metadata": {},
   "outputs": [],
   "source": [
    "def plot_time_per_byte_distributions(all_metrics, metrics_to_plot):\n",
    "    \"\"\"\n",
    "    Create boxplots to compare time-per-byte metrics across networks.\n",
    "    \n",
    "    Args:\n",
    "        all_metrics (DataFrame): Combined metrics for all networks\n",
    "        metrics_to_plot (list): List of metric names to plot\n",
    "    \"\"\"\n",
    "    # Set up the figure with subplots for each metric\n",
    "    fig, axes = plt.subplots(len(metrics_to_plot), 1, figsize=(14, 5 * len(metrics_to_plot)))\n",
    "    \n",
    "    # If only one metric, make axes iterable\n",
    "    if len(metrics_to_plot) == 1:\n",
    "        axes = [axes]\n",
    "    \n",
    "    # Colors for each network\n",
    "    colors = {'devnet-5': 'lightgreen', 'devnet-6': 'skyblue', 'devnet-7': 'coral'}\n",
    "    \n",
    "    # Create display labels for networks\n",
    "    network_labels = {network: config[\"networks\"][network][\"label\"] for network in all_metrics['network'].unique()}\n",
    "    \n",
    "    # Plot each metric\n",
    "    for i, metric in enumerate(metrics_to_plot):\n",
    "        # Create boxplot\n",
    "        sns.boxplot(\n",
    "            x='network', \n",
    "            y=f'{metric}_per_kb',\n",
    "            hue='network', \n",
    "            data=all_metrics,\n",
    "            palette=colors,\n",
    "            ax=axes[i],\n",
    "            showfliers=False  # Hide outliers for better visibility\n",
    "        )\n",
    "        \n",
    "        # Add individual data points\n",
    "        sns.stripplot(\n",
    "            x='network', \n",
    "            y=f'{metric}_per_kb', \n",
    "            data=all_metrics,\n",
    "            color='gray',\n",
    "            alpha=0.4,\n",
    "            jitter=True,\n",
    "            ax=axes[i]\n",
    "        )\n",
    "        \n",
    "        # Set axis labels and title\n",
    "        axes[i].set_xlabel('Network', fontsize=12)\n",
    "        axes[i].set_ylabel(f'{metric.replace(\"_time_per_byte\", \"\")} Time per KB (ms/KB)', fontsize=12)\n",
    "        axes[i].set_title(f'{metric.replace(\"_time_per_byte\", \"\").upper()} Arrival Time per KB (ms/KB)', fontsize=14)\n",
    "        \n",
    "        # Get the current x-tick positions\n",
    "        x_positions = axes[i].get_xticks()\n",
    "        \n",
    "        # Properly set x-ticks and labels\n",
    "        networks = all_metrics['network'].unique()\n",
    "        if len(x_positions) == len(networks):\n",
    "            new_labels = []\n",
    "            for network in networks:\n",
    "                if network in network_labels:\n",
    "                    new_labels.append(f'{network_labels[network]}\\n({config[\"networks\"][network][\"network\"]})')\n",
    "                else:\n",
    "                    new_labels.append(network)\n",
    "            \n",
    "            # Set both ticks and labels together\n",
    "            axes[i].set_xticks(x_positions)\n",
    "            axes[i].set_xticklabels(new_labels)\n",
    "        \n",
    "        # Add grid for readability\n",
    "        axes[i].grid(True, axis='y', alpha=0.3)\n",
    "        \n",
    "        # Add average lines for each network\n",
    "        for j, network in enumerate(networks):\n",
    "            network_data = all_metrics[all_metrics['network'] == network][f'{metric}_per_kb']\n",
    "            if not network_data.empty:\n",
    "                network_avg = network_data.mean()\n",
    "                axes[i].axhline(\n",
    "                    network_avg, \n",
    "                    color={'devnet-5': 'green', 'devnet-6': 'blue', 'devnet-7': 'red'}[network], \n",
    "                    linestyle='--', \n",
    "                    alpha=0.7,\n",
    "                    xmin=j/len(networks),\n",
    "                    xmax=(j+1)/len(networks)\n",
    "                )\n",
    "                \n",
    "                # Add text with the average value\n",
    "                axes[i].text(\n",
    "                    j, network_avg, \n",
    "                    f'Mean: {network_avg:.3f} ms/KB', \n",
    "                    ha='center', va='bottom', \n",
    "                    color={'devnet-5': 'green', 'devnet-6': 'blue', 'devnet-7': 'red'}[network], \n",
    "                    fontweight='bold'\n",
    "                )\n",
    "    \n",
    "    # Use tight_layout but without the rect parameter that can cause issues\n",
    "    plt.tight_layout()\n",
    "    return fig\n",
    "\n",
    "# Plot time-per-byte distributions\n",
    "metrics_to_plot = ['min_time_per_byte', 'p50_time_per_byte', 'p95_time_per_byte']\n",
    "fig = plot_time_per_byte_distributions(all_metrics, metrics_to_plot)\n",
    "plt.show()"
   ]
  },
  {
   "cell_type": "code",
   "execution_count": 10,
   "metadata": {},
   "outputs": [
    {
     "data": {
      "image/png": "[encoded data removed]",
      "text/plain": [
       "<Figure size 1400x1500 with 3 Axes>"
      ]
     },
     "metadata": {},
     "output_type": "display_data"
    }
   ],
   "source": [
    "def plot_time_per_byte_by_size(metrics, metrics_to_plot):\n",
    "    \"\"\"\n",
    "    Create scatter plots of time per byte vs block size for each network.\n",
    "    \n",
    "    Args:\n",
    "        metrics (dict): Dictionary with network keys and metrics DataFrames\n",
    "        metrics_to_plot (list): List of metric names to plot\n",
    "    \"\"\"\n",
    "    # Set up the figure with subplots for each metric\n",
    "    fig, axes = plt.subplots(len(metrics_to_plot), 1, figsize=(14, 5 * len(metrics_to_plot)))\n",
    "    \n",
    "    # If only one metric, make axes iterable\n",
    "    if len(metrics_to_plot) == 1:\n",
    "        axes = [axes]\n",
    "    \n",
    "    # Colors and markers for each network\n",
    "    colors = {'devnet-5': 'green', 'devnet-6': 'blue', 'devnet-7': 'red'}\n",
    "    markers = {'devnet-5': 'o', 'devnet-6': 's', 'devnet-7': 'd'}\n",
    "    \n",
    "    # Create display labels for networks\n",
    "    network_labels = {network: config[\"networks\"][network][\"label\"] for network in metrics.keys()}\n",
    "    \n",
    "    # Plot each metric\n",
    "    for i, metric in enumerate(metrics_to_plot):\n",
    "        # Add scatter plots for each network\n",
    "        for network, network_metrics in metrics.items():\n",
    "            # Drop rows with missing data\n",
    "            df = network_metrics.dropna(subset=[f'{metric}_per_kb', 'block_total_bytes'])\n",
    "            \n",
    "            # Convert to KB for better x-axis readability\n",
    "            block_sizes_kb = df['block_total_bytes'] / 1024\n",
    "            \n",
    "            # Plot scatter with transparency\n",
    "            axes[i].scatter(\n",
    "                block_sizes_kb,\n",
    "                df[f'{metric}_per_kb'],\n",
    "                label=f'{network_labels[network]} ({config[\"networks\"][network][\"network\"]})',\n",
    "                color=colors[network],\n",
    "                marker=markers[network],\n",
    "                alpha=0.6,\n",
    "                s=40\n",
    "            )\n",
    "            \n",
    "            # Add regression line if enough points\n",
    "            if len(df) > 5:\n",
    "                # Use log scale for better fitting with highly variable block sizes\n",
    "                x = np.log(block_sizes_kb)\n",
    "                y = df[f'{metric}_per_kb']\n",
    "                \n",
    "                # Remove infinite values\n",
    "                mask = np.isfinite(x) & np.isfinite(y)\n",
    "                x, y = x[mask], y[mask]\n",
    "                \n",
    "                if len(x) > 5:  # Only fit if we have enough points after filtering\n",
    "                    z = np.polyfit(x, y, 1)\n",
    "                    p = np.poly1d(z)\n",
    "                    \n",
    "                    # Create points for the line\n",
    "                    x_range = np.linspace(min(x), max(x), 100)\n",
    "                    y_range = p(x_range)\n",
    "                    \n",
    "                    # Convert back from log scale\n",
    "                    axes[i].plot(\n",
    "                        np.exp(x_range),  # Convert back from log\n",
    "                        y_range,\n",
    "                        color=colors[network],\n",
    "                        linestyle='--',\n",
    "                        alpha=0.7\n",
    "                    )\n",
    "        \n",
    "        # Set axis labels and title\n",
    "        axes[i].set_xlabel('Block Size (KB)', fontsize=12)\n",
    "        axes[i].set_ylabel(f'{metric.replace(\"_time_per_byte\", \"\")} Time per KB (ms/KB)', fontsize=12)\n",
    "        axes[i].set_title(f'{metric.replace(\"_time_per_byte\", \"\").upper()} Arrival Time per KB vs Block Size', fontsize=14)\n",
    "        \n",
    "        # Add grid and legend\n",
    "        axes[i].grid(True, alpha=0.3)\n",
    "        axes[i].legend(loc='upper right')\n",
    "        \n",
    "        # Use log scale for x-axis due to wide range of block sizes\n",
    "        axes[i].set_xscale('log')\n",
    "    \n",
    "    plt.tight_layout()\n",
    "    return fig\n",
    "\n",
    "# Plot time-per-byte vs block size\n",
    "metrics_to_plot = ['min_time_per_byte', 'p50_time_per_byte', 'p95_time_per_byte']\n",
    "fig = plot_time_per_byte_by_size(metrics, metrics_to_plot)\n",
    "plt.show()"
   ]
  },
  {
   "cell_type": "code",
   "execution_count": 11,
   "metadata": {},
   "outputs": [
    {
     "data": {
      "application/vnd.plotly.v1+json": {
       "config": {
        "plotlyServerURL": "https://plot.ly"
       },
       "data": [
        {
         "cells": {
          "align": "center",
          "fill": {
           "color": "white"
          },
          "font": {
           "size": 11
          },
          "values": [
           [
            "0.0-528.5KB",
            "528.5-1945.7KB",
            "1945.7-3358.6KB",
            "3358.6-4588.8KB",
            "4588.8-4945.8KB"
           ],
           [
            "0",
            "48",
            "102",
            "97",
            "54"
           ],
           [
            "1",
            "101",
            "48",
            "53",
            "96"
           ],
           [
            "N/A",
            "1525.8",
            "2667.0",
            "4014.8",
            "4787.4"
           ],
           [
            "528.5",
            "1523.2",
            "2387.7",
            "4311.8",
            "4778.6"
           ],
           [
            "N/A",
            "1.513",
            "0.918",
            "0.644",
            "0.559"
           ],
           [
            "4.382",
            "1.702",
            "1.136",
            "0.728",
            "0.650"
           ],
           [
            "N/A",
            "1.750",
            "1.092",
            "0.783",
            "0.681"
           ],
           [
            "4.615",
            "1.850",
            "1.286",
            "0.847",
            "0.772"
           ],
           [
            "N/A",
            "2.004",
            "1.272",
            "0.918",
            "0.817"
           ],
           [
            "4.832",
            "1.997",
            "1.441",
            "1.002",
            "0.907"
           ]
          ]
         },
         "header": {
          "align": "center",
          "fill": {
           "color": "paleturquoise"
          },
          "font": {
           "size": 12
          },
          "values": [
           "Block Size Range",
           "baseline Count",
           "rlnc Count",
           "baseline Avg Size (KB)",
           "rlnc Avg Size (KB)",
           "baseline min (ms/KB)",
           "rlnc min (ms/KB)",
           "baseline p50 (ms/KB)",
           "rlnc p50 (ms/KB)",
           "baseline p95 (ms/KB)",
           "rlnc p95 (ms/KB)"
          ]
         },
         "type": "table"
        }
       ],
       "layout": {
        "height": 400,
        "template": {
         "data": {
          "bar": [
           {
            "error_x": {
             "color": "#2a3f5f"
            },
            "error_y": {
             "color": "#2a3f5f"
            },
            "marker": {
             "line": {
              "color": "#E5ECF6",
              "width": 0.5
             },
             "pattern": {
              "fillmode": "overlay",
              "size": 10,
              "solidity": 0.2
             }
            },
            "type": "bar"
           }
          ],
          "barpolar": [
           {
            "marker": {
             "line": {
              "color": "#E5ECF6",
              "width": 0.5
             },
             "pattern": {
              "fillmode": "overlay",
              "size": 10,
              "solidity": 0.2
             }
            },
            "type": "barpolar"
           }
          ],
          "carpet": [
           {
            "aaxis": {
             "endlinecolor": "#2a3f5f",
             "gridcolor": "white",
             "linecolor": "white",
             "minorgridcolor": "white",
             "startlinecolor": "#2a3f5f"
            },
            "baxis": {
             "endlinecolor": "#2a3f5f",
             "gridcolor": "white",
             "linecolor": "white",
             "minorgridcolor": "white",
             "startlinecolor": "#2a3f5f"
            },
            "type": "carpet"
           }
          ],
          "choropleth": [
           {
            "colorbar": {
             "outlinewidth": 0,
             "ticks": ""
            },
            "type": "choropleth"
           }
          ],
          "contour": [
           {
            "colorbar": {
             "outlinewidth": 0,
             "ticks": ""
            },
            "colorscale": [
             [
              0,
              "#0d0887"
             ],
             [
              0.1111111111111111,
              "#46039f"
             ],
             [
              0.2222222222222222,
              "#7201a8"
             ],
             [
              0.3333333333333333,
              "#9c179e"
             ],
             [
              0.4444444444444444,
              "#bd3786"
             ],
             [
              0.5555555555555556,
              "#d8576b"
             ],
             [
              0.6666666666666666,
              "#ed7953"
             ],
             [
              0.7777777777777778,
              "#fb9f3a"
             ],
             [
              0.8888888888888888,
              "#fdca26"
             ],
             [
              1,
              "#f0f921"
             ]
            ],
            "type": "contour"
           }
          ],
          "contourcarpet": [
           {
            "colorbar": {
             "outlinewidth": 0,
             "ticks": ""
            },
            "type": "contourcarpet"
           }
          ],
          "heatmap": [
           {
            "colorbar": {
             "outlinewidth": 0,
             "ticks": ""
            },
            "colorscale": [
             [
              0,
              "#0d0887"
             ],
             [
              0.1111111111111111,
              "#46039f"
             ],
             [
              0.2222222222222222,
              "#7201a8"
             ],
             [
              0.3333333333333333,
              "#9c179e"
             ],
             [
              0.4444444444444444,
              "#bd3786"
             ],
             [
              0.5555555555555556,
              "#d8576b"
             ],
             [
              0.6666666666666666,
              "#ed7953"
             ],
             [
              0.7777777777777778,
              "#fb9f3a"
             ],
             [
              0.8888888888888888,
              "#fdca26"
             ],
             [
              1,
              "#f0f921"
             ]
            ],
            "type": "heatmap"
           }
          ],
          "heatmapgl": [
           {
            "colorbar": {
             "outlinewidth": 0,
             "ticks": ""
            },
            "colorscale": [
             [
              0,
              "#0d0887"
             ],
             [
              0.1111111111111111,
              "#46039f"
             ],
             [
              0.2222222222222222,
              "#7201a8"
             ],
             [
              0.3333333333333333,
              "#9c179e"
             ],
             [
              0.4444444444444444,
              "#bd3786"
             ],
             [
              0.5555555555555556,
              "#d8576b"
             ],
             [
              0.6666666666666666,
              "#ed7953"
             ],
             [
              0.7777777777777778,
              "#fb9f3a"
             ],
             [
              0.8888888888888888,
              "#fdca26"
             ],
             [
              1,
              "#f0f921"
             ]
            ],
            "type": "heatmapgl"
           }
          ],
          "histogram": [
           {
            "marker": {
             "pattern": {
              "fillmode": "overlay",
              "size": 10,
              "solidity": 0.2
             }
            },
            "type": "histogram"
           }
          ],
          "histogram2d": [
           {
            "colorbar": {
             "outlinewidth": 0,
             "ticks": ""
            },
            "colorscale": [
             [
              0,
              "#0d0887"
             ],
             [
              0.1111111111111111,
              "#46039f"
             ],
             [
              0.2222222222222222,
              "#7201a8"
             ],
             [
              0.3333333333333333,
              "#9c179e"
             ],
             [
              0.4444444444444444,
              "#bd3786"
             ],
             [
              0.5555555555555556,
              "#d8576b"
             ],
             [
              0.6666666666666666,
              "#ed7953"
             ],
             [
              0.7777777777777778,
              "#fb9f3a"
             ],
             [
              0.8888888888888888,
              "#fdca26"
             ],
             [
              1,
              "#f0f921"
             ]
            ],
            "type": "histogram2d"
           }
          ],
          "histogram2dcontour": [
           {
            "colorbar": {
             "outlinewidth": 0,
             "ticks": ""
            },
            "colorscale": [
             [
              0,
              "#0d0887"
             ],
             [
              0.1111111111111111,
              "#46039f"
             ],
             [
              0.2222222222222222,
              "#7201a8"
             ],
             [
              0.3333333333333333,
              "#9c179e"
             ],
             [
              0.4444444444444444,
              "#bd3786"
             ],
             [
              0.5555555555555556,
              "#d8576b"
             ],
             [
              0.6666666666666666,
              "#ed7953"
             ],
             [
              0.7777777777777778,
              "#fb9f3a"
             ],
             [
              0.8888888888888888,
              "#fdca26"
             ],
             [
              1,
              "#f0f921"
             ]
            ],
            "type": "histogram2dcontour"
           }
          ],
          "mesh3d": [
           {
            "colorbar": {
             "outlinewidth": 0,
             "ticks": ""
            },
            "type": "mesh3d"
           }
          ],
          "parcoords": [
           {
            "line": {
             "colorbar": {
              "outlinewidth": 0,
              "ticks": ""
             }
            },
            "type": "parcoords"
           }
          ],
          "pie": [
           {
            "automargin": true,
            "type": "pie"
           }
          ],
          "scatter": [
           {
            "fillpattern": {
             "fillmode": "overlay",
             "size": 10,
             "solidity": 0.2
            },
            "type": "scatter"
           }
          ],
          "scatter3d": [
           {
            "line": {
             "colorbar": {
              "outlinewidth": 0,
              "ticks": ""
             }
            },
            "marker": {
             "colorbar": {
              "outlinewidth": 0,
              "ticks": ""
             }
            },
            "type": "scatter3d"
           }
          ],
          "scattercarpet": [
           {
            "marker": {
             "colorbar": {
              "outlinewidth": 0,
              "ticks": ""
             }
            },
            "type": "scattercarpet"
           }
          ],
          "scattergeo": [
           {
            "marker": {
             "colorbar": {
              "outlinewidth": 0,
              "ticks": ""
             }
            },
            "type": "scattergeo"
           }
          ],
          "scattergl": [
           {
            "marker": {
             "colorbar": {
              "outlinewidth": 0,
              "ticks": ""
             }
            },
            "type": "scattergl"
           }
          ],
          "scattermapbox": [
           {
            "marker": {
             "colorbar": {
              "outlinewidth": 0,
              "ticks": ""
             }
            },
            "type": "scattermapbox"
           }
          ],
          "scatterpolar": [
           {
            "marker": {
             "colorbar": {
              "outlinewidth": 0,
              "ticks": ""
             }
            },
            "type": "scatterpolar"
           }
          ],
          "scatterpolargl": [
           {
            "marker": {
             "colorbar": {
              "outlinewidth": 0,
              "ticks": ""
             }
            },
            "type": "scatterpolargl"
           }
          ],
          "scatterternary": [
           {
            "marker": {
             "colorbar": {
              "outlinewidth": 0,
              "ticks": ""
             }
            },
            "type": "scatterternary"
           }
          ],
          "surface": [
           {
            "colorbar": {
             "outlinewidth": 0,
             "ticks": ""
            },
            "colorscale": [
             [
              0,
              "#0d0887"
             ],
             [
              0.1111111111111111,
              "#46039f"
             ],
             [
              0.2222222222222222,
              "#7201a8"
             ],
             [
              0.3333333333333333,
              "#9c179e"
             ],
             [
              0.4444444444444444,
              "#bd3786"
             ],
             [
              0.5555555555555556,
              "#d8576b"
             ],
             [
              0.6666666666666666,
              "#ed7953"
             ],
             [
              0.7777777777777778,
              "#fb9f3a"
             ],
             [
              0.8888888888888888,
              "#fdca26"
             ],
             [
              1,
              "#f0f921"
             ]
            ],
            "type": "surface"
           }
          ],
          "table": [
           {
            "cells": {
             "fill": {
              "color": "#EBF0F8"
             },
             "line": {
              "color": "white"
             }
            },
            "header": {
             "fill": {
              "color": "#C8D4E3"
             },
             "line": {
              "color": "white"
             }
            },
            "type": "table"
           }
          ]
         },
         "layout": {
          "annotationdefaults": {
           "arrowcolor": "#2a3f5f",
           "arrowhead": 0,
           "arrowwidth": 1
          },
          "autotypenumbers": "strict",
          "coloraxis": {
           "colorbar": {
            "outlinewidth": 0,
            "ticks": ""
           }
          },
          "colorscale": {
           "diverging": [
            [
             0,
             "#8e0152"
            ],
            [
             0.1,
             "#c51b7d"
            ],
            [
             0.2,
             "#de77ae"
            ],
            [
             0.3,
             "#f1b6da"
            ],
            [
             0.4,
             "#fde0ef"
            ],
            [
             0.5,
             "#f7f7f7"
            ],
            [
             0.6,
             "#e6f5d0"
            ],
            [
             0.7,
             "#b8e186"
            ],
            [
             0.8,
             "#7fbc41"
            ],
            [
             0.9,
             "#4d9221"
            ],
            [
             1,
             "#276419"
            ]
           ],
           "sequential": [
            [
             0,
             "#0d0887"
            ],
            [
             0.1111111111111111,
             "#46039f"
            ],
            [
             0.2222222222222222,
             "#7201a8"
            ],
            [
             0.3333333333333333,
             "#9c179e"
            ],
            [
             0.4444444444444444,
             "#bd3786"
            ],
            [
             0.5555555555555556,
             "#d8576b"
            ],
            [
             0.6666666666666666,
             "#ed7953"
            ],
            [
             0.7777777777777778,
             "#fb9f3a"
            ],
            [
             0.8888888888888888,
             "#fdca26"
            ],
            [
             1,
             "#f0f921"
            ]
           ],
           "sequentialminus": [
            [
             0,
             "#0d0887"
            ],
            [
             0.1111111111111111,
             "#46039f"
            ],
            [
             0.2222222222222222,
             "#7201a8"
            ],
            [
             0.3333333333333333,
             "#9c179e"
            ],
            [
             0.4444444444444444,
             "#bd3786"
            ],
            [
             0.5555555555555556,
             "#d8576b"
            ],
            [
             0.6666666666666666,
             "#ed7953"
            ],
            [
             0.7777777777777778,
             "#fb9f3a"
            ],
            [
             0.8888888888888888,
             "#fdca26"
            ],
            [
             1,
             "#f0f921"
            ]
           ]
          },
          "colorway": [
           "#636efa",
           "#EF553B",
           "#00cc96",
           "#ab63fa",
           "#FFA15A",
           "#19d3f3",
           "#FF6692",
           "#B6E880",
           "#FF97FF",
           "#FECB52"
          ],
          "font": {
           "color": "#2a3f5f"
          },
          "geo": {
           "bgcolor": "white",
           "lakecolor": "white",
           "landcolor": "#E5ECF6",
           "showlakes": true,
           "showland": true,
           "subunitcolor": "white"
          },
          "hoverlabel": {
           "align": "left"
          },
          "hovermode": "closest",
          "mapbox": {
           "style": "light"
          },
          "paper_bgcolor": "white",
          "plot_bgcolor": "#E5ECF6",
          "polar": {
           "angularaxis": {
            "gridcolor": "white",
            "linecolor": "white",
            "ticks": ""
           },
           "bgcolor": "#E5ECF6",
           "radialaxis": {
            "gridcolor": "white",
            "linecolor": "white",
            "ticks": ""
           }
          },
          "scene": {
           "xaxis": {
            "backgroundcolor": "#E5ECF6",
            "gridcolor": "white",
            "gridwidth": 2,
            "linecolor": "white",
            "showbackground": true,
            "ticks": "",
            "zerolinecolor": "white"
           },
           "yaxis": {
            "backgroundcolor": "#E5ECF6",
            "gridcolor": "white",
            "gridwidth": 2,
            "linecolor": "white",
            "showbackground": true,
            "ticks": "",
            "zerolinecolor": "white"
           },
           "zaxis": {
            "backgroundcolor": "#E5ECF6",
            "gridcolor": "white",
            "gridwidth": 2,
            "linecolor": "white",
            "showbackground": true,
            "ticks": "",
            "zerolinecolor": "white"
           }
          },
          "shapedefaults": {
           "line": {
            "color": "#2a3f5f"
           }
          },
          "ternary": {
           "aaxis": {
            "gridcolor": "white",
            "linecolor": "white",
            "ticks": ""
           },
           "baxis": {
            "gridcolor": "white",
            "linecolor": "white",
            "ticks": ""
           },
           "bgcolor": "#E5ECF6",
           "caxis": {
            "gridcolor": "white",
            "linecolor": "white",
            "ticks": ""
           }
          },
          "title": {
           "x": 0.05
          },
          "xaxis": {
           "automargin": true,
           "gridcolor": "white",
           "linecolor": "white",
           "ticks": "",
           "title": {
            "standoff": 15
           },
           "zerolinecolor": "white",
           "zerolinewidth": 2
          },
          "yaxis": {
           "automargin": true,
           "gridcolor": "white",
           "linecolor": "white",
           "ticks": "",
           "title": {
            "standoff": 15
           },
           "zerolinecolor": "white",
           "zerolinewidth": 2
          }
         }
        },
        "title": {
         "text": "Block Processing Efficiency (Time per Size) by Block Size Range"
        },
        "width": 1200
       }
      }
     },
     "metadata": {},
     "output_type": "display_data"
    }
   ],
   "source": [
    "def create_efficiency_metrics_table(metrics, metrics_to_show):\n",
    "    \"\"\"\n",
    "    Create a table showing efficiency metrics by block size bins.\n",
    "    \n",
    "    Args:\n",
    "        metrics (dict): Dictionary with network keys and metrics DataFrames\n",
    "        metrics_to_show (list): List of metrics to include in the table\n",
    "    \"\"\"\n",
    "    # Collect all block sizes to determine appropriate bins\n",
    "    all_block_sizes = []\n",
    "    for network, network_metrics in metrics.items():\n",
    "        valid_sizes = network_metrics['block_total_bytes'].dropna().values\n",
    "        all_block_sizes.extend(valid_sizes)\n",
    "    \n",
    "    # Determine bin edges using quantiles\n",
    "    if len(all_block_sizes) > 10:\n",
    "        # Use quartiles for simplicity (4 bins)\n",
    "        quartiles = np.percentile(all_block_sizes, [0, 25, 50, 75, 100])\n",
    "        size_bins = [0] + [q for q in quartiles if q > 0]\n",
    "        size_bins = sorted(list(set(size_bins)))  # Remove duplicates and ensure sorted\n",
    "        \n",
    "        # If we have very small ranges, use reasonable defaults\n",
    "        if len(size_bins) < 3:\n",
    "            size_bins = [0, np.median(all_block_sizes), max(all_block_sizes) * 1.1]\n",
    "    else:\n",
    "        # Not enough data, use some reasonable defaults\n",
    "        size_bins = [0, np.median(all_block_sizes), float('inf')]\n",
    "    \n",
    "    # Add infinity as the last bin edge if it's not there\n",
    "    if size_bins[-1] != float('inf'):\n",
    "        size_bins.append(float('inf'))\n",
    "    \n",
    "    # Create labels for the bins\n",
    "    bin_labels = []\n",
    "    for i in range(len(size_bins) - 1):\n",
    "        if size_bins[i+1] == float('inf'):\n",
    "            bin_labels.append(f'>{size_bins[i]/1024:.1f}KB')\n",
    "        else:\n",
    "            bin_labels.append(f'{size_bins[i]/1024:.1f}-{size_bins[i+1]/1024:.1f}KB')\n",
    "    \n",
    "    # Process each network's data\n",
    "    network_binned_data = {}\n",
    "    \n",
    "    for network, network_metrics in metrics.items():\n",
    "        # Drop NaN values and create a copy for safe modification\n",
    "        network_metrics_filtered = network_metrics.dropna(subset=['block_total_bytes']).copy()\n",
    "        \n",
    "        # Add block size bin column using .loc to avoid SettingWithCopyWarning\n",
    "        network_metrics_filtered.loc[:, 'block_size_bin'] = pd.cut(\n",
    "            network_metrics_filtered['block_total_bytes'], \n",
    "            bins=size_bins, \n",
    "            labels=bin_labels\n",
    "        )\n",
    "        \n",
    "        # Select columns to aggregate\n",
    "        cols_to_agg = [f'{metric}_per_kb' for metric in metrics_to_show] + ['block_total_bytes']\n",
    "        \n",
    "        # Group by block size bin and aggregate with observed=True\n",
    "        agg_dict = {col: 'mean' for col in cols_to_agg}\n",
    "        agg_dict['block_total_bytes'] = ['mean', 'count']\n",
    "        \n",
    "        binned = network_metrics_filtered.groupby('block_size_bin', observed=True).agg(agg_dict)\n",
    "        binned.columns = ['_'.join(col).strip() for col in binned.columns.values]\n",
    "        binned = binned.reset_index()\n",
    "        \n",
    "        # Rename columns for clarity\n",
    "        binned = binned.rename(columns={'block_total_bytes_mean': f'{network}_avg_size', \n",
    "                                       'block_total_bytes_count': f'{network}_count'})\n",
    "        \n",
    "        for metric in metrics_to_show:\n",
    "            binned = binned.rename(columns={f'{metric}_per_kb_mean': f'{network}_{metric}'})\n",
    "            \n",
    "        network_binned_data[network] = binned\n",
    "    \n",
    "    # Merge all networks' data\n",
    "    network_keys = list(metrics.keys())\n",
    "    if network_keys:\n",
    "        merged_data = network_binned_data[network_keys[0]].copy()\n",
    "        \n",
    "        for i in range(1, len(network_keys)):\n",
    "            merged_data = pd.merge(merged_data, network_binned_data[network_keys[i]], \n",
    "                                  on='block_size_bin', how='outer')\n",
    "    else:\n",
    "        # Handle empty metrics case\n",
    "        return go.Figure()\n",
    "    \n",
    "    # Create display labels for networks\n",
    "    network_labels = {network: config[\"networks\"][network][\"label\"] for network in metrics.keys()}\n",
    "    \n",
    "    # Prepare data for the table\n",
    "    table_data = [\n",
    "        ['Block Size Range'] + \n",
    "        [f'{network_labels[network]} Count' for network in network_keys] +\n",
    "        [f'{network_labels[network]} Avg Size (KB)' for network in network_keys]\n",
    "    ]\n",
    "    \n",
    "    # Add headings for each metric\n",
    "    for metric in metrics_to_show:\n",
    "        table_data[0].extend([f'{network_labels[network]} {metric.replace(\"_time_per_byte\", \"\")} (ms/KB)' for network in network_keys])\n",
    "    \n",
    "    # Fill in the data\n",
    "    for _, row in merged_data.iterrows():\n",
    "        table_row = [row['block_size_bin']]\n",
    "        \n",
    "        # Add counts for each network\n",
    "        for network in network_keys:\n",
    "            count_col = f'{network}_count'\n",
    "            if count_col in row and not pd.isna(row[count_col]):\n",
    "                table_row.append(f\"{int(row[count_col])}\")\n",
    "            else:\n",
    "                table_row.append('0')\n",
    "        \n",
    "        # Add average sizes for each network (converted to KB)\n",
    "        for network in network_keys:\n",
    "            size_col = f'{network}_avg_size'\n",
    "            if size_col in row and not pd.isna(row[size_col]):\n",
    "                table_row.append(f\"{row[size_col]/1024:.1f}\")\n",
    "            else:\n",
    "                table_row.append('N/A')\n",
    "        \n",
    "        # Add metrics for each network\n",
    "        for metric in metrics_to_show:\n",
    "            for network in network_keys:\n",
    "                metric_col = f'{network}_{metric}'\n",
    "                if metric_col in row and not pd.isna(row[metric_col]):\n",
    "                    table_row.append(f\"{row[metric_col]:.3f}\")\n",
    "                else:\n",
    "                    table_row.append('N/A')\n",
    "        \n",
    "        table_data.append(table_row)\n",
    "    \n",
    "    # Create table figure\n",
    "    table_fig = go.Figure(data=[go.Table(\n",
    "        header=dict(\n",
    "            values=table_data[0],\n",
    "            fill_color='paleturquoise',\n",
    "            align='center',\n",
    "            font=dict(size=12)\n",
    "        ),\n",
    "        cells=dict(\n",
    "            values=[[row[i] for row in table_data[1:]] for i in range(len(table_data[0]))],\n",
    "            fill_color='white',\n",
    "            align='center',\n",
    "            font=dict(size=11)\n",
    "        )\n",
    "    )])\n",
    "    \n",
    "    table_fig.update_layout(\n",
    "        title=\"Block Processing Efficiency (Time per Size) by Block Size Range\",\n",
    "        height=400,\n",
    "        width=1200\n",
    "    )\n",
    "    \n",
    "    return table_fig\n",
    "\n",
    "# Create efficiency metrics table\n",
    "metrics_to_show = ['min_time_per_byte', 'p50_time_per_byte', 'p95_time_per_byte']\n",
    "fig = create_efficiency_metrics_table(metrics, metrics_to_show)\n",
    "fig.show()"
   ]
  },
  {
   "cell_type": "code",
   "execution_count": 12,
   "metadata": {},
   "outputs": [
    {
     "data": {
      "application/vnd.plotly.v1+json": {
       "config": {
        "plotlyServerURL": "https://plot.ly"
       },
       "data": [
        {
         "hovertemplate": "Slot: %{x}<br>Block Size: %{y:.1f} KB",
         "marker": {
          "color": "blue",
          "opacity": 0.5,
          "size": 6
         },
         "mode": "markers",
         "name": "baseline Raw",
         "type": "scatter",
         "x": [
          300,
          301,
          302,
          303,
          304,
          305,
          306,
          307,
          308,
          309,
          310,
          311,
          312,
          313,
          314,
          315,
          316,
          317,
          318,
          319,
          320,
          321,
          322,
          323,
          324,
          325,
          326,
          327,
          328,
          329,
          330,
          331,
          332,
          333,
          334,
          335,
          336,
          337,
          338,
          339,
          340,
          341,
          342,
          343,
          344,
          345,
          346,
          347,
          348,
          349,
          350,
          351,
          352,
          353,
          354,
          355,
          356,
          357,
          358,
          359,
          360,
          361,
          362,
          363,
          364,
          365,
          366,
          367,
          368,
          369,
          370,
          371,
          372,
          373,
          374,
          375,
          376,
          377,
          378,
          379,
          380,
          381,
          382,
          383,
          384,
          385,
          386,
          387,
          388,
          389,
          390,
          391,
          392,
          393,
          394,
          395,
          396,
          397,
          398,
          399,
          400,
          401,
          402,
          403,
          404,
          405,
          406,
          407,
          408,
          409,
          410,
          411,
          412,
          413,
          414,
          415,
          416,
          417,
          418,
          419,
          420,
          421,
          422,
          423,
          424,
          425,
          426,
          427,
          428,
          429,
          430,
          431,
          432,
          433,
          434,
          435,
          436,
          437,
          438,
          439,
          440,
          441,
          442,
          443,
          444,
          445,
          446,
          447,
          448,
          449,
          450,
          451,
          452,
          453,
          454,
          455,
          456,
          457,
          458,
          459,
          460,
          461,
          462,
          463,
          464,
          465,
          466,
          467,
          468,
          469,
          470,
          471,
          472,
          473,
          474,
          475,
          476,
          477,
          478,
          479,
          480,
          481,
          482,
          483,
          484,
          485,
          486,
          487,
          488,
          489,
          490,
          491,
          492,
          493,
          494,
          495,
          496,
          497,
          498,
          499,
          500,
          501,
          502,
          503,
          504,
          505,
          506,
          507,
          508,
          509,
          510,
          511,
          512,
          513,
          514,
          515,
          516,
          517,
          518,
          519,
          520,
          521,
          522,
          523,
          524,
          525,
          526,
          527,
          528,
          529,
          530,
          531,
          532,
          533,
          534,
          535,
          536,
          537,
          538,
          539,
          540,
          541,
          542,
          543,
          544,
          545,
          546,
          547,
          548,
          549,
          550,
          551,
          552,
          553,
          554,
          555,
          556,
          557,
          558,
          559,
          560,
          561,
          562,
          563,
          564,
          565,
          566,
          567,
          568,
          569,
          570,
          571,
          572,
          573,
          574,
          575,
          576,
          577,
          578,
          579,
          580,
          581,
          582,
          583,
          584,
          585,
          586,
          587,
          588,
          589,
          590,
          591,
          592,
          593,
          594,
          595,
          596,
          597,
          598,
          599,
          600
         ],
         "y": [
          3238.14453125,
          2991.306640625,
          3629.34765625,
          3529.466796875,
          2745.619140625,
          4167.5068359375,
          2947.10546875,
          3458.1376953125,
          3433.314453125,
          2819.5263671875,
          3701.533203125,
          2773.892578125,
          3803.1376953125,
          3334.0068359375,
          3187.6259765625,
          3775.44140625,
          2302.4638671875,
          4387.5068359375,
          2997.623046875,
          3407.626953125,
          3750.037109375,
          2671.42578125,
          4169.5166015625,
          3019.2919921875,
          3557.4521484375,
          3604.5185546875,
          2841.7705078125,
          4020.552734375,
          2184.3564453125,
          4390.376953125,
          2746.4794921875,
          3774.5791015625,
          3529.7529296875,
          2646.025390625,
          4167.79296875,
          2158.9541015625,
          4757.6123046875,
          2482.857421875,
          3803.7109375,
          3506.0732421875,
          2965.9072265625,
          3652.7392578125,
          3724.923828125,
          2743.8974609375,
          4338.9990234375,
          2081.6025390625,
          4904.283203125,
          1004.7138671875,
          4855.2021484375,
          1160.8544921875,
          4781.869140625,
          1731.0146484375,
          4931.9814453125,
          1723.265625,
          4783.5908203125,
          2000.95703125,
          4519.3916015625,
          1817.693359375,
          4905.142578125,
          1504.7021484375,
          4612.958984375,
          1552.9189453125,
          4687.7265625,
          2802.740234375,
          3705.837890625,
          3162.7998046875,
          2993.890625,
          3602.509765625,
          3725.212890625,
          2720.7939453125,
          4364.4013671875,
          1891.0244140625,
          4807.2705078125,
          1402.8095703125,
          4588.7060546875,
          1506.4248046875,
          4588.98828125,
          2539.1162109375,
          3951.814453125,
          3070.95703125,
          3189.349609375,
          3875.896484375,
          2281.94140625,
          4363.5390625,
          2402.0595703125,
          4268.2490234375,
          3001.640625,
          4269.109375,
          2234.8720703125,
          4733.9345703125,
          1846.5390625,
          4686.00390625,
          1475.853515625,
          4884.9111328125,
          1087.80859375,
          4741.1123046875,
          2383.8349609375,
          3873.314453125,
          2923.4306640625,
          4392.673828125,
          2186.654296875,
          4881.46484375,
          1725.5625,
          4711.4072265625,
          1622.5185546875,
          4587.84375,
          1572.5791015625,
          4759.9130859375,
          1332.0595703125,
          4785.02734375,
          1154.5380859375,
          4834.681640625,
          1534.6962890625,
          4390.9521484375,
          2704.865234375,
          4683.9931640625,
          1893.3232421875,
          4933.4150390625,
          1731.017578125,
          4516.232421875,
          1361.4814453125,
          4935.1357421875,
          1138.03515625,
          4619.5615234375,
          2409.8125,
          4053.7041015625,
          2932.0419921875,
          4100.490234375,
          2725.9599609375,
          4390.9501953125,
          2044.294921875,
          4663.185546875,
          1501.8310546875,
          4759.0517578125,
          1476.1416015625,
          4663.1865234375,
          1677.91796875,
          4514.7998046875,
          1596.83203125,
          4807.2666015625,
          2484.8681640625,
          4121.5849609375,
          3023.59765625,
          3311.7646484375,
          3556.8759765625,
          2597.232421875,
          4243.13671875,
          2010.85546875,
          4541.34765625,
          2405.79296875,
          4930.830078125,
          2050.0361328125,
          4565.8876953125,
          1975.267578125,
          4888.3544921875,
          1655.673828125,
          4787.8955078125,
          1452.17578125,
          4760.4853515625,
          1505.2763671875,
          4563.8798828125,
          1505.5625,
          4540.4892578125,
          2698.26171875,
          3849.0576171875,
          3088.03125,
          4264.8037109375,
          2449.9921875,
          4878.8818359375,
          1697.0009765625,
          4905.4306640625,
          1411.9951171875,
          4785.6015625,
          1875.673828125,
          4586.982421875,
          1354.876953125,
          4880.314453125,
          2361.59375,
          3827.388671875,
          2919.4091796875,
          3556.015625,
          3358.8330078125,
          3756.9296875,
          2795.84765625,
          3996.8740234375,
          2162.9765625,
          4513.7255859375,
          2776.873046875,
          3732.2490234375,
          3290.5107421875,
          2769.6962890625,
          3926.85546875,
          2057.4326171875,
          4658.2021484375,
          1232.5126953125,
          4684.1796875,
          2552.8447265625,
          3824.958984375,
          3308.447265625,
          3211.4326171875,
          3677.1376953125,
          2547.677734375,
          4044.390625,
          3259.65234375,
          3284.76953125,
          3554.431640625,
          2694.9228515625,
          4266.12109375,
          2135.361328125,
          4832.5751953125,
          2431.2890625,
          4120.8857421875,
          3385.8046875,
          2923.2568359375,
          4097.7802734375,
          2333.4130859375,
          4392.560546875,
          2823.369140625,
          3732.2509765625,
          3362.6982421875,
          2868.4345703125,
          4168.24609375,
          1966.4462890625,
          4787.2255859375,
          1510.2158203125,
          4321.5224609375,
          3117.8642578125,
          3290.51171875,
          3556.1552734375,
          2648.138671875,
          4292.6708984375,
          2626.4658203125,
          4221.0595703125,
          3164.0732421875,
          3287.06640625,
          3873.4677734375,
          2302.5546875,
          4485.84375,
          2873.0283203125,
          3727.3681640625,
          3358.3935546875,
          2744.5810546875,
          3898.0078125,
          2083.40625,
          4805.1650390625,
          1969.029296875,
          4346.0615234375,
          2683.8759765625,
          4712.455078125,
          2161.9130859375,
          4270.7138671875,
          2068.052734375,
          4934.185546875,
          1163.76953125,
          4759.52734375,
          1206.5361328125,
          4440.494140625,
          1608.37890625,
          4419.3974609375,
          2531.462890625,
          4661.36328125,
          2092.5966796875,
          4664.5205078125,
          1550.3974609375,
          4736.421875,
          1505.6220703125,
          4687.6240234375,
          2778.5947265625,
          3584.716796875,
          3753.056640625,
          2549.6875,
          4192.4990234375,
          3043.0927734375,
          3090.7353515625,
          3531.9013671875,
          3973.6416015625,
          2505.4873046875,
          4245.0283203125,
          2819.6376953125,
          3580.12109375,
          3261.0888671875,
          3972.4912109375,
          2401.8671875,
          4829.9892578125,
          1358.0888671875,
          4734.984375,
          1679.1318359375,
          4367.15625,
          2197.36328125,
          4933.0361328125,
          1234.2353515625,
          4932.75,
          1851.2060546875,
          4392.845703125,
          1913.056640625,
          4813.2021484375,
          2098.3369140625,
          4832.57421875,
          1944.4892578125,
          4517.5634765625,
          2117.7119140625
         ]
        },
        {
         "hovertemplate": "Slot: %{x}<br>Avg Block Size: %{y:.1f} KB",
         "line": {
          "color": "blue",
          "width": 2
         },
         "mode": "lines",
         "name": "baseline 16-Slot MA",
         "type": "scatter",
         "x": [
          300,
          301,
          302,
          303,
          304,
          305,
          306,
          307,
          308,
          309,
          310,
          311,
          312,
          313,
          314,
          315,
          316,
          317,
          318,
          319,
          320,
          321,
          322,
          323,
          324,
          325,
          326,
          327,
          328,
          329,
          330,
          331,
          332,
          333,
          334,
          335,
          336,
          337,
          338,
          339,
          340,
          341,
          342,
          343,
          344,
          345,
          346,
          347,
          348,
          349,
          350,
          351,
          352,
          353,
          354,
          355,
          356,
          357,
          358,
          359,
          360,
          361,
          362,
          363,
          364,
          365,
          366,
          367,
          368,
          369,
          370,
          371,
          372,
          373,
          374,
          375,
          376,
          377,
          378,
          379,
          380,
          381,
          382,
          383,
          384,
          385,
          386,
          387,
          388,
          389,
          390,
          391,
          392,
          393,
          394,
          395,
          396,
          397,
          398,
          399,
          400,
          401,
          402,
          403,
          404,
          405,
          406,
          407,
          408,
          409,
          410,
          411,
          412,
          413,
          414,
          415,
          416,
          417,
          418,
          419,
          420,
          421,
          422,
          423,
          424,
          425,
          426,
          427,
          428,
          429,
          430,
          431,
          432,
          433,
          434,
          435,
          436,
          437,
          438,
          439,
          440,
          441,
          442,
          443,
          444,
          445,
          446,
          447,
          448,
          449,
          450,
          451,
          452,
          453,
          454,
          455,
          456,
          457,
          458,
          459,
          460,
          461,
          462,
          463,
          464,
          465,
          466,
          467,
          468,
          469,
          470,
          471,
          472,
          473,
          474,
          475,
          476,
          477,
          478,
          479,
          480,
          481,
          482,
          483,
          484,
          485,
          486,
          487,
          488,
          489,
          490,
          491,
          492,
          493,
          494,
          495,
          496,
          497,
          498,
          499,
          500,
          501,
          502,
          503,
          504,
          505,
          506,
          507,
          508,
          509,
          510,
          511,
          512,
          513,
          514,
          515,
          516,
          517,
          518,
          519,
          520,
          521,
          522,
          523,
          524,
          525,
          526,
          527,
          528,
          529,
          530,
          531,
          532,
          533,
          534,
          535,
          536,
          537,
          538,
          539,
          540,
          541,
          542,
          543,
          544,
          545,
          546,
          547,
          548,
          549,
          550,
          551,
          552,
          553,
          554,
          555,
          556,
          557,
          558,
          559,
          560,
          561,
          562,
          563,
          564,
          565,
          566,
          567,
          568,
          569,
          570,
          571,
          572,
          573,
          574,
          575,
          576,
          577,
          578,
          579,
          580,
          581,
          582,
          583,
          584,
          585,
          586,
          587,
          588,
          589,
          590,
          591,
          592,
          593,
          594,
          595,
          596,
          597,
          598,
          599,
          600
         ],
         "y": [
          null,
          null,
          null,
          null,
          null,
          null,
          null,
          null,
          null,
          null,
          null,
          null,
          null,
          null,
          null,
          3345.944580078125,
          3287.4645385742188,
          3374.72705078125,
          3335.2442626953125,
          3327.6292724609375,
          3390.4053955078125,
          3296.9003295898438,
          3373.301025390625,
          3345.8731689453125,
          3353.6317749023438,
          3402.6937866210938,
          3348.9586181640625,
          3426.8748779296875,
          3325.7010498046875,
          3391.7241821289062,
          3364.1525268554688,
          3364.0986328125,
          3440.80419921875,
          3331.9616088867188,
          3405.0972290039062,
          3327.05517578125,
          3390.0286254882812,
          3378.2431030273438,
          3355.3802490234375,
          3385.8040771484375,
          3348.83251953125,
          3351.8463134765625,
          3407.0433959960938,
          3327.25244140625,
          3461.9176025390625,
          3317.6192016601562,
          3452.48193359375,
          3279.3653564453125,
          3362.2059326171875,
          3269.3827514648438,
          3307.7625122070312,
          3281.0162963867188,
          3291.9143676757812,
          3244.4398803710938,
          3305.682373046875,
          3211.6126098632812,
          3308.7053833007812,
          3194.0150146484375,
          3267.7786865234375,
          3190.3289794921875,
          3207.4514770507812,
          3174.4087524414062,
          3160.8739624023438,
          3273.2506103515625,
          3201.4153442382812,
          3326.5369262695312,
          3214.7882690429688,
          3331.7567138671875,
          3256.3336791992188,
          3318.67919921875,
          3292.4798583984375,
          3285.6090698242188,
          3303.6015014648438,
          3277.6712646484375,
          3257.8939819335938,
          3258.0016479492188,
          3256.5034790039062,
          3318.1408081054688,
          3272.1463012695312,
          3288.9098510742188,
          3256.6293334960938,
          3301.1978759765625,
          3256.7010498046875,
          3304.265380859375,
          3221.5682983398438,
          3318.2842407226562,
          3233.1116943359375,
          3381.7420043945312,
          3220.9671020507812,
          3429.1624145507812,
          3257.7769775390625,
          3456.5006713867188,
          3261.9297485351562,
          3408.5419311523438,
          3229.5415649414062,
          3333.92626953125,
          3283.5816040039062,
          3283.4202270507812,
          3323.5133056640625,
          3325.334228515625,
          3311.8713989257812,
          3350.1973876953125,
          3270.4425048828125,
          3298.0861206054688,
          3259.8140258789062,
          3250.683349609375,
          3233.5608520507812,
          3238.18017578125,
          3229.1930541992188,
          3222.9503173828125,
          3227.1209106445312,
          3232.968994140625,
          3179.8978271484375,
          3212.2501831054688,
          3198.58984375,
          3216.7973022460938,
          3198.464111328125,
          3201.7109985351562,
          3202.0519409179688,
          3189.853515625,
          3173.5386962890625,
          3195.2444458007812,
          3168.08544921875,
          3159.3134765625,
          3226.6730346679688,
          3180.96533203125,
          3292.059326171875,
          3246.17236328125,
          3320.6263427734375,
          3320.626220703125,
          3279.340576171875,
          3278.0401000976562,
          3253.5718383789062,
          3242.6741333007812,
          3226.744384765625,
          3235.9290161132812,
          3255.706298828125,
          3229.435302734375,
          3258.110107421875,
          3269.8416748046875,
          3274.5326538085938,
          3278.7752075195312,
          3284.4974365234375,
          3235.2020874023438,
          3287.1343383789062,
          3175.0269775390625,
          3312.45458984375,
          3146.6839599609375,
          3336.6537475585938,
          3189.5750732421875,
          3405.4931030273438,
          3242.1712036132812,
          3422.6693115234375,
          3263.9485473632812,
          3469.668701171875,
          3272.6941528320312,
          3416.6333618164062,
          3249.7952880859375,
          3358.3507690429688,
          3245.4452514648438,
          3308.3829956054688,
          3240.1536254882812,
          3258.7381591796875,
          3301.7010498046875,
          3258.4329223632812,
          3301.0728149414062,
          3259.4461669921875,
          3284.4434204101562,
          3304.0055541992188,
          3286.6138916015625,
          3287.68115234375,
          3272.4512329101562,
          3272.307861328125,
          3298.7764892578125,
          3287.9325561523438,
          3278.5325927734375,
          3298.3097534179688,
          3351.8117065429688,
          3307.242919921875,
          3321.0646362304688,
          3302.74951171875,
          3319.6746215820312,
          3287.9324951171875,
          3309.5484619140625,
          3254.4229736328125,
          3283.5464477539062,
          3259.0648803710938,
          3344.3697509765625,
          3278.5352172851562,
          3366.9625244140625,
          3253.3821411132812,
          3414.1307983398438,
          3237.70068359375,
          3381.2387084960938,
          3219.0589599609375,
          3329.3571166992188,
          3266.658935546875,
          3295.7918090820312,
          3267.7616577148438,
          3293.7357177734375,
          3273.752197265625,
          3297.7960205078125,
          3268.4625854492188,
          3298.6362915039062,
          3270.6688232421875,
          3287.1638793945312,
          3282.4905395507812,
          3303.6946411132812,
          3308.565185546875,
          3319.4635009765625,
          3394.3870239257812,
          3359.18115234375,
          3411.2411499023438,
          3354.884765625,
          3404.2180786132812,
          3349.3418579101562,
          3394.0557861328125,
          3411.2864990234375,
          3391.7777709960938,
          3398.2181396484375,
          3372.1972045898438,
          3410.5606079101562,
          3365.0308227539062,
          3397.599853515625,
          3358.5282592773438,
          3326.5874633789062,
          3369.4984130859375,
          3317.6000366210938,
          3328.2469482421875,
          3311.0520629882812,
          3323.2327270507812,
          3341.5485229492188,
          3330.8297119140625,
          3352.1237182617188,
          3324.2996826171875,
          3356.2227783203125,
          3320.8552856445312,
          3340.7051391601562,
          3397.3665161132812,
          3331.1254272460938,
          3446.6365356445312,
          3348.0776977539062,
          3396.836669921875,
          3321.392578125,
          3399.4556884765625,
          3357.0113525390625,
          3360.3482666015625,
          3363.9364013671875,
          3394.6486206054688,
          3332.0136108398438,
          3393.4915771484375,
          3280.6531372070312,
          3445.1300659179688,
          3237.5004272460938,
          3355.4066162109375,
          3197.8546142578125,
          3265.4859008789062,
          3194.4732666015625,
          3227.0601196289062,
          3255.0636596679688,
          3246.0760498046875,
          3253.7990112304688,
          3273.7026977539062,
          3202.8602905273438,
          3204.3582153320312,
          3163.3400268554688,
          3189.3969116210938,
          3233.8057861328125,
          3149.4639892578125,
          3311.29443359375,
          3173.179443359375,
          3359.8021240234375,
          3272.4645385742188,
          3365.11181640625,
          3309.643310546875,
          3399.7794799804688,
          3265.0372314453125,
          3399.564208984375,
          3284.259033203125,
          3411.1167602539062,
          3318.908447265625,
          3473.0877685546875,
          3330.2279663085938,
          3458.4401245117188,
          3319.27587890625,
          3380.6463623046875,
          3326.2366333007812,
          3337.1527099609375,
          3284.2946166992188,
          3399.4384155273438,
          3255.8342895507812,
          3315.778564453125,
          3274.885986328125,
          3284.1245727539062,
          3227.4632568359375,
          3304.5308227539062,
          3231.8588256835938,
          3285.614013671875,
          3257.0278930664062,
          3237.5012817382812,
          3284.9777221679688
         ]
        },
        {
         "hovertemplate": "Slot: %{x}<br>Block Size: %{y:.1f} KB",
         "marker": {
          "color": "green",
          "opacity": 0.5,
          "size": 6
         },
         "mode": "markers",
         "name": "rlnc Raw",
         "type": "scatter",
         "x": [
          300,
          301,
          302,
          303,
          304,
          305,
          306,
          307,
          308,
          309,
          310,
          311,
          312,
          313,
          314,
          315,
          316,
          317,
          318,
          319,
          320,
          321,
          322,
          323,
          324,
          325,
          326,
          327,
          328,
          329,
          330,
          331,
          332,
          333,
          334,
          335,
          336,
          337,
          338,
          339,
          340,
          341,
          342,
          343,
          344,
          345,
          346,
          347,
          348,
          349,
          350,
          351,
          352,
          354,
          355,
          356,
          357,
          358,
          359,
          360,
          361,
          362,
          363,
          364,
          365,
          366,
          367,
          368,
          369,
          370,
          371,
          372,
          373,
          374,
          375,
          376,
          377,
          378,
          379,
          380,
          381,
          382,
          383,
          384,
          385,
          386,
          387,
          388,
          389,
          390,
          391,
          392,
          393,
          394,
          395,
          396,
          397,
          398,
          399,
          400,
          401,
          402,
          403,
          404,
          405,
          406,
          407,
          408,
          409,
          410,
          411,
          412,
          413,
          414,
          415,
          416,
          417,
          418,
          419,
          420,
          421,
          422,
          423,
          424,
          425,
          426,
          427,
          428,
          429,
          430,
          431,
          432,
          433,
          434,
          435,
          436,
          437,
          438,
          439,
          440,
          441,
          442,
          443,
          444,
          445,
          446,
          447,
          448,
          449,
          450,
          451,
          452,
          453,
          454,
          455,
          456,
          457,
          458,
          459,
          460,
          461,
          462,
          463,
          464,
          465,
          466,
          467,
          468,
          469,
          470,
          471,
          472,
          473,
          474,
          475,
          476,
          477,
          478,
          479,
          480,
          481,
          482,
          483,
          484,
          485,
          486,
          487,
          488,
          489,
          490,
          491,
          492,
          493,
          494,
          495,
          496,
          497,
          498,
          499,
          500,
          501,
          502,
          503,
          504,
          505,
          506,
          507,
          508,
          509,
          510,
          511,
          512,
          513,
          514,
          516,
          517,
          518,
          519,
          520,
          521,
          522,
          523,
          524,
          525,
          526,
          527,
          528,
          529,
          530,
          531,
          532,
          533,
          534,
          535,
          536,
          537,
          538,
          539,
          540,
          541,
          542,
          543,
          544,
          545,
          546,
          547,
          548,
          549,
          550,
          551,
          552,
          553,
          554,
          555,
          556,
          557,
          558,
          559,
          560,
          561,
          562,
          563,
          564,
          565,
          566,
          567,
          568,
          569,
          570,
          571,
          572,
          573,
          574,
          575,
          576,
          577,
          578,
          579,
          580,
          581,
          582,
          583,
          584,
          585,
          586,
          587,
          588,
          589,
          590,
          591,
          592,
          593,
          594,
          595,
          596,
          597,
          598,
          599,
          600
         ],
         "y": [
          4396.2275390625,
          1927.26171875,
          4618.806640625,
          1632.505859375,
          4591.3935546875,
          994.7783203125,
          4934.6513671875,
          1461.01953125,
          4764.03125,
          1657.33203125,
          4834.484375,
          1802.5556640625,
          4542.0283203125,
          2163.751953125,
          4417.6123046875,
          1485.5576171875,
          4930.63671875,
          1019.31640625,
          4930.34765625,
          1559.17578125,
          4757.4248046875,
          4945.5634765625,
          4552.94140625,
          1436.48046875,
          4724.71484375,
          1706.4111328125,
          4454.78515625,
          1780.02734375,
          4700.1748046875,
          1681.8720703125,
          4577.4765625,
          1485.55859375,
          4766.6142578125,
          1411.9423828125,
          4615.0732421875,
          1458.435546875,
          4741.4951171875,
          1555.73046875,
          4663.001953125,
          1436.478515625,
          4687.2568359375,
          1338.3251953125,
          4712.08203125,
          1755.4892578125,
          4514.3330078125,
          1191.0908203125,
          4930.63671875,
          1065.5244140625,
          4708.63671875,
          1803.9931640625,
          4341.412109375,
          2221.4423828125,
          4048.9541015625,
          3497.76171875,
          872.0830078125,
          4896.4853515625,
          528.5361328125,
          4945.5654296875,
          1289.2470703125,
          4430.2470703125,
          1362.8623046875,
          4746.09375,
          2712.51171875,
          3914.92578125,
          3006.9794921875,
          3129.6767578125,
          1853.64453125,
          4279.27734375,
          1559.17578125,
          4499.3486328125,
          2442.591796875,
          3790.59375,
          3105.2216796875,
          3197.9619140625,
          3713.3056640625,
          2540.8369140625,
          4381.3408203125,
          1927.3359375,
          4449.79296875,
          1804.6376953125,
          4422.6669921875,
          1829.1767578125,
          4495.7119140625,
          2047.4521484375,
          4667.78125,
          1632.857421875,
          4724.8994140625,
          1853.7177734375,
          4356.80078125,
          2025.49609375,
          4700.3623046875,
          1142.0546875,
          4938.294921875,
          1706.474609375,
          4377.0302734375,
          2295.4375,
          4940.880859375,
          1681.9365234375,
          4642.37890625,
          1829.1767578125,
          4742.8369140625,
          1142.056640625,
          4931.4033203125,
          970.2744140625,
          4935.7138671875,
          1608.3173828125,
          4611.525390625,
          2050.0361328125,
          4809.279296875,
          2048.888671875,
          4566.4609375,
          2189.2392578125,
          4565.6025390625,
          2218.0859375,
          4759.05078125,
          1976.4169921875,
          4859.7958984375,
          2050.0380859375,
          4251.17578125,
          1166.595703125,
          4551.3974609375,
          2295.4375,
          4700.361328125,
          1485.6171875,
          4945.7607421875,
          1706.4765625,
          4646.9736328125,
          1878.2578125,
          4791.62890625,
          1927.3369140625,
          4664.6240234375,
          1902.796875,
          4811.0009765625,
          1828.0283203125,
          4615.2568359375,
          2050.0380859375,
          4858.6474609375,
          2025.4970703125,
          4442.041015625,
          2415.267578125,
          3855.0888671875,
          2849.5224609375,
          3212.4541015625,
          3536.35546875,
          2565.37890625,
          4300.25390625,
          1996.9375,
          4910.0234375,
          1264.7568359375,
          4717.7216796875,
          896.6552734375,
          4944.0400390625,
          1387.45703125,
          4749.4375,
          1804.6357421875,
          4623.001953125,
          1534.697265625,
          4724.8994140625,
          1780.09765625,
          4329.67578125,
          1976.41796875,
          4666.91796875,
          1755.5576171875,
          4491.9814453125,
          1804.6376953125,
          4788.47265625,
          921.1953125,
          4933.4130859375,
          1461.076171875,
          4686.5791015625,
          1534.697265625,
          4787.322265625,
          1607.1689453125,
          4906.5791015625,
          1461.0751953125,
          4760.486328125,
          1946.134765625,
          4244.28515625,
          2540.837890625,
          4661.177734375,
          1461.0771484375,
          4919.7822265625,
          1510.15625,
          4773.98046875,
          1927.337890625,
          4620.7099609375,
          1998.9482421875,
          4667.2080078125,
          1780.095703125,
          4520.828125,
          1657.3974609375,
          4791.9169921875,
          626.7158203125,
          4938.2958984375,
          823.03515625,
          4908.8720703125,
          724.875,
          4931.978515625,
          1681.9375,
          4365.546875,
          1893.896484375,
          4516.5205078125,
          994.8154296875,
          4931.1162109375,
          1410.2734375,
          4732.787109375,
          1411.1357421875,
          4831.51953125,
          1705.9033203125,
          4464.5693359375,
          1878.2578125,
          4707.673828125,
          994.8154296875,
          4945.76171875,
          4945.7587890625,
          1731.015625,
          4724.9013671875,
          651.255859375,
          4528.5810546875,
          1559.236328125,
          4945.7607421875,
          1731.0166015625,
          4651.279296875,
          2246.3583984375,
          3718.7607421875,
          3252.5,
          3007.0986328125,
          3743.30078125,
          2516.296875,
          4405.880859375,
          1411.99609375,
          4889.7900390625,
          1510.15625,
          4577.6611328125,
          1191.13671875,
          4937.14453125,
          1755.5576171875,
          4498.296875,
          2047.740234375,
          4636.3486328125,
          1681.9375,
          4684.2822265625,
          1848.546875,
          4686.2841796875,
          1755.556640625,
          4454.958984375,
          1485.6171875,
          4940.3056640625,
          1510.1552734375,
          4647.2568359375,
          2123.658203125,
          4275.71484375,
          2123.6552734375,
          4862.6650390625,
          1632.8564453125,
          4747.14453125,
          1240.216796875,
          4933.98828125,
          1829.1767578125,
          4640.080078125,
          2319.9775390625,
          3803.42578125,
          2982.5595703125,
          3047.2783203125,
          3685.0302734375,
          2462.623046875,
          4571.9189453125,
          1655.67578125,
          4613.0361328125,
          1166.626953125,
          4933.2236328125,
          1581.5419921875,
          4586.3017578125,
          2172.2470703125,
          4788.3740234375,
          1853.7900390625,
          4650.8896484375,
          2123.740234375,
          4649.7392578125,
          2172.822265625,
          4545.26171875,
          2270.9873046875,
          4598.0751953125,
          1387.509765625,
          4936.76953125,
          1829.248046875,
          4744.4609375,
          2246.4462890625,
          4544.400390625,
          2099.19921875,
          4599.2236328125,
          2099.2001953125,
          4563.486328125,
          1927.4130859375,
          4736.4189453125,
          1780.166015625,
          4567.79296875,
          1828.9619140625,
          4614.001953125
         ]
        },
        {
         "hovertemplate": "Slot: %{x}<br>Avg Block Size: %{y:.1f} KB",
         "line": {
          "color": "green",
          "width": 2
         },
         "mode": "lines",
         "name": "rlnc 16-Slot MA",
         "type": "scatter",
         "x": [
          300,
          301,
          302,
          303,
          304,
          305,
          306,
          307,
          308,
          309,
          310,
          311,
          312,
          313,
          314,
          315,
          316,
          317,
          318,
          319,
          320,
          321,
          322,
          323,
          324,
          325,
          326,
          327,
          328,
          329,
          330,
          331,
          332,
          333,
          334,
          335,
          336,
          337,
          338,
          339,
          340,
          341,
          342,
          343,
          344,
          345,
          346,
          347,
          348,
          349,
          350,
          351,
          352,
          354,
          355,
          356,
          357,
          358,
          359,
          360,
          361,
          362,
          363,
          364,
          365,
          366,
          367,
          368,
          369,
          370,
          371,
          372,
          373,
          374,
          375,
          376,
          377,
          378,
          379,
          380,
          381,
          382,
          383,
          384,
          385,
          386,
          387,
          388,
          389,
          390,
          391,
          392,
          393,
          394,
          395,
          396,
          397,
          398,
          399,
          400,
          401,
          402,
          403,
          404,
          405,
          406,
          407,
          408,
          409,
          410,
          411,
          412,
          413,
          414,
          415,
          416,
          417,
          418,
          419,
          420,
          421,
          422,
          423,
          424,
          425,
          426,
          427,
          428,
          429,
          430,
          431,
          432,
          433,
          434,
          435,
          436,
          437,
          438,
          439,
          440,
          441,
          442,
          443,
          444,
          445,
          446,
          447,
          448,
          449,
          450,
          451,
          452,
          453,
          454,
          455,
          456,
          457,
          458,
          459,
          460,
          461,
          462,
          463,
          464,
          465,
          466,
          467,
          468,
          469,
          470,
          471,
          472,
          473,
          474,
          475,
          476,
          477,
          478,
          479,
          480,
          481,
          482,
          483,
          484,
          485,
          486,
          487,
          488,
          489,
          490,
          491,
          492,
          493,
          494,
          495,
          496,
          497,
          498,
          499,
          500,
          501,
          502,
          503,
          504,
          505,
          506,
          507,
          508,
          509,
          510,
          511,
          512,
          513,
          514,
          516,
          517,
          518,
          519,
          520,
          521,
          522,
          523,
          524,
          525,
          526,
          527,
          528,
          529,
          530,
          531,
          532,
          533,
          534,
          535,
          536,
          537,
          538,
          539,
          540,
          541,
          542,
          543,
          544,
          545,
          546,
          547,
          548,
          549,
          550,
          551,
          552,
          553,
          554,
          555,
          556,
          557,
          558,
          559,
          560,
          561,
          562,
          563,
          564,
          565,
          566,
          567,
          568,
          569,
          570,
          571,
          572,
          573,
          574,
          575,
          576,
          577,
          578,
          579,
          580,
          581,
          582,
          583,
          584,
          585,
          586,
          587,
          588,
          589,
          590,
          591,
          592,
          593,
          594,
          595,
          596,
          597,
          598,
          599,
          600
         ],
         "y": [
          null,
          null,
          null,
          null,
          null,
          null,
          null,
          null,
          null,
          null,
          null,
          null,
          null,
          null,
          null,
          3138.9998779296875,
          3172.4004516601562,
          3115.6538696289062,
          3135.1251831054688,
          3130.5420532226562,
          3140.9190063476562,
          3387.8430786132812,
          3363.9862060546875,
          3362.4525146484375,
          3359.9952392578125,
          3363.0626831054688,
          3339.3314819335938,
          3337.9234619140625,
          3347.8076171875,
          3317.6901245117188,
          3327.681640625,
          3327.6817016601562,
          3317.4302978515625,
          3341.9694213867188,
          3322.2647705078125,
          3315.968505859375,
          3314.972900390625,
          3103.1083374023438,
          3109.9871215820312,
          3109.9869995117188,
          3107.6458740234375,
          3084.6405029296875,
          3100.7215576171875,
          3099.1879272460938,
          3087.5728149414062,
          3056.8989868164062,
          3078.9714965820312,
          3052.7193603515625,
          3049.0957641601562,
          3073.5989379882812,
          3056.4951171875,
          3104.1830444335938,
          3060.8992309570312,
          3182.2761840820312,
          2945.34375,
          3161.5941772460938,
          2901.6741333007812,
          3127.1266479492188,
          2913.199462890625,
          3080.371826171875,
          2883.4049072265625,
          3105.5925903320312,
          2966.9597778320312,
          3145.04736328125,
          3038.6937866210938,
          3121.5490112304688,
          2966.0635375976562,
          3094.67822265625,
          2939.0670776367188,
          3001.666259765625,
          3099.8230590820312,
          3030.704833984375,
          3191.7476806640625,
          3082.5224609375,
          3234.026123046875,
          3115.93798828125,
          3304.5928955078125,
          3128.4205322265625,
          3237.0006103515625,
          3105.1076049804688,
          3193.5880737304688,
          3112.3068237304688,
          3277.43603515625,
          3137.9469604492188,
          3332.2348022460938,
          3153.0791015625,
          3295.7233276367188,
          3174.6685791015625,
          3252.8922729492188,
          3179.6131591796875,
          3241.30419921875,
          3153.8803100585938,
          3188.68994140625,
          3174.8861083984375,
          3170.3384399414062,
          3201.013427734375,
          3233.4017944335938,
          3224.1992797851562,
          3233.365966796875,
          3219.7237548828125,
          3224.4147338867188,
          3193.7396850585938,
          3206.6461791992188,
          3151.4309692382812,
          3187.613037109375,
          3161.5393676757812,
          3155.987060546875,
          3212.7359008789062,
          3204.6724243164062,
          3226.0733032226562,
          3237.9127197265625,
          3231.2753295898438,
          3207.8204345703125,
          3241.3297729492188,
          3248.6217651367188,
          3257.8242797851562,
          3265.1342163085938,
          3321.883056640625,
          3279.3688354492188,
          3291.638916015625,
          3267.619140625,
          3310.5641479492188,
          3316.1163940429688,
          3280.8402099609375,
          3289.3703002929688,
          3267.9695434570312,
          3273.0015869140625,
          3253.5652465820312,
          3267.69189453125,
          3249.5200805664062,
          3243.618408203125,
          3239.0171508789062,
          3235.9674682617188,
          3222.0918579101562,
          3244.846923828125,
          3300.0620727539062,
          3319.2651977539062,
          3302.3939208984375,
          3286.2489013671875,
          3344.35205078125,
          3276.18505859375,
          3347.6254272460938,
          3257.9679565429688,
          3361.5990600585938,
          3222.4584350585938,
          3370.7657470703125,
          3204.0353393554688,
          3391.9869995117188,
          3170.3467407226562,
          3350.9525756835938,
          3118.5399780273438,
          3299.4151000976562,
          3082.4656982421875,
          3252.7119750976562,
          3087.8741455078125,
          3225.8575439453125,
          3080.8330688476562,
          3198.0441284179688,
          3108.5218505859375,
          3158.1043701171875,
          3121.2943115234375,
          3144.2108154296875,
          3129.1245727539062,
          3102.9969482421875,
          3136.739501953125,
          3141.1614379882812,
          3142.6951904296875,
          3142.031005859375,
          3146.6322021484375,
          3142.7035522460938,
          3125.8323974609375,
          3136.1024169921875,
          3140.6318969726562,
          3151.9868774414062,
          3132.0479736328125,
          3158.9736328125,
          3157.0809326171875,
          3130.6663818359375,
          3179.7463989257812,
          3190.3211669921875,
          3168.8486328125,
          3177.0554809570312,
          3213.8655395507812,
          3203.9010009765625,
          3233.0423583984375,
          3228.925537109375,
          3257.9412231445312,
          3250.43408203125,
          3261.2420043945312,
          3237.132568359375,
          3249.4027099609375,
          3251.3671264648438,
          3168.9034423828125,
          3212.2791137695312,
          3104.9164428710938,
          3120.3973388671875,
          3074.3847045898438,
          3075.14697265625,
          3085.88330078125,
          3060.356201171875,
          3058.26611328125,
          3051.7542724609375,
          2988.9959716796875,
          3005.490234375,
          2982.3763427734375,
          2995.623779296875,
          2980.232421875,
          2982.7075805664062,
          3050.1567993164062,
          3020.5488891601562,
          3086.5003051757812,
          3073.9254150390625,
          3090.7966918945312,
          3091.6581420898438,
          3295.64697265625,
          3130.98876953125,
          3307.9265747070312,
          3066.3475341796875,
          3287.2078857421875,
          3076.4653930664062,
          3297.433349609375,
          3109.8226928710938,
          3312.3316650390625,
          3150.7590942382812,
          3276.5626831054688,
          3200.808349609375,
          3271.3609008789062,
          3211.0875854492188,
          3306.18017578125,
          3272.4376220703125,
          3051.5774536132812,
          3249.0008544921875,
          3048.0792846679688,
          3293.4796142578125,
          3084.8893432617188,
          3296.0086059570312,
          3096.6209106445312,
          3269.575927734375,
          3106.854736328125,
          3256.2291259765625,
          3128.9276733398438,
          3218.4140625,
          3146.0045776367188,
          3204.9410400390625,
          3157.394775390625,
          3160.462158203125,
          3165.0634765625,
          3168.220703125,
          3168.2206420898438,
          3172.5703735351562,
          3230.8529663085938,
          3189.5136108398438,
          3212.5197143554688,
          3235.292724609375,
          3209.3624877929688,
          3216.2872314453125,
          3188.6796875,
          3204.2863159179688,
          3203.07568359375,
          3200.1879272460938,
          3235.4642333984375,
          3194.743408203125,
          3288.3023071289062,
          3169.9880981445312,
          3305.9177856445312,
          3169.378173828125,
          3322.3944702148438,
          3158.6420288085938,
          3314.2283325195312,
          3083.2259521484375,
          3289.4989013671875,
          3091.6487426757812,
          3300.779052734375,
          3128.1702270507812,
          3313.1200561523438,
          3138.9769287109375,
          3284.658935546875,
          3179.6785888671875,
          3283.8773193359375,
          3229.2238159179688,
          3282.98828125,
          3271.0110473632812,
          3272.6458129882812,
          3255.8854370117188,
          3276.1187744140625,
          3317.5325927734375,
          3305.7349243164062,
          3347.2914428710938,
          3344.672607421875,
          3340.1071166992188,
          3328.2852172851562,
          3343.6233520507812,
          3338.16064453125,
          3325.8901977539062,
          3331.3076782226562,
          3306.7666625976562,
          3308.1748657226562,
          3280.5482788085938,
          3281.543701171875
         ]
        }
       ],
       "layout": {
        "height": 600,
        "hovermode": "closest",
        "legend": {
         "bgcolor": "rgba(255,255,255,0.8)",
         "x": 0.01,
         "y": 0.99
        },
        "plot_bgcolor": "white",
        "template": {
         "data": {
          "bar": [
           {
            "error_x": {
             "color": "#2a3f5f"
            },
            "error_y": {
             "color": "#2a3f5f"
            },
            "marker": {
             "line": {
              "color": "#E5ECF6",
              "width": 0.5
             },
             "pattern": {
              "fillmode": "overlay",
              "size": 10,
              "solidity": 0.2
             }
            },
            "type": "bar"
           }
          ],
          "barpolar": [
           {
            "marker": {
             "line": {
              "color": "#E5ECF6",
              "width": 0.5
             },
             "pattern": {
              "fillmode": "overlay",
              "size": 10,
              "solidity": 0.2
             }
            },
            "type": "barpolar"
           }
          ],
          "carpet": [
           {
            "aaxis": {
             "endlinecolor": "#2a3f5f",
             "gridcolor": "white",
             "linecolor": "white",
             "minorgridcolor": "white",
             "startlinecolor": "#2a3f5f"
            },
            "baxis": {
             "endlinecolor": "#2a3f5f",
             "gridcolor": "white",
             "linecolor": "white",
             "minorgridcolor": "white",
             "startlinecolor": "#2a3f5f"
            },
            "type": "carpet"
           }
          ],
          "choropleth": [
           {
            "colorbar": {
             "outlinewidth": 0,
             "ticks": ""
            },
            "type": "choropleth"
           }
          ],
          "contour": [
           {
            "colorbar": {
             "outlinewidth": 0,
             "ticks": ""
            },
            "colorscale": [
             [
              0,
              "#0d0887"
             ],
             [
              0.1111111111111111,
              "#46039f"
             ],
             [
              0.2222222222222222,
              "#7201a8"
             ],
             [
              0.3333333333333333,
              "#9c179e"
             ],
             [
              0.4444444444444444,
              "#bd3786"
             ],
             [
              0.5555555555555556,
              "#d8576b"
             ],
             [
              0.6666666666666666,
              "#ed7953"
             ],
             [
              0.7777777777777778,
              "#fb9f3a"
             ],
             [
              0.8888888888888888,
              "#fdca26"
             ],
             [
              1,
              "#f0f921"
             ]
            ],
            "type": "contour"
           }
          ],
          "contourcarpet": [
           {
            "colorbar": {
             "outlinewidth": 0,
             "ticks": ""
            },
            "type": "contourcarpet"
           }
          ],
          "heatmap": [
           {
            "colorbar": {
             "outlinewidth": 0,
             "ticks": ""
            },
            "colorscale": [
             [
              0,
              "#0d0887"
             ],
             [
              0.1111111111111111,
              "#46039f"
             ],
             [
              0.2222222222222222,
              "#7201a8"
             ],
             [
              0.3333333333333333,
              "#9c179e"
             ],
             [
              0.4444444444444444,
              "#bd3786"
             ],
             [
              0.5555555555555556,
              "#d8576b"
             ],
             [
              0.6666666666666666,
              "#ed7953"
             ],
             [
              0.7777777777777778,
              "#fb9f3a"
             ],
             [
              0.8888888888888888,
              "#fdca26"
             ],
             [
              1,
              "#f0f921"
             ]
            ],
            "type": "heatmap"
           }
          ],
          "heatmapgl": [
           {
            "colorbar": {
             "outlinewidth": 0,
             "ticks": ""
            },
            "colorscale": [
             [
              0,
              "#0d0887"
             ],
             [
              0.1111111111111111,
              "#46039f"
             ],
             [
              0.2222222222222222,
              "#7201a8"
             ],
             [
              0.3333333333333333,
              "#9c179e"
             ],
             [
              0.4444444444444444,
              "#bd3786"
             ],
             [
              0.5555555555555556,
              "#d8576b"
             ],
             [
              0.6666666666666666,
              "#ed7953"
             ],
             [
              0.7777777777777778,
              "#fb9f3a"
             ],
             [
              0.8888888888888888,
              "#fdca26"
             ],
             [
              1,
              "#f0f921"
             ]
            ],
            "type": "heatmapgl"
           }
          ],
          "histogram": [
           {
            "marker": {
             "pattern": {
              "fillmode": "overlay",
              "size": 10,
              "solidity": 0.2
             }
            },
            "type": "histogram"
           }
          ],
          "histogram2d": [
           {
            "colorbar": {
             "outlinewidth": 0,
             "ticks": ""
            },
            "colorscale": [
             [
              0,
              "#0d0887"
             ],
             [
              0.1111111111111111,
              "#46039f"
             ],
             [
              0.2222222222222222,
              "#7201a8"
             ],
             [
              0.3333333333333333,
              "#9c179e"
             ],
             [
              0.4444444444444444,
              "#bd3786"
             ],
             [
              0.5555555555555556,
              "#d8576b"
             ],
             [
              0.6666666666666666,
              "#ed7953"
             ],
             [
              0.7777777777777778,
              "#fb9f3a"
             ],
             [
              0.8888888888888888,
              "#fdca26"
             ],
             [
              1,
              "#f0f921"
             ]
            ],
            "type": "histogram2d"
           }
          ],
          "histogram2dcontour": [
           {
            "colorbar": {
             "outlinewidth": 0,
             "ticks": ""
            },
            "colorscale": [
             [
              0,
              "#0d0887"
             ],
             [
              0.1111111111111111,
              "#46039f"
             ],
             [
              0.2222222222222222,
              "#7201a8"
             ],
             [
              0.3333333333333333,
              "#9c179e"
             ],
             [
              0.4444444444444444,
              "#bd3786"
             ],
             [
              0.5555555555555556,
              "#d8576b"
             ],
             [
              0.6666666666666666,
              "#ed7953"
             ],
             [
              0.7777777777777778,
              "#fb9f3a"
             ],
             [
              0.8888888888888888,
              "#fdca26"
             ],
             [
              1,
              "#f0f921"
             ]
            ],
            "type": "histogram2dcontour"
           }
          ],
          "mesh3d": [
           {
            "colorbar": {
             "outlinewidth": 0,
             "ticks": ""
            },
            "type": "mesh3d"
           }
          ],
          "parcoords": [
           {
            "line": {
             "colorbar": {
              "outlinewidth": 0,
              "ticks": ""
             }
            },
            "type": "parcoords"
           }
          ],
          "pie": [
           {
            "automargin": true,
            "type": "pie"
           }
          ],
          "scatter": [
           {
            "fillpattern": {
             "fillmode": "overlay",
             "size": 10,
             "solidity": 0.2
            },
            "type": "scatter"
           }
          ],
          "scatter3d": [
           {
            "line": {
             "colorbar": {
              "outlinewidth": 0,
              "ticks": ""
             }
            },
            "marker": {
             "colorbar": {
              "outlinewidth": 0,
              "ticks": ""
             }
            },
            "type": "scatter3d"
           }
          ],
          "scattercarpet": [
           {
            "marker": {
             "colorbar": {
              "outlinewidth": 0,
              "ticks": ""
             }
            },
            "type": "scattercarpet"
           }
          ],
          "scattergeo": [
           {
            "marker": {
             "colorbar": {
              "outlinewidth": 0,
              "ticks": ""
             }
            },
            "type": "scattergeo"
           }
          ],
          "scattergl": [
           {
            "marker": {
             "colorbar": {
              "outlinewidth": 0,
              "ticks": ""
             }
            },
            "type": "scattergl"
           }
          ],
          "scattermapbox": [
           {
            "marker": {
             "colorbar": {
              "outlinewidth": 0,
              "ticks": ""
             }
            },
            "type": "scattermapbox"
           }
          ],
          "scatterpolar": [
           {
            "marker": {
             "colorbar": {
              "outlinewidth": 0,
              "ticks": ""
             }
            },
            "type": "scatterpolar"
           }
          ],
          "scatterpolargl": [
           {
            "marker": {
             "colorbar": {
              "outlinewidth": 0,
              "ticks": ""
             }
            },
            "type": "scatterpolargl"
           }
          ],
          "scatterternary": [
           {
            "marker": {
             "colorbar": {
              "outlinewidth": 0,
              "ticks": ""
             }
            },
            "type": "scatterternary"
           }
          ],
          "surface": [
           {
            "colorbar": {
             "outlinewidth": 0,
             "ticks": ""
            },
            "colorscale": [
             [
              0,
              "#0d0887"
             ],
             [
              0.1111111111111111,
              "#46039f"
             ],
             [
              0.2222222222222222,
              "#7201a8"
             ],
             [
              0.3333333333333333,
              "#9c179e"
             ],
             [
              0.4444444444444444,
              "#bd3786"
             ],
             [
              0.5555555555555556,
              "#d8576b"
             ],
             [
              0.6666666666666666,
              "#ed7953"
             ],
             [
              0.7777777777777778,
              "#fb9f3a"
             ],
             [
              0.8888888888888888,
              "#fdca26"
             ],
             [
              1,
              "#f0f921"
             ]
            ],
            "type": "surface"
           }
          ],
          "table": [
           {
            "cells": {
             "fill": {
              "color": "#EBF0F8"
             },
             "line": {
              "color": "white"
             }
            },
            "header": {
             "fill": {
              "color": "#C8D4E3"
             },
             "line": {
              "color": "white"
             }
            },
            "type": "table"
           }
          ]
         },
         "layout": {
          "annotationdefaults": {
           "arrowcolor": "#2a3f5f",
           "arrowhead": 0,
           "arrowwidth": 1
          },
          "autotypenumbers": "strict",
          "coloraxis": {
           "colorbar": {
            "outlinewidth": 0,
            "ticks": ""
           }
          },
          "colorscale": {
           "diverging": [
            [
             0,
             "#8e0152"
            ],
            [
             0.1,
             "#c51b7d"
            ],
            [
             0.2,
             "#de77ae"
            ],
            [
             0.3,
             "#f1b6da"
            ],
            [
             0.4,
             "#fde0ef"
            ],
            [
             0.5,
             "#f7f7f7"
            ],
            [
             0.6,
             "#e6f5d0"
            ],
            [
             0.7,
             "#b8e186"
            ],
            [
             0.8,
             "#7fbc41"
            ],
            [
             0.9,
             "#4d9221"
            ],
            [
             1,
             "#276419"
            ]
           ],
           "sequential": [
            [
             0,
             "#0d0887"
            ],
            [
             0.1111111111111111,
             "#46039f"
            ],
            [
             0.2222222222222222,
             "#7201a8"
            ],
            [
             0.3333333333333333,
             "#9c179e"
            ],
            [
             0.4444444444444444,
             "#bd3786"
            ],
            [
             0.5555555555555556,
             "#d8576b"
            ],
            [
             0.6666666666666666,
             "#ed7953"
            ],
            [
             0.7777777777777778,
             "#fb9f3a"
            ],
            [
             0.8888888888888888,
             "#fdca26"
            ],
            [
             1,
             "#f0f921"
            ]
           ],
           "sequentialminus": [
            [
             0,
             "#0d0887"
            ],
            [
             0.1111111111111111,
             "#46039f"
            ],
            [
             0.2222222222222222,
             "#7201a8"
            ],
            [
             0.3333333333333333,
             "#9c179e"
            ],
            [
             0.4444444444444444,
             "#bd3786"
            ],
            [
             0.5555555555555556,
             "#d8576b"
            ],
            [
             0.6666666666666666,
             "#ed7953"
            ],
            [
             0.7777777777777778,
             "#fb9f3a"
            ],
            [
             0.8888888888888888,
             "#fdca26"
            ],
            [
             1,
             "#f0f921"
            ]
           ]
          },
          "colorway": [
           "#636efa",
           "#EF553B",
           "#00cc96",
           "#ab63fa",
           "#FFA15A",
           "#19d3f3",
           "#FF6692",
           "#B6E880",
           "#FF97FF",
           "#FECB52"
          ],
          "font": {
           "color": "#2a3f5f"
          },
          "geo": {
           "bgcolor": "white",
           "lakecolor": "white",
           "landcolor": "#E5ECF6",
           "showlakes": true,
           "showland": true,
           "subunitcolor": "white"
          },
          "hoverlabel": {
           "align": "left"
          },
          "hovermode": "closest",
          "mapbox": {
           "style": "light"
          },
          "paper_bgcolor": "white",
          "plot_bgcolor": "#E5ECF6",
          "polar": {
           "angularaxis": {
            "gridcolor": "white",
            "linecolor": "white",
            "ticks": ""
           },
           "bgcolor": "#E5ECF6",
           "radialaxis": {
            "gridcolor": "white",
            "linecolor": "white",
            "ticks": ""
           }
          },
          "scene": {
           "xaxis": {
            "backgroundcolor": "#E5ECF6",
            "gridcolor": "white",
            "gridwidth": 2,
            "linecolor": "white",
            "showbackground": true,
            "ticks": "",
            "zerolinecolor": "white"
           },
           "yaxis": {
            "backgroundcolor": "#E5ECF6",
            "gridcolor": "white",
            "gridwidth": 2,
            "linecolor": "white",
            "showbackground": true,
            "ticks": "",
            "zerolinecolor": "white"
           },
           "zaxis": {
            "backgroundcolor": "#E5ECF6",
            "gridcolor": "white",
            "gridwidth": 2,
            "linecolor": "white",
            "showbackground": true,
            "ticks": "",
            "zerolinecolor": "white"
           }
          },
          "shapedefaults": {
           "line": {
            "color": "#2a3f5f"
           }
          },
          "ternary": {
           "aaxis": {
            "gridcolor": "white",
            "linecolor": "white",
            "ticks": ""
           },
           "baxis": {
            "gridcolor": "white",
            "linecolor": "white",
            "ticks": ""
           },
           "bgcolor": "#E5ECF6",
           "caxis": {
            "gridcolor": "white",
            "linecolor": "white",
            "ticks": ""
           }
          },
          "title": {
           "x": 0.05
          },
          "xaxis": {
           "automargin": true,
           "gridcolor": "white",
           "linecolor": "white",
           "ticks": "",
           "title": {
            "standoff": 15
           },
           "zerolinecolor": "white",
           "zerolinewidth": 2
          },
          "yaxis": {
           "automargin": true,
           "gridcolor": "white",
           "linecolor": "white",
           "ticks": "",
           "title": {
            "standoff": 15
           },
           "zerolinecolor": "white",
           "zerolinewidth": 2
          }
         }
        },
        "title": {
         "text": "Block Size Over Time by Network with 16-Slot Moving Average"
        },
        "width": 1000,
        "xaxis": {
         "gridcolor": "lightgray",
         "title": {
          "font": {
           "size": 14
          },
          "text": "Slot"
         }
        },
        "yaxis": {
         "gridcolor": "lightgray",
         "title": {
          "font": {
           "size": 14
          },
          "text": "Block Size (KB)"
         }
        }
       }
      }
     },
     "metadata": {},
     "output_type": "display_data"
    }
   ],
   "source": [
    "def plot_block_size_over_time(metrics, window_size=16):\n",
    "    \"\"\"\n",
    "    Create a scatter plot of block size over time (by slot) for each network, with a moving average.\n",
    "    \n",
    "    Args:\n",
    "        metrics (dict): Dictionary with network keys and metrics DataFrames\n",
    "        window_size (int): Size of the moving average window\n",
    "        \n",
    "    Returns:\n",
    "        plotly.graph_objects.Figure: The plotly figure\n",
    "    \"\"\"\n",
    "    # Create figure\n",
    "    fig = go.Figure()\n",
    "    \n",
    "    # Colors for each network\n",
    "    colors = {'devnet-5': 'green', 'devnet-6': 'blue', 'devnet-7': 'red'}\n",
    "    \n",
    "    # Create display labels for networks\n",
    "    network_labels = {network: config[\"networks\"][network][\"label\"] for network in metrics.keys()}\n",
    "    \n",
    "    # Add scatter plot for each network\n",
    "    for network, network_metrics in metrics.items():\n",
    "        # Sort metrics by slot\n",
    "        network_metrics = network_metrics.sort_values('slot')\n",
    "        \n",
    "        # Drop rows with missing data\n",
    "        df = network_metrics.dropna(subset=['block_total_bytes', 'slot'])\n",
    "        \n",
    "        # Convert block size to KB for better readability\n",
    "        block_sizes_kb = df['block_total_bytes'] / 1024\n",
    "        \n",
    "        # Calculate moving average\n",
    "        if len(df) >= window_size:\n",
    "            ma = block_sizes_kb.rolling(window=window_size).mean()\n",
    "        else:\n",
    "            ma = pd.Series([None] * len(block_sizes_kb))\n",
    "        \n",
    "        # Add scatter plot for raw data\n",
    "        fig.add_trace(go.Scatter(\n",
    "            x=df['slot'],\n",
    "            y=block_sizes_kb,\n",
    "            mode='markers',\n",
    "            name=f'{network_labels[network]} Raw',\n",
    "            marker=dict(\n",
    "                color=colors[network],\n",
    "                size=6,\n",
    "                opacity=0.5\n",
    "            ),\n",
    "            hovertemplate='Slot: %{x}<br>Block Size: %{y:.1f} KB'\n",
    "        ))\n",
    "        \n",
    "        # Add line for moving average\n",
    "        fig.add_trace(go.Scatter(\n",
    "            x=df['slot'],\n",
    "            y=ma,\n",
    "            mode='lines',\n",
    "            name=f'{network_labels[network]} {window_size}-Slot MA',\n",
    "            line=dict(\n",
    "                color=colors[network],\n",
    "                width=2\n",
    "            ),\n",
    "            hovertemplate='Slot: %{x}<br>Avg Block Size: %{y:.1f} KB'\n",
    "        ))\n",
    "    \n",
    "    # Update layout\n",
    "    fig.update_layout(\n",
    "        title=f\"Block Size Over Time by Network with {window_size}-Slot Moving Average\",\n",
    "        xaxis=dict(\n",
    "            title=\"Slot\",\n",
    "            title_font=dict(size=14),\n",
    "            gridcolor='lightgray'\n",
    "        ),\n",
    "        yaxis=dict(\n",
    "            title=\"Block Size (KB)\",\n",
    "            title_font=dict(size=14),\n",
    "            gridcolor='lightgray'\n",
    "        ),\n",
    "        legend=dict(x=0.01, y=0.99, bgcolor='rgba(255,255,255,0.8)'),\n",
    "        hovermode='closest',\n",
    "        plot_bgcolor='white',\n",
    "        height=600,\n",
    "        width=1000\n",
    "    )\n",
    "    \n",
    "    return fig\n",
    "\n",
    "# Create and display the block size over time plot\n",
    "fig = plot_block_size_over_time(metrics, window_size=16)\n",
    "fig.show()"
   ]
  }
 ],
 "metadata": {
  "kernelspec": {
   "display_name": "ldm",
   "language": "python",
   "name": "python3"
  },
  "language_info": {
   "codemirror_mode": {
    "name": "ipython",
    "version": 3
   },
   "file_extension": ".py",
   "mimetype": "text/x-python",
   "name": "python",
   "nbconvert_exporter": "python",
   "pygments_lexer": "ipython3",
   "version": "3.10.5"
  }
 },
 "nbformat": 4,
 "nbformat_minor": 4
}

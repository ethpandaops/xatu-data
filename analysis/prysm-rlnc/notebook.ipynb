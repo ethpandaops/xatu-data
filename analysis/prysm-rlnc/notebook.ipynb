{
 "cells": [
  {
   "cell_type": "markdown",
   "metadata": {},
   "source": [
    "# Prysm RLNC Block Arrivals Analysis\n",
    "\n",
    "This notebook analyzes the impact of Reed-Solomon Linear Network Coding (RLNC) implementation by Prysm on beacon block propagation times. We compare block arrival times between NFT-Devnet-2 (before RLNC) and NFT-Devnet-3 (after RLNC)."
   ]
  },
  {
   "cell_type": "code",
   "execution_count": 1,
   "metadata": {},
   "outputs": [
    {
     "name": "stderr",
     "output_type": "stream",
     "text": [
      "/Users/samcm/.pyenv/versions/anaconda3-2022.05/envs/ldm/lib/python3.10/site-packages/scipy/__init__.py:155: UserWarning: A NumPy version >=1.18.5 and <1.25.0 is required for this version of SciPy (detected version 1.26.4\n",
      "  warnings.warn(f\"A NumPy version >={np_minversion} and <{np_maxversion}\"\n"
     ]
    }
   ],
   "source": [
    "# Import necessary packages\n",
    "import sys\n",
    "import os\n",
    "import pandas as pd\n",
    "import numpy as np\n",
    "import matplotlib.pyplot as plt\n",
    "import plotly.express as px\n",
    "import plotly.graph_objects as go\n",
    "from plotly.subplots import make_subplots\n",
    "import seaborn as sns\n",
    "from sqlalchemy import create_engine, text\n",
    "from datetime import datetime, timedelta\n",
    "\n",
    "# Add scripts directory to path\n",
    "sys.path.append('./scripts')\n",
    "\n",
    "# Import custom modules\n",
    "from bootstrap import load_env, create_db_url, add_branding, process_config\n",
    "from clickhouse import ClickhouseClient\n",
    "from transforms import process_block_data, process_blob_data, calculate_arrival_metrics, compare_networks\n",
    "\n",
    "# Set plot style\n",
    "plt.style.use('seaborn-v0_8-whitegrid')\n",
    "sns.set_context(\"notebook\", font_scale=1.2)"
   ]
  },
  {
   "cell_type": "code",
   "execution_count": 2,
   "metadata": {},
   "outputs": [],
   "source": [
    "# Configuration\n",
    "config = {\n",
    "    \"before\": {\n",
    "        \"network\": \"nft-devnet-2\",\n",
    "        \"start_at_slot\": 0,\n",
    "        \"finish_at_slot\": 2000\n",
    "    },\n",
    "    \"after\": {\n",
    "        \"network\": \"nft-devnet-3\",\n",
    "        \"start_at_slot\": 0,\n",
    "        \"finish_at_slot\": 2000\n",
    "    }\n",
    "}\n",
    "\n",
    "# Validate and process the config\n",
    "config = process_config(config)\n",
    "\n",
    "# Load environment variables\n",
    "credentials = load_env()\n",
    "db_url = create_db_url(credentials)\n",
    "\n",
    "# Initialize Clickhouse client\n",
    "clickhouse = ClickhouseClient(db_url)"
   ]
  },
  {
   "cell_type": "markdown",
   "metadata": {},
   "source": [
    "## Data Collection\n",
    "\n",
    "Let's collect block arrival data from both networks."
   ]
  },
  {
   "cell_type": "code",
   "execution_count": 3,
   "metadata": {},
   "outputs": [
    {
     "name": "stdout",
     "output_type": "stream",
     "text": [
      "Fetching data for nft-devnet-2 (before RLNC)...\n",
      "Fetching data for nft-devnet-3 (after RLNC)...\n"
     ]
    }
   ],
   "source": [
    "# Fetch data for the \"before\" network (NFT-Devnet-2)\n",
    "print(f\"Fetching data for {config['before']['network']} (before RLNC)...\")\n",
    "\n",
    "before_block_data = clickhouse.fetch_block_arrival_times(\n",
    "    config['before']['network'], \n",
    "    config['before']['start_at_slot'], \n",
    "    config['before']['finish_at_slot']\n",
    ")\n",
    "\n",
    "before_head_data = clickhouse.fetch_head_arrival_times(\n",
    "    config['before']['network'], \n",
    "    config['before']['start_at_slot'], \n",
    "    config['before']['finish_at_slot']\n",
    ")\n",
    "\n",
    "before_blob_data = clickhouse.fetch_blob_data(\n",
    "    config['before']['network'], \n",
    "    config['before']['start_at_slot'], \n",
    "    config['before']['finish_at_slot']\n",
    ")\n",
    "\n",
    "# Fetch data for the \"after\" network (NFT-Devnet-3)\n",
    "print(f\"Fetching data for {config['after']['network']} (after RLNC)...\")\n",
    "\n",
    "after_block_data = clickhouse.fetch_block_arrival_times(\n",
    "    config['after']['network'], \n",
    "    config['after']['start_at_slot'], \n",
    "    config['after']['finish_at_slot']\n",
    ")\n",
    "\n",
    "after_head_data = clickhouse.fetch_head_arrival_times(\n",
    "    config['after']['network'], \n",
    "    config['after']['start_at_slot'], \n",
    "    config['after']['finish_at_slot']\n",
    ")\n",
    "\n",
    "after_blob_data = clickhouse.fetch_blob_data(\n",
    "    config['after']['network'], \n",
    "    config['after']['start_at_slot'], \n",
    "    config['after']['finish_at_slot']\n",
    ")"
   ]
  },
  {
   "cell_type": "markdown",
   "metadata": {},
   "source": [
    "## Data Processing\n",
    "\n",
    "Now let's process the data to calculate metrics for both networks."
   ]
  },
  {
   "cell_type": "code",
   "execution_count": 4,
   "metadata": {},
   "outputs": [
    {
     "name": "stdout",
     "output_type": "stream",
     "text": [
      "Dataset summary:\n",
      "Before RLNC (nft-devnet-2): 270 slots, 146 unique clients\n",
      "After RLNC (nft-devnet-3): 0 slots, 0 unique clients\n",
      "\n",
      "Overall improvement in arrival times:\n",
      "min: 2442.8ms → nanms (nanms improvement, nan%)\n",
      "p50: 2822.2ms → nanms (nanms improvement, nan%)\n",
      "p95: 3091.4ms → nanms (nanms improvement, nan%)\n"
     ]
    },
    {
     "name": "stderr",
     "output_type": "stream",
     "text": [
      "/var/folders/fq/bp58gxy12nd2b32pw1y8wy040000gn/T/ipykernel_7717/2574154737.py:24: FutureWarning: The behavior of DataFrame concatenation with empty or all-NA entries is deprecated. In a future version, this will no longer exclude empty or all-NA columns when determining the result dtypes. To retain the old behavior, exclude the relevant entries before the concat operation.\n",
      "  all_metrics = pd.concat([before_metrics, after_metrics], ignore_index=True)\n"
     ]
    }
   ],
   "source": [
    "# Process data for before network\n",
    "before_combined = process_block_data(\n",
    "    before_block_data, \n",
    "    before_head_data\n",
    ")\n",
    "\n",
    "before_blobs = process_blob_data(before_blob_data)\n",
    "before_metrics = calculate_arrival_metrics(before_combined, before_blobs)\n",
    "\n",
    "# Process data for after network\n",
    "after_combined = process_block_data(\n",
    "    after_block_data, \n",
    "    after_head_data\n",
    ")\n",
    "\n",
    "after_blobs = process_blob_data(after_blob_data)\n",
    "after_metrics = calculate_arrival_metrics(after_combined, after_blobs)\n",
    "\n",
    "# Add network label for visualization\n",
    "before_metrics['network'] = 'before_rlnc'\n",
    "after_metrics['network'] = 'after_rlnc'\n",
    "\n",
    "# Combine for easier comparison\n",
    "all_metrics = pd.concat([before_metrics, after_metrics], ignore_index=True)\n",
    "\n",
    "# Show summary statistics\n",
    "print(\"Dataset summary:\")\n",
    "print(f\"Before RLNC ({config['before']['network']}): {len(before_metrics)} slots, {before_combined['meta_client_name'].nunique()} unique clients\")\n",
    "print(f\"After RLNC ({config['after']['network']}): {len(after_metrics)} slots, {after_combined['meta_client_name'].nunique()} unique clients\")\n",
    "\n",
    "# Compare the networks\n",
    "comparison = compare_networks(before_metrics, after_metrics)\n",
    "\n",
    "# Show improvement for key metrics\n",
    "print(\"\\nOverall improvement in arrival times:\")\n",
    "for metric in ['min_arrival_time', 'p50_arrival_time', 'p95_arrival_time']:\n",
    "    before_avg = comparison[metric]['before']\n",
    "    after_avg = comparison[metric]['after']\n",
    "    diff = comparison[metric]['difference']\n",
    "    pct = comparison[metric]['improvement_percent']\n",
    "    \n",
    "    print(f\"{metric.replace('_arrival_time', '')}: {before_avg:.1f}ms → {after_avg:.1f}ms ({diff:.1f}ms improvement, {pct:.1f}%)\")"
   ]
  },
  {
   "cell_type": "markdown",
   "metadata": {},
   "source": [
    "## Visualization: Overall Block Arrival Time Comparison\n",
    "\n",
    "Let's create visualizations to compare the networks."
   ]
  },
  {
   "cell_type": "code",
   "execution_count": 5,
   "metadata": {},
   "outputs": [
    {
     "name": "stderr",
     "output_type": "stream",
     "text": [
      "/var/folders/fq/bp58gxy12nd2b32pw1y8wy040000gn/T/ipykernel_7717/593266323.py:17: FutureWarning: \n",
      "\n",
      "Passing `palette` without assigning `hue` is deprecated and will be removed in v0.14.0. Assign the `x` variable to `hue` and set `legend=False` for the same effect.\n",
      "\n",
      "  sns.boxplot(\n",
      "/var/folders/fq/bp58gxy12nd2b32pw1y8wy040000gn/T/ipykernel_7717/593266323.py:44: UserWarning: set_ticklabels() should only be used with a fixed number of ticks, i.e. after set_ticks() or using a FixedLocator.\n",
      "  ax.set_xticklabels([f'Before RLNC\\n({config[\"before\"][\"network\"]})',\n",
      "posx and posy should be finite values\n",
      "posx and posy should be finite values\n",
      "/var/folders/fq/bp58gxy12nd2b32pw1y8wy040000gn/T/ipykernel_7717/593266323.py:85: UserWarning: This figure includes Axes that are not compatible with tight_layout, so results might be incorrect.\n",
      "  plt.tight_layout()\n"
     ]
    },
    {
     "data": {
      "image/png": "[encoded data removed]",
      "text/plain": [
       "<Figure size 1200x900 with 2 Axes>"
      ]
     },
     "metadata": {},
     "output_type": "display_data"
    },
    {
     "name": "stderr",
     "output_type": "stream",
     "text": [
      "/var/folders/fq/bp58gxy12nd2b32pw1y8wy040000gn/T/ipykernel_7717/593266323.py:17: FutureWarning: \n",
      "\n",
      "Passing `palette` without assigning `hue` is deprecated and will be removed in v0.14.0. Assign the `x` variable to `hue` and set `legend=False` for the same effect.\n",
      "\n",
      "  sns.boxplot(\n",
      "/var/folders/fq/bp58gxy12nd2b32pw1y8wy040000gn/T/ipykernel_7717/593266323.py:44: UserWarning: set_ticklabels() should only be used with a fixed number of ticks, i.e. after set_ticks() or using a FixedLocator.\n",
      "  ax.set_xticklabels([f'Before RLNC\\n({config[\"before\"][\"network\"]})',\n",
      "posx and posy should be finite values\n",
      "posx and posy should be finite values\n",
      "/var/folders/fq/bp58gxy12nd2b32pw1y8wy040000gn/T/ipykernel_7717/593266323.py:85: UserWarning: This figure includes Axes that are not compatible with tight_layout, so results might be incorrect.\n",
      "  plt.tight_layout()\n"
     ]
    },
    {
     "data": {
      "image/png": "[encoded data removed]",
      "text/plain": [
       "<Figure size 1200x900 with 2 Axes>"
      ]
     },
     "metadata": {},
     "output_type": "display_data"
    },
    {
     "name": "stderr",
     "output_type": "stream",
     "text": [
      "/var/folders/fq/bp58gxy12nd2b32pw1y8wy040000gn/T/ipykernel_7717/593266323.py:17: FutureWarning: \n",
      "\n",
      "Passing `palette` without assigning `hue` is deprecated and will be removed in v0.14.0. Assign the `x` variable to `hue` and set `legend=False` for the same effect.\n",
      "\n",
      "  sns.boxplot(\n",
      "/var/folders/fq/bp58gxy12nd2b32pw1y8wy040000gn/T/ipykernel_7717/593266323.py:44: UserWarning: set_ticklabels() should only be used with a fixed number of ticks, i.e. after set_ticks() or using a FixedLocator.\n",
      "  ax.set_xticklabels([f'Before RLNC\\n({config[\"before\"][\"network\"]})',\n",
      "posx and posy should be finite values\n",
      "posx and posy should be finite values\n",
      "/var/folders/fq/bp58gxy12nd2b32pw1y8wy040000gn/T/ipykernel_7717/593266323.py:85: UserWarning: This figure includes Axes that are not compatible with tight_layout, so results might be incorrect.\n",
      "  plt.tight_layout()\n"
     ]
    },
    {
     "data": {
      "image/png": "[encoded data removed]",
      "text/plain": [
       "<Figure size 1200x900 with 2 Axes>"
      ]
     },
     "metadata": {},
     "output_type": "display_data"
    },
    {
     "name": "stderr",
     "output_type": "stream",
     "text": [
      "/var/folders/fq/bp58gxy12nd2b32pw1y8wy040000gn/T/ipykernel_7717/593266323.py:17: FutureWarning: \n",
      "\n",
      "Passing `palette` without assigning `hue` is deprecated and will be removed in v0.14.0. Assign the `x` variable to `hue` and set `legend=False` for the same effect.\n",
      "\n",
      "  sns.boxplot(\n",
      "/var/folders/fq/bp58gxy12nd2b32pw1y8wy040000gn/T/ipykernel_7717/593266323.py:44: UserWarning: set_ticklabels() should only be used with a fixed number of ticks, i.e. after set_ticks() or using a FixedLocator.\n",
      "  ax.set_xticklabels([f'Before RLNC\\n({config[\"before\"][\"network\"]})',\n",
      "posx and posy should be finite values\n",
      "posx and posy should be finite values\n",
      "/var/folders/fq/bp58gxy12nd2b32pw1y8wy040000gn/T/ipykernel_7717/593266323.py:85: UserWarning: This figure includes Axes that are not compatible with tight_layout, so results might be incorrect.\n",
      "  plt.tight_layout()\n"
     ]
    },
    {
     "data": {
      "image/png": "[encoded data removed]",
      "text/plain": [
       "<Figure size 1200x900 with 2 Axes>"
      ]
     },
     "metadata": {},
     "output_type": "display_data"
    }
   ],
   "source": [
    "def create_boxplot(metrics_df, metric='p50_arrival_time', title=None, subtitle=None):\n",
    "    \"\"\"\n",
    "    Create a box plot comparing before and after networks for a specified metric.\n",
    "    \n",
    "    Args:\n",
    "        metrics_df (DataFrame): Combined metrics from both networks\n",
    "        metric (str): The metric to plot\n",
    "        title (str, optional): Title for the plot\n",
    "        subtitle (str, optional): Subtitle for the plot\n",
    "        \n",
    "    Returns:\n",
    "        matplotlib.figure.Figure: The figure with the plot\n",
    "    \"\"\"\n",
    "    fig, ax = plt.subplots(figsize=(12, 8))\n",
    "    \n",
    "    # Create box plot\n",
    "    sns.boxplot(\n",
    "        x='network', \n",
    "        y=metric, \n",
    "        data=metrics_df,\n",
    "        palette={'before_rlnc': 'skyblue', 'after_rlnc': 'lightgreen'},\n",
    "        ax=ax\n",
    "    )\n",
    "    \n",
    "    # Add individual data points\n",
    "    sns.stripplot(\n",
    "        x='network', \n",
    "        y=metric, \n",
    "        data=metrics_df,\n",
    "        color='gray',\n",
    "        alpha=0.4,\n",
    "        jitter=True,\n",
    "        ax=ax\n",
    "    )\n",
    "    \n",
    "    # Set axis labels and title\n",
    "    ax.set_xlabel('Network', fontsize=14)\n",
    "    ax.set_ylabel(f'{metric.replace(\"_arrival_time\", \"\")} Block Arrival Time (ms)', fontsize=14)\n",
    "    \n",
    "    if title:\n",
    "        ax.set_title(title, fontsize=16, pad=20)\n",
    "    \n",
    "    # Set x-axis labels\n",
    "    ax.set_xticklabels([f'Before RLNC\\n({config[\"before\"][\"network\"]})', \n",
    "                         f'After RLNC\\n({config[\"after\"][\"network\"]})']\n",
    "                      )\n",
    "    \n",
    "    # Add grid for readability\n",
    "    ax.grid(True, axis='y', alpha=0.3)\n",
    "    \n",
    "    # Add average line\n",
    "    before_avg = metrics_df[metrics_df['network'] == 'before_rlnc'][metric].mean()\n",
    "    after_avg = metrics_df[metrics_df['network'] == 'after_rlnc'][metric].mean()\n",
    "    \n",
    "    ax.axhline(before_avg, color='blue', linestyle='--', alpha=0.5, xmin=0, xmax=0.25)\n",
    "    ax.axhline(after_avg, color='green', linestyle='--', alpha=0.5, xmin=0.75, xmax=1)\n",
    "    \n",
    "    # Add text for averages\n",
    "    ax.text(0, before_avg, f'Mean: {before_avg:.1f}ms', \n",
    "            ha='right', va='bottom', color='blue', fontweight='bold')\n",
    "    ax.text(1, after_avg, f'Mean: {after_avg:.1f}ms', \n",
    "            ha='left', va='bottom', color='green', fontweight='bold')\n",
    "    \n",
    "    # Add improvement percentage\n",
    "    if before_avg > 0:\n",
    "        improvement_pct = (before_avg - after_avg) / before_avg * 100\n",
    "        improvement_text = f'Improvement: {improvement_pct:.1f}%'\n",
    "        ax.text(0.5, (before_avg + after_avg) / 2, improvement_text,\n",
    "                ha='center', va='center', fontsize=14, fontweight='bold',\n",
    "                bbox=dict(facecolor='white', alpha=0.8, boxstyle='round,pad=0.5'))\n",
    "    \n",
    "    # Add branding if title and subtitle are provided\n",
    "    if title and subtitle:\n",
    "        fig = add_branding(fig, title, subtitle)\n",
    "    \n",
    "    return fig\n",
    "\n",
    "# Create box plots for different metrics\n",
    "metrics_to_plot = ['min_arrival_time', 'p05_arrival_time', 'p50_arrival_time', 'p95_arrival_time']\n",
    "for metric in metrics_to_plot:\n",
    "    title = f\"{metric.replace('_arrival_time', '').title()} Block Arrival Time Comparison\"\n",
    "    subtitle = \"Reed-Solomon Linear Network Coding (RLNC) Impact\"\n",
    "    \n",
    "    fig = create_boxplot(all_metrics, metric, title, subtitle)\n",
    "    plt.tight_layout()\n",
    "    plt.show()"
   ]
  },
  {
   "cell_type": "markdown",
   "metadata": {},
   "source": [
    "## Visualization: Time Series Analysis\n",
    "\n",
    "Let's plot the arrival times over time to see any patterns."
   ]
  },
  {
   "cell_type": "code",
   "execution_count": 6,
   "metadata": {},
   "outputs": [
    {
     "data": {
      "application/vnd.plotly.v1+json": {
       "config": {
        "plotlyServerURL": "https://plot.ly"
       },
       "data": [
        {
         "hovertemplate": "Slot: %{x}<br>Arrival Time: %{y:.1f}ms",
         "marker": {
          "color": "royalblue",
          "opacity": 0.5,
          "size": 5
         },
         "mode": "markers",
         "name": "Before RLNC (nft-devnet-2)",
         "type": "scatter",
         "x": [
          513,
          514,
          515,
          516,
          517,
          518,
          519,
          520,
          521,
          522,
          523,
          524,
          525,
          526,
          527,
          528,
          529,
          530,
          531,
          532,
          533,
          534,
          535,
          536,
          537,
          538,
          539,
          540,
          541,
          542,
          543,
          544,
          545,
          546,
          547,
          548,
          549,
          550,
          551,
          552,
          553,
          554,
          555,
          556,
          557,
          558,
          559,
          560,
          561,
          562,
          563,
          564,
          565,
          566,
          567,
          568,
          569,
          570,
          571,
          572,
          573,
          574,
          575,
          576,
          577,
          578,
          579,
          580,
          581,
          582,
          583,
          584,
          585,
          586,
          587,
          588,
          589,
          590,
          591,
          592,
          593,
          594,
          595,
          596,
          597,
          598,
          599,
          600,
          601,
          602,
          603,
          604,
          605,
          606,
          607,
          608,
          609,
          610,
          611,
          612,
          613,
          614,
          615,
          617,
          618,
          619,
          620,
          621,
          622,
          623,
          624,
          625,
          626,
          627,
          628,
          629,
          630,
          631,
          632,
          633,
          634,
          635,
          636,
          637,
          638,
          639,
          640,
          641,
          642,
          643,
          644,
          645,
          646,
          647,
          648,
          649,
          650,
          651,
          652,
          653,
          654,
          655,
          656,
          657,
          658,
          659,
          660,
          661,
          662,
          663,
          664,
          665,
          666,
          667,
          668,
          669,
          670,
          671,
          672,
          673,
          674,
          675,
          676,
          677,
          678,
          679,
          680,
          681,
          682,
          683,
          684,
          685,
          686,
          687,
          688,
          689,
          690,
          691,
          692,
          693,
          694,
          695,
          696,
          697,
          698,
          699,
          700,
          701,
          702,
          703,
          704,
          705,
          706,
          707,
          708,
          709,
          710,
          711,
          712,
          713,
          714,
          715,
          716,
          717,
          718,
          719,
          720,
          721,
          722,
          723,
          724,
          725,
          726,
          727,
          728,
          729,
          730,
          731,
          732,
          733,
          734,
          735,
          736,
          737,
          738,
          739,
          740,
          741,
          742,
          743,
          744,
          745,
          746,
          747,
          748,
          749,
          750,
          751,
          752,
          753,
          754,
          755,
          756,
          757,
          758,
          759,
          760,
          761,
          762,
          763,
          764,
          765,
          766,
          767,
          768,
          769,
          770,
          771,
          772,
          773,
          774,
          775,
          776,
          777,
          778,
          779,
          780,
          781,
          782,
          783
         ],
         "y": [
          3015,
          2671,
          2611,
          2599,
          2683,
          2716,
          2588,
          2696,
          2779,
          2592,
          2666,
          2776,
          2662,
          2745,
          2714,
          2619,
          2678,
          2661,
          2728,
          2680,
          2611,
          2585,
          2686,
          2657,
          2728,
          2676,
          2706,
          2662,
          2664,
          2602,
          2716,
          2677,
          2660,
          2718,
          2618,
          2655,
          2651,
          2628,
          2560,
          2669,
          2635,
          2629,
          2675,
          2691,
          2633,
          2609,
          2644,
          2707,
          2653,
          2661,
          2579,
          2621,
          2717,
          2671,
          2652,
          2720,
          2609,
          2644,
          2638,
          2915,
          2616,
          2689,
          2615,
          2673,
          2637,
          2630,
          2637,
          2583,
          2590,
          2690,
          2623,
          2615,
          2659,
          2611,
          2581,
          2635,
          2635,
          2672,
          2700,
          2611,
          2685,
          2569,
          2674,
          2690,
          2695,
          2654,
          2559,
          2628,
          2542,
          2665,
          2698,
          2574,
          2681,
          2645,
          2672,
          2652,
          2621,
          2622,
          2650,
          2615,
          2627,
          2609,
          2676,
          2832,
          2794,
          2584,
          2636,
          2733,
          2658,
          2644,
          2589,
          2708,
          2673,
          2650,
          2632,
          2638,
          2753,
          2576,
          2645,
          2723,
          2680,
          2681,
          2683,
          2649,
          2659,
          2594,
          2651,
          2562,
          2636,
          2590,
          2572,
          2762,
          2648,
          2629,
          2598,
          2557,
          2642,
          2629,
          2667,
          2658,
          2701,
          2727,
          2613,
          2630,
          2660,
          2697,
          2692,
          2278,
          2268,
          2206,
          2210,
          2264,
          2221,
          2252,
          2199,
          2138,
          2288,
          2142,
          2217,
          2126,
          2276,
          2163,
          2231,
          2148,
          2216,
          2206,
          2119,
          2232,
          2126,
          2233,
          2150,
          2231,
          2134,
          2214,
          2092,
          2249,
          2134,
          2219,
          2112,
          2214,
          2259,
          2132,
          2212,
          2163,
          2199,
          2162,
          2212,
          2138,
          2208,
          2117,
          2232,
          2125,
          2222,
          2120,
          2231,
          2154,
          2260,
          2247,
          2145,
          2214,
          2114,
          2215,
          2156,
          2216,
          2133,
          2228,
          2135,
          2244,
          2134,
          2231,
          2153,
          2270,
          2255,
          2131,
          2250,
          2151,
          2232,
          2127,
          2130,
          2117,
          2177,
          2234,
          2178,
          2208,
          2142,
          2232,
          2200,
          2133,
          2239,
          2145,
          2203,
          2129,
          2297,
          2131,
          2231,
          2126,
          2252,
          2269,
          2153,
          2233,
          2222,
          2230,
          2137,
          2215,
          2157,
          2239,
          2148,
          2273,
          2123,
          2237,
          2197,
          2153,
          2233,
          2121,
          2237,
          2144,
          2174,
          2150,
          2172,
          2130,
          2164,
          2153,
          2148,
          2139,
          2155,
          2159,
          2152,
          2115,
          2103,
          2134
         ]
        },
        {
         "hovertemplate": "Slot: %{x}<br>Arrival Time: %{y:.1f}ms",
         "marker": {
          "color": "green",
          "opacity": 0.5,
          "size": 5
         },
         "mode": "markers",
         "name": "After RLNC (nft-devnet-3)",
         "type": "scatter",
         "x": [],
         "y": []
        },
        {
         "hovertemplate": "Slot: %{x}<br>Rolling Avg: %{y:.1f}ms",
         "line": {
          "color": "navy",
          "width": 3
         },
         "mode": "lines",
         "name": "Before RLNC Rolling Avg (100 slots)",
         "type": "scatter",
         "x": [
          513,
          514,
          515,
          516,
          517,
          518,
          519,
          520,
          521,
          522,
          523,
          524,
          525,
          526,
          527,
          528,
          529,
          530,
          531,
          532,
          533,
          534,
          535,
          536,
          537,
          538,
          539,
          540,
          541,
          542,
          543,
          544,
          545,
          546,
          547,
          548,
          549,
          550,
          551,
          552,
          553,
          554,
          555,
          556,
          557,
          558,
          559,
          560,
          561,
          562,
          563,
          564,
          565,
          566,
          567,
          568,
          569,
          570,
          571,
          572,
          573,
          574,
          575,
          576,
          577,
          578,
          579,
          580,
          581,
          582,
          583,
          584,
          585,
          586,
          587,
          588,
          589,
          590,
          591,
          592,
          593,
          594,
          595,
          596,
          597,
          598,
          599,
          600,
          601,
          602,
          603,
          604,
          605,
          606,
          607,
          608,
          609,
          610,
          611,
          612,
          613,
          614,
          615,
          617,
          618,
          619,
          620,
          621,
          622,
          623,
          624,
          625,
          626,
          627,
          628,
          629,
          630,
          631,
          632,
          633,
          634,
          635,
          636,
          637,
          638,
          639,
          640,
          641,
          642,
          643,
          644,
          645,
          646,
          647,
          648,
          649,
          650,
          651,
          652,
          653,
          654,
          655,
          656,
          657,
          658,
          659,
          660,
          661,
          662,
          663,
          664,
          665,
          666,
          667,
          668,
          669,
          670,
          671,
          672,
          673,
          674,
          675,
          676,
          677,
          678,
          679,
          680,
          681,
          682,
          683,
          684,
          685,
          686,
          687,
          688,
          689,
          690,
          691,
          692,
          693,
          694,
          695,
          696,
          697,
          698,
          699,
          700,
          701,
          702,
          703,
          704,
          705,
          706,
          707,
          708,
          709,
          710,
          711,
          712,
          713,
          714,
          715,
          716,
          717,
          718,
          719,
          720,
          721,
          722,
          723,
          724,
          725,
          726,
          727,
          728,
          729,
          730,
          731,
          732,
          733,
          734,
          735,
          736,
          737,
          738,
          739,
          740,
          741,
          742,
          743,
          744,
          745,
          746,
          747,
          748,
          749,
          750,
          751,
          752,
          753,
          754,
          755,
          756,
          757,
          758,
          759,
          760,
          761,
          762,
          763,
          764,
          765,
          766,
          767,
          768,
          769,
          770,
          771,
          772,
          773,
          774,
          775,
          776,
          777,
          778,
          779,
          780,
          781,
          782,
          783
         ],
         "y": [
          3015,
          2843,
          2765.6666666666665,
          2724,
          2715.8,
          2715.8333333333335,
          2697.5714285714284,
          2697.375,
          2706.4444444444443,
          2695,
          2692.3636363636365,
          2699.3333333333335,
          2696.4615384615386,
          2699.9285714285716,
          2700.866666666667,
          2695.75,
          2694.705882352941,
          2692.8333333333335,
          2694.684210526316,
          2693.95,
          2690,
          2685.2272727272725,
          2685.2608695652175,
          2684.0833333333335,
          2685.84,
          2685.4615384615386,
          2686.222222222222,
          2685.3571428571427,
          2684.6206896551726,
          2681.866666666667,
          2682.967741935484,
          2682.78125,
          2682.090909090909,
          2683.1470588235293,
          2681.285714285714,
          2680.5555555555557,
          2679.7567567567567,
          2678.3947368421054,
          2675.358974358974,
          2675.2,
          2674.2195121951218,
          2673.1428571428573,
          2673.186046511628,
          2673.590909090909,
          2672.688888888889,
          2671.304347826087,
          2670.723404255319,
          2671.4791666666665,
          2671.1020408163267,
          2670.9,
          2669.098039215686,
          2668.173076923077,
          2669.0943396226417,
          2669.1296296296296,
          2668.818181818182,
          2669.7321428571427,
          2668.6666666666665,
          2668.2413793103447,
          2667.728813559322,
          2671.85,
          2670.934426229508,
          2671.2258064516127,
          2670.3333333333335,
          2670.375,
          2669.8615384615387,
          2669.257575757576,
          2668.776119402985,
          2667.514705882353,
          2666.391304347826,
          2666.7285714285713,
          2666.112676056338,
          2665.402777777778,
          2665.3150684931506,
          2664.5810810810813,
          2663.4666666666667,
          2663.092105263158,
          2662.7272727272725,
          2662.846153846154,
          2663.3164556962024,
          2662.6625,
          2662.938271604938,
          2661.7926829268295,
          2661.9397590361446,
          2662.2738095238096,
          2662.6588235294116,
          2662.5581395348836,
          2661.367816091954,
          2660.9886363636365,
          2659.6516853932585,
          2659.711111111111,
          2660.131868131868,
          2659.195652173913,
          2659.430107526882,
          2659.276595744681,
          2659.4105263157894,
          2659.3333333333335,
          2658.938144329897,
          2658.561224489796,
          2658.4747474747473,
          2658.04,
          2654.16,
          2653.54,
          2654.19,
          2656.52,
          2657.63,
          2656.31,
          2656.79,
          2657.16,
          2655.95,
          2656.47,
          2655.7,
          2655.02,
          2655.13,
          2654.18,
          2653.36,
          2653.55,
          2654.3,
          2653.45,
          2652.62,
          2653.05,
          2653.74,
          2654.7,
          2654.67,
          2654.59,
          2653.9,
          2653.08,
          2652.53,
          2651.53,
          2651.25,
          2651.13,
          2649.69,
          2650.54,
          2650.42,
          2649.53,
          2649.33,
          2648.35,
          2648.26,
          2648.27,
          2649.34,
          2649.23,
          2649.89,
          2650.87,
          2650.25,
          2649.64,
          2649.91,
          2650.79,
          2651.27,
          2646.98,
          2643.13,
          2638.58,
          2634.89,
          2631.32,
          2626.36,
          2622.17,
          2617.64,
          2611.82,
          2608.61,
          2603.59,
          2599.38,
          2591.49,
          2588.09,
          2582.83,
          2578.99,
          2573.74,
          2569.53,
          2565.29,
          2560.11,
          2556.6,
          2551.96,
          2547.39,
          2542.66,
          2538.82,
          2533.57,
          2529.6,
          2524.71,
          2520.85,
          2515.84,
          2511.31,
          2505.43,
          2501.46,
          2497.2,
          2492.83,
          2488.21,
          2482.94,
          2477.98,
          2473.06,
          2469.59,
          2464.69,
          2461.35,
          2455.87,
          2451.21,
          2446.72,
          2442.13,
          2436.88,
          2432.47,
          2427.49,
          2423.88,
          2420.13,
          2415.08,
          2411.07,
          2405.94,
          2402,
          2396.8,
          2390.64,
          2384.03,
          2380.47,
          2375.46,
          2370.57,
          2365.33,
          2361.2,
          2356.84,
          2352.46,
          2348.28,
          2343.09,
          2339.27,
          2334.4,
          2329.19,
          2324.7,
          2319.55,
          2313.49,
          2308.46,
          2303.99,
          2298.94,
          2294.53,
          2289.36,
          2285.74,
          2281.23,
          2276.94,
          2272.97,
          2268.52,
          2264.83,
          2258.5,
          2254.99,
          2250.01,
          2246.34,
          2242.03,
          2238.13,
          2234.53,
          2229.39,
          2225.14,
          2220.35,
          2215.38,
          2210.62,
          2206.47,
          2201.44,
          2196.86,
          2191.42,
          2191.37,
          2189.92,
          2190.23,
          2190.1,
          2188.99,
          2189.11,
          2187.8,
          2188.18,
          2188.24,
          2187.1,
          2187.18,
          2186.73,
          2186.77,
          2185.65,
          2185.55,
          2184.72,
          2184.63,
          2184.02,
          2183.55,
          2183.88,
          2182.71,
          2182.48,
          2181.49
         ]
        },
        {
         "hovertemplate": "Slot: %{x}<br>Rolling Avg: %{y:.1f}ms",
         "line": {
          "color": "darkgreen",
          "width": 3
         },
         "mode": "lines",
         "name": "After RLNC Rolling Avg (100 slots)",
         "type": "scatter",
         "x": [],
         "y": []
        },
        {
         "hoverinfo": "name",
         "line": {
          "color": "navy",
          "dash": "dash",
          "width": 2
         },
         "mode": "lines",
         "name": "Before RLNC Average: 2442.8ms",
         "type": "scatter",
         "x": [
          513,
          783
         ],
         "y": [
          2442.811111111111,
          2442.811111111111
         ]
        },
        {
         "hoverinfo": "name",
         "line": {
          "color": "darkgreen",
          "dash": "dash",
          "width": 2
         },
         "mode": "lines",
         "name": "After RLNC Average: nanms",
         "type": "scatter",
         "x": [
          null,
          null
         ],
         "y": [
          null,
          null
         ]
        }
       ],
       "layout": {
        "annotations": [
         {
          "bgcolor": "rgba(255,255,255,0.8)",
          "bordercolor": "rgba(0,0,0,0.5)",
          "borderpad": 4,
          "borderwidth": 1,
          "font": {
           "color": "black",
           "size": 16
          },
          "showarrow": false,
          "text": "Overall Improvement: nan%",
          "x": 0.5,
          "xref": "paper",
          "y": 1.05,
          "yref": "paper"
         }
        ],
        "height": 600,
        "hovermode": "closest",
        "legend": {
         "bgcolor": "rgba(255,255,255,0.8)",
         "x": 0.01,
         "y": 0.99
        },
        "plot_bgcolor": "white",
        "template": {
         "data": {
          "bar": [
           {
            "error_x": {
             "color": "#2a3f5f"
            },
            "error_y": {
             "color": "#2a3f5f"
            },
            "marker": {
             "line": {
              "color": "#E5ECF6",
              "width": 0.5
             },
             "pattern": {
              "fillmode": "overlay",
              "size": 10,
              "solidity": 0.2
             }
            },
            "type": "bar"
           }
          ],
          "barpolar": [
           {
            "marker": {
             "line": {
              "color": "#E5ECF6",
              "width": 0.5
             },
             "pattern": {
              "fillmode": "overlay",
              "size": 10,
              "solidity": 0.2
             }
            },
            "type": "barpolar"
           }
          ],
          "carpet": [
           {
            "aaxis": {
             "endlinecolor": "#2a3f5f",
             "gridcolor": "white",
             "linecolor": "white",
             "minorgridcolor": "white",
             "startlinecolor": "#2a3f5f"
            },
            "baxis": {
             "endlinecolor": "#2a3f5f",
             "gridcolor": "white",
             "linecolor": "white",
             "minorgridcolor": "white",
             "startlinecolor": "#2a3f5f"
            },
            "type": "carpet"
           }
          ],
          "choropleth": [
           {
            "colorbar": {
             "outlinewidth": 0,
             "ticks": ""
            },
            "type": "choropleth"
           }
          ],
          "contour": [
           {
            "colorbar": {
             "outlinewidth": 0,
             "ticks": ""
            },
            "colorscale": [
             [
              0,
              "#0d0887"
             ],
             [
              0.1111111111111111,
              "#46039f"
             ],
             [
              0.2222222222222222,
              "#7201a8"
             ],
             [
              0.3333333333333333,
              "#9c179e"
             ],
             [
              0.4444444444444444,
              "#bd3786"
             ],
             [
              0.5555555555555556,
              "#d8576b"
             ],
             [
              0.6666666666666666,
              "#ed7953"
             ],
             [
              0.7777777777777778,
              "#fb9f3a"
             ],
             [
              0.8888888888888888,
              "#fdca26"
             ],
             [
              1,
              "#f0f921"
             ]
            ],
            "type": "contour"
           }
          ],
          "contourcarpet": [
           {
            "colorbar": {
             "outlinewidth": 0,
             "ticks": ""
            },
            "type": "contourcarpet"
           }
          ],
          "heatmap": [
           {
            "colorbar": {
             "outlinewidth": 0,
             "ticks": ""
            },
            "colorscale": [
             [
              0,
              "#0d0887"
             ],
             [
              0.1111111111111111,
              "#46039f"
             ],
             [
              0.2222222222222222,
              "#7201a8"
             ],
             [
              0.3333333333333333,
              "#9c179e"
             ],
             [
              0.4444444444444444,
              "#bd3786"
             ],
             [
              0.5555555555555556,
              "#d8576b"
             ],
             [
              0.6666666666666666,
              "#ed7953"
             ],
             [
              0.7777777777777778,
              "#fb9f3a"
             ],
             [
              0.8888888888888888,
              "#fdca26"
             ],
             [
              1,
              "#f0f921"
             ]
            ],
            "type": "heatmap"
           }
          ],
          "heatmapgl": [
           {
            "colorbar": {
             "outlinewidth": 0,
             "ticks": ""
            },
            "colorscale": [
             [
              0,
              "#0d0887"
             ],
             [
              0.1111111111111111,
              "#46039f"
             ],
             [
              0.2222222222222222,
              "#7201a8"
             ],
             [
              0.3333333333333333,
              "#9c179e"
             ],
             [
              0.4444444444444444,
              "#bd3786"
             ],
             [
              0.5555555555555556,
              "#d8576b"
             ],
             [
              0.6666666666666666,
              "#ed7953"
             ],
             [
              0.7777777777777778,
              "#fb9f3a"
             ],
             [
              0.8888888888888888,
              "#fdca26"
             ],
             [
              1,
              "#f0f921"
             ]
            ],
            "type": "heatmapgl"
           }
          ],
          "histogram": [
           {
            "marker": {
             "pattern": {
              "fillmode": "overlay",
              "size": 10,
              "solidity": 0.2
             }
            },
            "type": "histogram"
           }
          ],
          "histogram2d": [
           {
            "colorbar": {
             "outlinewidth": 0,
             "ticks": ""
            },
            "colorscale": [
             [
              0,
              "#0d0887"
             ],
             [
              0.1111111111111111,
              "#46039f"
             ],
             [
              0.2222222222222222,
              "#7201a8"
             ],
             [
              0.3333333333333333,
              "#9c179e"
             ],
             [
              0.4444444444444444,
              "#bd3786"
             ],
             [
              0.5555555555555556,
              "#d8576b"
             ],
             [
              0.6666666666666666,
              "#ed7953"
             ],
             [
              0.7777777777777778,
              "#fb9f3a"
             ],
             [
              0.8888888888888888,
              "#fdca26"
             ],
             [
              1,
              "#f0f921"
             ]
            ],
            "type": "histogram2d"
           }
          ],
          "histogram2dcontour": [
           {
            "colorbar": {
             "outlinewidth": 0,
             "ticks": ""
            },
            "colorscale": [
             [
              0,
              "#0d0887"
             ],
             [
              0.1111111111111111,
              "#46039f"
             ],
             [
              0.2222222222222222,
              "#7201a8"
             ],
             [
              0.3333333333333333,
              "#9c179e"
             ],
             [
              0.4444444444444444,
              "#bd3786"
             ],
             [
              0.5555555555555556,
              "#d8576b"
             ],
             [
              0.6666666666666666,
              "#ed7953"
             ],
             [
              0.7777777777777778,
              "#fb9f3a"
             ],
             [
              0.8888888888888888,
              "#fdca26"
             ],
             [
              1,
              "#f0f921"
             ]
            ],
            "type": "histogram2dcontour"
           }
          ],
          "mesh3d": [
           {
            "colorbar": {
             "outlinewidth": 0,
             "ticks": ""
            },
            "type": "mesh3d"
           }
          ],
          "parcoords": [
           {
            "line": {
             "colorbar": {
              "outlinewidth": 0,
              "ticks": ""
             }
            },
            "type": "parcoords"
           }
          ],
          "pie": [
           {
            "automargin": true,
            "type": "pie"
           }
          ],
          "scatter": [
           {
            "fillpattern": {
             "fillmode": "overlay",
             "size": 10,
             "solidity": 0.2
            },
            "type": "scatter"
           }
          ],
          "scatter3d": [
           {
            "line": {
             "colorbar": {
              "outlinewidth": 0,
              "ticks": ""
             }
            },
            "marker": {
             "colorbar": {
              "outlinewidth": 0,
              "ticks": ""
             }
            },
            "type": "scatter3d"
           }
          ],
          "scattercarpet": [
           {
            "marker": {
             "colorbar": {
              "outlinewidth": 0,
              "ticks": ""
             }
            },
            "type": "scattercarpet"
           }
          ],
          "scattergeo": [
           {
            "marker": {
             "colorbar": {
              "outlinewidth": 0,
              "ticks": ""
             }
            },
            "type": "scattergeo"
           }
          ],
          "scattergl": [
           {
            "marker": {
             "colorbar": {
              "outlinewidth": 0,
              "ticks": ""
             }
            },
            "type": "scattergl"
           }
          ],
          "scattermapbox": [
           {
            "marker": {
             "colorbar": {
              "outlinewidth": 0,
              "ticks": ""
             }
            },
            "type": "scattermapbox"
           }
          ],
          "scatterpolar": [
           {
            "marker": {
             "colorbar": {
              "outlinewidth": 0,
              "ticks": ""
             }
            },
            "type": "scatterpolar"
           }
          ],
          "scatterpolargl": [
           {
            "marker": {
             "colorbar": {
              "outlinewidth": 0,
              "ticks": ""
             }
            },
            "type": "scatterpolargl"
           }
          ],
          "scatterternary": [
           {
            "marker": {
             "colorbar": {
              "outlinewidth": 0,
              "ticks": ""
             }
            },
            "type": "scatterternary"
           }
          ],
          "surface": [
           {
            "colorbar": {
             "outlinewidth": 0,
             "ticks": ""
            },
            "colorscale": [
             [
              0,
              "#0d0887"
             ],
             [
              0.1111111111111111,
              "#46039f"
             ],
             [
              0.2222222222222222,
              "#7201a8"
             ],
             [
              0.3333333333333333,
              "#9c179e"
             ],
             [
              0.4444444444444444,
              "#bd3786"
             ],
             [
              0.5555555555555556,
              "#d8576b"
             ],
             [
              0.6666666666666666,
              "#ed7953"
             ],
             [
              0.7777777777777778,
              "#fb9f3a"
             ],
             [
              0.8888888888888888,
              "#fdca26"
             ],
             [
              1,
              "#f0f921"
             ]
            ],
            "type": "surface"
           }
          ],
          "table": [
           {
            "cells": {
             "fill": {
              "color": "#EBF0F8"
             },
             "line": {
              "color": "white"
             }
            },
            "header": {
             "fill": {
              "color": "#C8D4E3"
             },
             "line": {
              "color": "white"
             }
            },
            "type": "table"
           }
          ]
         },
         "layout": {
          "annotationdefaults": {
           "arrowcolor": "#2a3f5f",
           "arrowhead": 0,
           "arrowwidth": 1
          },
          "autotypenumbers": "strict",
          "coloraxis": {
           "colorbar": {
            "outlinewidth": 0,
            "ticks": ""
           }
          },
          "colorscale": {
           "diverging": [
            [
             0,
             "#8e0152"
            ],
            [
             0.1,
             "#c51b7d"
            ],
            [
             0.2,
             "#de77ae"
            ],
            [
             0.3,
             "#f1b6da"
            ],
            [
             0.4,
             "#fde0ef"
            ],
            [
             0.5,
             "#f7f7f7"
            ],
            [
             0.6,
             "#e6f5d0"
            ],
            [
             0.7,
             "#b8e186"
            ],
            [
             0.8,
             "#7fbc41"
            ],
            [
             0.9,
             "#4d9221"
            ],
            [
             1,
             "#276419"
            ]
           ],
           "sequential": [
            [
             0,
             "#0d0887"
            ],
            [
             0.1111111111111111,
             "#46039f"
            ],
            [
             0.2222222222222222,
             "#7201a8"
            ],
            [
             0.3333333333333333,
             "#9c179e"
            ],
            [
             0.4444444444444444,
             "#bd3786"
            ],
            [
             0.5555555555555556,
             "#d8576b"
            ],
            [
             0.6666666666666666,
             "#ed7953"
            ],
            [
             0.7777777777777778,
             "#fb9f3a"
            ],
            [
             0.8888888888888888,
             "#fdca26"
            ],
            [
             1,
             "#f0f921"
            ]
           ],
           "sequentialminus": [
            [
             0,
             "#0d0887"
            ],
            [
             0.1111111111111111,
             "#46039f"
            ],
            [
             0.2222222222222222,
             "#7201a8"
            ],
            [
             0.3333333333333333,
             "#9c179e"
            ],
            [
             0.4444444444444444,
             "#bd3786"
            ],
            [
             0.5555555555555556,
             "#d8576b"
            ],
            [
             0.6666666666666666,
             "#ed7953"
            ],
            [
             0.7777777777777778,
             "#fb9f3a"
            ],
            [
             0.8888888888888888,
             "#fdca26"
            ],
            [
             1,
             "#f0f921"
            ]
           ]
          },
          "colorway": [
           "#636efa",
           "#EF553B",
           "#00cc96",
           "#ab63fa",
           "#FFA15A",
           "#19d3f3",
           "#FF6692",
           "#B6E880",
           "#FF97FF",
           "#FECB52"
          ],
          "font": {
           "color": "#2a3f5f"
          },
          "geo": {
           "bgcolor": "white",
           "lakecolor": "white",
           "landcolor": "#E5ECF6",
           "showlakes": true,
           "showland": true,
           "subunitcolor": "white"
          },
          "hoverlabel": {
           "align": "left"
          },
          "hovermode": "closest",
          "mapbox": {
           "style": "light"
          },
          "paper_bgcolor": "white",
          "plot_bgcolor": "#E5ECF6",
          "polar": {
           "angularaxis": {
            "gridcolor": "white",
            "linecolor": "white",
            "ticks": ""
           },
           "bgcolor": "#E5ECF6",
           "radialaxis": {
            "gridcolor": "white",
            "linecolor": "white",
            "ticks": ""
           }
          },
          "scene": {
           "xaxis": {
            "backgroundcolor": "#E5ECF6",
            "gridcolor": "white",
            "gridwidth": 2,
            "linecolor": "white",
            "showbackground": true,
            "ticks": "",
            "zerolinecolor": "white"
           },
           "yaxis": {
            "backgroundcolor": "#E5ECF6",
            "gridcolor": "white",
            "gridwidth": 2,
            "linecolor": "white",
            "showbackground": true,
            "ticks": "",
            "zerolinecolor": "white"
           },
           "zaxis": {
            "backgroundcolor": "#E5ECF6",
            "gridcolor": "white",
            "gridwidth": 2,
            "linecolor": "white",
            "showbackground": true,
            "ticks": "",
            "zerolinecolor": "white"
           }
          },
          "shapedefaults": {
           "line": {
            "color": "#2a3f5f"
           }
          },
          "ternary": {
           "aaxis": {
            "gridcolor": "white",
            "linecolor": "white",
            "ticks": ""
           },
           "baxis": {
            "gridcolor": "white",
            "linecolor": "white",
            "ticks": ""
           },
           "bgcolor": "#E5ECF6",
           "caxis": {
            "gridcolor": "white",
            "linecolor": "white",
            "ticks": ""
           }
          },
          "title": {
           "x": 0.05
          },
          "xaxis": {
           "automargin": true,
           "gridcolor": "white",
           "linecolor": "white",
           "ticks": "",
           "title": {
            "standoff": 15
           },
           "zerolinecolor": "white",
           "zerolinewidth": 2
          },
          "yaxis": {
           "automargin": true,
           "gridcolor": "white",
           "linecolor": "white",
           "ticks": "",
           "title": {
            "standoff": 15
           },
           "zerolinecolor": "white",
           "zerolinewidth": 2
          }
         }
        },
        "title": {
         "font": {
          "size": 20
         },
         "text": "Min Block Arrival Time Over Time",
         "x": 0.5,
         "xanchor": "center",
         "y": 0.95,
         "yanchor": "top"
        },
        "width": 1000,
        "xaxis": {
         "title": {
          "text": "Slot Number"
         }
        },
        "yaxis": {
         "title": {
          "text": "Arrival Time (ms)"
         }
        }
       }
      }
     },
     "metadata": {},
     "output_type": "display_data"
    },
    {
     "data": {
      "application/vnd.plotly.v1+json": {
       "config": {
        "plotlyServerURL": "https://plot.ly"
       },
       "data": [
        {
         "hovertemplate": "Slot: %{x}<br>Arrival Time: %{y:.1f}ms",
         "marker": {
          "color": "royalblue",
          "opacity": 0.5,
          "size": 5
         },
         "mode": "markers",
         "name": "Before RLNC (nft-devnet-2)",
         "type": "scatter",
         "x": [
          513,
          514,
          515,
          516,
          517,
          518,
          519,
          520,
          521,
          522,
          523,
          524,
          525,
          526,
          527,
          528,
          529,
          530,
          531,
          532,
          533,
          534,
          535,
          536,
          537,
          538,
          539,
          540,
          541,
          542,
          543,
          544,
          545,
          546,
          547,
          548,
          549,
          550,
          551,
          552,
          553,
          554,
          555,
          556,
          557,
          558,
          559,
          560,
          561,
          562,
          563,
          564,
          565,
          566,
          567,
          568,
          569,
          570,
          571,
          572,
          573,
          574,
          575,
          576,
          577,
          578,
          579,
          580,
          581,
          582,
          583,
          584,
          585,
          586,
          587,
          588,
          589,
          590,
          591,
          592,
          593,
          594,
          595,
          596,
          597,
          598,
          599,
          600,
          601,
          602,
          603,
          604,
          605,
          606,
          607,
          608,
          609,
          610,
          611,
          612,
          613,
          614,
          615,
          617,
          618,
          619,
          620,
          621,
          622,
          623,
          624,
          625,
          626,
          627,
          628,
          629,
          630,
          631,
          632,
          633,
          634,
          635,
          636,
          637,
          638,
          639,
          640,
          641,
          642,
          643,
          644,
          645,
          646,
          647,
          648,
          649,
          650,
          651,
          652,
          653,
          654,
          655,
          656,
          657,
          658,
          659,
          660,
          661,
          662,
          663,
          664,
          665,
          666,
          667,
          668,
          669,
          670,
          671,
          672,
          673,
          674,
          675,
          676,
          677,
          678,
          679,
          680,
          681,
          682,
          683,
          684,
          685,
          686,
          687,
          688,
          689,
          690,
          691,
          692,
          693,
          694,
          695,
          696,
          697,
          698,
          699,
          700,
          701,
          702,
          703,
          704,
          705,
          706,
          707,
          708,
          709,
          710,
          711,
          712,
          713,
          714,
          715,
          716,
          717,
          718,
          719,
          720,
          721,
          722,
          723,
          724,
          725,
          726,
          727,
          728,
          729,
          730,
          731,
          732,
          733,
          734,
          735,
          736,
          737,
          738,
          739,
          740,
          741,
          742,
          743,
          744,
          745,
          746,
          747,
          748,
          749,
          750,
          751,
          752,
          753,
          754,
          755,
          756,
          757,
          758,
          759,
          760,
          761,
          762,
          763,
          764,
          765,
          766,
          767,
          768,
          769,
          770,
          771,
          772,
          773,
          774,
          775,
          776,
          777,
          778,
          779,
          780,
          781,
          782,
          783
         ],
         "y": [
          3015,
          2674.2,
          2687.15,
          2725.8,
          2743.2,
          2833.8,
          2700.8,
          2764.6,
          2855.4,
          2674.8,
          2797.4,
          2833.2,
          2792.4,
          2830.6,
          2819.4,
          2662.4,
          2746.2,
          2912.8,
          2762.8,
          2756.6,
          2678,
          2690.8,
          2751.2,
          2751.2,
          2806.8,
          2731.8,
          2794.6,
          2744.2,
          2746.6,
          2673.5,
          2808.35,
          2849.9,
          2701,
          2829.35,
          2636.25,
          2781.75,
          2688.25,
          2670.25,
          2618.25,
          2737.5,
          2695.5,
          2690.5,
          2744.75,
          2811.25,
          2684,
          2786.5,
          2700.25,
          2829.25,
          2782.5,
          2707.25,
          2640,
          2673,
          2773.5,
          2706.75,
          2741.25,
          2745.75,
          2705.75,
          2688,
          2704.5,
          2995.5,
          2689.5,
          2782,
          2649.25,
          2784.5,
          2675.25,
          2702.75,
          2720.75,
          2689.5,
          2715.25,
          2739.5,
          2691,
          2751.5,
          2716.25,
          2688.75,
          2647.25,
          2783.75,
          2736.25,
          2866.5,
          2755.25,
          2721.25,
          2770,
          2682,
          2812,
          2797.25,
          2748.25,
          2723.75,
          2652.75,
          2695.5,
          2657.25,
          2714.25,
          2729.25,
          2633.5,
          2763,
          2728.25,
          2810.5,
          2773,
          2765.25,
          2667.75,
          2713,
          2683,
          2768.25,
          2697.25,
          2710.25,
          2884.75,
          2864.25,
          2632,
          2762.5,
          2759.5,
          2826.5,
          2740,
          2677.5,
          2842.5,
          2739,
          2727.75,
          2711.75,
          2710.5,
          2806,
          2681.25,
          2747.5,
          2780.25,
          2852.5,
          2752,
          2741.5,
          2768.75,
          2727.25,
          2711.25,
          2797.5,
          2610.25,
          2666.75,
          2632.5,
          2621.25,
          2935.25,
          2700.25,
          2675.75,
          2656.5,
          2634.5,
          2801.5,
          2766.75,
          2782.75,
          2705.5,
          2849.25,
          2819.5,
          2696.5,
          2762.5,
          2788,
          2786.75,
          2766.75,
          2315,
          2293.25,
          2227,
          2243.75,
          2325.75,
          2248.75,
          2287.25,
          2250,
          2154,
          2370.5,
          2156,
          2249.5,
          2143.75,
          2295.75,
          2179,
          2283.25,
          2157,
          2235,
          2225.5,
          2134.5,
          2255.25,
          2141,
          2283.5,
          2174.25,
          2282.75,
          2161,
          2281,
          2145.75,
          2290.25,
          2173,
          2236,
          2150.25,
          2233.25,
          2281.25,
          2162.25,
          2241.5,
          2182,
          2230,
          2171.25,
          2225,
          2154,
          2243,
          2142.25,
          2248.5,
          2146.75,
          2253,
          2135.5,
          2284,
          2163.25,
          2326,
          2277.75,
          2155.25,
          2234.25,
          2158.5,
          2229.25,
          2172.5,
          2262.75,
          2148.25,
          2267.5,
          2149.75,
          2284.75,
          2144.25,
          2281.75,
          2167,
          2286.25,
          2276.5,
          2151.25,
          2279.25,
          2170.5,
          2296.75,
          2140.25,
          2146.25,
          2150.75,
          2186,
          2260.5,
          2204,
          2226,
          2157,
          2251.75,
          2225.75,
          2140,
          2271.25,
          2172.25,
          2239.25,
          2143.25,
          2314.5,
          2138,
          2279.25,
          2144.5,
          2266.25,
          2290.75,
          2168.25,
          2269.25,
          2233.25,
          2248,
          2150.25,
          2256.25,
          2165.5,
          2279,
          2177.75,
          2317.5,
          2147.25,
          2294.25,
          2225,
          2166.5,
          2270.25,
          2144.25,
          2259.25,
          2157.25,
          2189.25,
          2166.5,
          2184,
          2141,
          2169.5,
          2168.5,
          2167,
          2160,
          2160,
          2183,
          2169.25,
          2133.5,
          2128.5,
          2149
         ]
        },
        {
         "hovertemplate": "Slot: %{x}<br>Arrival Time: %{y:.1f}ms",
         "marker": {
          "color": "green",
          "opacity": 0.5,
          "size": 5
         },
         "mode": "markers",
         "name": "After RLNC (nft-devnet-3)",
         "type": "scatter",
         "x": [],
         "y": []
        },
        {
         "hovertemplate": "Slot: %{x}<br>Rolling Avg: %{y:.1f}ms",
         "line": {
          "color": "navy",
          "width": 3
         },
         "mode": "lines",
         "name": "Before RLNC Rolling Avg (100 slots)",
         "type": "scatter",
         "x": [
          513,
          514,
          515,
          516,
          517,
          518,
          519,
          520,
          521,
          522,
          523,
          524,
          525,
          526,
          527,
          528,
          529,
          530,
          531,
          532,
          533,
          534,
          535,
          536,
          537,
          538,
          539,
          540,
          541,
          542,
          543,
          544,
          545,
          546,
          547,
          548,
          549,
          550,
          551,
          552,
          553,
          554,
          555,
          556,
          557,
          558,
          559,
          560,
          561,
          562,
          563,
          564,
          565,
          566,
          567,
          568,
          569,
          570,
          571,
          572,
          573,
          574,
          575,
          576,
          577,
          578,
          579,
          580,
          581,
          582,
          583,
          584,
          585,
          586,
          587,
          588,
          589,
          590,
          591,
          592,
          593,
          594,
          595,
          596,
          597,
          598,
          599,
          600,
          601,
          602,
          603,
          604,
          605,
          606,
          607,
          608,
          609,
          610,
          611,
          612,
          613,
          614,
          615,
          617,
          618,
          619,
          620,
          621,
          622,
          623,
          624,
          625,
          626,
          627,
          628,
          629,
          630,
          631,
          632,
          633,
          634,
          635,
          636,
          637,
          638,
          639,
          640,
          641,
          642,
          643,
          644,
          645,
          646,
          647,
          648,
          649,
          650,
          651,
          652,
          653,
          654,
          655,
          656,
          657,
          658,
          659,
          660,
          661,
          662,
          663,
          664,
          665,
          666,
          667,
          668,
          669,
          670,
          671,
          672,
          673,
          674,
          675,
          676,
          677,
          678,
          679,
          680,
          681,
          682,
          683,
          684,
          685,
          686,
          687,
          688,
          689,
          690,
          691,
          692,
          693,
          694,
          695,
          696,
          697,
          698,
          699,
          700,
          701,
          702,
          703,
          704,
          705,
          706,
          707,
          708,
          709,
          710,
          711,
          712,
          713,
          714,
          715,
          716,
          717,
          718,
          719,
          720,
          721,
          722,
          723,
          724,
          725,
          726,
          727,
          728,
          729,
          730,
          731,
          732,
          733,
          734,
          735,
          736,
          737,
          738,
          739,
          740,
          741,
          742,
          743,
          744,
          745,
          746,
          747,
          748,
          749,
          750,
          751,
          752,
          753,
          754,
          755,
          756,
          757,
          758,
          759,
          760,
          761,
          762,
          763,
          764,
          765,
          766,
          767,
          768,
          769,
          770,
          771,
          772,
          773,
          774,
          775,
          776,
          777,
          778,
          779,
          780,
          781,
          782,
          783
         ],
         "y": [
          3015,
          2844.6,
          2792.116666666667,
          2775.5375,
          2769.07,
          2779.8583333333336,
          2768.5642857142857,
          2768.06875,
          2777.7722222222224,
          2767.475,
          2770.1954545454546,
          2775.445833333333,
          2776.75,
          2780.5964285714285,
          2783.1833333333334,
          2775.634375,
          2773.9029411764704,
          2781.6194444444445,
          2780.628947368421,
          2779.4275000000002,
          2774.597619047619,
          2770.788636363636,
          2769.9369565217394,
          2769.15625,
          2770.6620000000003,
          2769.167307692308,
          2770.109259259259,
          2769.183928571428,
          2768.405172413793,
          2765.241666666667,
          2766.6322580645165,
          2769.234375,
          2767.1666666666665,
          2768.9955882352942,
          2765.2028571428573,
          2765.6625000000004,
          2763.5702702702706,
          2761.1144736842107,
          2757.4512820512823,
          2756.9525000000003,
          2755.4536585365854,
          2753.907142857143,
          2753.6941860465117,
          2755.002272727273,
          2753.4244444444444,
          2754.14347826087,
          2752.9968085106384,
          2754.585416666667,
          2755.1551020408165,
          2754.197,
          2751.957843137255,
          2750.439423076923,
          2750.874528301887,
          2750.0574074074075,
          2749.897272727273,
          2749.8232142857146,
          2749.05,
          2747.9974137931035,
          2747.2601694915256,
          2751.3975,
          2750.382786885246,
          2750.892741935484,
          2749.279365079365,
          2749.8296875,
          2748.682307692308,
          2747.986363636364,
          2747.5798507462687,
          2746.725735294118,
          2746.2695652173916,
          2746.172857142857,
          2745.3957746478873,
          2745.480555555556,
          2745.0801369863016,
          2744.318918918919,
          2743.0246666666667,
          2743.5605263157895,
          2743.4655844155845,
          2745.042948717949,
          2745.1721518987342,
          2744.873125,
          2745.1833333333334,
          2744.412804878049,
          2745.227108433735,
          2745.8464285714285,
          2745.874705882353,
          2745.617441860465,
          2744.55,
          2743.992613636364,
          2743.01797752809,
          2742.6983333333333,
          2742.5505494505496,
          2741.365217391304,
          2741.5978494623655,
          2741.45585106383,
          2742.1826315789476,
          2742.503645833333,
          2742.738144329897,
          2741.972959183673,
          2741.6803030303026,
          2741.0935,
          2738.6259999999997,
          2738.8565,
          2739.0875,
          2740.6769999999997,
          2741.8875,
          2739.8694999999993,
          2740.4864999999995,
          2740.4355,
          2740.1465,
          2740.7985,
          2739.5994999999994,
          2739.6925,
          2739.1584999999995,
          2738.13,
          2737.0535,
          2737.5344999999998,
          2738.1325,
          2735.8169999999996,
          2735.6639999999998,
          2735.9004999999997,
          2737.6455,
          2738.2575,
          2738.1605,
          2738.336,
          2737.5405,
          2737.335,
          2737.3639999999996,
          2736.0244999999995,
          2735.2259999999997,
          2734.816,
          2732.945,
          2733.7985,
          2733.7909999999997,
          2732.255,
          2732.4575,
          2730.985,
          2732.1175,
          2733.0825,
          2734.7275,
          2734.4075,
          2735.945,
          2737.235,
          2736.7525,
          2736.265,
          2737.305,
          2737.3075,
          2737.9725,
          2732.83,
          2727.9375,
          2723.135,
          2719.1725,
          2715.7,
          2710.4525,
          2706.2575,
          2701.345,
          2695.4275,
          2692.075,
          2686.755,
          2682.205,
          2673.6875,
          2669.75,
          2663.72,
          2660.06,
          2653.785,
          2649.3825,
          2644.61,
          2638.7475,
          2634.405,
          2628.6625,
          2624.1025,
          2618.935,
          2614.2475,
          2608.695,
          2604.6175,
          2599.6025,
          2594.6675,
          2589.035,
          2582.73,
          2576.68,
          2571.8,
          2566.9125,
          2561.715,
          2556.01,
          2549.8575,
          2544.675,
          2539.15,
          2534.8725,
          2529.4575,
          2525.315,
          2519.595,
          2514.7875,
          2509.92,
          2504.82,
          2498.8925,
          2493.6275,
          2487.53,
          2483.1375,
          2479.2375,
          2473.66,
          2469.1725,
          2463.075,
          2458.395,
          2453.0175,
          2446.7975,
          2439.6375,
          2435.9925,
          2429.865,
          2425.1175,
          2418.295,
          2413.7125,
          2408.6075,
          2403.045,
          2398.42,
          2392.655,
          2388.33,
          2382.93,
          2377.8375,
          2372.4275,
          2366.415,
          2360.12,
          2353.455,
          2348.54,
          2343.165,
          2337.7375,
          2332.035,
          2327.44,
          2321.7225,
          2317.02,
          2313.065,
          2308.4625,
          2304.6425,
          2296.7225,
          2292.865,
          2287.4875,
          2283.715,
          2278.815,
          2273.4625,
          2268.7025,
          2262.5575,
          2258.195,
          2252.035,
          2246.32,
          2240.8575,
          2235.795,
          2229.57,
          2224.4925,
          2218.6025,
          2218.6275,
          2217.1675,
          2217.84,
          2217.6525,
          2216.06,
          2216.275,
          2214.845,
          2214.9375,
          2214.97,
          2213.1575,
          2213.2625,
          2212.6075,
          2212.58,
          2211.3175,
          2211.2125,
          2210.05,
          2210.08,
          2209.33,
          2208.905,
          2209.2525,
          2208.035,
          2207.91,
          2206.565
         ]
        },
        {
         "hovertemplate": "Slot: %{x}<br>Rolling Avg: %{y:.1f}ms",
         "line": {
          "color": "darkgreen",
          "width": 3
         },
         "mode": "lines",
         "name": "After RLNC Rolling Avg (100 slots)",
         "type": "scatter",
         "x": [],
         "y": []
        },
        {
         "hoverinfo": "name",
         "line": {
          "color": "navy",
          "dash": "dash",
          "width": 2
         },
         "mode": "lines",
         "name": "Before RLNC Average: 2501.1ms",
         "type": "scatter",
         "x": [
          513,
          783
         ],
         "y": [
          2501.106851851852,
          2501.106851851852
         ]
        },
        {
         "hoverinfo": "name",
         "line": {
          "color": "darkgreen",
          "dash": "dash",
          "width": 2
         },
         "mode": "lines",
         "name": "After RLNC Average: nanms",
         "type": "scatter",
         "x": [
          null,
          null
         ],
         "y": [
          null,
          null
         ]
        }
       ],
       "layout": {
        "annotations": [
         {
          "bgcolor": "rgba(255,255,255,0.8)",
          "bordercolor": "rgba(0,0,0,0.5)",
          "borderpad": 4,
          "borderwidth": 1,
          "font": {
           "color": "black",
           "size": 16
          },
          "showarrow": false,
          "text": "Overall Improvement: nan%",
          "x": 0.5,
          "xref": "paper",
          "y": 1.05,
          "yref": "paper"
         }
        ],
        "height": 600,
        "hovermode": "closest",
        "legend": {
         "bgcolor": "rgba(255,255,255,0.8)",
         "x": 0.01,
         "y": 0.99
        },
        "plot_bgcolor": "white",
        "template": {
         "data": {
          "bar": [
           {
            "error_x": {
             "color": "#2a3f5f"
            },
            "error_y": {
             "color": "#2a3f5f"
            },
            "marker": {
             "line": {
              "color": "#E5ECF6",
              "width": 0.5
             },
             "pattern": {
              "fillmode": "overlay",
              "size": 10,
              "solidity": 0.2
             }
            },
            "type": "bar"
           }
          ],
          "barpolar": [
           {
            "marker": {
             "line": {
              "color": "#E5ECF6",
              "width": 0.5
             },
             "pattern": {
              "fillmode": "overlay",
              "size": 10,
              "solidity": 0.2
             }
            },
            "type": "barpolar"
           }
          ],
          "carpet": [
           {
            "aaxis": {
             "endlinecolor": "#2a3f5f",
             "gridcolor": "white",
             "linecolor": "white",
             "minorgridcolor": "white",
             "startlinecolor": "#2a3f5f"
            },
            "baxis": {
             "endlinecolor": "#2a3f5f",
             "gridcolor": "white",
             "linecolor": "white",
             "minorgridcolor": "white",
             "startlinecolor": "#2a3f5f"
            },
            "type": "carpet"
           }
          ],
          "choropleth": [
           {
            "colorbar": {
             "outlinewidth": 0,
             "ticks": ""
            },
            "type": "choropleth"
           }
          ],
          "contour": [
           {
            "colorbar": {
             "outlinewidth": 0,
             "ticks": ""
            },
            "colorscale": [
             [
              0,
              "#0d0887"
             ],
             [
              0.1111111111111111,
              "#46039f"
             ],
             [
              0.2222222222222222,
              "#7201a8"
             ],
             [
              0.3333333333333333,
              "#9c179e"
             ],
             [
              0.4444444444444444,
              "#bd3786"
             ],
             [
              0.5555555555555556,
              "#d8576b"
             ],
             [
              0.6666666666666666,
              "#ed7953"
             ],
             [
              0.7777777777777778,
              "#fb9f3a"
             ],
             [
              0.8888888888888888,
              "#fdca26"
             ],
             [
              1,
              "#f0f921"
             ]
            ],
            "type": "contour"
           }
          ],
          "contourcarpet": [
           {
            "colorbar": {
             "outlinewidth": 0,
             "ticks": ""
            },
            "type": "contourcarpet"
           }
          ],
          "heatmap": [
           {
            "colorbar": {
             "outlinewidth": 0,
             "ticks": ""
            },
            "colorscale": [
             [
              0,
              "#0d0887"
             ],
             [
              0.1111111111111111,
              "#46039f"
             ],
             [
              0.2222222222222222,
              "#7201a8"
             ],
             [
              0.3333333333333333,
              "#9c179e"
             ],
             [
              0.4444444444444444,
              "#bd3786"
             ],
             [
              0.5555555555555556,
              "#d8576b"
             ],
             [
              0.6666666666666666,
              "#ed7953"
             ],
             [
              0.7777777777777778,
              "#fb9f3a"
             ],
             [
              0.8888888888888888,
              "#fdca26"
             ],
             [
              1,
              "#f0f921"
             ]
            ],
            "type": "heatmap"
           }
          ],
          "heatmapgl": [
           {
            "colorbar": {
             "outlinewidth": 0,
             "ticks": ""
            },
            "colorscale": [
             [
              0,
              "#0d0887"
             ],
             [
              0.1111111111111111,
              "#46039f"
             ],
             [
              0.2222222222222222,
              "#7201a8"
             ],
             [
              0.3333333333333333,
              "#9c179e"
             ],
             [
              0.4444444444444444,
              "#bd3786"
             ],
             [
              0.5555555555555556,
              "#d8576b"
             ],
             [
              0.6666666666666666,
              "#ed7953"
             ],
             [
              0.7777777777777778,
              "#fb9f3a"
             ],
             [
              0.8888888888888888,
              "#fdca26"
             ],
             [
              1,
              "#f0f921"
             ]
            ],
            "type": "heatmapgl"
           }
          ],
          "histogram": [
           {
            "marker": {
             "pattern": {
              "fillmode": "overlay",
              "size": 10,
              "solidity": 0.2
             }
            },
            "type": "histogram"
           }
          ],
          "histogram2d": [
           {
            "colorbar": {
             "outlinewidth": 0,
             "ticks": ""
            },
            "colorscale": [
             [
              0,
              "#0d0887"
             ],
             [
              0.1111111111111111,
              "#46039f"
             ],
             [
              0.2222222222222222,
              "#7201a8"
             ],
             [
              0.3333333333333333,
              "#9c179e"
             ],
             [
              0.4444444444444444,
              "#bd3786"
             ],
             [
              0.5555555555555556,
              "#d8576b"
             ],
             [
              0.6666666666666666,
              "#ed7953"
             ],
             [
              0.7777777777777778,
              "#fb9f3a"
             ],
             [
              0.8888888888888888,
              "#fdca26"
             ],
             [
              1,
              "#f0f921"
             ]
            ],
            "type": "histogram2d"
           }
          ],
          "histogram2dcontour": [
           {
            "colorbar": {
             "outlinewidth": 0,
             "ticks": ""
            },
            "colorscale": [
             [
              0,
              "#0d0887"
             ],
             [
              0.1111111111111111,
              "#46039f"
             ],
             [
              0.2222222222222222,
              "#7201a8"
             ],
             [
              0.3333333333333333,
              "#9c179e"
             ],
             [
              0.4444444444444444,
              "#bd3786"
             ],
             [
              0.5555555555555556,
              "#d8576b"
             ],
             [
              0.6666666666666666,
              "#ed7953"
             ],
             [
              0.7777777777777778,
              "#fb9f3a"
             ],
             [
              0.8888888888888888,
              "#fdca26"
             ],
             [
              1,
              "#f0f921"
             ]
            ],
            "type": "histogram2dcontour"
           }
          ],
          "mesh3d": [
           {
            "colorbar": {
             "outlinewidth": 0,
             "ticks": ""
            },
            "type": "mesh3d"
           }
          ],
          "parcoords": [
           {
            "line": {
             "colorbar": {
              "outlinewidth": 0,
              "ticks": ""
             }
            },
            "type": "parcoords"
           }
          ],
          "pie": [
           {
            "automargin": true,
            "type": "pie"
           }
          ],
          "scatter": [
           {
            "fillpattern": {
             "fillmode": "overlay",
             "size": 10,
             "solidity": 0.2
            },
            "type": "scatter"
           }
          ],
          "scatter3d": [
           {
            "line": {
             "colorbar": {
              "outlinewidth": 0,
              "ticks": ""
             }
            },
            "marker": {
             "colorbar": {
              "outlinewidth": 0,
              "ticks": ""
             }
            },
            "type": "scatter3d"
           }
          ],
          "scattercarpet": [
           {
            "marker": {
             "colorbar": {
              "outlinewidth": 0,
              "ticks": ""
             }
            },
            "type": "scattercarpet"
           }
          ],
          "scattergeo": [
           {
            "marker": {
             "colorbar": {
              "outlinewidth": 0,
              "ticks": ""
             }
            },
            "type": "scattergeo"
           }
          ],
          "scattergl": [
           {
            "marker": {
             "colorbar": {
              "outlinewidth": 0,
              "ticks": ""
             }
            },
            "type": "scattergl"
           }
          ],
          "scattermapbox": [
           {
            "marker": {
             "colorbar": {
              "outlinewidth": 0,
              "ticks": ""
             }
            },
            "type": "scattermapbox"
           }
          ],
          "scatterpolar": [
           {
            "marker": {
             "colorbar": {
              "outlinewidth": 0,
              "ticks": ""
             }
            },
            "type": "scatterpolar"
           }
          ],
          "scatterpolargl": [
           {
            "marker": {
             "colorbar": {
              "outlinewidth": 0,
              "ticks": ""
             }
            },
            "type": "scatterpolargl"
           }
          ],
          "scatterternary": [
           {
            "marker": {
             "colorbar": {
              "outlinewidth": 0,
              "ticks": ""
             }
            },
            "type": "scatterternary"
           }
          ],
          "surface": [
           {
            "colorbar": {
             "outlinewidth": 0,
             "ticks": ""
            },
            "colorscale": [
             [
              0,
              "#0d0887"
             ],
             [
              0.1111111111111111,
              "#46039f"
             ],
             [
              0.2222222222222222,
              "#7201a8"
             ],
             [
              0.3333333333333333,
              "#9c179e"
             ],
             [
              0.4444444444444444,
              "#bd3786"
             ],
             [
              0.5555555555555556,
              "#d8576b"
             ],
             [
              0.6666666666666666,
              "#ed7953"
             ],
             [
              0.7777777777777778,
              "#fb9f3a"
             ],
             [
              0.8888888888888888,
              "#fdca26"
             ],
             [
              1,
              "#f0f921"
             ]
            ],
            "type": "surface"
           }
          ],
          "table": [
           {
            "cells": {
             "fill": {
              "color": "#EBF0F8"
             },
             "line": {
              "color": "white"
             }
            },
            "header": {
             "fill": {
              "color": "#C8D4E3"
             },
             "line": {
              "color": "white"
             }
            },
            "type": "table"
           }
          ]
         },
         "layout": {
          "annotationdefaults": {
           "arrowcolor": "#2a3f5f",
           "arrowhead": 0,
           "arrowwidth": 1
          },
          "autotypenumbers": "strict",
          "coloraxis": {
           "colorbar": {
            "outlinewidth": 0,
            "ticks": ""
           }
          },
          "colorscale": {
           "diverging": [
            [
             0,
             "#8e0152"
            ],
            [
             0.1,
             "#c51b7d"
            ],
            [
             0.2,
             "#de77ae"
            ],
            [
             0.3,
             "#f1b6da"
            ],
            [
             0.4,
             "#fde0ef"
            ],
            [
             0.5,
             "#f7f7f7"
            ],
            [
             0.6,
             "#e6f5d0"
            ],
            [
             0.7,
             "#b8e186"
            ],
            [
             0.8,
             "#7fbc41"
            ],
            [
             0.9,
             "#4d9221"
            ],
            [
             1,
             "#276419"
            ]
           ],
           "sequential": [
            [
             0,
             "#0d0887"
            ],
            [
             0.1111111111111111,
             "#46039f"
            ],
            [
             0.2222222222222222,
             "#7201a8"
            ],
            [
             0.3333333333333333,
             "#9c179e"
            ],
            [
             0.4444444444444444,
             "#bd3786"
            ],
            [
             0.5555555555555556,
             "#d8576b"
            ],
            [
             0.6666666666666666,
             "#ed7953"
            ],
            [
             0.7777777777777778,
             "#fb9f3a"
            ],
            [
             0.8888888888888888,
             "#fdca26"
            ],
            [
             1,
             "#f0f921"
            ]
           ],
           "sequentialminus": [
            [
             0,
             "#0d0887"
            ],
            [
             0.1111111111111111,
             "#46039f"
            ],
            [
             0.2222222222222222,
             "#7201a8"
            ],
            [
             0.3333333333333333,
             "#9c179e"
            ],
            [
             0.4444444444444444,
             "#bd3786"
            ],
            [
             0.5555555555555556,
             "#d8576b"
            ],
            [
             0.6666666666666666,
             "#ed7953"
            ],
            [
             0.7777777777777778,
             "#fb9f3a"
            ],
            [
             0.8888888888888888,
             "#fdca26"
            ],
            [
             1,
             "#f0f921"
            ]
           ]
          },
          "colorway": [
           "#636efa",
           "#EF553B",
           "#00cc96",
           "#ab63fa",
           "#FFA15A",
           "#19d3f3",
           "#FF6692",
           "#B6E880",
           "#FF97FF",
           "#FECB52"
          ],
          "font": {
           "color": "#2a3f5f"
          },
          "geo": {
           "bgcolor": "white",
           "lakecolor": "white",
           "landcolor": "#E5ECF6",
           "showlakes": true,
           "showland": true,
           "subunitcolor": "white"
          },
          "hoverlabel": {
           "align": "left"
          },
          "hovermode": "closest",
          "mapbox": {
           "style": "light"
          },
          "paper_bgcolor": "white",
          "plot_bgcolor": "#E5ECF6",
          "polar": {
           "angularaxis": {
            "gridcolor": "white",
            "linecolor": "white",
            "ticks": ""
           },
           "bgcolor": "#E5ECF6",
           "radialaxis": {
            "gridcolor": "white",
            "linecolor": "white",
            "ticks": ""
           }
          },
          "scene": {
           "xaxis": {
            "backgroundcolor": "#E5ECF6",
            "gridcolor": "white",
            "gridwidth": 2,
            "linecolor": "white",
            "showbackground": true,
            "ticks": "",
            "zerolinecolor": "white"
           },
           "yaxis": {
            "backgroundcolor": "#E5ECF6",
            "gridcolor": "white",
            "gridwidth": 2,
            "linecolor": "white",
            "showbackground": true,
            "ticks": "",
            "zerolinecolor": "white"
           },
           "zaxis": {
            "backgroundcolor": "#E5ECF6",
            "gridcolor": "white",
            "gridwidth": 2,
            "linecolor": "white",
            "showbackground": true,
            "ticks": "",
            "zerolinecolor": "white"
           }
          },
          "shapedefaults": {
           "line": {
            "color": "#2a3f5f"
           }
          },
          "ternary": {
           "aaxis": {
            "gridcolor": "white",
            "linecolor": "white",
            "ticks": ""
           },
           "baxis": {
            "gridcolor": "white",
            "linecolor": "white",
            "ticks": ""
           },
           "bgcolor": "#E5ECF6",
           "caxis": {
            "gridcolor": "white",
            "linecolor": "white",
            "ticks": ""
           }
          },
          "title": {
           "x": 0.05
          },
          "xaxis": {
           "automargin": true,
           "gridcolor": "white",
           "linecolor": "white",
           "ticks": "",
           "title": {
            "standoff": 15
           },
           "zerolinecolor": "white",
           "zerolinewidth": 2
          },
          "yaxis": {
           "automargin": true,
           "gridcolor": "white",
           "linecolor": "white",
           "ticks": "",
           "title": {
            "standoff": 15
           },
           "zerolinecolor": "white",
           "zerolinewidth": 2
          }
         }
        },
        "title": {
         "font": {
          "size": 20
         },
         "text": "P05 Block Arrival Time Over Time",
         "x": 0.5,
         "xanchor": "center",
         "y": 0.95,
         "yanchor": "top"
        },
        "width": 1000,
        "xaxis": {
         "title": {
          "text": "Slot Number"
         }
        },
        "yaxis": {
         "title": {
          "text": "Arrival Time (ms)"
         }
        }
       }
      }
     },
     "metadata": {},
     "output_type": "display_data"
    },
    {
     "data": {
      "application/vnd.plotly.v1+json": {
       "config": {
        "plotlyServerURL": "https://plot.ly"
       },
       "data": [
        {
         "hovertemplate": "Slot: %{x}<br>Arrival Time: %{y:.1f}ms",
         "marker": {
          "color": "royalblue",
          "opacity": 0.5,
          "size": 5
         },
         "mode": "markers",
         "name": "Before RLNC (nft-devnet-2)",
         "type": "scatter",
         "x": [
          513,
          514,
          515,
          516,
          517,
          518,
          519,
          520,
          521,
          522,
          523,
          524,
          525,
          526,
          527,
          528,
          529,
          530,
          531,
          532,
          533,
          534,
          535,
          536,
          537,
          538,
          539,
          540,
          541,
          542,
          543,
          544,
          545,
          546,
          547,
          548,
          549,
          550,
          551,
          552,
          553,
          554,
          555,
          556,
          557,
          558,
          559,
          560,
          561,
          562,
          563,
          564,
          565,
          566,
          567,
          568,
          569,
          570,
          571,
          572,
          573,
          574,
          575,
          576,
          577,
          578,
          579,
          580,
          581,
          582,
          583,
          584,
          585,
          586,
          587,
          588,
          589,
          590,
          591,
          592,
          593,
          594,
          595,
          596,
          597,
          598,
          599,
          600,
          601,
          602,
          603,
          604,
          605,
          606,
          607,
          608,
          609,
          610,
          611,
          612,
          613,
          614,
          615,
          617,
          618,
          619,
          620,
          621,
          622,
          623,
          624,
          625,
          626,
          627,
          628,
          629,
          630,
          631,
          632,
          633,
          634,
          635,
          636,
          637,
          638,
          639,
          640,
          641,
          642,
          643,
          644,
          645,
          646,
          647,
          648,
          649,
          650,
          651,
          652,
          653,
          654,
          655,
          656,
          657,
          658,
          659,
          660,
          661,
          662,
          663,
          664,
          665,
          666,
          667,
          668,
          669,
          670,
          671,
          672,
          673,
          674,
          675,
          676,
          677,
          678,
          679,
          680,
          681,
          682,
          683,
          684,
          685,
          686,
          687,
          688,
          689,
          690,
          691,
          692,
          693,
          694,
          695,
          696,
          697,
          698,
          699,
          700,
          701,
          702,
          703,
          704,
          705,
          706,
          707,
          708,
          709,
          710,
          711,
          712,
          713,
          714,
          715,
          716,
          717,
          718,
          719,
          720,
          721,
          722,
          723,
          724,
          725,
          726,
          727,
          728,
          729,
          730,
          731,
          732,
          733,
          734,
          735,
          736,
          737,
          738,
          739,
          740,
          741,
          742,
          743,
          744,
          745,
          746,
          747,
          748,
          749,
          750,
          751,
          752,
          753,
          754,
          755,
          756,
          757,
          758,
          759,
          760,
          761,
          762,
          763,
          764,
          765,
          766,
          767,
          768,
          769,
          770,
          771,
          772,
          773,
          774,
          775,
          776,
          777,
          778,
          779,
          780,
          781,
          782,
          783
         ],
         "y": [
          3015,
          2884,
          3132,
          3065,
          3442,
          3021,
          2973,
          3299,
          3250,
          2985,
          3070,
          3170,
          3155,
          3457,
          3129,
          3066,
          3090,
          3284,
          3087,
          3145,
          3417,
          3464,
          3074,
          3089,
          3109,
          3116,
          3130,
          3048,
          3062,
          3448.5,
          3132.5,
          3100.5,
          3109,
          3339.5,
          3450,
          3398.5,
          3071,
          3514,
          3456.5,
          3123,
          3087,
          3054,
          3123,
          3211.5,
          3058,
          3167.5,
          3074,
          3227.5,
          3203.5,
          3084.5,
          3488,
          3046.5,
          3141.5,
          3088,
          3119,
          3127,
          3158,
          3133.5,
          3076.5,
          3352,
          3065.5,
          3209.5,
          3092.5,
          3426.5,
          3067,
          3344,
          3172.5,
          3124.5,
          3077,
          3124,
          3038,
          3177.5,
          3068,
          3045,
          3450,
          3187,
          3402,
          3201.5,
          3123.5,
          3067.5,
          3182,
          3062,
          3231,
          3234.5,
          3348,
          3107,
          3498,
          3090.5,
          3033,
          3098.5,
          3098,
          3480,
          3211,
          3479.5,
          3241.5,
          3146,
          3432.5,
          3037,
          3107,
          3073.5,
          3128,
          3064.5,
          3142.5,
          3256,
          3245.5,
          3465.5,
          3181,
          3169.5,
          3176,
          3338.5,
          3507,
          3232,
          3084.5,
          3090.5,
          3063.5,
          3125,
          3296.5,
          3045,
          3155.5,
          3150.5,
          3451,
          3156,
          3196.5,
          3430.5,
          3108,
          3083,
          3204.5,
          3239,
          3417.5,
          3445.5,
          3421,
          3282.5,
          3063,
          3039,
          3064,
          3416.5,
          3436.5,
          3461.5,
          3193,
          3080,
          3464.5,
          3513,
          3136,
          3164.5,
          3181,
          3196,
          3135.5,
          2475.5,
          2494.5,
          2501,
          2440,
          2593,
          2439,
          2495,
          2452,
          2221.5,
          2560.5,
          2237,
          2482.5,
          2211.5,
          2502.5,
          2243.5,
          2653.5,
          2236.5,
          2486,
          2621,
          2289,
          2489,
          2221,
          2514.5,
          2255,
          2494.5,
          2238,
          2663,
          2223.5,
          2509,
          2240,
          2484,
          2223.5,
          2442.5,
          2564.5,
          2258,
          2438.5,
          2256.5,
          2726,
          2236,
          2439.5,
          2224,
          2500,
          2217.5,
          2466.5,
          2228,
          2483.5,
          2282,
          2572.5,
          2234,
          2575.5,
          2485.5,
          2232,
          2714.5,
          2233.5,
          2443,
          2239.5,
          2505.5,
          2223,
          2493,
          2234,
          2540.5,
          2220,
          2537,
          2249,
          2519.5,
          2520,
          2224,
          2497,
          2239.5,
          2676,
          2217,
          2322,
          2215.5,
          2304.5,
          2426.5,
          2363,
          2508,
          2234.5,
          2400,
          2392.5,
          2218.5,
          2551.5,
          2248,
          2494.5,
          2236,
          2503,
          2216,
          2527.5,
          2222,
          2476,
          2540,
          2241,
          2481,
          2310,
          2530.5,
          2231,
          2470.5,
          2253.5,
          2577.5,
          2263.5,
          2535,
          2217.5,
          2590,
          2392.5,
          2246,
          2429.5,
          2215,
          2497,
          2225,
          2315.5,
          2227.5,
          2243,
          2216.5,
          2235.5,
          2249.5,
          2244.5,
          2234,
          2235,
          2252.5,
          2235,
          2205,
          2283,
          2206.5
         ]
        },
        {
         "hovertemplate": "Slot: %{x}<br>Arrival Time: %{y:.1f}ms",
         "marker": {
          "color": "green",
          "opacity": 0.5,
          "size": 5
         },
         "mode": "markers",
         "name": "After RLNC (nft-devnet-3)",
         "type": "scatter",
         "x": [],
         "y": []
        },
        {
         "hovertemplate": "Slot: %{x}<br>Rolling Avg: %{y:.1f}ms",
         "line": {
          "color": "navy",
          "width": 3
         },
         "mode": "lines",
         "name": "Before RLNC Rolling Avg (100 slots)",
         "type": "scatter",
         "x": [
          513,
          514,
          515,
          516,
          517,
          518,
          519,
          520,
          521,
          522,
          523,
          524,
          525,
          526,
          527,
          528,
          529,
          530,
          531,
          532,
          533,
          534,
          535,
          536,
          537,
          538,
          539,
          540,
          541,
          542,
          543,
          544,
          545,
          546,
          547,
          548,
          549,
          550,
          551,
          552,
          553,
          554,
          555,
          556,
          557,
          558,
          559,
          560,
          561,
          562,
          563,
          564,
          565,
          566,
          567,
          568,
          569,
          570,
          571,
          572,
          573,
          574,
          575,
          576,
          577,
          578,
          579,
          580,
          581,
          582,
          583,
          584,
          585,
          586,
          587,
          588,
          589,
          590,
          591,
          592,
          593,
          594,
          595,
          596,
          597,
          598,
          599,
          600,
          601,
          602,
          603,
          604,
          605,
          606,
          607,
          608,
          609,
          610,
          611,
          612,
          613,
          614,
          615,
          617,
          618,
          619,
          620,
          621,
          622,
          623,
          624,
          625,
          626,
          627,
          628,
          629,
          630,
          631,
          632,
          633,
          634,
          635,
          636,
          637,
          638,
          639,
          640,
          641,
          642,
          643,
          644,
          645,
          646,
          647,
          648,
          649,
          650,
          651,
          652,
          653,
          654,
          655,
          656,
          657,
          658,
          659,
          660,
          661,
          662,
          663,
          664,
          665,
          666,
          667,
          668,
          669,
          670,
          671,
          672,
          673,
          674,
          675,
          676,
          677,
          678,
          679,
          680,
          681,
          682,
          683,
          684,
          685,
          686,
          687,
          688,
          689,
          690,
          691,
          692,
          693,
          694,
          695,
          696,
          697,
          698,
          699,
          700,
          701,
          702,
          703,
          704,
          705,
          706,
          707,
          708,
          709,
          710,
          711,
          712,
          713,
          714,
          715,
          716,
          717,
          718,
          719,
          720,
          721,
          722,
          723,
          724,
          725,
          726,
          727,
          728,
          729,
          730,
          731,
          732,
          733,
          734,
          735,
          736,
          737,
          738,
          739,
          740,
          741,
          742,
          743,
          744,
          745,
          746,
          747,
          748,
          749,
          750,
          751,
          752,
          753,
          754,
          755,
          756,
          757,
          758,
          759,
          760,
          761,
          762,
          763,
          764,
          765,
          766,
          767,
          768,
          769,
          770,
          771,
          772,
          773,
          774,
          775,
          776,
          777,
          778,
          779,
          780,
          781,
          782,
          783
         ],
         "y": [
          3015,
          2949.5,
          3010.3333333333335,
          3024,
          3107.6,
          3093.1666666666665,
          3076,
          3103.875,
          3120.1111111111113,
          3106.6,
          3103.2727272727275,
          3108.8333333333335,
          3112.3846153846152,
          3137,
          3136.4666666666667,
          3132.0625,
          3129.5882352941176,
          3138.1666666666665,
          3135.4736842105262,
          3135.95,
          3149.3333333333335,
          3163.6363636363635,
          3159.7391304347825,
          3156.7916666666665,
          3154.88,
          3153.3846153846152,
          3152.5185185185187,
          3148.785714285714,
          3145.793103448276,
          3155.883333333333,
          3155.1290322580644,
          3153.421875,
          3152.0757575757575,
          3157.5882352941176,
          3165.942857142857,
          3172.402777777778,
          3169.662162162162,
          3178.7236842105262,
          3185.846153846154,
          3184.275,
          3181.9024390243903,
          3178.8571428571427,
          3177.5581395348836,
          3178.3295454545455,
          3175.6555555555556,
          3175.478260869565,
          3173.31914893617,
          3174.4479166666665,
          3175.0408163265306,
          3173.23,
          3179.401960784314,
          3176.846153846154,
          3176.1792452830186,
          3174.546296296296,
          3173.5363636363636,
          3172.7053571428573,
          3172.4473684210525,
          3171.7758620689656,
          3170.1610169491523,
          3173.1916666666666,
          3171.4262295081967,
          3172.0403225806454,
          3170.777777777778,
          3174.7734375,
          3173.1153846153848,
          3175.7045454545455,
          3175.6567164179105,
          3174.904411764706,
          3173.485507246377,
          3172.7785714285715,
          3170.8802816901407,
          3170.972222222222,
          3169.5616438356165,
          3167.8783783783783,
          3171.64,
          3171.842105263158,
          3174.8311688311687,
          3175.173076923077,
          3174.518987341772,
          3173.18125,
          3173.2901234567903,
          3171.932926829268,
          3172.644578313253,
          3173.3809523809523,
          3175.435294117647,
          3174.639534883721,
          3178.3563218390805,
          3177.3579545454545,
          3175.7359550561796,
          3174.8777777777777,
          3174.032967032967,
          3177.358695652174,
          3177.7204301075267,
          3180.93085106383,
          3181.5684210526315,
          3181.1979166666665,
          3183.7886597938145,
          3182.2908163265306,
          3181.530303030303,
          3180.45,
          3181.58,
          3183.385,
          3183.49,
          3185.4,
          3183.435,
          3187.88,
          3189.96,
          3188.665,
          3187.925,
          3191.46,
          3195.83,
          3196.45,
          3195.745,
          3192.08,
          3191.425,
          3192.015,
          3194.08,
          3191.69,
          3192.375,
          3192.43,
          3192.77,
          3189.69,
          3190.915,
          3194.33,
          3194.32,
          3193.99,
          3194.735,
          3196.645,
          3200.2,
          3200.17,
          3203.055,
          3204.875,
          3204.415,
          3201.41,
          3197.55,
          3197.73,
          3201.385,
          3200.86,
          3198.225,
          3197.795,
          3201.57,
          3206.16,
          3206.29,
          3205.82,
          3207.05,
          3207.335,
          3207.95,
          3200.43,
          3193.34,
          3187.505,
          3177.025,
          3172.49,
          3165.465,
          3159.535,
          3152.865,
          3143.81,
          3137.835,
          3128.87,
          3122.93,
          3111.525,
          3105.895,
          3096.235,
          3091.845,
          3079.945,
          3074.135,
          3066.905,
          3058.07,
          3051.715,
          3043.155,
          3037.06,
          3029.23,
          3022.4,
          3014.1,
          3010.28,
          2998.015,
          2991.235,
          2979.615,
          2972.44,
          2963.44,
          2957.19,
          2951.015,
          2942.975,
          2935.05,
          2925.27,
          2919.05,
          2910.34,
          2899.755,
          2891.09,
          2885.76,
          2876.95,
          2870.635,
          2858.115,
          2850.84,
          2838.865,
          2832.175,
          2823.055,
          2814.485,
          2808.97,
          2800.22,
          2796.63,
          2787.685,
          2781.47,
          2772.44,
          2764.935,
          2754.71,
          2744.985,
          2735.515,
          2729.225,
          2719.665,
          2711.65,
          2699.07,
          2691.945,
          2686.3,
          2677.635,
          2671.97,
          2663.115,
          2656.91,
          2648.63,
          2640.295,
          2630.945,
          2619.48,
          2612.185,
          2603.85,
          2594.625,
          2585.89,
          2579.06,
          2570.94,
          2560.735,
          2552.075,
          2540.1,
          2530.835,
          2520.37,
          2514.77,
          2506.54,
          2501.175,
          2489.23,
          2479.625,
          2470.41,
          2460.89,
          2454.9,
          2443.355,
          2433.53,
          2424.48,
          2417.54,
          2408.265,
          2402.08,
          2393.36,
          2393.955,
          2391.185,
          2392.075,
          2391.6,
          2388.13,
          2388.035,
          2385.235,
          2385.685,
          2385.72,
          2383.27,
          2383.175,
          2380.78,
          2380.83,
          2378.16,
          2378.22,
          2374.13,
          2374.105,
          2371.595,
          2367.91,
          2367.37,
          2364.53,
          2365.15,
          2362.07
         ]
        },
        {
         "hovertemplate": "Slot: %{x}<br>Rolling Avg: %{y:.1f}ms",
         "line": {
          "color": "darkgreen",
          "width": 3
         },
         "mode": "lines",
         "name": "After RLNC Rolling Avg (100 slots)",
         "type": "scatter",
         "x": [],
         "y": []
        },
        {
         "hoverinfo": "name",
         "line": {
          "color": "navy",
          "dash": "dash",
          "width": 2
         },
         "mode": "lines",
         "name": "Before RLNC Average: 2822.2ms",
         "type": "scatter",
         "x": [
          513,
          783
         ],
         "y": [
          2822.25,
          2822.25
         ]
        },
        {
         "hoverinfo": "name",
         "line": {
          "color": "darkgreen",
          "dash": "dash",
          "width": 2
         },
         "mode": "lines",
         "name": "After RLNC Average: nanms",
         "type": "scatter",
         "x": [
          null,
          null
         ],
         "y": [
          null,
          null
         ]
        }
       ],
       "layout": {
        "annotations": [
         {
          "bgcolor": "rgba(255,255,255,0.8)",
          "bordercolor": "rgba(0,0,0,0.5)",
          "borderpad": 4,
          "borderwidth": 1,
          "font": {
           "color": "black",
           "size": 16
          },
          "showarrow": false,
          "text": "Overall Improvement: nan%",
          "x": 0.5,
          "xref": "paper",
          "y": 1.05,
          "yref": "paper"
         }
        ],
        "height": 600,
        "hovermode": "closest",
        "legend": {
         "bgcolor": "rgba(255,255,255,0.8)",
         "x": 0.01,
         "y": 0.99
        },
        "plot_bgcolor": "white",
        "template": {
         "data": {
          "bar": [
           {
            "error_x": {
             "color": "#2a3f5f"
            },
            "error_y": {
             "color": "#2a3f5f"
            },
            "marker": {
             "line": {
              "color": "#E5ECF6",
              "width": 0.5
             },
             "pattern": {
              "fillmode": "overlay",
              "size": 10,
              "solidity": 0.2
             }
            },
            "type": "bar"
           }
          ],
          "barpolar": [
           {
            "marker": {
             "line": {
              "color": "#E5ECF6",
              "width": 0.5
             },
             "pattern": {
              "fillmode": "overlay",
              "size": 10,
              "solidity": 0.2
             }
            },
            "type": "barpolar"
           }
          ],
          "carpet": [
           {
            "aaxis": {
             "endlinecolor": "#2a3f5f",
             "gridcolor": "white",
             "linecolor": "white",
             "minorgridcolor": "white",
             "startlinecolor": "#2a3f5f"
            },
            "baxis": {
             "endlinecolor": "#2a3f5f",
             "gridcolor": "white",
             "linecolor": "white",
             "minorgridcolor": "white",
             "startlinecolor": "#2a3f5f"
            },
            "type": "carpet"
           }
          ],
          "choropleth": [
           {
            "colorbar": {
             "outlinewidth": 0,
             "ticks": ""
            },
            "type": "choropleth"
           }
          ],
          "contour": [
           {
            "colorbar": {
             "outlinewidth": 0,
             "ticks": ""
            },
            "colorscale": [
             [
              0,
              "#0d0887"
             ],
             [
              0.1111111111111111,
              "#46039f"
             ],
             [
              0.2222222222222222,
              "#7201a8"
             ],
             [
              0.3333333333333333,
              "#9c179e"
             ],
             [
              0.4444444444444444,
              "#bd3786"
             ],
             [
              0.5555555555555556,
              "#d8576b"
             ],
             [
              0.6666666666666666,
              "#ed7953"
             ],
             [
              0.7777777777777778,
              "#fb9f3a"
             ],
             [
              0.8888888888888888,
              "#fdca26"
             ],
             [
              1,
              "#f0f921"
             ]
            ],
            "type": "contour"
           }
          ],
          "contourcarpet": [
           {
            "colorbar": {
             "outlinewidth": 0,
             "ticks": ""
            },
            "type": "contourcarpet"
           }
          ],
          "heatmap": [
           {
            "colorbar": {
             "outlinewidth": 0,
             "ticks": ""
            },
            "colorscale": [
             [
              0,
              "#0d0887"
             ],
             [
              0.1111111111111111,
              "#46039f"
             ],
             [
              0.2222222222222222,
              "#7201a8"
             ],
             [
              0.3333333333333333,
              "#9c179e"
             ],
             [
              0.4444444444444444,
              "#bd3786"
             ],
             [
              0.5555555555555556,
              "#d8576b"
             ],
             [
              0.6666666666666666,
              "#ed7953"
             ],
             [
              0.7777777777777778,
              "#fb9f3a"
             ],
             [
              0.8888888888888888,
              "#fdca26"
             ],
             [
              1,
              "#f0f921"
             ]
            ],
            "type": "heatmap"
           }
          ],
          "heatmapgl": [
           {
            "colorbar": {
             "outlinewidth": 0,
             "ticks": ""
            },
            "colorscale": [
             [
              0,
              "#0d0887"
             ],
             [
              0.1111111111111111,
              "#46039f"
             ],
             [
              0.2222222222222222,
              "#7201a8"
             ],
             [
              0.3333333333333333,
              "#9c179e"
             ],
             [
              0.4444444444444444,
              "#bd3786"
             ],
             [
              0.5555555555555556,
              "#d8576b"
             ],
             [
              0.6666666666666666,
              "#ed7953"
             ],
             [
              0.7777777777777778,
              "#fb9f3a"
             ],
             [
              0.8888888888888888,
              "#fdca26"
             ],
             [
              1,
              "#f0f921"
             ]
            ],
            "type": "heatmapgl"
           }
          ],
          "histogram": [
           {
            "marker": {
             "pattern": {
              "fillmode": "overlay",
              "size": 10,
              "solidity": 0.2
             }
            },
            "type": "histogram"
           }
          ],
          "histogram2d": [
           {
            "colorbar": {
             "outlinewidth": 0,
             "ticks": ""
            },
            "colorscale": [
             [
              0,
              "#0d0887"
             ],
             [
              0.1111111111111111,
              "#46039f"
             ],
             [
              0.2222222222222222,
              "#7201a8"
             ],
             [
              0.3333333333333333,
              "#9c179e"
             ],
             [
              0.4444444444444444,
              "#bd3786"
             ],
             [
              0.5555555555555556,
              "#d8576b"
             ],
             [
              0.6666666666666666,
              "#ed7953"
             ],
             [
              0.7777777777777778,
              "#fb9f3a"
             ],
             [
              0.8888888888888888,
              "#fdca26"
             ],
             [
              1,
              "#f0f921"
             ]
            ],
            "type": "histogram2d"
           }
          ],
          "histogram2dcontour": [
           {
            "colorbar": {
             "outlinewidth": 0,
             "ticks": ""
            },
            "colorscale": [
             [
              0,
              "#0d0887"
             ],
             [
              0.1111111111111111,
              "#46039f"
             ],
             [
              0.2222222222222222,
              "#7201a8"
             ],
             [
              0.3333333333333333,
              "#9c179e"
             ],
             [
              0.4444444444444444,
              "#bd3786"
             ],
             [
              0.5555555555555556,
              "#d8576b"
             ],
             [
              0.6666666666666666,
              "#ed7953"
             ],
             [
              0.7777777777777778,
              "#fb9f3a"
             ],
             [
              0.8888888888888888,
              "#fdca26"
             ],
             [
              1,
              "#f0f921"
             ]
            ],
            "type": "histogram2dcontour"
           }
          ],
          "mesh3d": [
           {
            "colorbar": {
             "outlinewidth": 0,
             "ticks": ""
            },
            "type": "mesh3d"
           }
          ],
          "parcoords": [
           {
            "line": {
             "colorbar": {
              "outlinewidth": 0,
              "ticks": ""
             }
            },
            "type": "parcoords"
           }
          ],
          "pie": [
           {
            "automargin": true,
            "type": "pie"
           }
          ],
          "scatter": [
           {
            "fillpattern": {
             "fillmode": "overlay",
             "size": 10,
             "solidity": 0.2
            },
            "type": "scatter"
           }
          ],
          "scatter3d": [
           {
            "line": {
             "colorbar": {
              "outlinewidth": 0,
              "ticks": ""
             }
            },
            "marker": {
             "colorbar": {
              "outlinewidth": 0,
              "ticks": ""
             }
            },
            "type": "scatter3d"
           }
          ],
          "scattercarpet": [
           {
            "marker": {
             "colorbar": {
              "outlinewidth": 0,
              "ticks": ""
             }
            },
            "type": "scattercarpet"
           }
          ],
          "scattergeo": [
           {
            "marker": {
             "colorbar": {
              "outlinewidth": 0,
              "ticks": ""
             }
            },
            "type": "scattergeo"
           }
          ],
          "scattergl": [
           {
            "marker": {
             "colorbar": {
              "outlinewidth": 0,
              "ticks": ""
             }
            },
            "type": "scattergl"
           }
          ],
          "scattermapbox": [
           {
            "marker": {
             "colorbar": {
              "outlinewidth": 0,
              "ticks": ""
             }
            },
            "type": "scattermapbox"
           }
          ],
          "scatterpolar": [
           {
            "marker": {
             "colorbar": {
              "outlinewidth": 0,
              "ticks": ""
             }
            },
            "type": "scatterpolar"
           }
          ],
          "scatterpolargl": [
           {
            "marker": {
             "colorbar": {
              "outlinewidth": 0,
              "ticks": ""
             }
            },
            "type": "scatterpolargl"
           }
          ],
          "scatterternary": [
           {
            "marker": {
             "colorbar": {
              "outlinewidth": 0,
              "ticks": ""
             }
            },
            "type": "scatterternary"
           }
          ],
          "surface": [
           {
            "colorbar": {
             "outlinewidth": 0,
             "ticks": ""
            },
            "colorscale": [
             [
              0,
              "#0d0887"
             ],
             [
              0.1111111111111111,
              "#46039f"
             ],
             [
              0.2222222222222222,
              "#7201a8"
             ],
             [
              0.3333333333333333,
              "#9c179e"
             ],
             [
              0.4444444444444444,
              "#bd3786"
             ],
             [
              0.5555555555555556,
              "#d8576b"
             ],
             [
              0.6666666666666666,
              "#ed7953"
             ],
             [
              0.7777777777777778,
              "#fb9f3a"
             ],
             [
              0.8888888888888888,
              "#fdca26"
             ],
             [
              1,
              "#f0f921"
             ]
            ],
            "type": "surface"
           }
          ],
          "table": [
           {
            "cells": {
             "fill": {
              "color": "#EBF0F8"
             },
             "line": {
              "color": "white"
             }
            },
            "header": {
             "fill": {
              "color": "#C8D4E3"
             },
             "line": {
              "color": "white"
             }
            },
            "type": "table"
           }
          ]
         },
         "layout": {
          "annotationdefaults": {
           "arrowcolor": "#2a3f5f",
           "arrowhead": 0,
           "arrowwidth": 1
          },
          "autotypenumbers": "strict",
          "coloraxis": {
           "colorbar": {
            "outlinewidth": 0,
            "ticks": ""
           }
          },
          "colorscale": {
           "diverging": [
            [
             0,
             "#8e0152"
            ],
            [
             0.1,
             "#c51b7d"
            ],
            [
             0.2,
             "#de77ae"
            ],
            [
             0.3,
             "#f1b6da"
            ],
            [
             0.4,
             "#fde0ef"
            ],
            [
             0.5,
             "#f7f7f7"
            ],
            [
             0.6,
             "#e6f5d0"
            ],
            [
             0.7,
             "#b8e186"
            ],
            [
             0.8,
             "#7fbc41"
            ],
            [
             0.9,
             "#4d9221"
            ],
            [
             1,
             "#276419"
            ]
           ],
           "sequential": [
            [
             0,
             "#0d0887"
            ],
            [
             0.1111111111111111,
             "#46039f"
            ],
            [
             0.2222222222222222,
             "#7201a8"
            ],
            [
             0.3333333333333333,
             "#9c179e"
            ],
            [
             0.4444444444444444,
             "#bd3786"
            ],
            [
             0.5555555555555556,
             "#d8576b"
            ],
            [
             0.6666666666666666,
             "#ed7953"
            ],
            [
             0.7777777777777778,
             "#fb9f3a"
            ],
            [
             0.8888888888888888,
             "#fdca26"
            ],
            [
             1,
             "#f0f921"
            ]
           ],
           "sequentialminus": [
            [
             0,
             "#0d0887"
            ],
            [
             0.1111111111111111,
             "#46039f"
            ],
            [
             0.2222222222222222,
             "#7201a8"
            ],
            [
             0.3333333333333333,
             "#9c179e"
            ],
            [
             0.4444444444444444,
             "#bd3786"
            ],
            [
             0.5555555555555556,
             "#d8576b"
            ],
            [
             0.6666666666666666,
             "#ed7953"
            ],
            [
             0.7777777777777778,
             "#fb9f3a"
            ],
            [
             0.8888888888888888,
             "#fdca26"
            ],
            [
             1,
             "#f0f921"
            ]
           ]
          },
          "colorway": [
           "#636efa",
           "#EF553B",
           "#00cc96",
           "#ab63fa",
           "#FFA15A",
           "#19d3f3",
           "#FF6692",
           "#B6E880",
           "#FF97FF",
           "#FECB52"
          ],
          "font": {
           "color": "#2a3f5f"
          },
          "geo": {
           "bgcolor": "white",
           "lakecolor": "white",
           "landcolor": "#E5ECF6",
           "showlakes": true,
           "showland": true,
           "subunitcolor": "white"
          },
          "hoverlabel": {
           "align": "left"
          },
          "hovermode": "closest",
          "mapbox": {
           "style": "light"
          },
          "paper_bgcolor": "white",
          "plot_bgcolor": "#E5ECF6",
          "polar": {
           "angularaxis": {
            "gridcolor": "white",
            "linecolor": "white",
            "ticks": ""
           },
           "bgcolor": "#E5ECF6",
           "radialaxis": {
            "gridcolor": "white",
            "linecolor": "white",
            "ticks": ""
           }
          },
          "scene": {
           "xaxis": {
            "backgroundcolor": "#E5ECF6",
            "gridcolor": "white",
            "gridwidth": 2,
            "linecolor": "white",
            "showbackground": true,
            "ticks": "",
            "zerolinecolor": "white"
           },
           "yaxis": {
            "backgroundcolor": "#E5ECF6",
            "gridcolor": "white",
            "gridwidth": 2,
            "linecolor": "white",
            "showbackground": true,
            "ticks": "",
            "zerolinecolor": "white"
           },
           "zaxis": {
            "backgroundcolor": "#E5ECF6",
            "gridcolor": "white",
            "gridwidth": 2,
            "linecolor": "white",
            "showbackground": true,
            "ticks": "",
            "zerolinecolor": "white"
           }
          },
          "shapedefaults": {
           "line": {
            "color": "#2a3f5f"
           }
          },
          "ternary": {
           "aaxis": {
            "gridcolor": "white",
            "linecolor": "white",
            "ticks": ""
           },
           "baxis": {
            "gridcolor": "white",
            "linecolor": "white",
            "ticks": ""
           },
           "bgcolor": "#E5ECF6",
           "caxis": {
            "gridcolor": "white",
            "linecolor": "white",
            "ticks": ""
           }
          },
          "title": {
           "x": 0.05
          },
          "xaxis": {
           "automargin": true,
           "gridcolor": "white",
           "linecolor": "white",
           "ticks": "",
           "title": {
            "standoff": 15
           },
           "zerolinecolor": "white",
           "zerolinewidth": 2
          },
          "yaxis": {
           "automargin": true,
           "gridcolor": "white",
           "linecolor": "white",
           "ticks": "",
           "title": {
            "standoff": 15
           },
           "zerolinecolor": "white",
           "zerolinewidth": 2
          }
         }
        },
        "title": {
         "font": {
          "size": 20
         },
         "text": "P50 Block Arrival Time Over Time",
         "x": 0.5,
         "xanchor": "center",
         "y": 0.95,
         "yanchor": "top"
        },
        "width": 1000,
        "xaxis": {
         "title": {
          "text": "Slot Number"
         }
        },
        "yaxis": {
         "title": {
          "text": "Arrival Time (ms)"
         }
        }
       }
      }
     },
     "metadata": {},
     "output_type": "display_data"
    },
    {
     "data": {
      "application/vnd.plotly.v1+json": {
       "config": {
        "plotlyServerURL": "https://plot.ly"
       },
       "data": [
        {
         "hovertemplate": "Slot: %{x}<br>Arrival Time: %{y:.1f}ms",
         "marker": {
          "color": "royalblue",
          "opacity": 0.5,
          "size": 5
         },
         "mode": "markers",
         "name": "Before RLNC (nft-devnet-2)",
         "type": "scatter",
         "x": [
          513,
          514,
          515,
          516,
          517,
          518,
          519,
          520,
          521,
          522,
          523,
          524,
          525,
          526,
          527,
          528,
          529,
          530,
          531,
          532,
          533,
          534,
          535,
          536,
          537,
          538,
          539,
          540,
          541,
          542,
          543,
          544,
          545,
          546,
          547,
          548,
          549,
          550,
          551,
          552,
          553,
          554,
          555,
          556,
          557,
          558,
          559,
          560,
          561,
          562,
          563,
          564,
          565,
          566,
          567,
          568,
          569,
          570,
          571,
          572,
          573,
          574,
          575,
          576,
          577,
          578,
          579,
          580,
          581,
          582,
          583,
          584,
          585,
          586,
          587,
          588,
          589,
          590,
          591,
          592,
          593,
          594,
          595,
          596,
          597,
          598,
          599,
          600,
          601,
          602,
          603,
          604,
          605,
          606,
          607,
          608,
          609,
          610,
          611,
          612,
          613,
          614,
          615,
          617,
          618,
          619,
          620,
          621,
          622,
          623,
          624,
          625,
          626,
          627,
          628,
          629,
          630,
          631,
          632,
          633,
          634,
          635,
          636,
          637,
          638,
          639,
          640,
          641,
          642,
          643,
          644,
          645,
          646,
          647,
          648,
          649,
          650,
          651,
          652,
          653,
          654,
          655,
          656,
          657,
          658,
          659,
          660,
          661,
          662,
          663,
          664,
          665,
          666,
          667,
          668,
          669,
          670,
          671,
          672,
          673,
          674,
          675,
          676,
          677,
          678,
          679,
          680,
          681,
          682,
          683,
          684,
          685,
          686,
          687,
          688,
          689,
          690,
          691,
          692,
          693,
          694,
          695,
          696,
          697,
          698,
          699,
          700,
          701,
          702,
          703,
          704,
          705,
          706,
          707,
          708,
          709,
          710,
          711,
          712,
          713,
          714,
          715,
          716,
          717,
          718,
          719,
          720,
          721,
          722,
          723,
          724,
          725,
          726,
          727,
          728,
          729,
          730,
          731,
          732,
          733,
          734,
          735,
          736,
          737,
          738,
          739,
          740,
          741,
          742,
          743,
          744,
          745,
          746,
          747,
          748,
          749,
          750,
          751,
          752,
          753,
          754,
          755,
          756,
          757,
          758,
          759,
          760,
          761,
          762,
          763,
          764,
          765,
          766,
          767,
          768,
          769,
          770,
          771,
          772,
          773,
          774,
          775,
          776,
          777,
          778,
          779,
          780,
          781,
          782,
          783
         ],
         "y": [
          3015,
          3221.8,
          3407.7999999999997,
          3309.8,
          3751,
          3241.4,
          3266.7999999999997,
          3515,
          3575.8,
          3318,
          3571.2,
          3421.6,
          3433,
          3854.4,
          3581.4,
          3298.7999999999997,
          3556.4,
          3612.4,
          3491,
          3558.6,
          3865,
          3845.6,
          3578.4,
          3516,
          3571.4,
          3346.4,
          3593.2,
          3456.8,
          3512,
          3927.5,
          3376.75,
          3526.5,
          3402.7999999999997,
          3703.2499999999995,
          3931.25,
          3794.75,
          3362.75,
          3967.25,
          3864.75,
          3599,
          3539.25,
          3522.5,
          3577.75,
          3551.5,
          3488.25,
          3493,
          3548,
          3584.75,
          3540.75,
          3526,
          3948.25,
          3518.5,
          3622.25,
          3555.25,
          3604.5,
          3594,
          3375.75,
          3615,
          3592.25,
          3576.25,
          3588.25,
          3457.5,
          3536.5,
          3840.75,
          3488.5,
          3724.75,
          3524.75,
          3383.5,
          3588,
          3428.75,
          3495.25,
          3476.25,
          3545.5,
          3484,
          3854.5,
          3531.5,
          3845.5,
          3537.75,
          3474.25,
          3545.25,
          3475,
          3514.75,
          3585.25,
          3576.25,
          3757.75,
          3577,
          3871.75,
          3553.25,
          3440.25,
          3564,
          3605.25,
          3863.25,
          3481.25,
          3902.5,
          3602.5,
          3449.75,
          3848,
          3307,
          3543,
          3490,
          3447,
          3552.5,
          3489.25,
          3683,
          3703.25,
          3950.75,
          3453,
          3647.5,
          3522.75,
          3712.25,
          4039.75,
          3550.5,
          3553.25,
          3559.75,
          3547.5,
          3406.25,
          3558.25,
          3521.5,
          3397.25,
          3711,
          3829,
          3606.5,
          3492.5,
          3814,
          3356.5,
          3568,
          3520.5,
          3518.75,
          3822.75,
          3839.5,
          3830.5,
          3634.75,
          3561,
          3497.75,
          3536.25,
          3840,
          3820,
          3805,
          3543.25,
          3535.25,
          3902,
          3902.25,
          3387,
          3419.5,
          3492.5,
          3505.25,
          3634.25,
          2681,
          2724,
          2746.75,
          2675,
          2752.5,
          2676.5,
          2592.25,
          2684.25,
          2292.75,
          2717.75,
          2280,
          2676,
          2292.75,
          2663,
          2331.5,
          2836.75,
          2285,
          2721.75,
          2790.25,
          2362.75,
          2670.25,
          2292.75,
          2683.5,
          2330,
          2691.25,
          2284.25,
          2860.25,
          2293.5,
          2674.75,
          2335,
          2758,
          2295.75,
          2689.25,
          2804,
          2323,
          2686.75,
          2339.75,
          2998,
          2320.75,
          2676.75,
          2303.75,
          2745.75,
          2284,
          2699.75,
          2292.5,
          2720.25,
          2348.25,
          2749.5,
          2287.25,
          2726.75,
          2619.5,
          2285.5,
          2958,
          2285.5,
          2684.25,
          2316.75,
          2643.25,
          2297,
          2631.75,
          2312.5,
          2721.25,
          2283.5,
          2706,
          2294.5,
          2792.75,
          2671.75,
          2295.25,
          2602.5,
          2316.5,
          2884.25,
          2288,
          2382.75,
          2289,
          2382.75,
          2532.5,
          2486.5,
          2633.75,
          2301.75,
          2531,
          2493.25,
          2289,
          2723.5,
          2341.25,
          2750.75,
          2309.25,
          2710.5,
          2291.25,
          2804.25,
          2283.75,
          2614.75,
          2825,
          2288,
          2646.75,
          2381.5,
          2808.5,
          2300,
          2614.75,
          2334.75,
          2751.25,
          2347.5,
          2710.75,
          2289.25,
          2756.25,
          2481.25,
          2287,
          2553.75,
          2292.25,
          2719.75,
          2261.75,
          2430.75,
          2310,
          2333.5,
          2296,
          2326,
          2298,
          2291.75,
          2276.5,
          2274.75,
          2319.75,
          2279.75,
          2276.75,
          2331,
          2285.5
         ]
        },
        {
         "hovertemplate": "Slot: %{x}<br>Arrival Time: %{y:.1f}ms",
         "marker": {
          "color": "green",
          "opacity": 0.5,
          "size": 5
         },
         "mode": "markers",
         "name": "After RLNC (nft-devnet-3)",
         "type": "scatter",
         "x": [],
         "y": []
        },
        {
         "hovertemplate": "Slot: %{x}<br>Rolling Avg: %{y:.1f}ms",
         "line": {
          "color": "navy",
          "width": 3
         },
         "mode": "lines",
         "name": "Before RLNC Rolling Avg (100 slots)",
         "type": "scatter",
         "x": [
          513,
          514,
          515,
          516,
          517,
          518,
          519,
          520,
          521,
          522,
          523,
          524,
          525,
          526,
          527,
          528,
          529,
          530,
          531,
          532,
          533,
          534,
          535,
          536,
          537,
          538,
          539,
          540,
          541,
          542,
          543,
          544,
          545,
          546,
          547,
          548,
          549,
          550,
          551,
          552,
          553,
          554,
          555,
          556,
          557,
          558,
          559,
          560,
          561,
          562,
          563,
          564,
          565,
          566,
          567,
          568,
          569,
          570,
          571,
          572,
          573,
          574,
          575,
          576,
          577,
          578,
          579,
          580,
          581,
          582,
          583,
          584,
          585,
          586,
          587,
          588,
          589,
          590,
          591,
          592,
          593,
          594,
          595,
          596,
          597,
          598,
          599,
          600,
          601,
          602,
          603,
          604,
          605,
          606,
          607,
          608,
          609,
          610,
          611,
          612,
          613,
          614,
          615,
          617,
          618,
          619,
          620,
          621,
          622,
          623,
          624,
          625,
          626,
          627,
          628,
          629,
          630,
          631,
          632,
          633,
          634,
          635,
          636,
          637,
          638,
          639,
          640,
          641,
          642,
          643,
          644,
          645,
          646,
          647,
          648,
          649,
          650,
          651,
          652,
          653,
          654,
          655,
          656,
          657,
          658,
          659,
          660,
          661,
          662,
          663,
          664,
          665,
          666,
          667,
          668,
          669,
          670,
          671,
          672,
          673,
          674,
          675,
          676,
          677,
          678,
          679,
          680,
          681,
          682,
          683,
          684,
          685,
          686,
          687,
          688,
          689,
          690,
          691,
          692,
          693,
          694,
          695,
          696,
          697,
          698,
          699,
          700,
          701,
          702,
          703,
          704,
          705,
          706,
          707,
          708,
          709,
          710,
          711,
          712,
          713,
          714,
          715,
          716,
          717,
          718,
          719,
          720,
          721,
          722,
          723,
          724,
          725,
          726,
          727,
          728,
          729,
          730,
          731,
          732,
          733,
          734,
          735,
          736,
          737,
          738,
          739,
          740,
          741,
          742,
          743,
          744,
          745,
          746,
          747,
          748,
          749,
          750,
          751,
          752,
          753,
          754,
          755,
          756,
          757,
          758,
          759,
          760,
          761,
          762,
          763,
          764,
          765,
          766,
          767,
          768,
          769,
          770,
          771,
          772,
          773,
          774,
          775,
          776,
          777,
          778,
          779,
          780,
          781,
          782,
          783
         ],
         "y": [
          3015,
          3118.4,
          3214.866666666667,
          3238.6,
          3341.0800000000004,
          3324.4666666666667,
          3316.2285714285713,
          3341.075,
          3367.1555555555556,
          3362.2400000000002,
          3381.2363636363634,
          3384.6,
          3388.3230769230768,
          3421.6142857142854,
          3432.266666666667,
          3423.925,
          3431.7176470588233,
          3441.7555555555555,
          3444.3473684210526,
          3450.06,
          3469.8190476190475,
          3486.9,
          3490.878260869565,
          3491.9249999999997,
          3495.1040000000003,
          3489.3846153846152,
          3493.2296296296295,
          3491.9285714285716,
          3492.6206896551726,
          3507.116666666667,
          3502.9112903225805,
          3503.6484375,
          3500.5924242424244,
          3506.5529411764705,
          3518.687142857143,
          3526.355555555556,
          3521.933783783784,
          3533.652631578947,
          3542.1423076923074,
          3543.56375,
          3543.4585365853654,
          3542.9595238095235,
          3543.7686046511626,
          3543.944318181818,
          3542.7066666666665,
          3541.6260869565217,
          3541.761702127659,
          3542.6572916666664,
          3542.6183673469386,
          3542.2859999999996,
          3550.246078431372,
          3549.6355769230768,
          3551.0056603773583,
          3551.084259259259,
          3552.0554545454543,
          3552.804464285714,
          3549.698245614035,
          3550.8241379310343,
          3551.5262711864407,
          3551.938333333333,
          3552.533606557377,
          3551.000806451613,
          3550.7706349206346,
          3555.3015625,
          3554.273846153846,
          3556.856818181818,
          3556.3776119402983,
          3553.8352941176468,
          3554.3304347826083,
          3552.5364285714286,
          3551.7295774647887,
          3550.6812499999996,
          3550.6102739726025,
          3549.710135135135,
          3553.774,
          3553.4809210526314,
          3557.2733766233764,
          3557.0230769230766,
          3555.975316455696,
          3555.84125,
          3554.843209876543,
          3554.3542682926827,
          3554.726506024096,
          3554.982738095238,
          3557.3682352941173,
          3557.5965116279067,
          3561.2074712643675,
          3561.1170454545454,
          3559.7589887640447,
          3559.806111111111,
          3560.305494505494,
          3563.598369565217,
          3562.7129032258063,
          3566.327659574468,
          3566.7084210526314,
          3565.4901041666667,
          3568.4025773195876,
          3565.7352040816327,
          3565.5055555555555,
          3564.7505,
          3569.0705,
          3572.3775,
          3573.192,
          3576.9239999999995,
          3576.4464999999996,
          3583.54,
          3585.402,
          3586.7270000000003,
          3586.1964999999996,
          3590.1389999999997,
          3594.8245,
          3596.1135,
          3597.316,
          3594.3695000000002,
          3594.0305,
          3595.105,
          3595.1234999999997,
          3594.2145,
          3593.277,
          3594.801,
          3594.441,
          3592.05,
          3591.191,
          3594.171,
          3592.022,
          3594.238,
          3593.511,
          3594.1304999999998,
          3597.238,
          3596.3579999999997,
          3600.8955,
          3601.978,
          3603.56,
          3601.505,
          3597.555,
          3598.0075,
          3602.58,
          3600.9575,
          3597.7425,
          3597.105,
          3600.7325,
          3604.53,
          3602.6225,
          3601.3025,
          3601.345,
          3601.4675,
          3602.33,
          3593.2925,
          3585.125,
          3577.3325,
          3564.6,
          3556.94,
          3547.4825,
          3537.8525,
          3528.65,
          3515.6375,
          3509.0575,
          3495.7075,
          3486.545,
          3473.71,
          3464.4575,
          3453.1975,
          3446.2,
          3430.6425,
          3422.975,
          3413.63,
          3402.01,
          3394.8775,
          3381.925,
          3374.4725,
          3362.82,
          3354.97,
          3342.3575,
          3336.12,
          3320.51,
          3311.9425,
          3296.8375,
          3289.04,
          3277.255,
          3268.695,
          3261.985,
          3250.0675,
          3241.0825,
          3228.7175,
          3221.12,
          3208.5575,
          3196.6075,
          3184.1125,
          3177.1675,
          3164.3675,
          3155.3125,
          3139.605,
          3131.995,
          3116.4525,
          3107.9225,
          3096.2975,
          3085.085,
          3078.21,
          3065.635,
          3060.315,
          3048.7,
          3040.0175,
          3028.2925,
          3017.895,
          3003.8325,
          2990.6425,
          2979.2375,
          2969.975,
          2957.5825,
          2947.52,
          2930.0675,
          2922.49,
          2913.675,
          2901.03,
          2891.58,
          2880.6825,
          2873.9425,
          2861.6075,
          2851.4625,
          2837.2425,
          2822.78,
          2812.04,
          2801.98,
          2790.1775,
          2779.63,
          2769.26,
          2758.9875,
          2746.69,
          2735.6975,
          2720.715,
          2709.9175,
          2696.6625,
          2688.1575,
          2676.0925,
          2668.7725,
          2653.21,
          2641.1575,
          2631.3575,
          2618.805,
          2609.92,
          2594.715,
          2583.7775,
          2572.9075,
          2564.86,
          2553.2825,
          2545.7425,
          2532.875,
          2533.1725,
          2528.825,
          2528.92,
          2526.9825,
          2522.3275,
          2521.1,
          2518.1,
          2518.455,
          2518.145,
          2515.275,
          2515.575,
          2512.15,
          2512.1825,
          2508.8125,
          2508.4775,
          2503.0275,
          2502.9425,
          2498.4725,
          2493.7675,
          2492.9375,
          2489.0025,
          2489.385,
          2485.405
         ]
        },
        {
         "hovertemplate": "Slot: %{x}<br>Rolling Avg: %{y:.1f}ms",
         "line": {
          "color": "darkgreen",
          "width": 3
         },
         "mode": "lines",
         "name": "After RLNC Rolling Avg (100 slots)",
         "type": "scatter",
         "x": [],
         "y": []
        },
        {
         "hoverinfo": "name",
         "line": {
          "color": "navy",
          "dash": "dash",
          "width": 2
         },
         "mode": "lines",
         "name": "Before RLNC Average: 3091.4ms",
         "type": "scatter",
         "x": [
          513,
          783
         ],
         "y": [
          3091.352962962963,
          3091.352962962963
         ]
        },
        {
         "hoverinfo": "name",
         "line": {
          "color": "darkgreen",
          "dash": "dash",
          "width": 2
         },
         "mode": "lines",
         "name": "After RLNC Average: nanms",
         "type": "scatter",
         "x": [
          null,
          null
         ],
         "y": [
          null,
          null
         ]
        }
       ],
       "layout": {
        "annotations": [
         {
          "bgcolor": "rgba(255,255,255,0.8)",
          "bordercolor": "rgba(0,0,0,0.5)",
          "borderpad": 4,
          "borderwidth": 1,
          "font": {
           "color": "black",
           "size": 16
          },
          "showarrow": false,
          "text": "Overall Improvement: nan%",
          "x": 0.5,
          "xref": "paper",
          "y": 1.05,
          "yref": "paper"
         }
        ],
        "height": 600,
        "hovermode": "closest",
        "legend": {
         "bgcolor": "rgba(255,255,255,0.8)",
         "x": 0.01,
         "y": 0.99
        },
        "plot_bgcolor": "white",
        "template": {
         "data": {
          "bar": [
           {
            "error_x": {
             "color": "#2a3f5f"
            },
            "error_y": {
             "color": "#2a3f5f"
            },
            "marker": {
             "line": {
              "color": "#E5ECF6",
              "width": 0.5
             },
             "pattern": {
              "fillmode": "overlay",
              "size": 10,
              "solidity": 0.2
             }
            },
            "type": "bar"
           }
          ],
          "barpolar": [
           {
            "marker": {
             "line": {
              "color": "#E5ECF6",
              "width": 0.5
             },
             "pattern": {
              "fillmode": "overlay",
              "size": 10,
              "solidity": 0.2
             }
            },
            "type": "barpolar"
           }
          ],
          "carpet": [
           {
            "aaxis": {
             "endlinecolor": "#2a3f5f",
             "gridcolor": "white",
             "linecolor": "white",
             "minorgridcolor": "white",
             "startlinecolor": "#2a3f5f"
            },
            "baxis": {
             "endlinecolor": "#2a3f5f",
             "gridcolor": "white",
             "linecolor": "white",
             "minorgridcolor": "white",
             "startlinecolor": "#2a3f5f"
            },
            "type": "carpet"
           }
          ],
          "choropleth": [
           {
            "colorbar": {
             "outlinewidth": 0,
             "ticks": ""
            },
            "type": "choropleth"
           }
          ],
          "contour": [
           {
            "colorbar": {
             "outlinewidth": 0,
             "ticks": ""
            },
            "colorscale": [
             [
              0,
              "#0d0887"
             ],
             [
              0.1111111111111111,
              "#46039f"
             ],
             [
              0.2222222222222222,
              "#7201a8"
             ],
             [
              0.3333333333333333,
              "#9c179e"
             ],
             [
              0.4444444444444444,
              "#bd3786"
             ],
             [
              0.5555555555555556,
              "#d8576b"
             ],
             [
              0.6666666666666666,
              "#ed7953"
             ],
             [
              0.7777777777777778,
              "#fb9f3a"
             ],
             [
              0.8888888888888888,
              "#fdca26"
             ],
             [
              1,
              "#f0f921"
             ]
            ],
            "type": "contour"
           }
          ],
          "contourcarpet": [
           {
            "colorbar": {
             "outlinewidth": 0,
             "ticks": ""
            },
            "type": "contourcarpet"
           }
          ],
          "heatmap": [
           {
            "colorbar": {
             "outlinewidth": 0,
             "ticks": ""
            },
            "colorscale": [
             [
              0,
              "#0d0887"
             ],
             [
              0.1111111111111111,
              "#46039f"
             ],
             [
              0.2222222222222222,
              "#7201a8"
             ],
             [
              0.3333333333333333,
              "#9c179e"
             ],
             [
              0.4444444444444444,
              "#bd3786"
             ],
             [
              0.5555555555555556,
              "#d8576b"
             ],
             [
              0.6666666666666666,
              "#ed7953"
             ],
             [
              0.7777777777777778,
              "#fb9f3a"
             ],
             [
              0.8888888888888888,
              "#fdca26"
             ],
             [
              1,
              "#f0f921"
             ]
            ],
            "type": "heatmap"
           }
          ],
          "heatmapgl": [
           {
            "colorbar": {
             "outlinewidth": 0,
             "ticks": ""
            },
            "colorscale": [
             [
              0,
              "#0d0887"
             ],
             [
              0.1111111111111111,
              "#46039f"
             ],
             [
              0.2222222222222222,
              "#7201a8"
             ],
             [
              0.3333333333333333,
              "#9c179e"
             ],
             [
              0.4444444444444444,
              "#bd3786"
             ],
             [
              0.5555555555555556,
              "#d8576b"
             ],
             [
              0.6666666666666666,
              "#ed7953"
             ],
             [
              0.7777777777777778,
              "#fb9f3a"
             ],
             [
              0.8888888888888888,
              "#fdca26"
             ],
             [
              1,
              "#f0f921"
             ]
            ],
            "type": "heatmapgl"
           }
          ],
          "histogram": [
           {
            "marker": {
             "pattern": {
              "fillmode": "overlay",
              "size": 10,
              "solidity": 0.2
             }
            },
            "type": "histogram"
           }
          ],
          "histogram2d": [
           {
            "colorbar": {
             "outlinewidth": 0,
             "ticks": ""
            },
            "colorscale": [
             [
              0,
              "#0d0887"
             ],
             [
              0.1111111111111111,
              "#46039f"
             ],
             [
              0.2222222222222222,
              "#7201a8"
             ],
             [
              0.3333333333333333,
              "#9c179e"
             ],
             [
              0.4444444444444444,
              "#bd3786"
             ],
             [
              0.5555555555555556,
              "#d8576b"
             ],
             [
              0.6666666666666666,
              "#ed7953"
             ],
             [
              0.7777777777777778,
              "#fb9f3a"
             ],
             [
              0.8888888888888888,
              "#fdca26"
             ],
             [
              1,
              "#f0f921"
             ]
            ],
            "type": "histogram2d"
           }
          ],
          "histogram2dcontour": [
           {
            "colorbar": {
             "outlinewidth": 0,
             "ticks": ""
            },
            "colorscale": [
             [
              0,
              "#0d0887"
             ],
             [
              0.1111111111111111,
              "#46039f"
             ],
             [
              0.2222222222222222,
              "#7201a8"
             ],
             [
              0.3333333333333333,
              "#9c179e"
             ],
             [
              0.4444444444444444,
              "#bd3786"
             ],
             [
              0.5555555555555556,
              "#d8576b"
             ],
             [
              0.6666666666666666,
              "#ed7953"
             ],
             [
              0.7777777777777778,
              "#fb9f3a"
             ],
             [
              0.8888888888888888,
              "#fdca26"
             ],
             [
              1,
              "#f0f921"
             ]
            ],
            "type": "histogram2dcontour"
           }
          ],
          "mesh3d": [
           {
            "colorbar": {
             "outlinewidth": 0,
             "ticks": ""
            },
            "type": "mesh3d"
           }
          ],
          "parcoords": [
           {
            "line": {
             "colorbar": {
              "outlinewidth": 0,
              "ticks": ""
             }
            },
            "type": "parcoords"
           }
          ],
          "pie": [
           {
            "automargin": true,
            "type": "pie"
           }
          ],
          "scatter": [
           {
            "fillpattern": {
             "fillmode": "overlay",
             "size": 10,
             "solidity": 0.2
            },
            "type": "scatter"
           }
          ],
          "scatter3d": [
           {
            "line": {
             "colorbar": {
              "outlinewidth": 0,
              "ticks": ""
             }
            },
            "marker": {
             "colorbar": {
              "outlinewidth": 0,
              "ticks": ""
             }
            },
            "type": "scatter3d"
           }
          ],
          "scattercarpet": [
           {
            "marker": {
             "colorbar": {
              "outlinewidth": 0,
              "ticks": ""
             }
            },
            "type": "scattercarpet"
           }
          ],
          "scattergeo": [
           {
            "marker": {
             "colorbar": {
              "outlinewidth": 0,
              "ticks": ""
             }
            },
            "type": "scattergeo"
           }
          ],
          "scattergl": [
           {
            "marker": {
             "colorbar": {
              "outlinewidth": 0,
              "ticks": ""
             }
            },
            "type": "scattergl"
           }
          ],
          "scattermapbox": [
           {
            "marker": {
             "colorbar": {
              "outlinewidth": 0,
              "ticks": ""
             }
            },
            "type": "scattermapbox"
           }
          ],
          "scatterpolar": [
           {
            "marker": {
             "colorbar": {
              "outlinewidth": 0,
              "ticks": ""
             }
            },
            "type": "scatterpolar"
           }
          ],
          "scatterpolargl": [
           {
            "marker": {
             "colorbar": {
              "outlinewidth": 0,
              "ticks": ""
             }
            },
            "type": "scatterpolargl"
           }
          ],
          "scatterternary": [
           {
            "marker": {
             "colorbar": {
              "outlinewidth": 0,
              "ticks": ""
             }
            },
            "type": "scatterternary"
           }
          ],
          "surface": [
           {
            "colorbar": {
             "outlinewidth": 0,
             "ticks": ""
            },
            "colorscale": [
             [
              0,
              "#0d0887"
             ],
             [
              0.1111111111111111,
              "#46039f"
             ],
             [
              0.2222222222222222,
              "#7201a8"
             ],
             [
              0.3333333333333333,
              "#9c179e"
             ],
             [
              0.4444444444444444,
              "#bd3786"
             ],
             [
              0.5555555555555556,
              "#d8576b"
             ],
             [
              0.6666666666666666,
              "#ed7953"
             ],
             [
              0.7777777777777778,
              "#fb9f3a"
             ],
             [
              0.8888888888888888,
              "#fdca26"
             ],
             [
              1,
              "#f0f921"
             ]
            ],
            "type": "surface"
           }
          ],
          "table": [
           {
            "cells": {
             "fill": {
              "color": "#EBF0F8"
             },
             "line": {
              "color": "white"
             }
            },
            "header": {
             "fill": {
              "color": "#C8D4E3"
             },
             "line": {
              "color": "white"
             }
            },
            "type": "table"
           }
          ]
         },
         "layout": {
          "annotationdefaults": {
           "arrowcolor": "#2a3f5f",
           "arrowhead": 0,
           "arrowwidth": 1
          },
          "autotypenumbers": "strict",
          "coloraxis": {
           "colorbar": {
            "outlinewidth": 0,
            "ticks": ""
           }
          },
          "colorscale": {
           "diverging": [
            [
             0,
             "#8e0152"
            ],
            [
             0.1,
             "#c51b7d"
            ],
            [
             0.2,
             "#de77ae"
            ],
            [
             0.3,
             "#f1b6da"
            ],
            [
             0.4,
             "#fde0ef"
            ],
            [
             0.5,
             "#f7f7f7"
            ],
            [
             0.6,
             "#e6f5d0"
            ],
            [
             0.7,
             "#b8e186"
            ],
            [
             0.8,
             "#7fbc41"
            ],
            [
             0.9,
             "#4d9221"
            ],
            [
             1,
             "#276419"
            ]
           ],
           "sequential": [
            [
             0,
             "#0d0887"
            ],
            [
             0.1111111111111111,
             "#46039f"
            ],
            [
             0.2222222222222222,
             "#7201a8"
            ],
            [
             0.3333333333333333,
             "#9c179e"
            ],
            [
             0.4444444444444444,
             "#bd3786"
            ],
            [
             0.5555555555555556,
             "#d8576b"
            ],
            [
             0.6666666666666666,
             "#ed7953"
            ],
            [
             0.7777777777777778,
             "#fb9f3a"
            ],
            [
             0.8888888888888888,
             "#fdca26"
            ],
            [
             1,
             "#f0f921"
            ]
           ],
           "sequentialminus": [
            [
             0,
             "#0d0887"
            ],
            [
             0.1111111111111111,
             "#46039f"
            ],
            [
             0.2222222222222222,
             "#7201a8"
            ],
            [
             0.3333333333333333,
             "#9c179e"
            ],
            [
             0.4444444444444444,
             "#bd3786"
            ],
            [
             0.5555555555555556,
             "#d8576b"
            ],
            [
             0.6666666666666666,
             "#ed7953"
            ],
            [
             0.7777777777777778,
             "#fb9f3a"
            ],
            [
             0.8888888888888888,
             "#fdca26"
            ],
            [
             1,
             "#f0f921"
            ]
           ]
          },
          "colorway": [
           "#636efa",
           "#EF553B",
           "#00cc96",
           "#ab63fa",
           "#FFA15A",
           "#19d3f3",
           "#FF6692",
           "#B6E880",
           "#FF97FF",
           "#FECB52"
          ],
          "font": {
           "color": "#2a3f5f"
          },
          "geo": {
           "bgcolor": "white",
           "lakecolor": "white",
           "landcolor": "#E5ECF6",
           "showlakes": true,
           "showland": true,
           "subunitcolor": "white"
          },
          "hoverlabel": {
           "align": "left"
          },
          "hovermode": "closest",
          "mapbox": {
           "style": "light"
          },
          "paper_bgcolor": "white",
          "plot_bgcolor": "#E5ECF6",
          "polar": {
           "angularaxis": {
            "gridcolor": "white",
            "linecolor": "white",
            "ticks": ""
           },
           "bgcolor": "#E5ECF6",
           "radialaxis": {
            "gridcolor": "white",
            "linecolor": "white",
            "ticks": ""
           }
          },
          "scene": {
           "xaxis": {
            "backgroundcolor": "#E5ECF6",
            "gridcolor": "white",
            "gridwidth": 2,
            "linecolor": "white",
            "showbackground": true,
            "ticks": "",
            "zerolinecolor": "white"
           },
           "yaxis": {
            "backgroundcolor": "#E5ECF6",
            "gridcolor": "white",
            "gridwidth": 2,
            "linecolor": "white",
            "showbackground": true,
            "ticks": "",
            "zerolinecolor": "white"
           },
           "zaxis": {
            "backgroundcolor": "#E5ECF6",
            "gridcolor": "white",
            "gridwidth": 2,
            "linecolor": "white",
            "showbackground": true,
            "ticks": "",
            "zerolinecolor": "white"
           }
          },
          "shapedefaults": {
           "line": {
            "color": "#2a3f5f"
           }
          },
          "ternary": {
           "aaxis": {
            "gridcolor": "white",
            "linecolor": "white",
            "ticks": ""
           },
           "baxis": {
            "gridcolor": "white",
            "linecolor": "white",
            "ticks": ""
           },
           "bgcolor": "#E5ECF6",
           "caxis": {
            "gridcolor": "white",
            "linecolor": "white",
            "ticks": ""
           }
          },
          "title": {
           "x": 0.05
          },
          "xaxis": {
           "automargin": true,
           "gridcolor": "white",
           "linecolor": "white",
           "ticks": "",
           "title": {
            "standoff": 15
           },
           "zerolinecolor": "white",
           "zerolinewidth": 2
          },
          "yaxis": {
           "automargin": true,
           "gridcolor": "white",
           "linecolor": "white",
           "ticks": "",
           "title": {
            "standoff": 15
           },
           "zerolinecolor": "white",
           "zerolinewidth": 2
          }
         }
        },
        "title": {
         "font": {
          "size": 20
         },
         "text": "P95 Block Arrival Time Over Time",
         "x": 0.5,
         "xanchor": "center",
         "y": 0.95,
         "yanchor": "top"
        },
        "width": 1000,
        "xaxis": {
         "title": {
          "text": "Slot Number"
         }
        },
        "yaxis": {
         "title": {
          "text": "Arrival Time (ms)"
         }
        }
       }
      }
     },
     "metadata": {},
     "output_type": "display_data"
    }
   ],
   "source": [
    "def create_timeseries_plot(before_metrics, after_metrics, metric='p50_arrival_time', window=100):\n",
    "    \"\"\"\n",
    "    Create a time series plot with rolling average for both networks.\n",
    "    \n",
    "    Args:\n",
    "        before_metrics (DataFrame): Metrics for the before network\n",
    "        after_metrics (DataFrame): Metrics for the after network\n",
    "        metric (str): The metric to plot\n",
    "        window (int): Window size for rolling average\n",
    "        \n",
    "    Returns:\n",
    "        plotly.graph_objects.Figure: The plotly figure\n",
    "    \"\"\"\n",
    "    # Sort by slot\n",
    "    before_metrics = before_metrics.sort_values('slot')\n",
    "    after_metrics = after_metrics.sort_values('slot')\n",
    "    \n",
    "    # Calculate rolling averages\n",
    "    before_metrics['rolling_avg'] = before_metrics[metric].rolling(window=window, min_periods=1).mean()\n",
    "    after_metrics['rolling_avg'] = after_metrics[metric].rolling(window=window, min_periods=1).mean()\n",
    "    \n",
    "    # Create figure\n",
    "    fig = go.Figure()\n",
    "    \n",
    "    # Add scatter plots for raw data\n",
    "    fig.add_trace(go.Scatter(\n",
    "        x=before_metrics['slot'],\n",
    "        y=before_metrics[metric],\n",
    "        mode='markers',\n",
    "        name=f'Before RLNC ({config[\"before\"][\"network\"]})',\n",
    "        marker=dict(color='royalblue', size=5, opacity=0.5),\n",
    "        hovertemplate='Slot: %{x}<br>Arrival Time: %{y:.1f}ms'\n",
    "    ))\n",
    "    \n",
    "    fig.add_trace(go.Scatter(\n",
    "        x=after_metrics['slot'],\n",
    "        y=after_metrics[metric],\n",
    "        mode='markers',\n",
    "        name=f'After RLNC ({config[\"after\"][\"network\"]})',\n",
    "        marker=dict(color='green', size=5, opacity=0.5),\n",
    "        hovertemplate='Slot: %{x}<br>Arrival Time: %{y:.1f}ms'\n",
    "    ))\n",
    "    \n",
    "    # Add rolling average lines\n",
    "    fig.add_trace(go.Scatter(\n",
    "        x=before_metrics['slot'],\n",
    "        y=before_metrics['rolling_avg'],\n",
    "        mode='lines',\n",
    "        name=f'Before RLNC Rolling Avg ({window} slots)',\n",
    "        line=dict(color='navy', width=3),\n",
    "        hovertemplate='Slot: %{x}<br>Rolling Avg: %{y:.1f}ms'\n",
    "    ))\n",
    "    \n",
    "    fig.add_trace(go.Scatter(\n",
    "        x=after_metrics['slot'],\n",
    "        y=after_metrics['rolling_avg'],\n",
    "        mode='lines',\n",
    "        name=f'After RLNC Rolling Avg ({window} slots)',\n",
    "        line=dict(color='darkgreen', width=3),\n",
    "        hovertemplate='Slot: %{x}<br>Rolling Avg: %{y:.1f}ms'\n",
    "    ))\n",
    "    \n",
    "    # Add horizontal lines for overall averages\n",
    "    before_avg = before_metrics[metric].mean()\n",
    "    after_avg = after_metrics[metric].mean()\n",
    "    \n",
    "    fig.add_trace(go.Scatter(\n",
    "        x=[before_metrics['slot'].min(), before_metrics['slot'].max()],\n",
    "        y=[before_avg, before_avg],\n",
    "        mode='lines',\n",
    "        name=f'Before RLNC Average: {before_avg:.1f}ms',\n",
    "        line=dict(color='navy', width=2, dash='dash'),\n",
    "        hoverinfo='name'\n",
    "    ))\n",
    "    \n",
    "    fig.add_trace(go.Scatter(\n",
    "        x=[after_metrics['slot'].min(), after_metrics['slot'].max()],\n",
    "        y=[after_avg, after_avg],\n",
    "        mode='lines',\n",
    "        name=f'After RLNC Average: {after_avg:.1f}ms',\n",
    "        line=dict(color='darkgreen', width=2, dash='dash'),\n",
    "        hoverinfo='name'\n",
    "    ))\n",
    "    \n",
    "    # Update layout\n",
    "    fig.update_layout(\n",
    "        title={\n",
    "            'text': f\"{metric.replace('_arrival_time', '').title()} Block Arrival Time Over Time\",\n",
    "            'y': 0.95,\n",
    "            'x': 0.5,\n",
    "            'xanchor': 'center',\n",
    "            'yanchor': 'top',\n",
    "            'font': dict(size=20)\n",
    "        },\n",
    "        xaxis_title=\"Slot Number\",\n",
    "        yaxis_title=\"Arrival Time (ms)\",\n",
    "        legend=dict(x=0.01, y=0.99, bgcolor='rgba(255,255,255,0.8)'),\n",
    "        hovermode='closest',\n",
    "        plot_bgcolor='white',\n",
    "        height=600,\n",
    "        width=1000\n",
    "    )\n",
    "    \n",
    "    # Add improvement annotation\n",
    "    if before_avg > 0:\n",
    "        improvement_pct = (before_avg - after_avg) / before_avg * 100\n",
    "        fig.add_annotation(\n",
    "            x=0.5,\n",
    "            y=1.05,\n",
    "            xref=\"paper\",\n",
    "            yref=\"paper\",\n",
    "            text=f\"Overall Improvement: {improvement_pct:.1f}%\",\n",
    "            showarrow=False,\n",
    "            font=dict(size=16, color=\"black\"),\n",
    "            bgcolor=\"rgba(255,255,255,0.8)\",\n",
    "            bordercolor=\"rgba(0,0,0,0.5)\",\n",
    "            borderwidth=1,\n",
    "            borderpad=4\n",
    "        )\n",
    "    \n",
    "    return fig\n",
    "\n",
    "# Create time series plots for different metrics\n",
    "for metric in metrics_to_plot:\n",
    "    fig = create_timeseries_plot(before_metrics, after_metrics, metric)\n",
    "    fig.show()"
   ]
  },
  {
   "cell_type": "markdown",
   "metadata": {},
   "source": [
    "## Analysis by Blob Count\n",
    "\n",
    "Let's analyze how the number of blobs affects the arrival time improvements."
   ]
  },
  {
   "cell_type": "code",
   "execution_count": 7,
   "metadata": {},
   "outputs": [
    {
     "data": {
      "application/vnd.plotly.v1+json": {
       "config": {
        "plotlyServerURL": "https://plot.ly"
       },
       "data": [
        {
         "error_y": {
          "array": [
           240.2530046655189,
           49.875678775665094,
           43.79783099652308,
           83.43860018001261,
           59.22485401698629,
           37.570885384449305
          ],
          "type": "data",
          "visible": true
         },
         "hovertemplate": "Blob Count: %{x}<br>Arrival Time: %{y:.1f}ms<br>Sample Size: %{text}",
         "marker": {
          "color": "royalblue"
         },
         "name": "Before RLNC (nft-devnet-2)",
         "text": [
          249,
          4,
          4,
          2,
          4,
          7
         ],
         "type": "bar",
         "x": [
          0,
          1,
          2,
          3,
          4,
          6
         ],
         "xaxis": "x",
         "y": [
          2463.74297188755,
          2175.25,
          2228.25,
          2180,
          2205.75,
          2184.285714285714
         ],
         "yaxis": "y"
        },
        {
         "error_y": {
          "array": [
           null,
           null,
           null,
           null,
           null,
           null
          ],
          "type": "data",
          "visible": true
         },
         "hovertemplate": "Blob Count: %{x}<br>Arrival Time: %{y:.1f}ms<br>Sample Size: %{text}",
         "marker": {
          "color": "green"
         },
         "name": "After RLNC (nft-devnet-3)",
         "text": [
          null,
          null,
          null,
          null,
          null,
          null
         ],
         "type": "bar",
         "x": [
          0,
          1,
          2,
          3,
          4,
          6
         ],
         "xaxis": "x",
         "y": [
          null,
          null,
          null,
          null,
          null,
          null
         ],
         "yaxis": "y"
        },
        {
         "hovertemplate": "Blob Count: %{x}<br>Improvement: %{y:.1f}%",
         "marker": {
          "color": [
           "red",
           "red",
           "red",
           "red",
           "red",
           "red"
          ]
         },
         "name": "Improvement %",
         "text": [
          "nan%",
          "nan%",
          "nan%",
          "nan%",
          "nan%",
          "nan%"
         ],
         "textposition": "auto",
         "type": "bar",
         "x": [
          0,
          1,
          2,
          3,
          4,
          6
         ],
         "xaxis": "x2",
         "y": [
          null,
          null,
          null,
          null,
          null,
          null
         ],
         "yaxis": "y2"
        }
       ],
       "layout": {
        "annotations": [
         {
          "font": {
           "size": 16
          },
          "showarrow": false,
          "text": "Min Arrival Time by Blob Count",
          "x": 0.5,
          "xanchor": "center",
          "xref": "paper",
          "y": 1,
          "yanchor": "bottom",
          "yref": "paper"
         },
         {
          "font": {
           "size": 16
          },
          "showarrow": false,
          "text": "Improvement Percentage by Blob Count",
          "x": 0.5,
          "xanchor": "center",
          "xref": "paper",
          "y": 0.36000000000000004,
          "yanchor": "bottom",
          "yref": "paper"
         }
        ],
        "barmode": "group",
        "height": 800,
        "legend": {
         "bgcolor": "rgba(255,255,255,0.8)",
         "x": 0.01,
         "y": 0.99
        },
        "plot_bgcolor": "white",
        "shapes": [
         {
          "line": {
           "color": "black",
           "dash": "dash",
           "width": 1
          },
          "type": "line",
          "x0": -0.5,
          "x1": 6.5,
          "xref": "x2",
          "y0": 0,
          "y1": 0,
          "yref": "y2"
         }
        ],
        "template": {
         "data": {
          "bar": [
           {
            "error_x": {
             "color": "#2a3f5f"
            },
            "error_y": {
             "color": "#2a3f5f"
            },
            "marker": {
             "line": {
              "color": "#E5ECF6",
              "width": 0.5
             },
             "pattern": {
              "fillmode": "overlay",
              "size": 10,
              "solidity": 0.2
             }
            },
            "type": "bar"
           }
          ],
          "barpolar": [
           {
            "marker": {
             "line": {
              "color": "#E5ECF6",
              "width": 0.5
             },
             "pattern": {
              "fillmode": "overlay",
              "size": 10,
              "solidity": 0.2
             }
            },
            "type": "barpolar"
           }
          ],
          "carpet": [
           {
            "aaxis": {
             "endlinecolor": "#2a3f5f",
             "gridcolor": "white",
             "linecolor": "white",
             "minorgridcolor": "white",
             "startlinecolor": "#2a3f5f"
            },
            "baxis": {
             "endlinecolor": "#2a3f5f",
             "gridcolor": "white",
             "linecolor": "white",
             "minorgridcolor": "white",
             "startlinecolor": "#2a3f5f"
            },
            "type": "carpet"
           }
          ],
          "choropleth": [
           {
            "colorbar": {
             "outlinewidth": 0,
             "ticks": ""
            },
            "type": "choropleth"
           }
          ],
          "contour": [
           {
            "colorbar": {
             "outlinewidth": 0,
             "ticks": ""
            },
            "colorscale": [
             [
              0,
              "#0d0887"
             ],
             [
              0.1111111111111111,
              "#46039f"
             ],
             [
              0.2222222222222222,
              "#7201a8"
             ],
             [
              0.3333333333333333,
              "#9c179e"
             ],
             [
              0.4444444444444444,
              "#bd3786"
             ],
             [
              0.5555555555555556,
              "#d8576b"
             ],
             [
              0.6666666666666666,
              "#ed7953"
             ],
             [
              0.7777777777777778,
              "#fb9f3a"
             ],
             [
              0.8888888888888888,
              "#fdca26"
             ],
             [
              1,
              "#f0f921"
             ]
            ],
            "type": "contour"
           }
          ],
          "contourcarpet": [
           {
            "colorbar": {
             "outlinewidth": 0,
             "ticks": ""
            },
            "type": "contourcarpet"
           }
          ],
          "heatmap": [
           {
            "colorbar": {
             "outlinewidth": 0,
             "ticks": ""
            },
            "colorscale": [
             [
              0,
              "#0d0887"
             ],
             [
              0.1111111111111111,
              "#46039f"
             ],
             [
              0.2222222222222222,
              "#7201a8"
             ],
             [
              0.3333333333333333,
              "#9c179e"
             ],
             [
              0.4444444444444444,
              "#bd3786"
             ],
             [
              0.5555555555555556,
              "#d8576b"
             ],
             [
              0.6666666666666666,
              "#ed7953"
             ],
             [
              0.7777777777777778,
              "#fb9f3a"
             ],
             [
              0.8888888888888888,
              "#fdca26"
             ],
             [
              1,
              "#f0f921"
             ]
            ],
            "type": "heatmap"
           }
          ],
          "heatmapgl": [
           {
            "colorbar": {
             "outlinewidth": 0,
             "ticks": ""
            },
            "colorscale": [
             [
              0,
              "#0d0887"
             ],
             [
              0.1111111111111111,
              "#46039f"
             ],
             [
              0.2222222222222222,
              "#7201a8"
             ],
             [
              0.3333333333333333,
              "#9c179e"
             ],
             [
              0.4444444444444444,
              "#bd3786"
             ],
             [
              0.5555555555555556,
              "#d8576b"
             ],
             [
              0.6666666666666666,
              "#ed7953"
             ],
             [
              0.7777777777777778,
              "#fb9f3a"
             ],
             [
              0.8888888888888888,
              "#fdca26"
             ],
             [
              1,
              "#f0f921"
             ]
            ],
            "type": "heatmapgl"
           }
          ],
          "histogram": [
           {
            "marker": {
             "pattern": {
              "fillmode": "overlay",
              "size": 10,
              "solidity": 0.2
             }
            },
            "type": "histogram"
           }
          ],
          "histogram2d": [
           {
            "colorbar": {
             "outlinewidth": 0,
             "ticks": ""
            },
            "colorscale": [
             [
              0,
              "#0d0887"
             ],
             [
              0.1111111111111111,
              "#46039f"
             ],
             [
              0.2222222222222222,
              "#7201a8"
             ],
             [
              0.3333333333333333,
              "#9c179e"
             ],
             [
              0.4444444444444444,
              "#bd3786"
             ],
             [
              0.5555555555555556,
              "#d8576b"
             ],
             [
              0.6666666666666666,
              "#ed7953"
             ],
             [
              0.7777777777777778,
              "#fb9f3a"
             ],
             [
              0.8888888888888888,
              "#fdca26"
             ],
             [
              1,
              "#f0f921"
             ]
            ],
            "type": "histogram2d"
           }
          ],
          "histogram2dcontour": [
           {
            "colorbar": {
             "outlinewidth": 0,
             "ticks": ""
            },
            "colorscale": [
             [
              0,
              "#0d0887"
             ],
             [
              0.1111111111111111,
              "#46039f"
             ],
             [
              0.2222222222222222,
              "#7201a8"
             ],
             [
              0.3333333333333333,
              "#9c179e"
             ],
             [
              0.4444444444444444,
              "#bd3786"
             ],
             [
              0.5555555555555556,
              "#d8576b"
             ],
             [
              0.6666666666666666,
              "#ed7953"
             ],
             [
              0.7777777777777778,
              "#fb9f3a"
             ],
             [
              0.8888888888888888,
              "#fdca26"
             ],
             [
              1,
              "#f0f921"
             ]
            ],
            "type": "histogram2dcontour"
           }
          ],
          "mesh3d": [
           {
            "colorbar": {
             "outlinewidth": 0,
             "ticks": ""
            },
            "type": "mesh3d"
           }
          ],
          "parcoords": [
           {
            "line": {
             "colorbar": {
              "outlinewidth": 0,
              "ticks": ""
             }
            },
            "type": "parcoords"
           }
          ],
          "pie": [
           {
            "automargin": true,
            "type": "pie"
           }
          ],
          "scatter": [
           {
            "fillpattern": {
             "fillmode": "overlay",
             "size": 10,
             "solidity": 0.2
            },
            "type": "scatter"
           }
          ],
          "scatter3d": [
           {
            "line": {
             "colorbar": {
              "outlinewidth": 0,
              "ticks": ""
             }
            },
            "marker": {
             "colorbar": {
              "outlinewidth": 0,
              "ticks": ""
             }
            },
            "type": "scatter3d"
           }
          ],
          "scattercarpet": [
           {
            "marker": {
             "colorbar": {
              "outlinewidth": 0,
              "ticks": ""
             }
            },
            "type": "scattercarpet"
           }
          ],
          "scattergeo": [
           {
            "marker": {
             "colorbar": {
              "outlinewidth": 0,
              "ticks": ""
             }
            },
            "type": "scattergeo"
           }
          ],
          "scattergl": [
           {
            "marker": {
             "colorbar": {
              "outlinewidth": 0,
              "ticks": ""
             }
            },
            "type": "scattergl"
           }
          ],
          "scattermapbox": [
           {
            "marker": {
             "colorbar": {
              "outlinewidth": 0,
              "ticks": ""
             }
            },
            "type": "scattermapbox"
           }
          ],
          "scatterpolar": [
           {
            "marker": {
             "colorbar": {
              "outlinewidth": 0,
              "ticks": ""
             }
            },
            "type": "scatterpolar"
           }
          ],
          "scatterpolargl": [
           {
            "marker": {
             "colorbar": {
              "outlinewidth": 0,
              "ticks": ""
             }
            },
            "type": "scatterpolargl"
           }
          ],
          "scatterternary": [
           {
            "marker": {
             "colorbar": {
              "outlinewidth": 0,
              "ticks": ""
             }
            },
            "type": "scatterternary"
           }
          ],
          "surface": [
           {
            "colorbar": {
             "outlinewidth": 0,
             "ticks": ""
            },
            "colorscale": [
             [
              0,
              "#0d0887"
             ],
             [
              0.1111111111111111,
              "#46039f"
             ],
             [
              0.2222222222222222,
              "#7201a8"
             ],
             [
              0.3333333333333333,
              "#9c179e"
             ],
             [
              0.4444444444444444,
              "#bd3786"
             ],
             [
              0.5555555555555556,
              "#d8576b"
             ],
             [
              0.6666666666666666,
              "#ed7953"
             ],
             [
              0.7777777777777778,
              "#fb9f3a"
             ],
             [
              0.8888888888888888,
              "#fdca26"
             ],
             [
              1,
              "#f0f921"
             ]
            ],
            "type": "surface"
           }
          ],
          "table": [
           {
            "cells": {
             "fill": {
              "color": "#EBF0F8"
             },
             "line": {
              "color": "white"
             }
            },
            "header": {
             "fill": {
              "color": "#C8D4E3"
             },
             "line": {
              "color": "white"
             }
            },
            "type": "table"
           }
          ]
         },
         "layout": {
          "annotationdefaults": {
           "arrowcolor": "#2a3f5f",
           "arrowhead": 0,
           "arrowwidth": 1
          },
          "autotypenumbers": "strict",
          "coloraxis": {
           "colorbar": {
            "outlinewidth": 0,
            "ticks": ""
           }
          },
          "colorscale": {
           "diverging": [
            [
             0,
             "#8e0152"
            ],
            [
             0.1,
             "#c51b7d"
            ],
            [
             0.2,
             "#de77ae"
            ],
            [
             0.3,
             "#f1b6da"
            ],
            [
             0.4,
             "#fde0ef"
            ],
            [
             0.5,
             "#f7f7f7"
            ],
            [
             0.6,
             "#e6f5d0"
            ],
            [
             0.7,
             "#b8e186"
            ],
            [
             0.8,
             "#7fbc41"
            ],
            [
             0.9,
             "#4d9221"
            ],
            [
             1,
             "#276419"
            ]
           ],
           "sequential": [
            [
             0,
             "#0d0887"
            ],
            [
             0.1111111111111111,
             "#46039f"
            ],
            [
             0.2222222222222222,
             "#7201a8"
            ],
            [
             0.3333333333333333,
             "#9c179e"
            ],
            [
             0.4444444444444444,
             "#bd3786"
            ],
            [
             0.5555555555555556,
             "#d8576b"
            ],
            [
             0.6666666666666666,
             "#ed7953"
            ],
            [
             0.7777777777777778,
             "#fb9f3a"
            ],
            [
             0.8888888888888888,
             "#fdca26"
            ],
            [
             1,
             "#f0f921"
            ]
           ],
           "sequentialminus": [
            [
             0,
             "#0d0887"
            ],
            [
             0.1111111111111111,
             "#46039f"
            ],
            [
             0.2222222222222222,
             "#7201a8"
            ],
            [
             0.3333333333333333,
             "#9c179e"
            ],
            [
             0.4444444444444444,
             "#bd3786"
            ],
            [
             0.5555555555555556,
             "#d8576b"
            ],
            [
             0.6666666666666666,
             "#ed7953"
            ],
            [
             0.7777777777777778,
             "#fb9f3a"
            ],
            [
             0.8888888888888888,
             "#fdca26"
            ],
            [
             1,
             "#f0f921"
            ]
           ]
          },
          "colorway": [
           "#636efa",
           "#EF553B",
           "#00cc96",
           "#ab63fa",
           "#FFA15A",
           "#19d3f3",
           "#FF6692",
           "#B6E880",
           "#FF97FF",
           "#FECB52"
          ],
          "font": {
           "color": "#2a3f5f"
          },
          "geo": {
           "bgcolor": "white",
           "lakecolor": "white",
           "landcolor": "#E5ECF6",
           "showlakes": true,
           "showland": true,
           "subunitcolor": "white"
          },
          "hoverlabel": {
           "align": "left"
          },
          "hovermode": "closest",
          "mapbox": {
           "style": "light"
          },
          "paper_bgcolor": "white",
          "plot_bgcolor": "#E5ECF6",
          "polar": {
           "angularaxis": {
            "gridcolor": "white",
            "linecolor": "white",
            "ticks": ""
           },
           "bgcolor": "#E5ECF6",
           "radialaxis": {
            "gridcolor": "white",
            "linecolor": "white",
            "ticks": ""
           }
          },
          "scene": {
           "xaxis": {
            "backgroundcolor": "#E5ECF6",
            "gridcolor": "white",
            "gridwidth": 2,
            "linecolor": "white",
            "showbackground": true,
            "ticks": "",
            "zerolinecolor": "white"
           },
           "yaxis": {
            "backgroundcolor": "#E5ECF6",
            "gridcolor": "white",
            "gridwidth": 2,
            "linecolor": "white",
            "showbackground": true,
            "ticks": "",
            "zerolinecolor": "white"
           },
           "zaxis": {
            "backgroundcolor": "#E5ECF6",
            "gridcolor": "white",
            "gridwidth": 2,
            "linecolor": "white",
            "showbackground": true,
            "ticks": "",
            "zerolinecolor": "white"
           }
          },
          "shapedefaults": {
           "line": {
            "color": "#2a3f5f"
           }
          },
          "ternary": {
           "aaxis": {
            "gridcolor": "white",
            "linecolor": "white",
            "ticks": ""
           },
           "baxis": {
            "gridcolor": "white",
            "linecolor": "white",
            "ticks": ""
           },
           "bgcolor": "#E5ECF6",
           "caxis": {
            "gridcolor": "white",
            "linecolor": "white",
            "ticks": ""
           }
          },
          "title": {
           "x": 0.05
          },
          "xaxis": {
           "automargin": true,
           "gridcolor": "white",
           "linecolor": "white",
           "ticks": "",
           "title": {
            "standoff": 15
           },
           "zerolinecolor": "white",
           "zerolinewidth": 2
          },
          "yaxis": {
           "automargin": true,
           "gridcolor": "white",
           "linecolor": "white",
           "ticks": "",
           "title": {
            "standoff": 15
           },
           "zerolinecolor": "white",
           "zerolinewidth": 2
          }
         }
        },
        "title": {
         "text": "Impact of RLNC on Min Arrival Time by Blob Count"
        },
        "width": 1000,
        "xaxis": {
         "anchor": "y",
         "domain": [
          0,
          1
         ],
         "title": {
          "text": "Blob Count"
         }
        },
        "xaxis2": {
         "anchor": "y2",
         "domain": [
          0,
          1
         ],
         "title": {
          "text": "Blob Count"
         }
        },
        "yaxis": {
         "anchor": "x",
         "domain": [
          0.4600000000000001,
          1
         ],
         "title": {
          "text": "Arrival Time (ms)"
         }
        },
        "yaxis2": {
         "anchor": "x2",
         "domain": [
          0,
          0.36000000000000004
         ],
         "title": {
          "text": "Improvement (%)"
         }
        }
       }
      }
     },
     "metadata": {},
     "output_type": "display_data"
    },
    {
     "data": {
      "application/vnd.plotly.v1+json": {
       "config": {
        "plotlyServerURL": "https://plot.ly"
       },
       "data": [
        {
         "error_y": {
          "array": [
           270.58515429198235,
           54.757419588581826,
           57.507970462073054,
           95.28263876488728,
           58.493010622352706,
           43.98596231699815
          ],
          "type": "data",
          "visible": true
         },
         "hovertemplate": "Blob Count: %{x}<br>Arrival Time: %{y:.1f}ms<br>Sample Size: %{text}",
         "marker": {
          "color": "royalblue"
         },
         "name": "Before RLNC (nft-devnet-2)",
         "text": [
          249,
          4,
          4,
          2,
          4,
          7
         ],
         "type": "bar",
         "x": [
          0,
          1,
          2,
          3,
          4,
          6
         ],
         "xaxis": "x",
         "y": [
          2524.8016064257026,
          2197.5,
          2251.5,
          2211.625,
          2238.1875,
          2207.3214285714284
         ],
         "yaxis": "y"
        },
        {
         "error_y": {
          "array": [
           null,
           null,
           null,
           null,
           null,
           null
          ],
          "type": "data",
          "visible": true
         },
         "hovertemplate": "Blob Count: %{x}<br>Arrival Time: %{y:.1f}ms<br>Sample Size: %{text}",
         "marker": {
          "color": "green"
         },
         "name": "After RLNC (nft-devnet-3)",
         "text": [
          null,
          null,
          null,
          null,
          null,
          null
         ],
         "type": "bar",
         "x": [
          0,
          1,
          2,
          3,
          4,
          6
         ],
         "xaxis": "x",
         "y": [
          null,
          null,
          null,
          null,
          null,
          null
         ],
         "yaxis": "y"
        },
        {
         "hovertemplate": "Blob Count: %{x}<br>Improvement: %{y:.1f}%",
         "marker": {
          "color": [
           "red",
           "red",
           "red",
           "red",
           "red",
           "red"
          ]
         },
         "name": "Improvement %",
         "text": [
          "nan%",
          "nan%",
          "nan%",
          "nan%",
          "nan%",
          "nan%"
         ],
         "textposition": "auto",
         "type": "bar",
         "x": [
          0,
          1,
          2,
          3,
          4,
          6
         ],
         "xaxis": "x2",
         "y": [
          null,
          null,
          null,
          null,
          null,
          null
         ],
         "yaxis": "y2"
        }
       ],
       "layout": {
        "annotations": [
         {
          "font": {
           "size": 16
          },
          "showarrow": false,
          "text": "P05 Arrival Time by Blob Count",
          "x": 0.5,
          "xanchor": "center",
          "xref": "paper",
          "y": 1,
          "yanchor": "bottom",
          "yref": "paper"
         },
         {
          "font": {
           "size": 16
          },
          "showarrow": false,
          "text": "Improvement Percentage by Blob Count",
          "x": 0.5,
          "xanchor": "center",
          "xref": "paper",
          "y": 0.36000000000000004,
          "yanchor": "bottom",
          "yref": "paper"
         }
        ],
        "barmode": "group",
        "height": 800,
        "legend": {
         "bgcolor": "rgba(255,255,255,0.8)",
         "x": 0.01,
         "y": 0.99
        },
        "plot_bgcolor": "white",
        "shapes": [
         {
          "line": {
           "color": "black",
           "dash": "dash",
           "width": 1
          },
          "type": "line",
          "x0": -0.5,
          "x1": 6.5,
          "xref": "x2",
          "y0": 0,
          "y1": 0,
          "yref": "y2"
         }
        ],
        "template": {
         "data": {
          "bar": [
           {
            "error_x": {
             "color": "#2a3f5f"
            },
            "error_y": {
             "color": "#2a3f5f"
            },
            "marker": {
             "line": {
              "color": "#E5ECF6",
              "width": 0.5
             },
             "pattern": {
              "fillmode": "overlay",
              "size": 10,
              "solidity": 0.2
             }
            },
            "type": "bar"
           }
          ],
          "barpolar": [
           {
            "marker": {
             "line": {
              "color": "#E5ECF6",
              "width": 0.5
             },
             "pattern": {
              "fillmode": "overlay",
              "size": 10,
              "solidity": 0.2
             }
            },
            "type": "barpolar"
           }
          ],
          "carpet": [
           {
            "aaxis": {
             "endlinecolor": "#2a3f5f",
             "gridcolor": "white",
             "linecolor": "white",
             "minorgridcolor": "white",
             "startlinecolor": "#2a3f5f"
            },
            "baxis": {
             "endlinecolor": "#2a3f5f",
             "gridcolor": "white",
             "linecolor": "white",
             "minorgridcolor": "white",
             "startlinecolor": "#2a3f5f"
            },
            "type": "carpet"
           }
          ],
          "choropleth": [
           {
            "colorbar": {
             "outlinewidth": 0,
             "ticks": ""
            },
            "type": "choropleth"
           }
          ],
          "contour": [
           {
            "colorbar": {
             "outlinewidth": 0,
             "ticks": ""
            },
            "colorscale": [
             [
              0,
              "#0d0887"
             ],
             [
              0.1111111111111111,
              "#46039f"
             ],
             [
              0.2222222222222222,
              "#7201a8"
             ],
             [
              0.3333333333333333,
              "#9c179e"
             ],
             [
              0.4444444444444444,
              "#bd3786"
             ],
             [
              0.5555555555555556,
              "#d8576b"
             ],
             [
              0.6666666666666666,
              "#ed7953"
             ],
             [
              0.7777777777777778,
              "#fb9f3a"
             ],
             [
              0.8888888888888888,
              "#fdca26"
             ],
             [
              1,
              "#f0f921"
             ]
            ],
            "type": "contour"
           }
          ],
          "contourcarpet": [
           {
            "colorbar": {
             "outlinewidth": 0,
             "ticks": ""
            },
            "type": "contourcarpet"
           }
          ],
          "heatmap": [
           {
            "colorbar": {
             "outlinewidth": 0,
             "ticks": ""
            },
            "colorscale": [
             [
              0,
              "#0d0887"
             ],
             [
              0.1111111111111111,
              "#46039f"
             ],
             [
              0.2222222222222222,
              "#7201a8"
             ],
             [
              0.3333333333333333,
              "#9c179e"
             ],
             [
              0.4444444444444444,
              "#bd3786"
             ],
             [
              0.5555555555555556,
              "#d8576b"
             ],
             [
              0.6666666666666666,
              "#ed7953"
             ],
             [
              0.7777777777777778,
              "#fb9f3a"
             ],
             [
              0.8888888888888888,
              "#fdca26"
             ],
             [
              1,
              "#f0f921"
             ]
            ],
            "type": "heatmap"
           }
          ],
          "heatmapgl": [
           {
            "colorbar": {
             "outlinewidth": 0,
             "ticks": ""
            },
            "colorscale": [
             [
              0,
              "#0d0887"
             ],
             [
              0.1111111111111111,
              "#46039f"
             ],
             [
              0.2222222222222222,
              "#7201a8"
             ],
             [
              0.3333333333333333,
              "#9c179e"
             ],
             [
              0.4444444444444444,
              "#bd3786"
             ],
             [
              0.5555555555555556,
              "#d8576b"
             ],
             [
              0.6666666666666666,
              "#ed7953"
             ],
             [
              0.7777777777777778,
              "#fb9f3a"
             ],
             [
              0.8888888888888888,
              "#fdca26"
             ],
             [
              1,
              "#f0f921"
             ]
            ],
            "type": "heatmapgl"
           }
          ],
          "histogram": [
           {
            "marker": {
             "pattern": {
              "fillmode": "overlay",
              "size": 10,
              "solidity": 0.2
             }
            },
            "type": "histogram"
           }
          ],
          "histogram2d": [
           {
            "colorbar": {
             "outlinewidth": 0,
             "ticks": ""
            },
            "colorscale": [
             [
              0,
              "#0d0887"
             ],
             [
              0.1111111111111111,
              "#46039f"
             ],
             [
              0.2222222222222222,
              "#7201a8"
             ],
             [
              0.3333333333333333,
              "#9c179e"
             ],
             [
              0.4444444444444444,
              "#bd3786"
             ],
             [
              0.5555555555555556,
              "#d8576b"
             ],
             [
              0.6666666666666666,
              "#ed7953"
             ],
             [
              0.7777777777777778,
              "#fb9f3a"
             ],
             [
              0.8888888888888888,
              "#fdca26"
             ],
             [
              1,
              "#f0f921"
             ]
            ],
            "type": "histogram2d"
           }
          ],
          "histogram2dcontour": [
           {
            "colorbar": {
             "outlinewidth": 0,
             "ticks": ""
            },
            "colorscale": [
             [
              0,
              "#0d0887"
             ],
             [
              0.1111111111111111,
              "#46039f"
             ],
             [
              0.2222222222222222,
              "#7201a8"
             ],
             [
              0.3333333333333333,
              "#9c179e"
             ],
             [
              0.4444444444444444,
              "#bd3786"
             ],
             [
              0.5555555555555556,
              "#d8576b"
             ],
             [
              0.6666666666666666,
              "#ed7953"
             ],
             [
              0.7777777777777778,
              "#fb9f3a"
             ],
             [
              0.8888888888888888,
              "#fdca26"
             ],
             [
              1,
              "#f0f921"
             ]
            ],
            "type": "histogram2dcontour"
           }
          ],
          "mesh3d": [
           {
            "colorbar": {
             "outlinewidth": 0,
             "ticks": ""
            },
            "type": "mesh3d"
           }
          ],
          "parcoords": [
           {
            "line": {
             "colorbar": {
              "outlinewidth": 0,
              "ticks": ""
             }
            },
            "type": "parcoords"
           }
          ],
          "pie": [
           {
            "automargin": true,
            "type": "pie"
           }
          ],
          "scatter": [
           {
            "fillpattern": {
             "fillmode": "overlay",
             "size": 10,
             "solidity": 0.2
            },
            "type": "scatter"
           }
          ],
          "scatter3d": [
           {
            "line": {
             "colorbar": {
              "outlinewidth": 0,
              "ticks": ""
             }
            },
            "marker": {
             "colorbar": {
              "outlinewidth": 0,
              "ticks": ""
             }
            },
            "type": "scatter3d"
           }
          ],
          "scattercarpet": [
           {
            "marker": {
             "colorbar": {
              "outlinewidth": 0,
              "ticks": ""
             }
            },
            "type": "scattercarpet"
           }
          ],
          "scattergeo": [
           {
            "marker": {
             "colorbar": {
              "outlinewidth": 0,
              "ticks": ""
             }
            },
            "type": "scattergeo"
           }
          ],
          "scattergl": [
           {
            "marker": {
             "colorbar": {
              "outlinewidth": 0,
              "ticks": ""
             }
            },
            "type": "scattergl"
           }
          ],
          "scattermapbox": [
           {
            "marker": {
             "colorbar": {
              "outlinewidth": 0,
              "ticks": ""
             }
            },
            "type": "scattermapbox"
           }
          ],
          "scatterpolar": [
           {
            "marker": {
             "colorbar": {
              "outlinewidth": 0,
              "ticks": ""
             }
            },
            "type": "scatterpolar"
           }
          ],
          "scatterpolargl": [
           {
            "marker": {
             "colorbar": {
              "outlinewidth": 0,
              "ticks": ""
             }
            },
            "type": "scatterpolargl"
           }
          ],
          "scatterternary": [
           {
            "marker": {
             "colorbar": {
              "outlinewidth": 0,
              "ticks": ""
             }
            },
            "type": "scatterternary"
           }
          ],
          "surface": [
           {
            "colorbar": {
             "outlinewidth": 0,
             "ticks": ""
            },
            "colorscale": [
             [
              0,
              "#0d0887"
             ],
             [
              0.1111111111111111,
              "#46039f"
             ],
             [
              0.2222222222222222,
              "#7201a8"
             ],
             [
              0.3333333333333333,
              "#9c179e"
             ],
             [
              0.4444444444444444,
              "#bd3786"
             ],
             [
              0.5555555555555556,
              "#d8576b"
             ],
             [
              0.6666666666666666,
              "#ed7953"
             ],
             [
              0.7777777777777778,
              "#fb9f3a"
             ],
             [
              0.8888888888888888,
              "#fdca26"
             ],
             [
              1,
              "#f0f921"
             ]
            ],
            "type": "surface"
           }
          ],
          "table": [
           {
            "cells": {
             "fill": {
              "color": "#EBF0F8"
             },
             "line": {
              "color": "white"
             }
            },
            "header": {
             "fill": {
              "color": "#C8D4E3"
             },
             "line": {
              "color": "white"
             }
            },
            "type": "table"
           }
          ]
         },
         "layout": {
          "annotationdefaults": {
           "arrowcolor": "#2a3f5f",
           "arrowhead": 0,
           "arrowwidth": 1
          },
          "autotypenumbers": "strict",
          "coloraxis": {
           "colorbar": {
            "outlinewidth": 0,
            "ticks": ""
           }
          },
          "colorscale": {
           "diverging": [
            [
             0,
             "#8e0152"
            ],
            [
             0.1,
             "#c51b7d"
            ],
            [
             0.2,
             "#de77ae"
            ],
            [
             0.3,
             "#f1b6da"
            ],
            [
             0.4,
             "#fde0ef"
            ],
            [
             0.5,
             "#f7f7f7"
            ],
            [
             0.6,
             "#e6f5d0"
            ],
            [
             0.7,
             "#b8e186"
            ],
            [
             0.8,
             "#7fbc41"
            ],
            [
             0.9,
             "#4d9221"
            ],
            [
             1,
             "#276419"
            ]
           ],
           "sequential": [
            [
             0,
             "#0d0887"
            ],
            [
             0.1111111111111111,
             "#46039f"
            ],
            [
             0.2222222222222222,
             "#7201a8"
            ],
            [
             0.3333333333333333,
             "#9c179e"
            ],
            [
             0.4444444444444444,
             "#bd3786"
            ],
            [
             0.5555555555555556,
             "#d8576b"
            ],
            [
             0.6666666666666666,
             "#ed7953"
            ],
            [
             0.7777777777777778,
             "#fb9f3a"
            ],
            [
             0.8888888888888888,
             "#fdca26"
            ],
            [
             1,
             "#f0f921"
            ]
           ],
           "sequentialminus": [
            [
             0,
             "#0d0887"
            ],
            [
             0.1111111111111111,
             "#46039f"
            ],
            [
             0.2222222222222222,
             "#7201a8"
            ],
            [
             0.3333333333333333,
             "#9c179e"
            ],
            [
             0.4444444444444444,
             "#bd3786"
            ],
            [
             0.5555555555555556,
             "#d8576b"
            ],
            [
             0.6666666666666666,
             "#ed7953"
            ],
            [
             0.7777777777777778,
             "#fb9f3a"
            ],
            [
             0.8888888888888888,
             "#fdca26"
            ],
            [
             1,
             "#f0f921"
            ]
           ]
          },
          "colorway": [
           "#636efa",
           "#EF553B",
           "#00cc96",
           "#ab63fa",
           "#FFA15A",
           "#19d3f3",
           "#FF6692",
           "#B6E880",
           "#FF97FF",
           "#FECB52"
          ],
          "font": {
           "color": "#2a3f5f"
          },
          "geo": {
           "bgcolor": "white",
           "lakecolor": "white",
           "landcolor": "#E5ECF6",
           "showlakes": true,
           "showland": true,
           "subunitcolor": "white"
          },
          "hoverlabel": {
           "align": "left"
          },
          "hovermode": "closest",
          "mapbox": {
           "style": "light"
          },
          "paper_bgcolor": "white",
          "plot_bgcolor": "#E5ECF6",
          "polar": {
           "angularaxis": {
            "gridcolor": "white",
            "linecolor": "white",
            "ticks": ""
           },
           "bgcolor": "#E5ECF6",
           "radialaxis": {
            "gridcolor": "white",
            "linecolor": "white",
            "ticks": ""
           }
          },
          "scene": {
           "xaxis": {
            "backgroundcolor": "#E5ECF6",
            "gridcolor": "white",
            "gridwidth": 2,
            "linecolor": "white",
            "showbackground": true,
            "ticks": "",
            "zerolinecolor": "white"
           },
           "yaxis": {
            "backgroundcolor": "#E5ECF6",
            "gridcolor": "white",
            "gridwidth": 2,
            "linecolor": "white",
            "showbackground": true,
            "ticks": "",
            "zerolinecolor": "white"
           },
           "zaxis": {
            "backgroundcolor": "#E5ECF6",
            "gridcolor": "white",
            "gridwidth": 2,
            "linecolor": "white",
            "showbackground": true,
            "ticks": "",
            "zerolinecolor": "white"
           }
          },
          "shapedefaults": {
           "line": {
            "color": "#2a3f5f"
           }
          },
          "ternary": {
           "aaxis": {
            "gridcolor": "white",
            "linecolor": "white",
            "ticks": ""
           },
           "baxis": {
            "gridcolor": "white",
            "linecolor": "white",
            "ticks": ""
           },
           "bgcolor": "#E5ECF6",
           "caxis": {
            "gridcolor": "white",
            "linecolor": "white",
            "ticks": ""
           }
          },
          "title": {
           "x": 0.05
          },
          "xaxis": {
           "automargin": true,
           "gridcolor": "white",
           "linecolor": "white",
           "ticks": "",
           "title": {
            "standoff": 15
           },
           "zerolinecolor": "white",
           "zerolinewidth": 2
          },
          "yaxis": {
           "automargin": true,
           "gridcolor": "white",
           "linecolor": "white",
           "ticks": "",
           "title": {
            "standoff": 15
           },
           "zerolinecolor": "white",
           "zerolinewidth": 2
          }
         }
        },
        "title": {
         "text": "Impact of RLNC on P05 Arrival Time by Blob Count"
        },
        "width": 1000,
        "xaxis": {
         "anchor": "y",
         "domain": [
          0,
          1
         ],
         "title": {
          "text": "Blob Count"
         }
        },
        "xaxis2": {
         "anchor": "y2",
         "domain": [
          0,
          1
         ],
         "title": {
          "text": "Blob Count"
         }
        },
        "yaxis": {
         "anchor": "x",
         "domain": [
          0.4600000000000001,
          1
         ],
         "title": {
          "text": "Arrival Time (ms)"
         }
        },
        "yaxis2": {
         "anchor": "x2",
         "domain": [
          0,
          0.36000000000000004
         ],
         "title": {
          "text": "Improvement (%)"
         }
        }
       }
      }
     },
     "metadata": {},
     "output_type": "display_data"
    },
    {
     "data": {
      "application/vnd.plotly.v1+json": {
       "config": {
        "plotlyServerURL": "https://plot.ly"
       },
       "data": [
        {
         "error_y": {
          "array": [
           432.7397768155802,
           126.52338387296898,
           108.81205126271634,
           256.3262081801235,
           139.56211281480844,
           76.47354039765897
          ],
          "type": "data",
          "visible": true
         },
         "hovertemplate": "Blob Count: %{x}<br>Arrival Time: %{y:.1f}ms<br>Sample Size: %{text}",
         "marker": {
          "color": "royalblue"
         },
         "name": "Before RLNC (nft-devnet-2)",
         "text": [
          249,
          4,
          4,
          2,
          4,
          7
         ],
         "type": "bar",
         "x": [
          0,
          1,
          2,
          3,
          4,
          6
         ],
         "xaxis": "x",
         "y": [
          2859.289156626506,
          2308.5,
          2466.875,
          2396.25,
          2405.75,
          2361.0714285714284
         ],
         "yaxis": "y"
        },
        {
         "error_y": {
          "array": [
           null,
           null,
           null,
           null,
           null,
           null
          ],
          "type": "data",
          "visible": true
         },
         "hovertemplate": "Blob Count: %{x}<br>Arrival Time: %{y:.1f}ms<br>Sample Size: %{text}",
         "marker": {
          "color": "green"
         },
         "name": "After RLNC (nft-devnet-3)",
         "text": [
          null,
          null,
          null,
          null,
          null,
          null
         ],
         "type": "bar",
         "x": [
          0,
          1,
          2,
          3,
          4,
          6
         ],
         "xaxis": "x",
         "y": [
          null,
          null,
          null,
          null,
          null,
          null
         ],
         "yaxis": "y"
        },
        {
         "hovertemplate": "Blob Count: %{x}<br>Improvement: %{y:.1f}%",
         "marker": {
          "color": [
           "red",
           "red",
           "red",
           "red",
           "red",
           "red"
          ]
         },
         "name": "Improvement %",
         "text": [
          "nan%",
          "nan%",
          "nan%",
          "nan%",
          "nan%",
          "nan%"
         ],
         "textposition": "auto",
         "type": "bar",
         "x": [
          0,
          1,
          2,
          3,
          4,
          6
         ],
         "xaxis": "x2",
         "y": [
          null,
          null,
          null,
          null,
          null,
          null
         ],
         "yaxis": "y2"
        }
       ],
       "layout": {
        "annotations": [
         {
          "font": {
           "size": 16
          },
          "showarrow": false,
          "text": "P50 Arrival Time by Blob Count",
          "x": 0.5,
          "xanchor": "center",
          "xref": "paper",
          "y": 1,
          "yanchor": "bottom",
          "yref": "paper"
         },
         {
          "font": {
           "size": 16
          },
          "showarrow": false,
          "text": "Improvement Percentage by Blob Count",
          "x": 0.5,
          "xanchor": "center",
          "xref": "paper",
          "y": 0.36000000000000004,
          "yanchor": "bottom",
          "yref": "paper"
         }
        ],
        "barmode": "group",
        "height": 800,
        "legend": {
         "bgcolor": "rgba(255,255,255,0.8)",
         "x": 0.01,
         "y": 0.99
        },
        "plot_bgcolor": "white",
        "shapes": [
         {
          "line": {
           "color": "black",
           "dash": "dash",
           "width": 1
          },
          "type": "line",
          "x0": -0.5,
          "x1": 6.5,
          "xref": "x2",
          "y0": 0,
          "y1": 0,
          "yref": "y2"
         }
        ],
        "template": {
         "data": {
          "bar": [
           {
            "error_x": {
             "color": "#2a3f5f"
            },
            "error_y": {
             "color": "#2a3f5f"
            },
            "marker": {
             "line": {
              "color": "#E5ECF6",
              "width": 0.5
             },
             "pattern": {
              "fillmode": "overlay",
              "size": 10,
              "solidity": 0.2
             }
            },
            "type": "bar"
           }
          ],
          "barpolar": [
           {
            "marker": {
             "line": {
              "color": "#E5ECF6",
              "width": 0.5
             },
             "pattern": {
              "fillmode": "overlay",
              "size": 10,
              "solidity": 0.2
             }
            },
            "type": "barpolar"
           }
          ],
          "carpet": [
           {
            "aaxis": {
             "endlinecolor": "#2a3f5f",
             "gridcolor": "white",
             "linecolor": "white",
             "minorgridcolor": "white",
             "startlinecolor": "#2a3f5f"
            },
            "baxis": {
             "endlinecolor": "#2a3f5f",
             "gridcolor": "white",
             "linecolor": "white",
             "minorgridcolor": "white",
             "startlinecolor": "#2a3f5f"
            },
            "type": "carpet"
           }
          ],
          "choropleth": [
           {
            "colorbar": {
             "outlinewidth": 0,
             "ticks": ""
            },
            "type": "choropleth"
           }
          ],
          "contour": [
           {
            "colorbar": {
             "outlinewidth": 0,
             "ticks": ""
            },
            "colorscale": [
             [
              0,
              "#0d0887"
             ],
             [
              0.1111111111111111,
              "#46039f"
             ],
             [
              0.2222222222222222,
              "#7201a8"
             ],
             [
              0.3333333333333333,
              "#9c179e"
             ],
             [
              0.4444444444444444,
              "#bd3786"
             ],
             [
              0.5555555555555556,
              "#d8576b"
             ],
             [
              0.6666666666666666,
              "#ed7953"
             ],
             [
              0.7777777777777778,
              "#fb9f3a"
             ],
             [
              0.8888888888888888,
              "#fdca26"
             ],
             [
              1,
              "#f0f921"
             ]
            ],
            "type": "contour"
           }
          ],
          "contourcarpet": [
           {
            "colorbar": {
             "outlinewidth": 0,
             "ticks": ""
            },
            "type": "contourcarpet"
           }
          ],
          "heatmap": [
           {
            "colorbar": {
             "outlinewidth": 0,
             "ticks": ""
            },
            "colorscale": [
             [
              0,
              "#0d0887"
             ],
             [
              0.1111111111111111,
              "#46039f"
             ],
             [
              0.2222222222222222,
              "#7201a8"
             ],
             [
              0.3333333333333333,
              "#9c179e"
             ],
             [
              0.4444444444444444,
              "#bd3786"
             ],
             [
              0.5555555555555556,
              "#d8576b"
             ],
             [
              0.6666666666666666,
              "#ed7953"
             ],
             [
              0.7777777777777778,
              "#fb9f3a"
             ],
             [
              0.8888888888888888,
              "#fdca26"
             ],
             [
              1,
              "#f0f921"
             ]
            ],
            "type": "heatmap"
           }
          ],
          "heatmapgl": [
           {
            "colorbar": {
             "outlinewidth": 0,
             "ticks": ""
            },
            "colorscale": [
             [
              0,
              "#0d0887"
             ],
             [
              0.1111111111111111,
              "#46039f"
             ],
             [
              0.2222222222222222,
              "#7201a8"
             ],
             [
              0.3333333333333333,
              "#9c179e"
             ],
             [
              0.4444444444444444,
              "#bd3786"
             ],
             [
              0.5555555555555556,
              "#d8576b"
             ],
             [
              0.6666666666666666,
              "#ed7953"
             ],
             [
              0.7777777777777778,
              "#fb9f3a"
             ],
             [
              0.8888888888888888,
              "#fdca26"
             ],
             [
              1,
              "#f0f921"
             ]
            ],
            "type": "heatmapgl"
           }
          ],
          "histogram": [
           {
            "marker": {
             "pattern": {
              "fillmode": "overlay",
              "size": 10,
              "solidity": 0.2
             }
            },
            "type": "histogram"
           }
          ],
          "histogram2d": [
           {
            "colorbar": {
             "outlinewidth": 0,
             "ticks": ""
            },
            "colorscale": [
             [
              0,
              "#0d0887"
             ],
             [
              0.1111111111111111,
              "#46039f"
             ],
             [
              0.2222222222222222,
              "#7201a8"
             ],
             [
              0.3333333333333333,
              "#9c179e"
             ],
             [
              0.4444444444444444,
              "#bd3786"
             ],
             [
              0.5555555555555556,
              "#d8576b"
             ],
             [
              0.6666666666666666,
              "#ed7953"
             ],
             [
              0.7777777777777778,
              "#fb9f3a"
             ],
             [
              0.8888888888888888,
              "#fdca26"
             ],
             [
              1,
              "#f0f921"
             ]
            ],
            "type": "histogram2d"
           }
          ],
          "histogram2dcontour": [
           {
            "colorbar": {
             "outlinewidth": 0,
             "ticks": ""
            },
            "colorscale": [
             [
              0,
              "#0d0887"
             ],
             [
              0.1111111111111111,
              "#46039f"
             ],
             [
              0.2222222222222222,
              "#7201a8"
             ],
             [
              0.3333333333333333,
              "#9c179e"
             ],
             [
              0.4444444444444444,
              "#bd3786"
             ],
             [
              0.5555555555555556,
              "#d8576b"
             ],
             [
              0.6666666666666666,
              "#ed7953"
             ],
             [
              0.7777777777777778,
              "#fb9f3a"
             ],
             [
              0.8888888888888888,
              "#fdca26"
             ],
             [
              1,
              "#f0f921"
             ]
            ],
            "type": "histogram2dcontour"
           }
          ],
          "mesh3d": [
           {
            "colorbar": {
             "outlinewidth": 0,
             "ticks": ""
            },
            "type": "mesh3d"
           }
          ],
          "parcoords": [
           {
            "line": {
             "colorbar": {
              "outlinewidth": 0,
              "ticks": ""
             }
            },
            "type": "parcoords"
           }
          ],
          "pie": [
           {
            "automargin": true,
            "type": "pie"
           }
          ],
          "scatter": [
           {
            "fillpattern": {
             "fillmode": "overlay",
             "size": 10,
             "solidity": 0.2
            },
            "type": "scatter"
           }
          ],
          "scatter3d": [
           {
            "line": {
             "colorbar": {
              "outlinewidth": 0,
              "ticks": ""
             }
            },
            "marker": {
             "colorbar": {
              "outlinewidth": 0,
              "ticks": ""
             }
            },
            "type": "scatter3d"
           }
          ],
          "scattercarpet": [
           {
            "marker": {
             "colorbar": {
              "outlinewidth": 0,
              "ticks": ""
             }
            },
            "type": "scattercarpet"
           }
          ],
          "scattergeo": [
           {
            "marker": {
             "colorbar": {
              "outlinewidth": 0,
              "ticks": ""
             }
            },
            "type": "scattergeo"
           }
          ],
          "scattergl": [
           {
            "marker": {
             "colorbar": {
              "outlinewidth": 0,
              "ticks": ""
             }
            },
            "type": "scattergl"
           }
          ],
          "scattermapbox": [
           {
            "marker": {
             "colorbar": {
              "outlinewidth": 0,
              "ticks": ""
             }
            },
            "type": "scattermapbox"
           }
          ],
          "scatterpolar": [
           {
            "marker": {
             "colorbar": {
              "outlinewidth": 0,
              "ticks": ""
             }
            },
            "type": "scatterpolar"
           }
          ],
          "scatterpolargl": [
           {
            "marker": {
             "colorbar": {
              "outlinewidth": 0,
              "ticks": ""
             }
            },
            "type": "scatterpolargl"
           }
          ],
          "scatterternary": [
           {
            "marker": {
             "colorbar": {
              "outlinewidth": 0,
              "ticks": ""
             }
            },
            "type": "scatterternary"
           }
          ],
          "surface": [
           {
            "colorbar": {
             "outlinewidth": 0,
             "ticks": ""
            },
            "colorscale": [
             [
              0,
              "#0d0887"
             ],
             [
              0.1111111111111111,
              "#46039f"
             ],
             [
              0.2222222222222222,
              "#7201a8"
             ],
             [
              0.3333333333333333,
              "#9c179e"
             ],
             [
              0.4444444444444444,
              "#bd3786"
             ],
             [
              0.5555555555555556,
              "#d8576b"
             ],
             [
              0.6666666666666666,
              "#ed7953"
             ],
             [
              0.7777777777777778,
              "#fb9f3a"
             ],
             [
              0.8888888888888888,
              "#fdca26"
             ],
             [
              1,
              "#f0f921"
             ]
            ],
            "type": "surface"
           }
          ],
          "table": [
           {
            "cells": {
             "fill": {
              "color": "#EBF0F8"
             },
             "line": {
              "color": "white"
             }
            },
            "header": {
             "fill": {
              "color": "#C8D4E3"
             },
             "line": {
              "color": "white"
             }
            },
            "type": "table"
           }
          ]
         },
         "layout": {
          "annotationdefaults": {
           "arrowcolor": "#2a3f5f",
           "arrowhead": 0,
           "arrowwidth": 1
          },
          "autotypenumbers": "strict",
          "coloraxis": {
           "colorbar": {
            "outlinewidth": 0,
            "ticks": ""
           }
          },
          "colorscale": {
           "diverging": [
            [
             0,
             "#8e0152"
            ],
            [
             0.1,
             "#c51b7d"
            ],
            [
             0.2,
             "#de77ae"
            ],
            [
             0.3,
             "#f1b6da"
            ],
            [
             0.4,
             "#fde0ef"
            ],
            [
             0.5,
             "#f7f7f7"
            ],
            [
             0.6,
             "#e6f5d0"
            ],
            [
             0.7,
             "#b8e186"
            ],
            [
             0.8,
             "#7fbc41"
            ],
            [
             0.9,
             "#4d9221"
            ],
            [
             1,
             "#276419"
            ]
           ],
           "sequential": [
            [
             0,
             "#0d0887"
            ],
            [
             0.1111111111111111,
             "#46039f"
            ],
            [
             0.2222222222222222,
             "#7201a8"
            ],
            [
             0.3333333333333333,
             "#9c179e"
            ],
            [
             0.4444444444444444,
             "#bd3786"
            ],
            [
             0.5555555555555556,
             "#d8576b"
            ],
            [
             0.6666666666666666,
             "#ed7953"
            ],
            [
             0.7777777777777778,
             "#fb9f3a"
            ],
            [
             0.8888888888888888,
             "#fdca26"
            ],
            [
             1,
             "#f0f921"
            ]
           ],
           "sequentialminus": [
            [
             0,
             "#0d0887"
            ],
            [
             0.1111111111111111,
             "#46039f"
            ],
            [
             0.2222222222222222,
             "#7201a8"
            ],
            [
             0.3333333333333333,
             "#9c179e"
            ],
            [
             0.4444444444444444,
             "#bd3786"
            ],
            [
             0.5555555555555556,
             "#d8576b"
            ],
            [
             0.6666666666666666,
             "#ed7953"
            ],
            [
             0.7777777777777778,
             "#fb9f3a"
            ],
            [
             0.8888888888888888,
             "#fdca26"
            ],
            [
             1,
             "#f0f921"
            ]
           ]
          },
          "colorway": [
           "#636efa",
           "#EF553B",
           "#00cc96",
           "#ab63fa",
           "#FFA15A",
           "#19d3f3",
           "#FF6692",
           "#B6E880",
           "#FF97FF",
           "#FECB52"
          ],
          "font": {
           "color": "#2a3f5f"
          },
          "geo": {
           "bgcolor": "white",
           "lakecolor": "white",
           "landcolor": "#E5ECF6",
           "showlakes": true,
           "showland": true,
           "subunitcolor": "white"
          },
          "hoverlabel": {
           "align": "left"
          },
          "hovermode": "closest",
          "mapbox": {
           "style": "light"
          },
          "paper_bgcolor": "white",
          "plot_bgcolor": "#E5ECF6",
          "polar": {
           "angularaxis": {
            "gridcolor": "white",
            "linecolor": "white",
            "ticks": ""
           },
           "bgcolor": "#E5ECF6",
           "radialaxis": {
            "gridcolor": "white",
            "linecolor": "white",
            "ticks": ""
           }
          },
          "scene": {
           "xaxis": {
            "backgroundcolor": "#E5ECF6",
            "gridcolor": "white",
            "gridwidth": 2,
            "linecolor": "white",
            "showbackground": true,
            "ticks": "",
            "zerolinecolor": "white"
           },
           "yaxis": {
            "backgroundcolor": "#E5ECF6",
            "gridcolor": "white",
            "gridwidth": 2,
            "linecolor": "white",
            "showbackground": true,
            "ticks": "",
            "zerolinecolor": "white"
           },
           "zaxis": {
            "backgroundcolor": "#E5ECF6",
            "gridcolor": "white",
            "gridwidth": 2,
            "linecolor": "white",
            "showbackground": true,
            "ticks": "",
            "zerolinecolor": "white"
           }
          },
          "shapedefaults": {
           "line": {
            "color": "#2a3f5f"
           }
          },
          "ternary": {
           "aaxis": {
            "gridcolor": "white",
            "linecolor": "white",
            "ticks": ""
           },
           "baxis": {
            "gridcolor": "white",
            "linecolor": "white",
            "ticks": ""
           },
           "bgcolor": "#E5ECF6",
           "caxis": {
            "gridcolor": "white",
            "linecolor": "white",
            "ticks": ""
           }
          },
          "title": {
           "x": 0.05
          },
          "xaxis": {
           "automargin": true,
           "gridcolor": "white",
           "linecolor": "white",
           "ticks": "",
           "title": {
            "standoff": 15
           },
           "zerolinecolor": "white",
           "zerolinewidth": 2
          },
          "yaxis": {
           "automargin": true,
           "gridcolor": "white",
           "linecolor": "white",
           "ticks": "",
           "title": {
            "standoff": 15
           },
           "zerolinecolor": "white",
           "zerolinewidth": 2
          }
         }
        },
        "title": {
         "text": "Impact of RLNC on P50 Arrival Time by Blob Count"
        },
        "width": 1000,
        "xaxis": {
         "anchor": "y",
         "domain": [
          0,
          1
         ],
         "title": {
          "text": "Blob Count"
         }
        },
        "xaxis2": {
         "anchor": "y2",
         "domain": [
          0,
          1
         ],
         "title": {
          "text": "Blob Count"
         }
        },
        "yaxis": {
         "anchor": "x",
         "domain": [
          0.4600000000000001,
          1
         ],
         "title": {
          "text": "Arrival Time (ms)"
         }
        },
        "yaxis2": {
         "anchor": "x2",
         "domain": [
          0,
          0.36000000000000004
         ],
         "title": {
          "text": "Improvement (%)"
         }
        }
       }
      }
     },
     "metadata": {},
     "output_type": "display_data"
    },
    {
     "data": {
      "application/vnd.plotly.v1+json": {
       "config": {
        "plotlyServerURL": "https://plot.ly"
       },
       "data": [
        {
         "error_y": {
          "array": [
           565.0329028413469,
           145.97859432122235,
           148.04278660801637,
           324.5620125646253,
           178.8674293762469,
           101.96204651031401
          ],
          "type": "data",
          "visible": true
         },
         "hovertemplate": "Blob Count: %{x}<br>Arrival Time: %{y:.1f}ms<br>Sample Size: %{text}",
         "marker": {
          "color": "royalblue"
         },
         "name": "Before RLNC (nft-devnet-2)",
         "text": [
          249,
          4,
          4,
          2,
          4,
          7
         ],
         "type": "bar",
         "x": [
          0,
          1,
          2,
          3,
          4,
          6
         ],
         "xaxis": "x",
         "y": [
          3141.933935742972,
          2386.75,
          2599.75,
          2521.75,
          2524.6875,
          2462.214285714286
         ],
         "yaxis": "y"
        },
        {
         "error_y": {
          "array": [
           null,
           null,
           null,
           null,
           null,
           null
          ],
          "type": "data",
          "visible": true
         },
         "hovertemplate": "Blob Count: %{x}<br>Arrival Time: %{y:.1f}ms<br>Sample Size: %{text}",
         "marker": {
          "color": "green"
         },
         "name": "After RLNC (nft-devnet-3)",
         "text": [
          null,
          null,
          null,
          null,
          null,
          null
         ],
         "type": "bar",
         "x": [
          0,
          1,
          2,
          3,
          4,
          6
         ],
         "xaxis": "x",
         "y": [
          null,
          null,
          null,
          null,
          null,
          null
         ],
         "yaxis": "y"
        },
        {
         "hovertemplate": "Blob Count: %{x}<br>Improvement: %{y:.1f}%",
         "marker": {
          "color": [
           "red",
           "red",
           "red",
           "red",
           "red",
           "red"
          ]
         },
         "name": "Improvement %",
         "text": [
          "nan%",
          "nan%",
          "nan%",
          "nan%",
          "nan%",
          "nan%"
         ],
         "textposition": "auto",
         "type": "bar",
         "x": [
          0,
          1,
          2,
          3,
          4,
          6
         ],
         "xaxis": "x2",
         "y": [
          null,
          null,
          null,
          null,
          null,
          null
         ],
         "yaxis": "y2"
        }
       ],
       "layout": {
        "annotations": [
         {
          "font": {
           "size": 16
          },
          "showarrow": false,
          "text": "P95 Arrival Time by Blob Count",
          "x": 0.5,
          "xanchor": "center",
          "xref": "paper",
          "y": 1,
          "yanchor": "bottom",
          "yref": "paper"
         },
         {
          "font": {
           "size": 16
          },
          "showarrow": false,
          "text": "Improvement Percentage by Blob Count",
          "x": 0.5,
          "xanchor": "center",
          "xref": "paper",
          "y": 0.36000000000000004,
          "yanchor": "bottom",
          "yref": "paper"
         }
        ],
        "barmode": "group",
        "height": 800,
        "legend": {
         "bgcolor": "rgba(255,255,255,0.8)",
         "x": 0.01,
         "y": 0.99
        },
        "plot_bgcolor": "white",
        "shapes": [
         {
          "line": {
           "color": "black",
           "dash": "dash",
           "width": 1
          },
          "type": "line",
          "x0": -0.5,
          "x1": 6.5,
          "xref": "x2",
          "y0": 0,
          "y1": 0,
          "yref": "y2"
         }
        ],
        "template": {
         "data": {
          "bar": [
           {
            "error_x": {
             "color": "#2a3f5f"
            },
            "error_y": {
             "color": "#2a3f5f"
            },
            "marker": {
             "line": {
              "color": "#E5ECF6",
              "width": 0.5
             },
             "pattern": {
              "fillmode": "overlay",
              "size": 10,
              "solidity": 0.2
             }
            },
            "type": "bar"
           }
          ],
          "barpolar": [
           {
            "marker": {
             "line": {
              "color": "#E5ECF6",
              "width": 0.5
             },
             "pattern": {
              "fillmode": "overlay",
              "size": 10,
              "solidity": 0.2
             }
            },
            "type": "barpolar"
           }
          ],
          "carpet": [
           {
            "aaxis": {
             "endlinecolor": "#2a3f5f",
             "gridcolor": "white",
             "linecolor": "white",
             "minorgridcolor": "white",
             "startlinecolor": "#2a3f5f"
            },
            "baxis": {
             "endlinecolor": "#2a3f5f",
             "gridcolor": "white",
             "linecolor": "white",
             "minorgridcolor": "white",
             "startlinecolor": "#2a3f5f"
            },
            "type": "carpet"
           }
          ],
          "choropleth": [
           {
            "colorbar": {
             "outlinewidth": 0,
             "ticks": ""
            },
            "type": "choropleth"
           }
          ],
          "contour": [
           {
            "colorbar": {
             "outlinewidth": 0,
             "ticks": ""
            },
            "colorscale": [
             [
              0,
              "#0d0887"
             ],
             [
              0.1111111111111111,
              "#46039f"
             ],
             [
              0.2222222222222222,
              "#7201a8"
             ],
             [
              0.3333333333333333,
              "#9c179e"
             ],
             [
              0.4444444444444444,
              "#bd3786"
             ],
             [
              0.5555555555555556,
              "#d8576b"
             ],
             [
              0.6666666666666666,
              "#ed7953"
             ],
             [
              0.7777777777777778,
              "#fb9f3a"
             ],
             [
              0.8888888888888888,
              "#fdca26"
             ],
             [
              1,
              "#f0f921"
             ]
            ],
            "type": "contour"
           }
          ],
          "contourcarpet": [
           {
            "colorbar": {
             "outlinewidth": 0,
             "ticks": ""
            },
            "type": "contourcarpet"
           }
          ],
          "heatmap": [
           {
            "colorbar": {
             "outlinewidth": 0,
             "ticks": ""
            },
            "colorscale": [
             [
              0,
              "#0d0887"
             ],
             [
              0.1111111111111111,
              "#46039f"
             ],
             [
              0.2222222222222222,
              "#7201a8"
             ],
             [
              0.3333333333333333,
              "#9c179e"
             ],
             [
              0.4444444444444444,
              "#bd3786"
             ],
             [
              0.5555555555555556,
              "#d8576b"
             ],
             [
              0.6666666666666666,
              "#ed7953"
             ],
             [
              0.7777777777777778,
              "#fb9f3a"
             ],
             [
              0.8888888888888888,
              "#fdca26"
             ],
             [
              1,
              "#f0f921"
             ]
            ],
            "type": "heatmap"
           }
          ],
          "heatmapgl": [
           {
            "colorbar": {
             "outlinewidth": 0,
             "ticks": ""
            },
            "colorscale": [
             [
              0,
              "#0d0887"
             ],
             [
              0.1111111111111111,
              "#46039f"
             ],
             [
              0.2222222222222222,
              "#7201a8"
             ],
             [
              0.3333333333333333,
              "#9c179e"
             ],
             [
              0.4444444444444444,
              "#bd3786"
             ],
             [
              0.5555555555555556,
              "#d8576b"
             ],
             [
              0.6666666666666666,
              "#ed7953"
             ],
             [
              0.7777777777777778,
              "#fb9f3a"
             ],
             [
              0.8888888888888888,
              "#fdca26"
             ],
             [
              1,
              "#f0f921"
             ]
            ],
            "type": "heatmapgl"
           }
          ],
          "histogram": [
           {
            "marker": {
             "pattern": {
              "fillmode": "overlay",
              "size": 10,
              "solidity": 0.2
             }
            },
            "type": "histogram"
           }
          ],
          "histogram2d": [
           {
            "colorbar": {
             "outlinewidth": 0,
             "ticks": ""
            },
            "colorscale": [
             [
              0,
              "#0d0887"
             ],
             [
              0.1111111111111111,
              "#46039f"
             ],
             [
              0.2222222222222222,
              "#7201a8"
             ],
             [
              0.3333333333333333,
              "#9c179e"
             ],
             [
              0.4444444444444444,
              "#bd3786"
             ],
             [
              0.5555555555555556,
              "#d8576b"
             ],
             [
              0.6666666666666666,
              "#ed7953"
             ],
             [
              0.7777777777777778,
              "#fb9f3a"
             ],
             [
              0.8888888888888888,
              "#fdca26"
             ],
             [
              1,
              "#f0f921"
             ]
            ],
            "type": "histogram2d"
           }
          ],
          "histogram2dcontour": [
           {
            "colorbar": {
             "outlinewidth": 0,
             "ticks": ""
            },
            "colorscale": [
             [
              0,
              "#0d0887"
             ],
             [
              0.1111111111111111,
              "#46039f"
             ],
             [
              0.2222222222222222,
              "#7201a8"
             ],
             [
              0.3333333333333333,
              "#9c179e"
             ],
             [
              0.4444444444444444,
              "#bd3786"
             ],
             [
              0.5555555555555556,
              "#d8576b"
             ],
             [
              0.6666666666666666,
              "#ed7953"
             ],
             [
              0.7777777777777778,
              "#fb9f3a"
             ],
             [
              0.8888888888888888,
              "#fdca26"
             ],
             [
              1,
              "#f0f921"
             ]
            ],
            "type": "histogram2dcontour"
           }
          ],
          "mesh3d": [
           {
            "colorbar": {
             "outlinewidth": 0,
             "ticks": ""
            },
            "type": "mesh3d"
           }
          ],
          "parcoords": [
           {
            "line": {
             "colorbar": {
              "outlinewidth": 0,
              "ticks": ""
             }
            },
            "type": "parcoords"
           }
          ],
          "pie": [
           {
            "automargin": true,
            "type": "pie"
           }
          ],
          "scatter": [
           {
            "fillpattern": {
             "fillmode": "overlay",
             "size": 10,
             "solidity": 0.2
            },
            "type": "scatter"
           }
          ],
          "scatter3d": [
           {
            "line": {
             "colorbar": {
              "outlinewidth": 0,
              "ticks": ""
             }
            },
            "marker": {
             "colorbar": {
              "outlinewidth": 0,
              "ticks": ""
             }
            },
            "type": "scatter3d"
           }
          ],
          "scattercarpet": [
           {
            "marker": {
             "colorbar": {
              "outlinewidth": 0,
              "ticks": ""
             }
            },
            "type": "scattercarpet"
           }
          ],
          "scattergeo": [
           {
            "marker": {
             "colorbar": {
              "outlinewidth": 0,
              "ticks": ""
             }
            },
            "type": "scattergeo"
           }
          ],
          "scattergl": [
           {
            "marker": {
             "colorbar": {
              "outlinewidth": 0,
              "ticks": ""
             }
            },
            "type": "scattergl"
           }
          ],
          "scattermapbox": [
           {
            "marker": {
             "colorbar": {
              "outlinewidth": 0,
              "ticks": ""
             }
            },
            "type": "scattermapbox"
           }
          ],
          "scatterpolar": [
           {
            "marker": {
             "colorbar": {
              "outlinewidth": 0,
              "ticks": ""
             }
            },
            "type": "scatterpolar"
           }
          ],
          "scatterpolargl": [
           {
            "marker": {
             "colorbar": {
              "outlinewidth": 0,
              "ticks": ""
             }
            },
            "type": "scatterpolargl"
           }
          ],
          "scatterternary": [
           {
            "marker": {
             "colorbar": {
              "outlinewidth": 0,
              "ticks": ""
             }
            },
            "type": "scatterternary"
           }
          ],
          "surface": [
           {
            "colorbar": {
             "outlinewidth": 0,
             "ticks": ""
            },
            "colorscale": [
             [
              0,
              "#0d0887"
             ],
             [
              0.1111111111111111,
              "#46039f"
             ],
             [
              0.2222222222222222,
              "#7201a8"
             ],
             [
              0.3333333333333333,
              "#9c179e"
             ],
             [
              0.4444444444444444,
              "#bd3786"
             ],
             [
              0.5555555555555556,
              "#d8576b"
             ],
             [
              0.6666666666666666,
              "#ed7953"
             ],
             [
              0.7777777777777778,
              "#fb9f3a"
             ],
             [
              0.8888888888888888,
              "#fdca26"
             ],
             [
              1,
              "#f0f921"
             ]
            ],
            "type": "surface"
           }
          ],
          "table": [
           {
            "cells": {
             "fill": {
              "color": "#EBF0F8"
             },
             "line": {
              "color": "white"
             }
            },
            "header": {
             "fill": {
              "color": "#C8D4E3"
             },
             "line": {
              "color": "white"
             }
            },
            "type": "table"
           }
          ]
         },
         "layout": {
          "annotationdefaults": {
           "arrowcolor": "#2a3f5f",
           "arrowhead": 0,
           "arrowwidth": 1
          },
          "autotypenumbers": "strict",
          "coloraxis": {
           "colorbar": {
            "outlinewidth": 0,
            "ticks": ""
           }
          },
          "colorscale": {
           "diverging": [
            [
             0,
             "#8e0152"
            ],
            [
             0.1,
             "#c51b7d"
            ],
            [
             0.2,
             "#de77ae"
            ],
            [
             0.3,
             "#f1b6da"
            ],
            [
             0.4,
             "#fde0ef"
            ],
            [
             0.5,
             "#f7f7f7"
            ],
            [
             0.6,
             "#e6f5d0"
            ],
            [
             0.7,
             "#b8e186"
            ],
            [
             0.8,
             "#7fbc41"
            ],
            [
             0.9,
             "#4d9221"
            ],
            [
             1,
             "#276419"
            ]
           ],
           "sequential": [
            [
             0,
             "#0d0887"
            ],
            [
             0.1111111111111111,
             "#46039f"
            ],
            [
             0.2222222222222222,
             "#7201a8"
            ],
            [
             0.3333333333333333,
             "#9c179e"
            ],
            [
             0.4444444444444444,
             "#bd3786"
            ],
            [
             0.5555555555555556,
             "#d8576b"
            ],
            [
             0.6666666666666666,
             "#ed7953"
            ],
            [
             0.7777777777777778,
             "#fb9f3a"
            ],
            [
             0.8888888888888888,
             "#fdca26"
            ],
            [
             1,
             "#f0f921"
            ]
           ],
           "sequentialminus": [
            [
             0,
             "#0d0887"
            ],
            [
             0.1111111111111111,
             "#46039f"
            ],
            [
             0.2222222222222222,
             "#7201a8"
            ],
            [
             0.3333333333333333,
             "#9c179e"
            ],
            [
             0.4444444444444444,
             "#bd3786"
            ],
            [
             0.5555555555555556,
             "#d8576b"
            ],
            [
             0.6666666666666666,
             "#ed7953"
            ],
            [
             0.7777777777777778,
             "#fb9f3a"
            ],
            [
             0.8888888888888888,
             "#fdca26"
            ],
            [
             1,
             "#f0f921"
            ]
           ]
          },
          "colorway": [
           "#636efa",
           "#EF553B",
           "#00cc96",
           "#ab63fa",
           "#FFA15A",
           "#19d3f3",
           "#FF6692",
           "#B6E880",
           "#FF97FF",
           "#FECB52"
          ],
          "font": {
           "color": "#2a3f5f"
          },
          "geo": {
           "bgcolor": "white",
           "lakecolor": "white",
           "landcolor": "#E5ECF6",
           "showlakes": true,
           "showland": true,
           "subunitcolor": "white"
          },
          "hoverlabel": {
           "align": "left"
          },
          "hovermode": "closest",
          "mapbox": {
           "style": "light"
          },
          "paper_bgcolor": "white",
          "plot_bgcolor": "#E5ECF6",
          "polar": {
           "angularaxis": {
            "gridcolor": "white",
            "linecolor": "white",
            "ticks": ""
           },
           "bgcolor": "#E5ECF6",
           "radialaxis": {
            "gridcolor": "white",
            "linecolor": "white",
            "ticks": ""
           }
          },
          "scene": {
           "xaxis": {
            "backgroundcolor": "#E5ECF6",
            "gridcolor": "white",
            "gridwidth": 2,
            "linecolor": "white",
            "showbackground": true,
            "ticks": "",
            "zerolinecolor": "white"
           },
           "yaxis": {
            "backgroundcolor": "#E5ECF6",
            "gridcolor": "white",
            "gridwidth": 2,
            "linecolor": "white",
            "showbackground": true,
            "ticks": "",
            "zerolinecolor": "white"
           },
           "zaxis": {
            "backgroundcolor": "#E5ECF6",
            "gridcolor": "white",
            "gridwidth": 2,
            "linecolor": "white",
            "showbackground": true,
            "ticks": "",
            "zerolinecolor": "white"
           }
          },
          "shapedefaults": {
           "line": {
            "color": "#2a3f5f"
           }
          },
          "ternary": {
           "aaxis": {
            "gridcolor": "white",
            "linecolor": "white",
            "ticks": ""
           },
           "baxis": {
            "gridcolor": "white",
            "linecolor": "white",
            "ticks": ""
           },
           "bgcolor": "#E5ECF6",
           "caxis": {
            "gridcolor": "white",
            "linecolor": "white",
            "ticks": ""
           }
          },
          "title": {
           "x": 0.05
          },
          "xaxis": {
           "automargin": true,
           "gridcolor": "white",
           "linecolor": "white",
           "ticks": "",
           "title": {
            "standoff": 15
           },
           "zerolinecolor": "white",
           "zerolinewidth": 2
          },
          "yaxis": {
           "automargin": true,
           "gridcolor": "white",
           "linecolor": "white",
           "ticks": "",
           "title": {
            "standoff": 15
           },
           "zerolinecolor": "white",
           "zerolinewidth": 2
          }
         }
        },
        "title": {
         "text": "Impact of RLNC on P95 Arrival Time by Blob Count"
        },
        "width": 1000,
        "xaxis": {
         "anchor": "y",
         "domain": [
          0,
          1
         ],
         "title": {
          "text": "Blob Count"
         }
        },
        "xaxis2": {
         "anchor": "y2",
         "domain": [
          0,
          1
         ],
         "title": {
          "text": "Blob Count"
         }
        },
        "yaxis": {
         "anchor": "x",
         "domain": [
          0.4600000000000001,
          1
         ],
         "title": {
          "text": "Arrival Time (ms)"
         }
        },
        "yaxis2": {
         "anchor": "x2",
         "domain": [
          0,
          0.36000000000000004
         ],
         "title": {
          "text": "Improvement (%)"
         }
        }
       }
      }
     },
     "metadata": {},
     "output_type": "display_data"
    }
   ],
   "source": [
    "def create_blob_count_comparison(before_metrics, after_metrics, metric='p50_arrival_time'):\n",
    "    \"\"\"\n",
    "    Create a comparison of arrival times grouped by blob count.\n",
    "    \n",
    "    Args:\n",
    "        before_metrics (DataFrame): Metrics for the before network\n",
    "        after_metrics (DataFrame): Metrics for the after network\n",
    "        metric (str): The metric to plot\n",
    "        \n",
    "    Returns:\n",
    "        plotly.graph_objects.Figure: The plotly figure\n",
    "    \"\"\"\n",
    "    # Group by blob count\n",
    "    before_by_blob = before_metrics.groupby('blob_count').agg({\n",
    "        metric: ['mean', 'std', 'count'],\n",
    "    }).reset_index()\n",
    "    \n",
    "    before_by_blob.columns = ['blob_count', 'mean', 'std', 'count']\n",
    "    \n",
    "    after_by_blob = after_metrics.groupby('blob_count').agg({\n",
    "        metric: ['mean', 'std', 'count'],\n",
    "    }).reset_index()\n",
    "    \n",
    "    after_by_blob.columns = ['blob_count', 'mean', 'std', 'count']\n",
    "    \n",
    "    # Merge the dataframes\n",
    "    merged = pd.merge(before_by_blob, after_by_blob, on='blob_count', how='outer', suffixes=('_before', '_after'))\n",
    "    \n",
    "    # Calculate improvement\n",
    "    merged['improvement'] = merged['mean_before'] - merged['mean_after']\n",
    "    merged['improvement_pct'] = (merged['mean_before'] - merged['mean_after']) / merged['mean_before'] * 100\n",
    "    \n",
    "    # Create figure with subplots\n",
    "    fig = make_subplots(rows=2, cols=1, \n",
    "                         subplot_titles=(\n",
    "                             f\"{metric.replace('_arrival_time', '').title()} Arrival Time by Blob Count\",\n",
    "                             \"Improvement Percentage by Blob Count\"\n",
    "                         ),\n",
    "                         row_heights=[0.6, 0.4],\n",
    "                         vertical_spacing=0.1)\n",
    "    \n",
    "    # Add bar chart for mean arrival times\n",
    "    fig.add_trace(\n",
    "        go.Bar(\n",
    "            x=merged['blob_count'],\n",
    "            y=merged['mean_before'],\n",
    "            name=f'Before RLNC ({config[\"before\"][\"network\"]})',\n",
    "            error_y=dict(type='data', array=merged['std_before'], visible=True),\n",
    "            marker_color='royalblue',\n",
    "            text=merged['count_before'],\n",
    "            hovertemplate='Blob Count: %{x}<br>Arrival Time: %{y:.1f}ms<br>Sample Size: %{text}'\n",
    "        ),\n",
    "        row=1, col=1\n",
    "    )\n",
    "    \n",
    "    fig.add_trace(\n",
    "        go.Bar(\n",
    "            x=merged['blob_count'],\n",
    "            y=merged['mean_after'],\n",
    "            name=f'After RLNC ({config[\"after\"][\"network\"]})',\n",
    "            error_y=dict(type='data', array=merged['std_after'], visible=True),\n",
    "            marker_color='green',\n",
    "            text=merged['count_after'],\n",
    "            hovertemplate='Blob Count: %{x}<br>Arrival Time: %{y:.1f}ms<br>Sample Size: %{text}'\n",
    "        ),\n",
    "        row=1, col=1\n",
    "    )\n",
    "    \n",
    "    # Add improvement percentage as line chart in second subplot\n",
    "    fig.add_trace(\n",
    "        go.Bar(\n",
    "            x=merged['blob_count'],\n",
    "            y=merged['improvement_pct'],\n",
    "            name='Improvement %',\n",
    "            marker_color=['green' if x > 0 else 'red' for x in merged['improvement_pct']],\n",
    "            text=[f\"{x:.1f}%\" for x in merged['improvement_pct']],\n",
    "            textposition='auto',\n",
    "            hovertemplate='Blob Count: %{x}<br>Improvement: %{y:.1f}%'\n",
    "        ),\n",
    "        row=2, col=1\n",
    "    )\n",
    "    \n",
    "    # Add zero line to second subplot\n",
    "    fig.add_shape(\n",
    "        type=\"line\",\n",
    "        x0=-0.5,\n",
    "        y0=0,\n",
    "        x1=merged['blob_count'].max() + 0.5,\n",
    "        y1=0,\n",
    "        line=dict(color=\"black\", width=1, dash=\"dash\"),\n",
    "        row=2, col=1\n",
    "    )\n",
    "    \n",
    "    # Update layout\n",
    "    fig.update_layout(\n",
    "        title_text=f\"Impact of RLNC on {metric.replace('_arrival_time', '').title()} Arrival Time by Blob Count\",\n",
    "        xaxis=dict(title=\"Blob Count\"),\n",
    "        xaxis2=dict(title=\"Blob Count\"),\n",
    "        yaxis=dict(title=\"Arrival Time (ms)\"),\n",
    "        yaxis2=dict(title=\"Improvement (%)\"),\n",
    "        legend=dict(x=0.01, y=0.99, bgcolor='rgba(255,255,255,0.8)'),\n",
    "        barmode='group',\n",
    "        height=800,\n",
    "        width=1000,\n",
    "        plot_bgcolor='white'\n",
    "    )\n",
    "    \n",
    "    return fig\n",
    "\n",
    "# Create blob count comparison plots for different metrics\n",
    "for metric in metrics_to_plot:\n",
    "    fig = create_blob_count_comparison(before_metrics, after_metrics, metric)\n",
    "    fig.show()"
   ]
  },
  {
   "cell_type": "markdown",
   "metadata": {},
   "source": [
    "## Percentile Analysis\n",
    "\n",
    "Let's analyze the impact on different percentiles of arrival times."
   ]
  },
  {
   "cell_type": "code",
   "execution_count": 8,
   "metadata": {},
   "outputs": [
    {
     "name": "stderr",
     "output_type": "stream",
     "text": [
      "posx and posy should be finite values\n",
      "posx and posy should be finite values\n",
      "posx and posy should be finite values\n",
      "posx and posy should be finite values\n",
      "posx and posy should be finite values\n",
      "posx and posy should be finite values\n",
      "posx and posy should be finite values\n",
      "posx and posy should be finite values\n",
      "posx and posy should be finite values\n",
      "posx and posy should be finite values\n",
      "posx and posy should be finite values\n",
      "posx and posy should be finite values\n",
      "/var/folders/fq/bp58gxy12nd2b32pw1y8wy040000gn/T/ipykernel_7717/3432500465.py:83: UserWarning:\n",
      "\n",
      "This figure includes Axes that are not compatible with tight_layout, so results might be incorrect.\n",
      "\n"
     ]
    },
    {
     "data": {
      "image/png": "[encoded data removed]",
      "text/plain": [
       "<Figure size 1200x1100 with 2 Axes>"
      ]
     },
     "metadata": {},
     "output_type": "display_data"
    }
   ],
   "source": [
    "def create_percentile_comparison():\n",
    "    \"\"\"\n",
    "    Create a comparison of arrival times at different percentiles.\n",
    "    \n",
    "    Returns:\n",
    "        matplotlib.figure.Figure: The figure with the plot\n",
    "    \"\"\"\n",
    "    # Define percentiles to compare\n",
    "    metrics = [\n",
    "        'min_arrival_time', 'p05_arrival_time', \n",
    "        'p50_arrival_time', 'mean_arrival_time', \n",
    "        'p95_arrival_time', 'max_arrival_time'\n",
    "    ]\n",
    "    \n",
    "    # Get average values for each percentile\n",
    "    before_values = [before_metrics[m].mean() for m in metrics]\n",
    "    after_values = [after_metrics[m].mean() for m in metrics]\n",
    "    \n",
    "    # Calculate improvements\n",
    "    improvements = [(b - a) / b * 100 if b > 0 else 0 for b, a in zip(before_values, after_values)]\n",
    "    \n",
    "    # Create figure\n",
    "    fig, (ax1, ax2) = plt.subplots(2, 1, figsize=(12, 10), height_ratios=[3, 1], gridspec_kw={'hspace': 0.3})\n",
    "    \n",
    "    # Shortened labels for x-axis\n",
    "    labels = ['Min', 'P05', 'P50', 'Mean', 'P95', 'Max']\n",
    "    x = np.arange(len(labels))\n",
    "    width = 0.35\n",
    "    \n",
    "    # Plot bars for arrival times\n",
    "    rects1 = ax1.bar(x - width/2, before_values, width, label=f'Before RLNC ({config[\"before\"][\"network\"]})', color='skyblue')\n",
    "    rects2 = ax1.bar(x + width/2, after_values, width, label=f'After RLNC ({config[\"after\"][\"network\"]})', color='lightgreen')\n",
    "    \n",
    "    # Add value labels\n",
    "    def add_labels(rects, values):\n",
    "        for rect, val in zip(rects, values):\n",
    "            height = rect.get_height()\n",
    "            ax1.text(rect.get_x() + rect.get_width()/2., height,\n",
    "                    f'{val:.0f}ms',\n",
    "                    ha='center', va='bottom', fontsize=10, rotation=0)\n",
    "    \n",
    "    add_labels(rects1, before_values)\n",
    "    add_labels(rects2, after_values)\n",
    "    \n",
    "    # Set up first subplot\n",
    "    ax1.set_ylabel('Arrival Time (ms)', fontsize=14)\n",
    "    ax1.set_title('Block Arrival Time by Percentile', fontsize=16)\n",
    "    ax1.set_xticks(x)\n",
    "    ax1.set_xticklabels(labels)\n",
    "    ax1.legend()\n",
    "    ax1.grid(True, axis='y', alpha=0.3)\n",
    "    \n",
    "    # Plot improvement percentages in second subplot\n",
    "    bars = ax2.bar(x, improvements, width, color=['green' if i > 0 else 'red' for i in improvements])\n",
    "    \n",
    "    # Add value labels\n",
    "    for bar, improvement in zip(bars, improvements):\n",
    "        height = bar.get_height()\n",
    "        y_pos = height + 1 if height > 0 else height - 5\n",
    "        ax2.text(bar.get_x() + bar.get_width()/2., y_pos,\n",
    "                f'{improvement:.1f}%',\n",
    "                ha='center', va='bottom' if height > 0 else 'top', \n",
    "                fontsize=10, fontweight='bold')\n",
    "    \n",
    "    # Set up second subplot\n",
    "    ax2.set_ylabel('Improvement (%)', fontsize=14)\n",
    "    ax2.set_title('Percentage Improvement by Percentile', fontsize=16)\n",
    "    ax2.set_xticks(x)\n",
    "    ax2.set_xticklabels(labels)\n",
    "    ax2.axhline(y=0, color='black', linestyle='-', alpha=0.3)\n",
    "    ax2.grid(True, axis='y', alpha=0.3)\n",
    "    \n",
    "    # Add overall title\n",
    "    fig.suptitle('RLNC Impact Across Different Percentiles', fontsize=18, y=0.98)\n",
    "    \n",
    "    # Add branding\n",
    "    fig = add_branding(fig, \"RLNC Performance Improvement\", \"Impact on Different Percentiles of Block Arrival Times\")\n",
    "    \n",
    "    return fig\n",
    "\n",
    "# Create percentile comparison\n",
    "fig = create_percentile_comparison()\n",
    "plt.tight_layout()\n",
    "plt.show()"
   ]
  }
 ],
 "metadata": {
  "kernelspec": {
   "display_name": "ldm",
   "language": "python",
   "name": "python3"
  },
  "language_info": {
   "codemirror_mode": {
    "name": "ipython",
    "version": 3
   },
   "file_extension": ".py",
   "mimetype": "text/x-python",
   "name": "python",
   "nbconvert_exporter": "python",
   "pygments_lexer": "ipython3",
   "version": "3.10.5"
  }
 },
 "nbformat": 4,
 "nbformat_minor": 4
}
